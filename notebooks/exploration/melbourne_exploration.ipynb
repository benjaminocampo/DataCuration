{
 "cells": [
  {
   "cell_type": "markdown",
   "id": "d8b3f4cd",
   "metadata": {
    "cell_marker": "\"\"\"",
    "lines_to_next_cell": 0
   },
   "source": [
    "# Diplomatura en Ciencias de Datos, Aprendizaje Automático y sus Aplicaciones\n",
    "\n",
    "Autores: Matías Oria, Antonela Sambuceti, Pamela Pairo, Benjamín Ocampo"
   ]
  },
  {
   "cell_type": "markdown",
   "id": "271f4225",
   "metadata": {
    "cell_marker": "\"\"\"",
    "lines_to_next_cell": 0
   },
   "source": [
    "## Definición de constantes, funciones *helper*, y lectura del conjunto de datos\n",
    "\n",
    "Se trabajó sobre los *dataframes* `melb_suburb_df` y `melb_housing_df` que\n",
    "fueron obtenidos en `normalize_melbourne_dataset.ipynb` alojados en un servidor\n",
    "de la Universidad Nacional de Córdoba para facilitar su acceso remoto."
   ]
  },
  {
   "cell_type": "code",
   "execution_count": null,
   "id": "e07ee51e",
   "metadata": {
    "lines_to_next_cell": 0
   },
   "outputs": [],
   "source": [
    "from typing import Tuple\n",
    "import pandas as pd\n",
    "import numpy as np\n",
    "import seaborn\n",
    "import matplotlib.pyplot as plt\n",
    "import geopandas as gpd\n",
    "import requests\n",
    "import missingno as msno\n",
    "\n",
    "\n",
    "def clean_outliers(df: pd.DataFrame,\n",
    "                   column_name: str) -> Tuple[pd.DataFrame, pd.DataFrame]:\n",
    "    \"\"\"\n",
    "    Filters out entries of @df that have in @column_name values which are 2.5\n",
    "    times standard deviations apart from the mean. Returns both, entries that\n",
    "    hold and miss the condition.\n",
    "    \"\"\"\n",
    "    col = df[column_name]\n",
    "    mask_outlier = np.abs(col - col.mean()) <= (2.5 * col.std())\n",
    "    return df[mask_outlier], df[~mask_outlier]\n",
    "\n",
    "\n",
    "def to_categorical(column: pd.Series, bin_size: int, min_cut: int,\n",
    "                   max_cut: int) -> pd.Series:\n",
    "    \"\"\"\n",
    "    Returns a pandas series where each value of @column is replaced by an\n",
    "    interval that contains it. Intervals are generated from @min_cut to @max_cut\n",
    "    and have size @bin_size.\n",
    "    \"\"\"\n",
    "    if min_cut is None:\n",
    "        min_cut = int(round(column.min())) - 1\n",
    "    value_max = int(np.ceil(column.max()))\n",
    "    max_cut = min(max_cut, value_max)\n",
    "    intervals = [(x, x + bin_size) for x in range(min_cut, max_cut, bin_size)]\n",
    "    if max_cut != value_max:\n",
    "        intervals.append((max_cut, value_max))\n",
    "    return pd.cut(column, pd.IntervalIndex.from_tuples(intervals))\n",
    "\n",
    "\n",
    "def plot_melbourne_map(locations_df, key_regions, column_name_colorbar=None):\n",
    "    geoserver = \"https://data.gov.au/geoserver\"\n",
    "    route = \"vic-state-electoral-boundaries-psma-administrative-boundaries\"\n",
    "    service = \"wfs\"\n",
    "    projection = \"EPSG:3110\"\n",
    "    wfsurl = f\"{geoserver}/{route}/{service}\"\n",
    "\n",
    "    params = dict(service=\"WFS\",\n",
    "                  version=\"2.0.0\",\n",
    "                  request=\"GetFeature\",\n",
    "                  typeName=(route +\n",
    "                            \":ckan_a0d8838b_2423_4c8b_a7d9_b04eb240a2b1\"),\n",
    "                  outputFormat=\"json\")\n",
    "    features = requests.get(wfsurl, params=params).json()\n",
    "    region_location_df = gpd.GeoDataFrame.from_features(features).set_crs(\n",
    "        projection)\n",
    "\n",
    "    only_key_regions = region_location_df[\"vic_stat_2\"].isin(key_regions)\n",
    "    region_location_df = (\n",
    "        region_location_df.loc[only_key_regions,\n",
    "                               [\"vic_stat_2\", \"geometry\"]].dissolve(\n",
    "                                   by=\"vic_stat_2\").reset_index())\n",
    "    background = region_location_df.plot(column=\"vic_stat_2\",\n",
    "                                         edgecolor=\"black\",\n",
    "                                         figsize=(15, 15),\n",
    "                                         legend=True)\n",
    "    plt.ylabel(\"Latitude\")\n",
    "    plt.xlabel(\"Longitude\")\n",
    "    background.set(title=\"Regiones del Territorio de Victoria, Australia\")\n",
    "\n",
    "    if column_name_colorbar is not None:\n",
    "        cmap = seaborn.color_palette(\"flare\", as_cmap=True)\n",
    "        points = locations_df.plot(ax=background,\n",
    "                                   marker=\"o\",\n",
    "                                   markersize=3,\n",
    "                                   column=column_name_colorbar,\n",
    "                                   cmap=cmap)\n",
    "\n",
    "        fig = points.get_figure()\n",
    "        cbax = fig.add_axes([0.95, 0.2, 0.04, 0.60])\n",
    "        cbax.set_title(column_name_colorbar)\n",
    "        sm = plt.cm.ScalarMappable(\n",
    "            cmap=cmap,\n",
    "            norm=plt.Normalize(vmin=min(locations_df[column_name_colorbar]),\n",
    "                               vmax=max(locations_df[column_name_colorbar])))\n",
    "        fig.colorbar(sm, cax=cbax, format=\"%d\")\n",
    "    else:\n",
    "        points = locations_df.plot(ax=background,\n",
    "                                   marker=\"o\",\n",
    "                                   markersize=3,\n",
    "                                   color=\"r\")"
   ]
  },
  {
   "cell_type": "code",
   "execution_count": null,
   "id": "f8eb90eb",
   "metadata": {
    "lines_to_next_cell": 0
   },
   "outputs": [],
   "source": [
    "URL_MELB_HOUSING_DATA = \"https://www.famaf.unc.edu.ar/~nocampo043/melb_housing_df.csv\"\n",
    "URL_MELB_SUBURB_DATA = \"https://www.famaf.unc.edu.ar/~nocampo043/melb_suburb_df.csv\"\n",
    "\n",
    "melb_housing_df = pd.read_csv(URL_MELB_HOUSING_DATA)\n",
    "melb_suburb_df = pd.read_csv(URL_MELB_SUBURB_DATA)"
   ]
  },
  {
   "cell_type": "code",
   "execution_count": null,
   "id": "dc6cc865",
   "metadata": {
    "lines_to_next_cell": 0
   },
   "outputs": [],
   "source": [
    "melb_suburb_df"
   ]
  },
  {
   "cell_type": "code",
   "execution_count": null,
   "id": "ac750be1",
   "metadata": {
    "lines_to_next_cell": 0
   },
   "outputs": [],
   "source": [
    "melb_housing_df"
   ]
  },
  {
   "cell_type": "markdown",
   "id": "c42fc3a6",
   "metadata": {
    "cell_marker": "\"\"\"",
    "lines_to_next_cell": 0
   },
   "source": [
    "## Elección de variables relevantes\n",
    "Dado que el objetivo es predecir el precio de venta de viviendas en Melbourne se\n",
    "procedió a analizar cuáles son las variables que influyen."
   ]
  },
  {
   "cell_type": "markdown",
   "id": "2788adb6",
   "metadata": {
    "cell_marker": "\"\"\"",
    "lines_to_next_cell": 0
   },
   "source": [
    "### Precio de venta (`housing_price`)"
   ]
  },
  {
   "cell_type": "code",
   "execution_count": null,
   "id": "53665693",
   "metadata": {
    "lines_to_next_cell": 0
   },
   "outputs": [],
   "source": [
    "plt.figure(figsize=(8, 8))\n",
    "seaborn.boxenplot(data=melb_housing_df, x=\"housing_price\")\n",
    "plt.ticklabel_format(style=\"plain\", axis=\"x\")"
   ]
  },
  {
   "cell_type": "markdown",
   "id": "21b11694",
   "metadata": {
    "cell_marker": "\"\"\"",
    "lines_to_next_cell": 0
   },
   "source": [
    "Se observa la presencia de outliers en la variable `housing_price`, por encima\n",
    "de los 6 millones. Se decidió eliminar aquellos valores atípicos que se\n",
    "encuentran alejados de la media, más allá de 2.5 veces su desviación estandar.\n",
    "TODO: Explicar cuál es la razón de que se descarten estos valores."
   ]
  },
  {
   "cell_type": "code",
   "execution_count": null,
   "id": "4596c434",
   "metadata": {
    "lines_to_next_cell": 0
   },
   "outputs": [],
   "source": [
    "melb_housing_df, melb_housing_outliers_df = clean_outliers(\n",
    "    melb_housing_df, \"housing_price\")"
   ]
  },
  {
   "cell_type": "code",
   "execution_count": null,
   "id": "2eb6f08b",
   "metadata": {
    "lines_to_next_cell": 0
   },
   "outputs": [],
   "source": [
    "melb_housing_df"
   ]
  },
  {
   "cell_type": "code",
   "execution_count": null,
   "id": "740a88e9",
   "metadata": {
    "lines_to_next_cell": 0
   },
   "outputs": [],
   "source": [
    "melb_housing_outliers_df"
   ]
  },
  {
   "cell_type": "markdown",
   "id": "665eb761",
   "metadata": {
    "cell_marker": "\"\"\"",
    "lines_to_next_cell": 0
   },
   "source": [
    "A continuación, se analizaron las demás variables sin los *outliers* del precio\n",
    "de venta."
   ]
  },
  {
   "cell_type": "code",
   "execution_count": null,
   "id": "54756c0d",
   "metadata": {
    "lines_to_next_cell": 0
   },
   "outputs": [],
   "source": [
    "plt.figure(figsize=(8,8))\n",
    "seaborn.boxenplot(data=melb_housing_df, x=\"housing_price\")\n",
    "plt.ticklabel_format(style=\"plain\", axis=\"x\")"
   ]
  },
  {
   "cell_type": "markdown",
   "id": "715740e8",
   "metadata": {
    "cell_marker": "\"\"\"",
    "lines_to_next_cell": 0
   },
   "source": [
    "### Dirección de las viviendas (`housing_address`)\n",
    "Si bien `housing_address` permite conocer la ubicación exacta de una propiedad,\n",
    "no brinda información sobre aspectos de calidad que motiven la variación del\n",
    "precio de una vivienda en Melbourne. Es un dato único que primero debería ser\n",
    "agrupado en zonas para argumentar algún análisis. Agrupamiento que ya es\n",
    "brindado en el conjunto de datos por medio de otras variables como el nombre del\n",
    "suburbio, departamento, o el código postal."
   ]
  },
  {
   "cell_type": "code",
   "execution_count": null,
   "id": "4fdf7c89",
   "metadata": {
    "lines_to_next_cell": 0
   },
   "outputs": [],
   "source": [
    "melb_housing_df[\"housing_address\"].value_counts()"
   ]
  },
  {
   "cell_type": "markdown",
   "id": "60bf5cdf",
   "metadata": {
    "cell_marker": "\"\"\"",
    "lines_to_next_cell": 0
   },
   "source": [
    "### Cantidad habitaciones (`housing_bedroom_count`)\n",
    "Dado que las variables `housing_bedroom_count`, `housing_room_count` están\n",
    "fuertemente correlacionadas se optó por conservar la última de estas porque\n",
    "`housing_bedroom_count` proveniene de otro *dataset*."
   ]
  },
  {
   "cell_type": "code",
   "execution_count": null,
   "id": "87c948f7",
   "metadata": {
    "lines_to_next_cell": 0
   },
   "outputs": [],
   "source": [
    "melb_housing_df[\n",
    "    [\"housing_bedroom_count\", \"housing_room_count\"]\n",
    "].corr()"
   ]
  },
  {
   "cell_type": "markdown",
   "id": "1928634f",
   "metadata": {
    "cell_marker": "\"\"\"",
    "lines_to_next_cell": 0
   },
   "source": [
    "### Cantidad de ambientes (`housing_room_count`)"
   ]
  },
  {
   "cell_type": "code",
   "execution_count": null,
   "id": "2040e189",
   "metadata": {
    "lines_to_next_cell": 0
   },
   "outputs": [],
   "source": [
    "melb_housing_df[[\"housing_room_count\"]].value_counts()"
   ]
  },
  {
   "cell_type": "markdown",
   "id": "17bea290",
   "metadata": {
    "cell_marker": "\"\"\"",
    "lines_to_next_cell": 0
   },
   "source": [
    "Se puede observar que la cantidad de ambientes varían entre 1 a 4, siendo\n",
    "valores menos frecuentes aquellas que tienen 5 o más. Por ende, se decide\n",
    "agrupar esta categoría."
   ]
  },
  {
   "cell_type": "code",
   "execution_count": null,
   "id": "a6a79d43",
   "metadata": {
    "lines_to_next_cell": 0
   },
   "outputs": [],
   "source": [
    "# Explicitly create a copy after adding the column to avoid chained indexes\n",
    "melb_housing_df = melb_housing_df.assign(housing_room_segment=to_categorical(\n",
    "    melb_housing_df[\"housing_room_count\"], bin_size=1, min_cut=None,\n",
    "    max_cut=4))"
   ]
  },
  {
   "cell_type": "code",
   "execution_count": null,
   "id": "6dfe249b",
   "metadata": {
    "lines_to_next_cell": 0
   },
   "outputs": [],
   "source": [
    "plt.figure(figsize=(16, 8))\n",
    "seaborn.boxplot(x=\"housing_room_segment\",\n",
    "                y=\"housing_price\",\n",
    "                data=melb_housing_df)\n",
    "plt.ylabel(\"Precio de la vivienda\")\n",
    "plt.xlabel(\"Cantidad de ambientes\")\n",
    "plt.ticklabel_format(style='plain', axis='y')"
   ]
  },
  {
   "cell_type": "markdown",
   "id": "0af9bbb3",
   "metadata": {
    "cell_marker": "\"\"\"",
    "lines_to_next_cell": 0
   },
   "source": [
    "Luego del análisis individual de la cantidad de ambientes, se puede observar que\n",
    "existe un aumento de la mediana del precio de venta y su variabilidad."
   ]
  },
  {
   "cell_type": "markdown",
   "id": "39e567e3",
   "metadata": {
    "cell_marker": "\"\"\"",
    "lines_to_next_cell": 0
   },
   "source": [
    "### Cantidad de baños (`housing_bathroom`)\n",
    "\n",
    "La cantidad de baños de las viviendas vendidas se encuentran en su mayoría entre\n",
    "1 y 3 siendo valores más atípicos las que superan este rango. Por otro lado, se\n",
    "encuentran propiedades con una cantidad de 0 baños lo cual resulta peculiar\n",
    "recordando que los tipos de hogares en venta son casas, dúplex, y casas\n",
    "adosadas."
   ]
  },
  {
   "cell_type": "code",
   "execution_count": null,
   "id": "815d293f",
   "metadata": {
    "lines_to_next_cell": 0
   },
   "outputs": [],
   "source": [
    "melb_housing_df[[\"housing_bathroom_count\"]].value_counts()"
   ]
  },
  {
   "cell_type": "markdown",
   "id": "bfaa580b",
   "metadata": {
    "cell_marker": "\"\"\"",
    "lines_to_next_cell": 0
   },
   "source": [
    "A continuación, se procedió a reemplazar estos valores por el más frecuente dado\n",
    "que se considera que no puede haber una propiedad sin baño."
   ]
  },
  {
   "cell_type": "code",
   "execution_count": null,
   "id": "7172783b",
   "metadata": {
    "lines_to_next_cell": 0
   },
   "outputs": [],
   "source": [
    "min_bathroom_count = 1\n",
    "lt_one_bathroom = melb_housing_df[\"housing_bathroom_count\"] < min_bathroom_count\n",
    "melb_housing_df.loc[lt_one_bathroom, \"housing_bathroom_count\"] = 1"
   ]
  },
  {
   "cell_type": "markdown",
   "id": "8d530d08",
   "metadata": {
    "cell_marker": "\"\"\"",
    "lines_to_next_cell": 0
   },
   "source": [
    "Ahora bien, para aquellas viviendas que presenten entre 3 a más baños se\n",
    "agruparán en una sola categoría con el fin de asegurar que los grupos 1, 2, y 3\n",
    "o más baños, presenten una cantidad mínima de registros."
   ]
  },
  {
   "cell_type": "code",
   "execution_count": null,
   "id": "1085d167",
   "metadata": {
    "lines_to_next_cell": 0
   },
   "outputs": [],
   "source": [
    "melb_housing_df = melb_housing_df.assign(\n",
    "    housing_bathroom_segment=to_categorical(\n",
    "        melb_housing_df[\"housing_bathroom_count\"],\n",
    "        bin_size=1,\n",
    "        min_cut=None,\n",
    "        max_cut=2))"
   ]
  },
  {
   "cell_type": "code",
   "execution_count": null,
   "id": "a7ff763e",
   "metadata": {
    "lines_to_next_cell": 0
   },
   "outputs": [],
   "source": [
    "seaborn.catplot(data=melb_housing_df,\n",
    "                y=\"housing_price\",\n",
    "                x=\"housing_bathroom_segment\",\n",
    "                height=4,\n",
    "                aspect=2)"
   ]
  },
  {
   "cell_type": "markdown",
   "id": "93b79a86",
   "metadata": {
    "cell_marker": "\"\"\"",
    "lines_to_next_cell": 0
   },
   "source": [
    "Se puede observar una disminución en el rango de precios medida que aumenta la\n",
    "cantidad de baños. Si bien el precio máximo es similar, el mínimo aumenta para\n",
    "cada categoría."
   ]
  },
  {
   "cell_type": "markdown",
   "id": "64e54f01",
   "metadata": {
    "cell_marker": "\"\"\"",
    "lines_to_next_cell": 0
   },
   "source": [
    "### Cantidad de garages (`housing_garage_count`)"
   ]
  },
  {
   "cell_type": "code",
   "execution_count": null,
   "id": "072e4aa0",
   "metadata": {
    "lines_to_next_cell": 0
   },
   "outputs": [],
   "source": [
    "melb_housing_df[\"housing_garage_count\"].value_counts()"
   ]
  },
  {
   "cell_type": "code",
   "execution_count": null,
   "id": "29d507ba",
   "metadata": {
    "lines_to_next_cell": 0
   },
   "outputs": [],
   "source": [
    "melb_housing_df = melb_housing_df.assign(housing_garage_segment=to_categorical(\n",
    "    melb_housing_df[\"housing_garage_count\"],\n",
    "    bin_size=1,\n",
    "    min_cut=None,\n",
    "    max_cut=2))"
   ]
  },
  {
   "cell_type": "code",
   "execution_count": null,
   "id": "f7a44fb7",
   "metadata": {
    "lines_to_next_cell": 0
   },
   "outputs": [],
   "source": [
    "plt.figure(figsize=(16, 8))\n",
    "seaborn.boxplot(x=\"housing_garage_segment\",\n",
    "                y=\"housing_price\",\n",
    "                data=melb_housing_df)\n",
    "plt.ylabel(\"Precio de la vivienda\")\n",
    "plt.xlabel(\"Cantidad de garages\")\n",
    "plt.ticklabel_format(style='plain', axis='y')"
   ]
  },
  {
   "cell_type": "markdown",
   "id": "3c87f6d5",
   "metadata": {
    "cell_marker": "\"\"\"",
    "lines_to_next_cell": 0
   },
   "source": [
    "A excepción de las viviendas con un garage, el resto de categorías pareciera que\n",
    "se comportan de manera similar ante la variable precio, por lo tanto se decidió\n",
    "no seleccionar `housing_garage_count`. TODO: Verlo con Aldana. ¿Decidir sacarla?\n",
    "¿Como tomar la decisión de descartarlo?"
   ]
  },
  {
   "cell_type": "markdown",
   "id": "2b5957b5",
   "metadata": {
    "cell_marker": "\"\"\"",
    "lines_to_next_cell": 0
   },
   "source": [
    "### Tamaño de terreno (`housing_land_size`)"
   ]
  },
  {
   "cell_type": "code",
   "execution_count": null,
   "id": "498f0b48",
   "metadata": {
    "lines_to_next_cell": 0
   },
   "outputs": [],
   "source": [
    "seaborn.pairplot(data=melb_housing_df.sample(2500),\n",
    "                 y_vars=\"housing_price\",\n",
    "                 x_vars=\"housing_land_size\",\n",
    "                 aspect=2,\n",
    "                 height=4)"
   ]
  },
  {
   "cell_type": "markdown",
   "id": "1c9a1bf5",
   "metadata": {
    "cell_marker": "\"\"\"",
    "lines_to_next_cell": 0
   },
   "source": [
    "TODO: Verlo con Aldana. ¿Decidir sacarla? ¿Como tomar la decisión de\n",
    "descartarlo?"
   ]
  },
  {
   "cell_type": "markdown",
   "id": "2914e31b",
   "metadata": {
    "cell_marker": "\"\"\"",
    "lines_to_next_cell": 0
   },
   "source": [
    "## Área de construcción (`housing_building_area`)\n",
    "Se considera que esta variable es importante para predecir el precio, por ende\n",
    "se procedió a imputar sus valores faltantes en una sección posterior."
   ]
  },
  {
   "cell_type": "code",
   "execution_count": null,
   "id": "cc19cc0f",
   "metadata": {
    "lines_to_next_cell": 0
   },
   "outputs": [],
   "source": [
    "msno.bar(melb_housing_df[[\"housing_price\", \"housing_building_area\"]],\n",
    "         figsize=(12, 6),\n",
    "         fontsize=12)"
   ]
  },
  {
   "cell_type": "markdown",
   "id": "82910c51",
   "metadata": {
    "cell_marker": "\"\"\"",
    "lines_to_next_cell": 0
   },
   "source": [
    "### Tipo de vivienda (`housing_type`)\n",
    "Significado de cada categoría:\n",
    "\n",
    "- `h`: Casa.\n",
    "\n",
    "- `u`: Unidad, dúplex.\n",
    "\n",
    "- `t`: Casa adosada."
   ]
  },
  {
   "cell_type": "code",
   "execution_count": null,
   "id": "5f954fb0",
   "metadata": {
    "lines_to_next_cell": 0
   },
   "outputs": [],
   "source": [
    "(\n",
    "    melb_housing_df[[\"housing_type\", \"housing_price\"]]\n",
    "        .groupby(\"housing_type\")\n",
    "        .describe()\n",
    "        .round(2)\n",
    ")"
   ]
  },
  {
   "cell_type": "code",
   "execution_count": null,
   "id": "4a3694c3",
   "metadata": {
    "lines_to_next_cell": 0
   },
   "outputs": [],
   "source": [
    "plt.figure(figsize=(8,8))\n",
    "seaborn.boxenplot(data=melb_housing_df, x=\"housing_price\", y=\"housing_type\")\n",
    "plt.ticklabel_format(style=\"plain\", axis=\"x\")"
   ]
  },
  {
   "cell_type": "markdown",
   "id": "be2dffef",
   "metadata": {
    "cell_marker": "\"\"\"",
    "lines_to_next_cell": 0
   },
   "source": [
    "Se observa que la variable tipo de vivienda, tiene influencia en el precio de la\n",
    "propiedad.\n",
    "\n",
    "- Para el tipo `h`, es decir casa, el precio medio se encuentra en valores\n",
    "  cercanos a 1,2 millones. Estando el rango intercuartil comprendido entre los\n",
    "  780 mil y 1,4 millones. Se observa que los valores máximos son superiores a\n",
    "  los 2,5 millones.\n",
    "\n",
    "- Para el caso de `u`, es decir duplex, el precio medio se encuentra en valores\n",
    "  cercanos a los 600 mil. Estando el rango intercuartil comprendido entre los\n",
    "  400 mil y 700 mil. Se observa que los valores máximos son superiores a los 2,5\n",
    "  millones.\n",
    "\n",
    "- Para el caso de `t`, es decir casa adosada, el precio medio se encuentra en\n",
    "  valores un poco superiores a los 900 mil. Estando el rango intercuartil\n",
    "  comprendido entre los 670 mil y 1,1 millones. Se observa que los valores\n",
    "  máximos llegan también a casi 2,5 millones."
   ]
  },
  {
   "cell_type": "markdown",
   "id": "ff3036dd",
   "metadata": {
    "cell_marker": "\"\"\"",
    "lines_to_next_cell": 0
   },
   "source": [
    "Visualizando los valores extremos del precio en función de esta variable se\n",
    "obtiene. TODO: Cuando eliminar outliers? que análisis se hacen para quitarlos?"
   ]
  },
  {
   "cell_type": "code",
   "execution_count": null,
   "id": "2dd01e11",
   "metadata": {
    "lines_to_next_cell": 0
   },
   "outputs": [],
   "source": [
    "(\n",
    "    melb_housing_outliers_df[[\"housing_type\", \"housing_price\"]]\n",
    "        .groupby(\"housing_type\")\n",
    "        .describe()\n",
    "        .round(2)\n",
    ")"
   ]
  },
  {
   "cell_type": "code",
   "execution_count": null,
   "id": "0c9dbc6b",
   "metadata": {
    "lines_to_next_cell": 0
   },
   "outputs": [],
   "source": [
    "plt.figure(figsize=(8,8))\n",
    "seaborn.boxenplot(data=melb_housing_outliers_df,\n",
    "                  x=\"housing_price\",\n",
    "                  y=\"housing_type\")\n",
    "plt.ticklabel_format(style=\"plain\", axis=\"x\")"
   ]
  },
  {
   "cell_type": "markdown",
   "id": "06895b40",
   "metadata": {
    "cell_marker": "\"\"\"",
    "lines_to_next_cell": 0
   },
   "source": [
    "Se observa que dentro de los outliers se están eliminando en mayor cantidad\n",
    "casas con precios comprendidos entre los 3 millones y los 9 millones."
   ]
  },
  {
   "cell_type": "markdown",
   "id": "c3dcdbe0",
   "metadata": {
    "cell_marker": "\"\"\"",
    "lines_to_next_cell": 0
   },
   "source": [
    "### Método de venta (`housing_selling_method`)\n",
    "Significado de cada método:\n",
    "- `PI` - Propiedad transferida.\n",
    "- `S`  - Propiedad vendida.\n",
    "- `SA` - Vendido después de subasta.\n",
    "- `SP` - Propiedad vendida antes.\n",
    "- `VB` - Oferta del proveedor."
   ]
  },
  {
   "cell_type": "code",
   "execution_count": null,
   "id": "19328d67",
   "metadata": {
    "lines_to_next_cell": 0
   },
   "outputs": [],
   "source": [
    "(\n",
    "    melb_housing_df[[\"housing_selling_method\", \"housing_price\"]]\n",
    "        .groupby(\"housing_selling_method\")\n",
    "        .describe()\n",
    "        .round(2)\n",
    ")"
   ]
  },
  {
   "cell_type": "code",
   "execution_count": null,
   "id": "00710102",
   "metadata": {
    "lines_to_next_cell": 0
   },
   "outputs": [],
   "source": [
    "plt.figure(figsize=(8,8))\n",
    "seaborn.boxenplot(data=melb_housing_df,\n",
    "                  x=\"housing_price\",\n",
    "                  y=\"housing_selling_method\")\n",
    "plt.ticklabel_format(style=\"plain\", axis=\"x\")"
   ]
  },
  {
   "cell_type": "code",
   "execution_count": null,
   "id": "654c9c47",
   "metadata": {
    "lines_to_next_cell": 0
   },
   "outputs": [],
   "source": [
    "types = melb_housing_df[\"housing_type\"].unique()\n",
    "fig, axes = plt.subplots(3, figsize=(12,12))\n",
    "\n",
    "for ax, type in zip(axes, types):\n",
    "    houses_by_type_df = melb_housing_df[\n",
    "        melb_housing_df[\"housing_type\"] == type\n",
    "    ]\n",
    "    seaborn.boxenplot(ax=ax,\n",
    "                      data=houses_by_type_df,\n",
    "                      x=\"housing_price\",\n",
    "                      y=\"housing_selling_method\")\n",
    "    ax.ticklabel_format(style=\"plain\", axis=\"x\")"
   ]
  },
  {
   "cell_type": "markdown",
   "id": "7e8e3e07",
   "metadata": {
    "cell_marker": "\"\"\"",
    "lines_to_next_cell": 0
   },
   "source": [
    "Se observa que la distribución de la variable `housing_price` es similar en cada\n",
    "método de venta. Los valores medios están cercanos al millón extendiéndose hasta\n",
    "valores máximos cercanos a los 2,5 millones. El método de venta `SA`,\n",
    "correspondiente a “vendido después de la subasta”, parece ser el más diferente.\n",
    "No obstante, se observa que son pocos los casos comprendidos en esta categoría\n",
    "(menos de 100), por lo cual la baja frecuencia podría justificar su disparidad\n",
    "con el resto.\n",
    "\n",
    "Consideramos no seleccionar el método venta para un siguiente análisis."
   ]
  },
  {
   "cell_type": "markdown",
   "id": "fe4b802e",
   "metadata": {
    "cell_marker": "\"\"\"",
    "lines_to_next_cell": 0
   },
   "source": [
    "### Agencia de ventas (`housing_seller_agency`)"
   ]
  },
  {
   "cell_type": "code",
   "execution_count": null,
   "id": "e63a4fb1",
   "metadata": {
    "lines_to_next_cell": 0
   },
   "outputs": [],
   "source": [
    "melb_housing_df[\"housing_seller_agency\"].value_counts()"
   ]
  },
  {
   "cell_type": "markdown",
   "id": "49783a1e",
   "metadata": {
    "cell_marker": "\"\"\"",
    "lines_to_next_cell": 0
   },
   "source": [
    "Existen 266 vendedores que efectúan las transacciones de las viviendas. A\n",
    "continuación, se calcula si existe concentración de movimientos en alguno de\n",
    "ellos."
   ]
  },
  {
   "cell_type": "code",
   "execution_count": null,
   "id": "b4f8b199",
   "metadata": {
    "lines_to_next_cell": 0
   },
   "outputs": [],
   "source": [
    "best_sellers_df = (\n",
    "    melb_housing_df[[\"housing_seller_agency\", \"housing_price\"]]\n",
    "        .groupby(\"housing_seller_agency\")\n",
    "        .agg(sales_count=(\"housing_seller_agency\", \"count\"),\n",
    "             sales_percentage=(\"housing_seller_agency\",\n",
    "                                lambda sales: 100 * len(sales) / len(melb_housing_df)))\n",
    "        .sort_values(by=\"sales_count\", ascending=False)\n",
    "        .head(20)\n",
    ")"
   ]
  },
  {
   "cell_type": "code",
   "execution_count": null,
   "id": "428dbf10",
   "metadata": {
    "lines_to_next_cell": 0
   },
   "outputs": [],
   "source": [
    "best_sellers_df.sum()"
   ]
  },
  {
   "cell_type": "code",
   "execution_count": null,
   "id": "f7d1dfad",
   "metadata": {
    "lines_to_next_cell": 0
   },
   "outputs": [],
   "source": [
    "fig = plt.figure(figsize=(12, 12))\n",
    "seaborn.barplot(\n",
    "    data=melb_housing_df[melb_housing_df[\"housing_seller_agency\"].isin(\n",
    "        best_sellers_df.index)],\n",
    "    x=\"housing_seller_agency\",\n",
    "    y=\"housing_price\",\n",
    "    estimator=np.mean)\n",
    "plt.xlabel(\"Agencia de ventas\")\n",
    "plt.ylabel(\"Precio promedio de ventas\")\n",
    "plt.xticks(rotation=90)\n",
    "plt.ticklabel_format(style=\"plain\", axis=\"y\")"
   ]
  },
  {
   "cell_type": "markdown",
   "id": "f7f87944",
   "metadata": {
    "cell_marker": "\"\"\"",
    "lines_to_next_cell": 0
   },
   "source": [
    "Se puede observar que algunos vendedores en promedio han vendido casas a precios\n",
    "más altos que otros, por ejemplo el vendedor `Marshall` sobresale por el resto\n",
    "con un precio medio de venta de 1,5 millones. Sin embargo, no se puede asegurar\n",
    "que el mayor precio de la venta sea por una mejor gestión del vendedor y no por\n",
    "otro tipo de variable, como ser el tipo de casa, la ubicación o bien su tamaño o\n",
    "composición. Por lo tanto tampoco se decidió seleccionarla."
   ]
  },
  {
   "cell_type": "markdown",
   "id": "ae43670a",
   "metadata": {
    "cell_marker": "\"\"\"",
    "lines_to_next_cell": 0
   },
   "source": [
    "### Región y distancia al distrito central comercial (`housing_region_name`, y `housing_cbd_distance`)\n",
    "Para analizar las medidas de tendencia central del precio de las viviendas por\n",
    "región se realizó un boxplot como se muestra a continuación."
   ]
  },
  {
   "cell_type": "code",
   "execution_count": null,
   "id": "68cb1e95",
   "metadata": {
    "lines_to_next_cell": 0
   },
   "outputs": [],
   "source": [
    "plt.figure(figsize=(16, 8))\n",
    "seaborn.boxplot(x=\"suburb_region_name\",\n",
    "                y=\"housing_price\",\n",
    "                palette=\"Set2\",\n",
    "                data=melb_housing_df.join(melb_suburb_df, on=\"suburb_id\"))\n",
    "plt.xticks(rotation=40)\n",
    "plt.ylabel(\"Precio de venta\")\n",
    "plt.xlabel(\"Región\")\n",
    "plt.ticklabel_format(style=\"plain\", axis=\"y\")"
   ]
  },
  {
   "cell_type": "markdown",
   "id": "b2c7ab78",
   "metadata": {
    "cell_marker": "\"\"\"",
    "lines_to_next_cell": 0
   },
   "source": [
    "`Southern Metropolitan` es la región con la media más alta en el precio de\n",
    "viviendas. `Northern Metropolitan`, `Western Motropolitan`, y `South-Eastern\n",
    "Metropolitan` parecieran seguir un comportamiento similar. De la misma manera\n",
    "ocurre con `Eastern Victoria`, `Northern Victoria`, y `Western Victoria`."
   ]
  },
  {
   "cell_type": "markdown",
   "id": "df895ed1",
   "metadata": {
    "cell_marker": "\"\"\"",
    "lines_to_next_cell": 0
   },
   "source": [
    "La siguiente tabla muestra que `Southern Metropolitan` es la región en donde se\n",
    "registró una mayor cantidad de ventas de viviendas (4377) a diferencia de\n",
    "`Eastern Victoria`, `Northern Victoria` y `Western Victoria` que muestran menos\n",
    "de\n",
    "100."
   ]
  },
  {
   "cell_type": "code",
   "execution_count": null,
   "id": "192bd7d8",
   "metadata": {
    "lines_to_next_cell": 0
   },
   "outputs": [],
   "source": [
    "(\n",
    "    melb_housing_df\n",
    "        .join(melb_suburb_df, on=\"suburb_id\")\n",
    "        .loc[:, \"suburb_region_name\"]\n",
    "        .value_counts()\n",
    ")"
   ]
  },
  {
   "cell_type": "markdown",
   "id": "cc4236d9",
   "metadata": {
    "cell_marker": "\"\"\"",
    "lines_to_next_cell": 0
   },
   "source": [
    "## Geolocalización de propiedades por región\n",
    "El objetivo es ver la geolocalización de los datos en las diferentes regiones\n",
    "del Territorio de Victoria, Australia. A continuación, se muestra una imagen\n",
    "extraída de Wikipedia.\n",
    "\n",
    "<img src=\"../graphs/melbourne_by_region.png\" alt=\"melbourne by region\">\n",
    "\n",
    "Se utilizó el servicio de [wfs de geoserver](https://data.gov.au/geoserver)\n",
    "donde se obtiene una representación geométrica de las regiones."
   ]
  },
  {
   "cell_type": "code",
   "execution_count": null,
   "id": "80ac9484",
   "metadata": {
    "lines_to_next_cell": 0
   },
   "outputs": [],
   "source": [
    "geoserver = \"https://data.gov.au/geoserver\"\n",
    "route = \"vic-state-electoral-boundaries-psma-administrative-boundaries\"\n",
    "service = \"wfs\"\n",
    "projection = \"EPSG:3110\"\n",
    "\n",
    "wfsurl = f\"{geoserver}/{route}/{service}\"\n",
    "\n",
    "params = dict(service=\"WFS\",\n",
    "              version=\"2.0.0\",\n",
    "              request=\"GetFeature\",\n",
    "              typeName=(route + \":ckan_a0d8838b_2423_4c8b_a7d9_b04eb240a2b1\"),\n",
    "              outputFormat=\"json\")\n",
    "\n",
    "features = requests.get(wfsurl, params=params).json()\n",
    "\n",
    "region_location_df = gpd.GeoDataFrame.from_features(features).set_crs(\n",
    "    projection)\n",
    "\n",
    "region_location_df.head()"
   ]
  },
  {
   "cell_type": "markdown",
   "id": "8db27bae",
   "metadata": {
    "cell_marker": "\"\"\"",
    "lines_to_next_cell": 0
   },
   "source": [
    "De este *dataframe* se obtiene información correspondiente a las divisiones\n",
    "gubernamentales de Melbourne. En particular, la columna `vic_stat_2` es aquella\n",
    "que contiene los nombres de regiones, y `geometry` su representación geométrica\n",
    "limítrofe. La proyección sobre las zonas de Melbourne es dada por el método\n",
    "`set_crs` que establece coordenadas arbitrarias del espacio en una ubicación\n",
    "particular del planeta. Sin embargo, hay varias zonas que se muestran en los\n",
    "alrededores de Melbourne, por ende, se filtran por aquellas que correspondan a\n",
    "las que se tiene registro en el conjunto de datos inicial."
   ]
  },
  {
   "cell_type": "code",
   "execution_count": null,
   "id": "a494c242",
   "metadata": {
    "lines_to_next_cell": 0
   },
   "outputs": [],
   "source": [
    "key_regions = [\n",
    "    region.upper() for region in melb_suburb_df[\"suburb_region_name\"].unique()\n",
    "]"
   ]
  },
  {
   "cell_type": "markdown",
   "id": "3adeb610",
   "metadata": {
    "cell_marker": "\"\"\"",
    "lines_to_next_cell": 0
   },
   "source": [
    "De manera similar, se necesita convertir las coordenadas de las propiedades\n",
    "vendidas en puntos geométricos de GeoPandas para ser graficados junto a las\n",
    "zonas recolectadas. En particular, en este caso serán representados como un\n",
    "objeto `POINT`. El *dataframe* subyacente es el siguiente:"
   ]
  },
  {
   "cell_type": "code",
   "execution_count": null,
   "id": "b5bdc67f",
   "metadata": {
    "lines_to_next_cell": 0
   },
   "outputs": [],
   "source": [
    "locations_df = gpd.GeoDataFrame(\n",
    "    melb_housing_df[[\"housing_lattitude\", \"housing_longitude\"]],\n",
    "    geometry=gpd.points_from_xy(\n",
    "        melb_housing_df[\"housing_longitude\"],\n",
    "        melb_housing_df[\"housing_lattitude\"])).set_crs(\"EPSG:3110\")\n",
    "\n",
    "locations_df.head()"
   ]
  },
  {
   "cell_type": "markdown",
   "id": "ccd726f4",
   "metadata": {
    "cell_marker": "\"\"\"",
    "lines_to_next_cell": 0
   },
   "source": [
    "Finalmente, se procede a graficar las zonas limítrofes de Melbourne\n",
    "superponiendo las ubicaciones de las viviendas. El mapa muestra que la mayoría\n",
    "de las ventas (en color rojo) se concentran en la región Metropolitana\n",
    "(`South-Eastern Metropolitan`, `Southern Metropolitan`, `Western Metropolitan` y\n",
    "`Northern Metropolitan`)."
   ]
  },
  {
   "cell_type": "code",
   "execution_count": null,
   "id": "c80e1b22",
   "metadata": {
    "lines_to_next_cell": 0
   },
   "outputs": [],
   "source": [
    "plot_melbourne_map(locations_df, key_regions)"
   ]
  },
  {
   "cell_type": "markdown",
   "id": "a19ffe3f",
   "metadata": {
    "cell_marker": "\"\"\"",
    "lines_to_next_cell": 0
   },
   "source": [
    "Para observar con mayor detalle la zona metropolitana, se filtran las entradas\n",
    "de `region_location_df` y se incluye en el mapa la variable\n",
    "`housing_cbd_distance` que indica la distancia que una propiedad tiene al\n",
    "distrito central comercial. Se muestra que las viviendas más cerca al centro\n",
    "(valores de distancia cercanos a cero de color naranja claro), se encuentran en\n",
    "`Southern Metropolitan` donde también se encuentra la ciudad de Melbourne."
   ]
  },
  {
   "cell_type": "code",
   "execution_count": null,
   "id": "8f94bcee",
   "metadata": {
    "lines_to_next_cell": 0
   },
   "outputs": [],
   "source": [
    "metropolitan_regions = [\n",
    "    region_name for region_name in key_regions\n",
    "    if region_name.endswith(\"METROPOLITAN\")\n",
    "]\n",
    "\n",
    "plot_melbourne_map(locations_df.join(melb_housing_df[\"housing_cbd_distance\"]),\n",
    "                   metropolitan_regions, \"housing_cbd_distance\")"
   ]
  },
  {
   "cell_type": "markdown",
   "id": "da3bceb0",
   "metadata": {
    "cell_marker": "\"\"\"",
    "lines_to_next_cell": 0
   },
   "source": [
    "También, se realizó otro mapa incluyendo a la variable `housing_price`, el cual\n",
    "muestra que los precios de vivienda más altos se localizan en las regiones de\n",
    "`Southern Metropolitan` y `Estearn Metropolitan`. TODO: Se repite el código del\n",
    "gráfico. Capaz se podría hacer una función."
   ]
  },
  {
   "cell_type": "code",
   "execution_count": null,
   "id": "9ad2e259",
   "metadata": {
    "lines_to_next_cell": 0
   },
   "outputs": [],
   "source": [
    "plot_melbourne_map(locations_df.join(melb_housing_df[\"housing_price\"]),\n",
    "                   metropolitan_regions, \"housing_price\")"
   ]
  },
  {
   "cell_type": "markdown",
   "id": "fb37cc19",
   "metadata": {
    "cell_marker": "\"\"\"",
    "lines_to_next_cell": 0
   },
   "source": [
    "Estas observaciones dejan en evidencia que la localización de las viviendas\n",
    "puede influir en el precio de las mismas. En este sentido, se decide incluir la\n",
    "variable `suburb_region_name` en futuros análisis. Respecto a la variable\n",
    "`housing_cbd_distance`, su mapa correspondiente muestra que los valores cercanos\n",
    "al centro se ubican en la región `Southern Metropolitan` y aumenta a medida que\n",
    "se aleja del mismo y cambia de región. Por lo tanto, a partir de conocer la\n",
    "región en la que se ubica una vivienda se puede inferir su valor de distancia y\n",
    "por ende `housing_cbd_distance` ofrecería información redundante. Entonces se\n",
    "decidió no incluirla en futuros análisis."
   ]
  },
  {
   "cell_type": "markdown",
   "id": "4cc815de",
   "metadata": {
    "cell_marker": "\"\"\"",
    "lines_to_next_cell": 0
   },
   "source": [
    "Se puede ver que las regiones `Western Victoria`, `Eastern Victoria`, y\n",
    "`Northern Victoria` poseen una baja frecuencia. Por lo tanto, se procedió a\n",
    "agruparlos bajo una misma categoría, denominada `Victoria`."
   ]
  },
  {
   "cell_type": "code",
   "execution_count": null,
   "id": "05ff7ffe",
   "metadata": {
    "lines_to_next_cell": 0
   },
   "outputs": [],
   "source": [
    "(\n",
    "    melb_housing_df\n",
    "        .join(melb_suburb_df[\"suburb_region_name\"], on=\"suburb_id\")\n",
    "        .groupby(\"suburb_region_name\")\n",
    "        .size()\n",
    ")"
   ]
  },
  {
   "cell_type": "code",
   "execution_count": null,
   "id": "13edb79f",
   "metadata": {
    "lines_to_next_cell": 0
   },
   "outputs": [],
   "source": [
    "melb_suburb_df = melb_suburb_df.assign(\n",
    "    suburb_region_segment=melb_suburb_df[\"suburb_region_name\"].replace(\n",
    "        {\n",
    "            \"Western Victoria\": \"Victoria\",\n",
    "            \"Eastern Victoria\": \"Victoria\",\n",
    "            \"Northern Victoria\": \"Victoria\"\n",
    "        }))"
   ]
  },
  {
   "cell_type": "code",
   "execution_count": null,
   "id": "46c71a6b",
   "metadata": {
    "lines_to_next_cell": 0
   },
   "outputs": [],
   "source": [
    "(\n",
    "    melb_housing_df\n",
    "        .join(melb_suburb_df[\"suburb_region_segment\"], on=\"suburb_id\")\n",
    "        .groupby(\"suburb_region_segment\")\n",
    "        .size()\n",
    ")"
   ]
  },
  {
   "cell_type": "code",
   "execution_count": null,
   "id": "fafc46ab",
   "metadata": {
    "lines_to_next_cell": 0
   },
   "outputs": [],
   "source": [
    "plt.figure(figsize=(8, 8))\n",
    "seaborn.boxenplot(data=melb_housing_df.join(\n",
    "    melb_suburb_df[\"suburb_region_segment\"], on=\"suburb_id\"),\n",
    "                  x=\"suburb_region_segment\",\n",
    "                  y=\"housing_price\")\n",
    "plt.ticklabel_format(style=\"plain\", axis=\"y\")\n",
    "plt.xticks(rotation=40)"
   ]
  },
  {
   "cell_type": "markdown",
   "id": "f78cd806",
   "metadata": {
    "cell_marker": "\"\"\"",
    "lines_to_next_cell": 0
   },
   "source": [
    "## Cantidad de propiedades por suburbio (`suburb_property_count`)"
   ]
  },
  {
   "cell_type": "code",
   "execution_count": null,
   "id": "bcc92088",
   "metadata": {
    "lines_to_next_cell": 0
   },
   "outputs": [],
   "source": [
    "plot_melbourne_map(\n",
    "    (\n",
    "        locations_df\n",
    "            .join(melb_housing_df[\"suburb_id\"])\n",
    "            .join(melb_suburb_df[\"suburb_property_count\"], on=\"suburb_id\")\n",
    "    ),\n",
    "    metropolitan_regions, \"suburb_property_count\")"
   ]
  },
  {
   "cell_type": "markdown",
   "id": "0449b042",
   "metadata": {
    "cell_marker": "\"\"\"",
    "lines_to_next_cell": 0
   },
   "source": [
    "## Departamento gubernamental (`housing_council_area`)\n",
    "Analizando las medidas de tendencia central para las variables\n",
    "`suburb_council_area` y `housing_price` se observa que algunos departamentos\n",
    "tienen una única vivienda con precio y otros como `Boroondara` tiene más de 1000\n",
    "viviendas. Esto muestra la disparidad en la cantidad de ventas registradas en\n",
    "los diferentes departamentos. Dado que está variable brinda información similar\n",
    "a otras ya disponibles en el *dataset* no se la consideró relevante para estimar\n",
    "el precio, sin embargo, se la seleccionó para continuar con el resto de las\n",
    "consignas de el entregable."
   ]
  },
  {
   "cell_type": "code",
   "execution_count": null,
   "id": "f90d465f",
   "metadata": {
    "lines_to_next_cell": 0
   },
   "outputs": [],
   "source": [
    "(\n",
    "    melb_housing_df\n",
    "        .join(melb_suburb_df, on=\"suburb_id\")\n",
    "        .loc[:, \"suburb_council_area\"]\n",
    "        .value_counts()\n",
    ")"
   ]
  },
  {
   "cell_type": "markdown",
   "id": "67427f75",
   "metadata": {
    "cell_marker": "\"\"\"",
    "lines_to_next_cell": 0
   },
   "source": [
    "## Fecha de venta y año de construcción (`housing_date_sold` y `housing_year_built`)\n",
    "El tiempo en el que se vendió una propiedad puede ser relevante si se consideran\n",
    "inflación o cuestiones económicas durante el período de venta. Dado que el\n",
    "conjunto de datos corresponden a ventas de 2016 y 2017, es importante saber como\n",
    "fluctuó el precio durante este intervalo. Por ende, se trabajó sobre esta\n",
    "variable combirtiendo inicialmente los datos en objetos `datetime`."
   ]
  },
  {
   "cell_type": "code",
   "execution_count": null,
   "id": "fc1c75dc",
   "metadata": {
    "lines_to_next_cell": 0
   },
   "outputs": [],
   "source": [
    "melb_housing_df = melb_housing_df.assign(\n",
    "    housing_date_sold_datetime=pd.to_datetime(\n",
    "        melb_housing_df[\"housing_date_sold\"]))"
   ]
  },
  {
   "cell_type": "markdown",
   "id": "1ca61307",
   "metadata": {
    "cell_marker": "\"\"\"",
    "lines_to_next_cell": 0
   },
   "source": [
    "Observando la fecha y precio de venta no se encuentra una tendencia en algún\n",
    "periodo en particular. Las propiedades vendidas se encontraron entre los 800000\n",
    "a 120000 con una alta variabilidad que se obtiene probablemente a que se están\n",
    "considerando no solo los años y meses, sino también el día de venta, siendo\n",
    "quizás no tan relevante si se desea identificar un período donde se realizaron\n",
    "ventas de un alto valor."
   ]
  },
  {
   "cell_type": "code",
   "execution_count": null,
   "id": "3fbbcd50",
   "metadata": {
    "lines_to_next_cell": 0
   },
   "outputs": [],
   "source": [
    "seaborn.lineplot(data=melb_housing_df,\n",
    "                 x=\"housing_date_sold_datetime\",\n",
    "                 y=\"housing_price\")\n",
    "plt.ticklabel_format(style=\"plain\", axis=\"y\")\n",
    "plt.xticks(rotation=45)"
   ]
  },
  {
   "cell_type": "markdown",
   "id": "516b125a",
   "metadata": {
    "cell_marker": "\"\"\"",
    "lines_to_next_cell": 0
   },
   "source": [
    "Si se desconsidera el día de venta, se obtiene una menor variabilidad pero aún\n",
    "así no se perciben fluctuaciones en el precio salvo quizás para inicios,\n",
    "mediados, y fines del 2017 donde se dieron ventas con precio menor en\n",
    "comparación al 2016."
   ]
  },
  {
   "cell_type": "code",
   "execution_count": null,
   "id": "515ce85b",
   "metadata": {
    "lines_to_next_cell": 0
   },
   "outputs": [],
   "source": [
    "melb_housing_df = melb_housing_df.assign(\n",
    "    housing_date_sold_datetime=pd.to_datetime(\n",
    "        melb_housing_df[\"housing_date_sold_datetime\"].dt.strftime(\"%Y-%m\")))"
   ]
  },
  {
   "cell_type": "code",
   "execution_count": null,
   "id": "d859d2d7",
   "metadata": {
    "lines_to_next_cell": 0
   },
   "outputs": [],
   "source": [
    "seaborn.lineplot(data=melb_housing_df,\n",
    "                 x=\"housing_date_sold_datetime\",\n",
    "                 y=\"housing_price\")\n",
    "plt.ticklabel_format(style=\"plain\", axis=\"y\")\n",
    "plt.xticks(rotation=45)"
   ]
  },
  {
   "cell_type": "markdown",
   "id": "2931453f",
   "metadata": {
    "cell_marker": "\"\"\"",
    "lines_to_next_cell": 0
   },
   "source": [
    "Se puede ver que la frecuencia de ventas en algún mes en particular salvo para\n",
    "inicios y fin del 2017 que se corresponden con las"
   ]
  },
  {
   "cell_type": "code",
   "execution_count": null,
   "id": "f397bd15",
   "metadata": {
    "lines_to_next_cell": 0
   },
   "outputs": [],
   "source": [
    "plt.figure(figsize=(10, 10))\n",
    "seaborn.countplot(\n",
    "    melb_housing_df[\"housing_date_sold_datetime\"]\n",
    "        .dt.month\n",
    ")\n",
    "plt.xticks(rotation=45)"
   ]
  },
  {
   "cell_type": "code",
   "execution_count": null,
   "id": "452aa798",
   "metadata": {},
   "outputs": [],
   "source": []
  }
 ],
 "metadata": {
  "jupytext": {
   "cell_markers": "\"\"\"",
   "cell_metadata_filter": "-all",
   "encoding": "# -*- coding: utf-8 -*-",
   "formats": "ipynb,py"
  },
  "kernelspec": {
   "display_name": "Python 3",
   "language": "python",
   "name": "python3"
  }
 },
 "nbformat": 4,
 "nbformat_minor": 5
}
