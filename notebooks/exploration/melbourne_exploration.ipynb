{
 "cells": [
  {
   "cell_type": "markdown",
   "id": "3f5dd1fb",
   "metadata": {
    "cell_marker": "\"\"\"",
    "lines_to_next_cell": 0
   },
   "source": [
    "# Diplomatura en Ciencias de Datos, Aprendizaje Automático y sus Aplicaciones\n",
    "\n",
    "Autores: Matías Oria, Antonela Sambuceti, Pamela Pairo, Benjamín Ocampo"
   ]
  },
  {
   "cell_type": "markdown",
   "id": "b80d5dd0",
   "metadata": {
    "cell_marker": "\"\"\"",
    "lines_to_next_cell": 0
   },
   "source": [
    "## Definición de funciones *helper*, y lectura del conjunto de datos\n",
    "\n",
    "Se trabajó sobre los *dataframes* `melb_suburb_df` y `melb_housing_df` que\n",
    "fueron obtenidos en el archivo `combine_airbnb_dataset.ipynb` de este mismo\n",
    "repositorio siendo alojados en un servidor de la Universidad Nacional de Córdoba\n",
    "para facilitar su acceso remoto."
   ]
  },
  {
   "cell_type": "markdown",
   "id": "f4d6027a",
   "metadata": {
    "cell_marker": "\"\"\"",
    "lines_to_next_cell": 0
   },
   "source": [
    "En caso de estar trabajando esta notebook desde `Google Colab`, se debe ejecutar\n",
    "la siguiente celda para instalar el paquete `geopandas`, ya que no se encuentra\n",
    "disponible por defecto y es necesario para algunas visualizaciones de la\n",
    "exploración. Si se está utilizando un entorno de `Conda` junto a `Jupyter\n",
    "Notebook` con la configuración dada en `README.md` del repositorio, este paso no\n",
    "es necesario."
   ]
  },
  {
   "cell_type": "code",
   "execution_count": null,
   "id": "58b01385",
   "metadata": {
    "lines_to_next_cell": 0
   },
   "outputs": [],
   "source": [
    "!pip install geopandas"
   ]
  },
  {
   "cell_type": "code",
   "execution_count": null,
   "id": "5188555b",
   "metadata": {
    "lines_to_next_cell": 0
   },
   "outputs": [],
   "source": [
    "from typing import Tuple, List, Optional\n",
    "import pandas as pd\n",
    "import numpy as np\n",
    "import seaborn\n",
    "import matplotlib.pyplot as plt\n",
    "import geopandas as gpd\n",
    "import requests\n",
    "import missingno as msno\n",
    "\n",
    "\n",
    "def clean_outliers(df: pd.DataFrame,\n",
    "                   column_name: str) -> Tuple[pd.DataFrame, pd.DataFrame]:\n",
    "    \"\"\"\n",
    "    Filters out entries of @df that have in @column_name values which are 2.5\n",
    "    times standard deviations apart from the mean. Returns both, entries that\n",
    "    hold and miss the condition.\n",
    "    \"\"\"\n",
    "    col = df[column_name]\n",
    "    mask_outlier = np.abs(col - col.mean()) <= (2.5 * col.std())\n",
    "    return df[mask_outlier], df[~mask_outlier]\n",
    "\n",
    "\n",
    "def to_categorical(column: pd.Series, bin_size: int, min_cut: int,\n",
    "                   max_cut: int) -> pd.Series:\n",
    "    \"\"\"\n",
    "    Returns a pandas series where each value of @column is replaced by an\n",
    "    interval that contains it. Intervals are generated from @min_cut to @max_cut\n",
    "    and have size @bin_size.\n",
    "    \"\"\"\n",
    "    if min_cut is None:\n",
    "        min_cut = int(round(column.min())) - 1\n",
    "    value_max = int(np.ceil(column.max()))\n",
    "    max_cut = min(max_cut, value_max)\n",
    "    intervals = [(x, x + bin_size) for x in range(min_cut, max_cut, bin_size)]\n",
    "    if max_cut != value_max:\n",
    "        intervals.append((max_cut, value_max))\n",
    "    return pd.cut(column, pd.IntervalIndex.from_tuples(intervals))\n",
    "\n",
    "\n",
    "def plot_melbourne_map(locations_df: gpd.GeoDataFrame,\n",
    "                       key_regions: List[str],\n",
    "                       column_name_colorbar: Optional[str] = None) -> None:\n",
    "    \"\"\"\n",
    "    Plots a map of the surroundings of Melbourne, displaying the regions given\n",
    "    by @key_regions. @location_df needs to be a geodataframe that contains the\n",
    "    latitude and longitude as pandas points, so they can be superimposed on the\n",
    "    background map. If @column_name_colorbar is provided, it needs to be the\n",
    "    name of a column of @locations_df. Then, it colors the points and adds a\n",
    "    colorbar indicating the magnitude of the values contained in that column.\n",
    "    \"\"\"\n",
    "    geoserver = \"https://data.gov.au/geoserver\"\n",
    "    route = \"vic-state-electoral-boundaries-psma-administrative-boundaries\"\n",
    "    service = \"wfs\"\n",
    "    projection = \"EPSG:3110\"\n",
    "    wfsurl = f\"{geoserver}/{route}/{service}\"\n",
    "\n",
    "    params = dict(service=\"WFS\",\n",
    "                  version=\"2.0.0\",\n",
    "                  request=\"GetFeature\",\n",
    "                  typeName=(route +\n",
    "                            \":ckan_a0d8838b_2423_4c8b_a7d9_b04eb240a2b1\"),\n",
    "                  outputFormat=\"json\")\n",
    "    features = requests.get(wfsurl, params=params).json()\n",
    "    region_location_df = gpd.GeoDataFrame.from_features(features).set_crs(\n",
    "        projection)\n",
    "\n",
    "    only_key_regions = region_location_df[\"vic_stat_2\"].isin(key_regions)\n",
    "    region_location_df = (\n",
    "        region_location_df.loc[only_key_regions,\n",
    "                               [\"vic_stat_2\", \"geometry\"]].dissolve(\n",
    "                                   by=\"vic_stat_2\").reset_index())\n",
    "    background = region_location_df.plot(column=\"vic_stat_2\",\n",
    "                                         edgecolor=\"black\",\n",
    "                                         figsize=(15, 15),\n",
    "                                         legend=True)\n",
    "    plt.ylabel(\"Latitude\")\n",
    "    plt.xlabel(\"Longitude\")\n",
    "    background.set(title=\"Regiones del Territorio de Victoria, Australia\")\n",
    "\n",
    "    if column_name_colorbar is not None:\n",
    "        cmap = seaborn.color_palette(\"flare\", as_cmap=True)\n",
    "        points = locations_df.plot(ax=background,\n",
    "                                   marker=\"o\",\n",
    "                                   markersize=3,\n",
    "                                   column=column_name_colorbar,\n",
    "                                   cmap=cmap)\n",
    "\n",
    "        fig = points.get_figure()\n",
    "        cbax = fig.add_axes([0.95, 0.2, 0.04, 0.60])\n",
    "        cbax.set_title(column_name_colorbar)\n",
    "        sm = plt.cm.ScalarMappable(\n",
    "            cmap=cmap,\n",
    "            norm=plt.Normalize(vmin=min(locations_df[column_name_colorbar]),\n",
    "                               vmax=max(locations_df[column_name_colorbar])))\n",
    "        fig.colorbar(sm, cax=cbax, format=\"%d\")\n",
    "    else:\n",
    "        points = locations_df.plot(ax=background,\n",
    "                                   marker=\"o\",\n",
    "                                   markersize=3,\n",
    "                                   color=\"r\")"
   ]
  },
  {
   "cell_type": "code",
   "execution_count": null,
   "id": "fa3f696a",
   "metadata": {
    "lines_to_next_cell": 0
   },
   "outputs": [],
   "source": [
    "URL_MELB_HOUSING_DATA = \"https://www.famaf.unc.edu.ar/~nocampo043/melb_housing_df.csv\"\n",
    "URL_MELB_SUBURB_DATA = \"https://www.famaf.unc.edu.ar/~nocampo043/melb_suburb_df.csv\"\n",
    "\n",
    "melb_housing_df = pd.read_csv(URL_MELB_HOUSING_DATA)\n",
    "melb_suburb_df = pd.read_csv(URL_MELB_SUBURB_DATA)"
   ]
  },
  {
   "cell_type": "code",
   "execution_count": null,
   "id": "506ce976",
   "metadata": {
    "lines_to_next_cell": 0
   },
   "outputs": [],
   "source": [
    "melb_suburb_df"
   ]
  },
  {
   "cell_type": "code",
   "execution_count": null,
   "id": "307049fd",
   "metadata": {
    "lines_to_next_cell": 0
   },
   "outputs": [],
   "source": [
    "melb_housing_df"
   ]
  },
  {
   "cell_type": "markdown",
   "id": "6b25a05e",
   "metadata": {
    "cell_marker": "\"\"\"",
    "lines_to_next_cell": 0
   },
   "source": [
    "## Elección de variables relevantes\n",
    "Dado que el objetivo es predecir el precio de venta de viviendas en Melbourne se\n",
    "procedió a analizar cuáles son las variables que influyen."
   ]
  },
  {
   "cell_type": "markdown",
   "id": "aca07780",
   "metadata": {
    "cell_marker": "\"\"\"",
    "lines_to_next_cell": 0
   },
   "source": [
    "### Precio de venta (`housing_price`)"
   ]
  },
  {
   "cell_type": "markdown",
   "id": "2f36b85f",
   "metadata": {
    "cell_marker": "\"\"\"",
    "lines_to_next_cell": 0
   },
   "source": [
    "#### Eliminación de *outliers*"
   ]
  },
  {
   "cell_type": "code",
   "execution_count": null,
   "id": "958ca676",
   "metadata": {
    "lines_to_next_cell": 0
   },
   "outputs": [],
   "source": [
    "plt.figure(figsize=(8, 8))\n",
    "seaborn.boxenplot(data=melb_housing_df, x=\"housing_price\")\n",
    "plt.ticklabel_format(style=\"plain\", axis=\"x\")"
   ]
  },
  {
   "cell_type": "markdown",
   "id": "1ce67a91",
   "metadata": {
    "cell_marker": "\"\"\"",
    "lines_to_next_cell": 0
   },
   "source": [
    "Se observa la presencia de outliers en la variable `housing_price`, por encima\n",
    "de los 6 millones. Se decidió eliminar aquellos valores atípicos que se\n",
    "encuentran alejados de la media, más allá de 2.5 veces su desviación estandar ya\n",
    "que solo es de interés conocer el precio de venta de aquellas viviendas\n",
    "comercializadas con mayor frecuencia."
   ]
  },
  {
   "cell_type": "code",
   "execution_count": null,
   "id": "6afb4c89",
   "metadata": {
    "lines_to_next_cell": 0
   },
   "outputs": [],
   "source": [
    "melb_housing_df, melb_housing_outliers_df = clean_outliers(\n",
    "    melb_housing_df, \"housing_price\")"
   ]
  },
  {
   "cell_type": "code",
   "execution_count": null,
   "id": "f48e2af8",
   "metadata": {
    "lines_to_next_cell": 0
   },
   "outputs": [],
   "source": [
    "melb_housing_df"
   ]
  },
  {
   "cell_type": "code",
   "execution_count": null,
   "id": "4bbf3fe2",
   "metadata": {
    "lines_to_next_cell": 0
   },
   "outputs": [],
   "source": [
    "melb_housing_outliers_df"
   ]
  },
  {
   "cell_type": "markdown",
   "id": "1d121ffc",
   "metadata": {
    "cell_marker": "\"\"\"",
    "lines_to_next_cell": 0
   },
   "source": [
    "A continuación, se analizaron las demás variables sin los *outliers* del precio\n",
    "de venta."
   ]
  },
  {
   "cell_type": "code",
   "execution_count": null,
   "id": "8440d5d8",
   "metadata": {
    "lines_to_next_cell": 0
   },
   "outputs": [],
   "source": [
    "plt.figure(figsize=(8,8))\n",
    "seaborn.boxenplot(data=melb_housing_df, x=\"housing_price\")\n",
    "plt.ticklabel_format(style=\"plain\", axis=\"x\")"
   ]
  },
  {
   "cell_type": "markdown",
   "id": "e71b036e",
   "metadata": {
    "cell_marker": "\"\"\"",
    "lines_to_next_cell": 0
   },
   "source": [
    "### Dirección de las viviendas (`housing_address`)\n",
    "Si bien `housing_address` permite conocer la ubicación exacta de una propiedad,\n",
    "no brinda información sobre aspectos de calidad que motiven la variación del\n",
    "precio de una vivienda en Melbourne. Es un dato único que primero debería ser\n",
    "agrupado en zonas para argumentar algún análisis. Agrupamiento que ya es\n",
    "brindado en el conjunto de datos por medio de otras variables como el nombre del\n",
    "suburbio, departamento, o el código postal."
   ]
  },
  {
   "cell_type": "code",
   "execution_count": null,
   "id": "f964aaf1",
   "metadata": {
    "lines_to_next_cell": 0
   },
   "outputs": [],
   "source": [
    "melb_housing_df[\"housing_address\"].value_counts()"
   ]
  },
  {
   "cell_type": "markdown",
   "id": "340935fc",
   "metadata": {
    "cell_marker": "\"\"\"",
    "lines_to_next_cell": 0
   },
   "source": [
    "### Cantidad de habitaciones (`housing_bedroom_count`)\n",
    "Dado que las variables `housing_bedroom_count`, `housing_room_count` están\n",
    "fuertemente correlacionadas, se optó por conservar la última de estas porque\n",
    "`housing_bedroom_count` proviene de otro *dataset*."
   ]
  },
  {
   "cell_type": "code",
   "execution_count": null,
   "id": "4acfbe38",
   "metadata": {
    "lines_to_next_cell": 0
   },
   "outputs": [],
   "source": [
    "melb_housing_df[\n",
    "    [\"housing_bedroom_count\", \"housing_room_count\"]\n",
    "].corr()"
   ]
  },
  {
   "cell_type": "markdown",
   "id": "29eec20d",
   "metadata": {
    "cell_marker": "\"\"\"",
    "lines_to_next_cell": 0
   },
   "source": [
    "### Cantidad de ambientes (`housing_room_count`)"
   ]
  },
  {
   "cell_type": "code",
   "execution_count": null,
   "id": "3dfdb616",
   "metadata": {
    "lines_to_next_cell": 0
   },
   "outputs": [],
   "source": [
    "melb_housing_df[[\"housing_room_count\"]].value_counts()"
   ]
  },
  {
   "cell_type": "markdown",
   "id": "c3d4fc82",
   "metadata": {
    "cell_marker": "\"\"\"",
    "lines_to_next_cell": 0
   },
   "source": [
    "Se puede observar que la cantidad de ambientes varían entre 1 a 4, siendo\n",
    "valores menos frecuentes aquellas que tienen 5 o más. Por ende, se decide\n",
    "agrupar esta categoría."
   ]
  },
  {
   "cell_type": "code",
   "execution_count": null,
   "id": "4a027e15",
   "metadata": {
    "lines_to_next_cell": 0
   },
   "outputs": [],
   "source": [
    "# Explicitly create a copy after adding the column to avoid chained indexes\n",
    "melb_housing_df = melb_housing_df.assign(housing_room_segment=to_categorical(\n",
    "    melb_housing_df[\"housing_room_count\"], bin_size=1, min_cut=None,\n",
    "    max_cut=4))"
   ]
  },
  {
   "cell_type": "code",
   "execution_count": null,
   "id": "3dd4ef92",
   "metadata": {
    "lines_to_next_cell": 0
   },
   "outputs": [],
   "source": [
    "plt.figure(figsize=(16, 8))\n",
    "seaborn.boxplot(x=\"housing_room_segment\",\n",
    "                y=\"housing_price\",\n",
    "                data=melb_housing_df)\n",
    "plt.ylabel(\"Precio de la vivienda\")\n",
    "plt.xlabel(\"Cantidad de ambientes\")\n",
    "plt.ticklabel_format(style='plain', axis='y')"
   ]
  },
  {
   "cell_type": "markdown",
   "id": "8fa253d3",
   "metadata": {
    "cell_marker": "\"\"\"",
    "lines_to_next_cell": 0
   },
   "source": [
    "Luego del análisis individual de la cantidad de ambientes, se puede observar que\n",
    "existe un aumento de la mediana del precio de venta y su variabilidad."
   ]
  },
  {
   "cell_type": "markdown",
   "id": "dd838976",
   "metadata": {
    "cell_marker": "\"\"\"",
    "lines_to_next_cell": 0
   },
   "source": [
    "### Cantidad de baños (`housing_bathroom_count`)\n",
    "\n",
    "La cantidad de baños de las viviendas vendidas se encuentran en su mayoría entre\n",
    "1 y 3 siendo valores más atípicos las que superan este rango. Por otro lado, se\n",
    "encuentran propiedades con una cantidad de 0 baños lo cual resulta peculiar\n",
    "recordando que los tipos de hogares en venta son casas, dúplex, y casas\n",
    "adosadas."
   ]
  },
  {
   "cell_type": "code",
   "execution_count": null,
   "id": "534ec29e",
   "metadata": {
    "lines_to_next_cell": 0
   },
   "outputs": [],
   "source": [
    "melb_housing_df[[\"housing_bathroom_count\"]].value_counts()"
   ]
  },
  {
   "cell_type": "markdown",
   "id": "4c171613",
   "metadata": {
    "cell_marker": "\"\"\"",
    "lines_to_next_cell": 0
   },
   "source": [
    "A continuación, se procedió a reemplazar estos valores por el más frecuente dado\n",
    "que se considera que no puede haber una propiedad sin baño."
   ]
  },
  {
   "cell_type": "code",
   "execution_count": null,
   "id": "313ec238",
   "metadata": {
    "lines_to_next_cell": 0
   },
   "outputs": [],
   "source": [
    "min_bathroom_count = 1\n",
    "lt_one_bathroom = melb_housing_df[\"housing_bathroom_count\"] < min_bathroom_count\n",
    "melb_housing_df.loc[lt_one_bathroom, \"housing_bathroom_count\"] = 1"
   ]
  },
  {
   "cell_type": "markdown",
   "id": "522a6cd6",
   "metadata": {
    "cell_marker": "\"\"\"",
    "lines_to_next_cell": 0
   },
   "source": [
    "Ahora bien, para aquellas viviendas que presenten entre 3 a más baños se\n",
    "agruparon en una sola categoría con el fin de asegurar que los grupos 1, 2, y 3\n",
    "o más baños, presenten una cantidad mínima de registros."
   ]
  },
  {
   "cell_type": "code",
   "execution_count": null,
   "id": "ac6c1822",
   "metadata": {
    "lines_to_next_cell": 0
   },
   "outputs": [],
   "source": [
    "melb_housing_df = melb_housing_df.assign(\n",
    "    housing_bathroom_segment=to_categorical(\n",
    "        melb_housing_df[\"housing_bathroom_count\"],\n",
    "        bin_size=1,\n",
    "        min_cut=None,\n",
    "        max_cut=2))"
   ]
  },
  {
   "cell_type": "code",
   "execution_count": null,
   "id": "b528d638",
   "metadata": {
    "lines_to_next_cell": 0
   },
   "outputs": [],
   "source": [
    "seaborn.catplot(data=melb_housing_df,\n",
    "                y=\"housing_price\",\n",
    "                x=\"housing_bathroom_segment\",\n",
    "                height=4,\n",
    "                aspect=2)"
   ]
  },
  {
   "cell_type": "markdown",
   "id": "e1ddd4e8",
   "metadata": {
    "cell_marker": "\"\"\"",
    "lines_to_next_cell": 0
   },
   "source": [
    "Se puede observar una disminución en el rango de precios a medida que aumenta la\n",
    "cantidad de baños. Si bien el precio máximo es similar, el mínimo aumenta para\n",
    "cada categoría."
   ]
  },
  {
   "cell_type": "markdown",
   "id": "ca05dc1f",
   "metadata": {
    "cell_marker": "\"\"\"",
    "lines_to_next_cell": 0
   },
   "source": [
    "### Cantidad de garages (`housing_garage_count`)\n",
    "\n",
    "De manera similar a `housing_bathroom_count`, se procede a agrupar en categorías\n",
    "aquellas viviendas que tengan entre 3 a más garages de tal manera que también\n",
    "presenten una cantidad mínima de registros comparable con los grupos que tienen\n",
    "0, 1, y 2."
   ]
  },
  {
   "cell_type": "code",
   "execution_count": null,
   "id": "a738487c",
   "metadata": {
    "lines_to_next_cell": 0
   },
   "outputs": [],
   "source": [
    "melb_housing_df[\"housing_garage_count\"].value_counts()"
   ]
  },
  {
   "cell_type": "code",
   "execution_count": null,
   "id": "8a85d3b6",
   "metadata": {
    "lines_to_next_cell": 0
   },
   "outputs": [],
   "source": [
    "melb_housing_df = melb_housing_df.assign(housing_garage_segment=to_categorical(\n",
    "    melb_housing_df[\"housing_garage_count\"],\n",
    "    bin_size=1,\n",
    "    min_cut=None,\n",
    "    max_cut=2))"
   ]
  },
  {
   "cell_type": "code",
   "execution_count": null,
   "id": "7ada1e8f",
   "metadata": {},
   "outputs": [],
   "source": [
    "melb_housing_df[\"housing_garage_segment\"].unique()"
   ]
  },
  {
   "cell_type": "code",
   "execution_count": null,
   "id": "cc96023c",
   "metadata": {
    "lines_to_next_cell": 0
   },
   "outputs": [],
   "source": [
    "plt.figure(figsize=(16, 8))\n",
    "seaborn.boxplot(x=\"housing_garage_segment\",\n",
    "                y=\"housing_price\",\n",
    "                data=melb_housing_df)\n",
    "plt.ylabel(\"Precio de la vivienda\")\n",
    "plt.xlabel(\"Cantidad de garages\")\n",
    "plt.ticklabel_format(style='plain', axis='y')"
   ]
  },
  {
   "cell_type": "markdown",
   "id": "774193e4",
   "metadata": {
    "cell_marker": "\"\"\"",
    "lines_to_next_cell": 0
   },
   "source": [
    "A excepción de las viviendas con un garage, el resto de categorías pareciera que\n",
    "se comportan de manera similar ante la variable precio, por lo tanto se decidió\n",
    "no seleccionar `housing_garage_count`."
   ]
  },
  {
   "cell_type": "markdown",
   "id": "ea88fb32",
   "metadata": {
    "cell_marker": "\"\"\"",
    "lines_to_next_cell": 0
   },
   "source": [
    "### Tamaño de terreno (`housing_land_size`)"
   ]
  },
  {
   "cell_type": "code",
   "execution_count": null,
   "id": "605c7b8a",
   "metadata": {
    "lines_to_next_cell": 0
   },
   "outputs": [],
   "source": [
    "seaborn.pairplot(data=melb_housing_df.sample(2500),\n",
    "                 y_vars=\"housing_price\",\n",
    "                 x_vars=\"housing_land_size\",\n",
    "                 aspect=2,\n",
    "                 height=4)"
   ]
  },
  {
   "cell_type": "markdown",
   "id": "ca21c1ec",
   "metadata": {
    "cell_marker": "\"\"\"",
    "lines_to_next_cell": 0
   },
   "source": [
    "Si bien el gráfico no muestra una relación entre el precio de venta y el tamaño\n",
    "del terreno, se cree que puede ser importante en la predicción junto con el\n",
    "resto de las variables."
   ]
  },
  {
   "cell_type": "markdown",
   "id": "265f1609",
   "metadata": {
    "cell_marker": "\"\"\"",
    "lines_to_next_cell": 0
   },
   "source": [
    "### Área de construcción (`housing_building_area`)\n",
    "Se considera que esta variable es importante para predecir el precio, por ende\n",
    "se procedió a imputar sus valores faltantes en una sección posterior."
   ]
  },
  {
   "cell_type": "code",
   "execution_count": null,
   "id": "4102abdb",
   "metadata": {
    "lines_to_next_cell": 0
   },
   "outputs": [],
   "source": [
    "msno.bar(melb_housing_df[[\"housing_price\", \"housing_building_area\"]],\n",
    "         figsize=(12, 6),\n",
    "         fontsize=12)"
   ]
  },
  {
   "cell_type": "code",
   "execution_count": null,
   "id": "092ba5f6",
   "metadata": {},
   "outputs": [],
   "source": [
    "plt.figure(figsize=(16, 8))\n",
    "seaborn.boxplot(x=\"housing_building_area\",\n",
    "                data=melb_housing_df)\n",
    "plt.ticklabel_format(style=\"plain\", axis=\"x\")"
   ]
  },
  {
   "cell_type": "markdown",
   "id": "2652e139",
   "metadata": {
    "cell_marker": "\"\"\"",
    "lines_to_next_cell": 0
   },
   "source": [
    "Se puede observar la presencia de un valor extremo de 44515. Se decidió eliminar\n",
    "este valor ya que se aleja demasiado del rango de viviendas que se estuvo\n",
    "considerando."
   ]
  },
  {
   "cell_type": "code",
   "execution_count": null,
   "id": "cb5d5119",
   "metadata": {
    "lines_to_next_cell": 0
   },
   "outputs": [],
   "source": [
    "big_area = melb_housing_df[\n",
    "    melb_housing_df['housing_building_area'] > 10000]\n",
    "big_area"
   ]
  },
  {
   "cell_type": "code",
   "execution_count": null,
   "id": "708ec8ee",
   "metadata": {
    "lines_to_next_cell": 0
   },
   "outputs": [],
   "source": [
    "melb_housing_df = melb_housing_df.drop(big_area.index)"
   ]
  },
  {
   "cell_type": "code",
   "execution_count": null,
   "id": "c8c0b3a5",
   "metadata": {
    "lines_to_next_cell": 0
   },
   "outputs": [],
   "source": [
    "melb_housing_df[[ \"housing_building_area\"]].describe()"
   ]
  },
  {
   "cell_type": "markdown",
   "id": "24c5fe0d",
   "metadata": {
    "cell_marker": "\"\"\"",
    "lines_to_next_cell": 0
   },
   "source": [
    "### Tipo de vivienda (`housing_type`)\n",
    "Significado de cada categoría:\n",
    "\n",
    "- `h`: Casa.\n",
    "\n",
    "- `u`: Unidad, dúplex.\n",
    "\n",
    "- `t`: Casa adosada."
   ]
  },
  {
   "cell_type": "code",
   "execution_count": null,
   "id": "500924ce",
   "metadata": {
    "lines_to_next_cell": 0
   },
   "outputs": [],
   "source": [
    "(\n",
    "    melb_housing_df[[\"housing_type\", \"housing_price\"]]\n",
    "        .groupby(\"housing_type\")\n",
    "        .describe()\n",
    "        .round(2)\n",
    ")"
   ]
  },
  {
   "cell_type": "code",
   "execution_count": null,
   "id": "80f8cf8c",
   "metadata": {
    "lines_to_next_cell": 0
   },
   "outputs": [],
   "source": [
    "plt.figure(figsize=(8,8))\n",
    "seaborn.boxenplot(data=melb_housing_df, x=\"housing_price\", y=\"housing_type\")\n",
    "plt.ticklabel_format(style=\"plain\", axis=\"x\")"
   ]
  },
  {
   "cell_type": "markdown",
   "id": "1670f6df",
   "metadata": {
    "cell_marker": "\"\"\"",
    "lines_to_next_cell": 0
   },
   "source": [
    "Se observa que la variable tipo de vivienda, tiene influencia en el precio de la\n",
    "propiedad.\n",
    "\n",
    "- Para el tipo `h`, es decir casa, el precio medio se encuentra en valores\n",
    "  cercanos a 1,2 millones. Estando el rango intercuartil comprendido entre los\n",
    "  780 mil y 1,4 millones. Se observa que los valores máximos son superiores a\n",
    "  los 2,5 millones.\n",
    "\n",
    "- Para el caso de `u`, es decir dúplex, el precio medio se encuentra en valores\n",
    "  cercanos a los 600 mil. Estando el rango intercuartil comprendido entre los\n",
    "  400 mil y 700 mil. Se observa que los valores máximos son superiores a los 2,5\n",
    "  millones.\n",
    "\n",
    "- Para el caso de `t`, es decir casa adosada, el precio medio se encuentra en\n",
    "  valores un poco superiores a los 900 mil. Estando el rango intercuartil\n",
    "  comprendido entre los 670 mil y 1,1 millones. Se observa que los valores\n",
    "  máximos llegan también a casi 2,5 millones."
   ]
  },
  {
   "cell_type": "markdown",
   "id": "031d662a",
   "metadata": {
    "cell_marker": "\"\"\"",
    "lines_to_next_cell": 0
   },
   "source": [
    "### Método de venta (`housing_selling_method`)\n",
    "Significado de cada método:\n",
    "- `PI` - Propiedad transferida.\n",
    "- `S`  - Propiedad vendida.\n",
    "- `SA` - Vendido después de subasta.\n",
    "- `SP` - Propiedad vendida antes.\n",
    "- `VB` - Oferta del proveedor."
   ]
  },
  {
   "cell_type": "code",
   "execution_count": null,
   "id": "eaf5f0e6",
   "metadata": {
    "lines_to_next_cell": 0
   },
   "outputs": [],
   "source": [
    "(\n",
    "    melb_housing_df[[\"housing_selling_method\", \"housing_price\"]]\n",
    "        .groupby(\"housing_selling_method\")\n",
    "        .describe()\n",
    "        .round(2)\n",
    ")"
   ]
  },
  {
   "cell_type": "code",
   "execution_count": null,
   "id": "61f5bebc",
   "metadata": {
    "lines_to_next_cell": 0
   },
   "outputs": [],
   "source": [
    "plt.figure(figsize=(8,8))\n",
    "seaborn.boxenplot(data=melb_housing_df,\n",
    "                  x=\"housing_price\",\n",
    "                  y=\"housing_selling_method\")\n",
    "plt.ticklabel_format(style=\"plain\", axis=\"x\")"
   ]
  },
  {
   "cell_type": "code",
   "execution_count": null,
   "id": "8a17c5af",
   "metadata": {
    "lines_to_next_cell": 0
   },
   "outputs": [],
   "source": [
    "types = melb_housing_df[\"housing_type\"].unique()\n",
    "fig, axes = plt.subplots(3, figsize=(12,12))\n",
    "\n",
    "for ax, type in zip(axes, types):\n",
    "    houses_by_type_df = melb_housing_df[\n",
    "        melb_housing_df[\"housing_type\"] == type\n",
    "    ]\n",
    "    seaborn.boxenplot(ax=ax,\n",
    "                      data=houses_by_type_df,\n",
    "                      x=\"housing_price\",\n",
    "                      y=\"housing_selling_method\")\n",
    "    ax.ticklabel_format(style=\"plain\", axis=\"x\")"
   ]
  },
  {
   "cell_type": "markdown",
   "id": "570af9ea",
   "metadata": {
    "cell_marker": "\"\"\"",
    "lines_to_next_cell": 0
   },
   "source": [
    "Se observa que la distribución de la variable `housing_price` es similar en cada\n",
    "método de venta. Los valores medios están cercanos al millón extendiéndose hasta\n",
    "valores máximos cercanos a los 2,5 millones. El método de venta `SA`,\n",
    "correspondiente a “vendido después de la subasta”, parece ser el más diferente.\n",
    "No obstante, se observa que son pocos los casos comprendidos en esta categoría\n",
    "(menos de 100), por lo cual la baja frecuencia podría justificar su disparidad\n",
    "con el resto.\n",
    "\n",
    "Consideramos no seleccionar el método venta para un siguiente análisis."
   ]
  },
  {
   "cell_type": "markdown",
   "id": "9244b7aa",
   "metadata": {
    "cell_marker": "\"\"\"",
    "lines_to_next_cell": 0
   },
   "source": [
    "### Agencia de ventas (`housing_seller_agency`)"
   ]
  },
  {
   "cell_type": "code",
   "execution_count": null,
   "id": "99d50d3d",
   "metadata": {
    "lines_to_next_cell": 0
   },
   "outputs": [],
   "source": [
    "melb_housing_df[\"housing_seller_agency\"].value_counts()"
   ]
  },
  {
   "cell_type": "markdown",
   "id": "9968a830",
   "metadata": {
    "cell_marker": "\"\"\"",
    "lines_to_next_cell": 0
   },
   "source": [
    "Existen 266 vendedores que efectúan las transacciones de las viviendas. A\n",
    "continuación, se calcula si existe concentración de movimientos en alguno de\n",
    "ellos."
   ]
  },
  {
   "cell_type": "code",
   "execution_count": null,
   "id": "288d834f",
   "metadata": {
    "lines_to_next_cell": 0
   },
   "outputs": [],
   "source": [
    "best_sellers_df = (\n",
    "    melb_housing_df[[\"housing_seller_agency\", \"housing_price\"]]\n",
    "        .groupby(\"housing_seller_agency\")\n",
    "        .agg(sales_count=(\"housing_seller_agency\", \"count\"),\n",
    "             sales_percentage=(\"housing_seller_agency\",\n",
    "                                lambda sales: 100 * len(sales) / len(melb_housing_df)))\n",
    "        .sort_values(by=\"sales_count\", ascending=False)\n",
    "        .head(20)\n",
    ")"
   ]
  },
  {
   "cell_type": "code",
   "execution_count": null,
   "id": "899421ab",
   "metadata": {
    "lines_to_next_cell": 0
   },
   "outputs": [],
   "source": [
    "best_sellers_df.sum()"
   ]
  },
  {
   "cell_type": "code",
   "execution_count": null,
   "id": "322c16f7",
   "metadata": {
    "lines_to_next_cell": 0
   },
   "outputs": [],
   "source": [
    "fig = plt.figure(figsize=(12, 12))\n",
    "seaborn.barplot(\n",
    "    data=melb_housing_df[melb_housing_df[\"housing_seller_agency\"].isin(\n",
    "        best_sellers_df.index)],\n",
    "    x=\"housing_seller_agency\",\n",
    "    y=\"housing_price\",\n",
    "    estimator=np.mean)\n",
    "plt.xlabel(\"Agencia de ventas\")\n",
    "plt.ylabel(\"Precio promedio de ventas\")\n",
    "plt.xticks(rotation=90)\n",
    "plt.ticklabel_format(style=\"plain\", axis=\"y\")"
   ]
  },
  {
   "cell_type": "markdown",
   "id": "8fe30605",
   "metadata": {
    "cell_marker": "\"\"\"",
    "lines_to_next_cell": 0
   },
   "source": [
    "Se puede observar que algunos vendedores en promedio han vendido casas a precios\n",
    "más altos que otros, por ejemplo el vendedor `Marshall` sobresale por el resto\n",
    "con un precio medio de venta de 1,5 millones. Sin embargo, no se puede asegurar\n",
    "que el mayor precio de la venta sea por una mejor gestión del vendedor y no por\n",
    "otro tipo de variable, como ser el tipo de casa, la ubicación o bien su tamaño o\n",
    "composición. Por lo tanto, tampoco se decidió seleccionarla."
   ]
  },
  {
   "cell_type": "markdown",
   "id": "e3bf1f2d",
   "metadata": {
    "cell_marker": "\"\"\"",
    "lines_to_next_cell": 0
   },
   "source": [
    "### Región y distancia al distrito central comercial (`suburb_region_name`, y `housing_cbd_distance`)\n",
    "Para analizar las medidas de tendencia central del precio de las viviendas por\n",
    "región se realizó un boxplot como se muestra a continuación."
   ]
  },
  {
   "cell_type": "code",
   "execution_count": null,
   "id": "91228fa6",
   "metadata": {
    "lines_to_next_cell": 0
   },
   "outputs": [],
   "source": [
    "plt.figure(figsize=(16, 8))\n",
    "seaborn.boxplot(x=\"suburb_region_name\",\n",
    "                y=\"housing_price\",\n",
    "                palette=\"Set2\",\n",
    "                data=melb_housing_df.join(melb_suburb_df, on=\"suburb_id\"))\n",
    "plt.xticks(rotation=40)\n",
    "plt.ylabel(\"Precio de venta\")\n",
    "plt.xlabel(\"Región\")\n",
    "plt.ticklabel_format(style=\"plain\", axis=\"y\")"
   ]
  },
  {
   "cell_type": "markdown",
   "id": "e87ac384",
   "metadata": {
    "cell_marker": "\"\"\"",
    "lines_to_next_cell": 0
   },
   "source": [
    "`Southern Metropolitan` es la región con la media más alta en el precio de\n",
    "viviendas. `Northern Metropolitan`, `Western Motropolitan`, y `South-Eastern\n",
    "Metropolitan` parecieran seguir un comportamiento similar. De la misma manera\n",
    "ocurre con `Eastern Victoria`, `Northern Victoria`, y `Western Victoria`."
   ]
  },
  {
   "cell_type": "markdown",
   "id": "fb1f8e74",
   "metadata": {
    "cell_marker": "\"\"\"",
    "lines_to_next_cell": 0
   },
   "source": [
    "La siguiente tabla muestra que `Southern Metropolitan` es la región en donde se\n",
    "registró una mayor cantidad de ventas de viviendas (4377) a diferencia de\n",
    "`Eastern Victoria`, `Northern Victoria` y `Western Victoria` que muestran menos\n",
    "de 100."
   ]
  },
  {
   "cell_type": "code",
   "execution_count": null,
   "id": "2ea31744",
   "metadata": {
    "lines_to_next_cell": 0
   },
   "outputs": [],
   "source": [
    "(\n",
    "    melb_housing_df\n",
    "        .join(melb_suburb_df, on=\"suburb_id\")\n",
    "        .loc[:, \"suburb_region_name\"]\n",
    "        .value_counts()\n",
    ")"
   ]
  },
  {
   "cell_type": "markdown",
   "id": "9da20f71",
   "metadata": {
    "cell_marker": "\"\"\"",
    "lines_to_next_cell": 0
   },
   "source": [
    "#### Geolocalización de propiedades por región\n",
    "El objetivo es ver la geolocalización de los datos en las diferentes regiones\n",
    "del Territorio de Victoria, Australia. A continuación, se muestra una imagen\n",
    "extraída de Wikipedia.\n",
    "\n",
    "<img\n",
    "src=\"https://github.com/benjaminocampo/DataCuration/blob/master/notebooks/graphs/melbourne_by_region.png?raw=1\"\n",
    "alt=\"melbourne by region\">\n",
    "\n",
    "Se utilizó el servicio de [wfs de geoserver](https://data.gov.au/geoserver)\n",
    "donde se obtiene una representación geométrica de las regiones."
   ]
  },
  {
   "cell_type": "code",
   "execution_count": null,
   "id": "e65f5bd6",
   "metadata": {
    "lines_to_next_cell": 0
   },
   "outputs": [],
   "source": [
    "geoserver = \"https://data.gov.au/geoserver\"\n",
    "route = \"vic-state-electoral-boundaries-psma-administrative-boundaries\"\n",
    "service = \"wfs\"\n",
    "projection = \"EPSG:3110\"\n",
    "\n",
    "wfsurl = f\"{geoserver}/{route}/{service}\"\n",
    "\n",
    "params = dict(service=\"WFS\",\n",
    "              version=\"2.0.0\",\n",
    "              request=\"GetFeature\",\n",
    "              typeName=(route + \":ckan_a0d8838b_2423_4c8b_a7d9_b04eb240a2b1\"),\n",
    "              outputFormat=\"json\")\n",
    "\n",
    "features = requests.get(wfsurl, params=params).json()\n",
    "\n",
    "region_location_df = gpd.GeoDataFrame.from_features(features).set_crs(\n",
    "    projection)\n",
    "\n",
    "region_location_df.head()"
   ]
  },
  {
   "cell_type": "markdown",
   "id": "2bd4f7a5",
   "metadata": {
    "cell_marker": "\"\"\"",
    "lines_to_next_cell": 0
   },
   "source": [
    "De este *dataframe* se obtiene información correspondiente a las divisiones\n",
    "gubernamentales de Melbourne. En particular, la columna `vic_stat_2` es aquella\n",
    "que contiene los nombres de regiones, y `geometry` su representación geométrica\n",
    "limítrofe. La proyección sobre las zonas de Melbourne es dada por el método\n",
    "`set_crs` que establece coordenadas arbitrarias del espacio en una ubicación\n",
    "particular del planeta. Sin embargo, hay varias zonas que se muestran en los\n",
    "alrededores de Melbourne, por ende, se filtran por aquellas que correspondan a\n",
    "las que se tiene registro en el conjunto de datos inicial."
   ]
  },
  {
   "cell_type": "code",
   "execution_count": null,
   "id": "66b0ca1d",
   "metadata": {
    "lines_to_next_cell": 0
   },
   "outputs": [],
   "source": [
    "key_regions = [\n",
    "    region.upper() for region in melb_suburb_df[\"suburb_region_name\"].unique()\n",
    "]\n",
    "key_regions"
   ]
  },
  {
   "cell_type": "markdown",
   "id": "43163e16",
   "metadata": {
    "cell_marker": "\"\"\"",
    "lines_to_next_cell": 0
   },
   "source": [
    "De manera similar, se necesita convertir las coordenadas de las propiedades\n",
    "vendidas en puntos geométricos de `GeoPandas` para ser graficados junto a las\n",
    "zonas recolectadas. En particular, en este caso serán representados como un\n",
    "objeto `POINT`. El *dataframe* subyacente es el siguiente:"
   ]
  },
  {
   "cell_type": "code",
   "execution_count": null,
   "id": "6132fc62",
   "metadata": {
    "lines_to_next_cell": 0
   },
   "outputs": [],
   "source": [
    "locations_df = gpd.GeoDataFrame(\n",
    "    melb_housing_df[[\"housing_lattitude\", \"housing_longitude\"]],\n",
    "    geometry=gpd.points_from_xy(\n",
    "        melb_housing_df[\"housing_longitude\"],\n",
    "        melb_housing_df[\"housing_lattitude\"])).set_crs(\"EPSG:3110\")\n",
    "\n",
    "locations_df.head()"
   ]
  },
  {
   "cell_type": "markdown",
   "id": "01648262",
   "metadata": {
    "cell_marker": "\"\"\"",
    "lines_to_next_cell": 0
   },
   "source": [
    "Finalmente, se procede a graficar las zonas limítrofes de Melbourne\n",
    "superponiendo las ubicaciones de las viviendas. El mapa muestra que la mayoría\n",
    "de las ventas (en color rojo) se concentran en la región Metropolitana\n",
    "(`South-Eastern Metropolitan`, `Southern Metropolitan`, `Western Metropolitan` y\n",
    "`Northern Metropolitan`)."
   ]
  },
  {
   "cell_type": "code",
   "execution_count": null,
   "id": "1e81f5fa",
   "metadata": {
    "lines_to_next_cell": 0
   },
   "outputs": [],
   "source": [
    "plot_melbourne_map(locations_df, key_regions)"
   ]
  },
  {
   "cell_type": "markdown",
   "id": "550db262",
   "metadata": {
    "cell_marker": "\"\"\"",
    "lines_to_next_cell": 0
   },
   "source": [
    "Para observar con mayor detalle la zona metropolitana, se filtran las entradas\n",
    "de `region_location_df` y se incluye en el mapa la variable\n",
    "`housing_cbd_distance` que indica la distancia que una propiedad tiene al\n",
    "distrito central comercial. Se muestra que las viviendas más cerca al centro\n",
    "(valores de distancia cercanos a cero de color naranja claro), se encuentran en\n",
    "`Southern Metropolitan` donde también se encuentra la ciudad de Melbourne."
   ]
  },
  {
   "cell_type": "code",
   "execution_count": null,
   "id": "d755ae70",
   "metadata": {
    "lines_to_next_cell": 0
   },
   "outputs": [],
   "source": [
    "metropolitan_regions = [\n",
    "    region_name for region_name in key_regions\n",
    "    if region_name.endswith(\"METROPOLITAN\")\n",
    "]\n",
    "\n",
    "plot_melbourne_map(locations_df.join(melb_housing_df[\"housing_cbd_distance\"]),\n",
    "                   metropolitan_regions, \"housing_cbd_distance\")"
   ]
  },
  {
   "cell_type": "markdown",
   "id": "462087bd",
   "metadata": {
    "cell_marker": "\"\"\"",
    "lines_to_next_cell": 0
   },
   "source": [
    "También, se realizó otro mapa incluyendo a la variable `housing_price`, el cual\n",
    "muestra que los precios de vivienda más altos se localizan en las regiones de\n",
    "`Southern Metropolitan` y `Estearn Metropolitan`."
   ]
  },
  {
   "cell_type": "code",
   "execution_count": null,
   "id": "a9a6f9c4",
   "metadata": {
    "lines_to_next_cell": 0
   },
   "outputs": [],
   "source": [
    "plot_melbourne_map(locations_df.join(melb_housing_df[\"housing_price\"]),\n",
    "                   metropolitan_regions, \"housing_price\")"
   ]
  },
  {
   "cell_type": "markdown",
   "id": "0e24665b",
   "metadata": {
    "cell_marker": "\"\"\"",
    "lines_to_next_cell": 0
   },
   "source": [
    "Estas observaciones dejan en evidencia que la localización de las viviendas\n",
    "puede influir en el precio de las mismas. En este sentido, se decide incluir la\n",
    "variable `suburb_region_name` en futuros análisis. Respecto a la variable\n",
    "`housing_cbd_distance`, su mapa correspondiente muestra que los valores cercanos\n",
    "al centro se ubican en la región `Southern Metropolitan` y aumenta a medida que\n",
    "se aleja del mismo y cambia de región. Por lo tanto, a partir de conocer la\n",
    "región en la que se ubica una vivienda se puede inferir su valor de distancia y\n",
    "por ende `housing_cbd_distance` ofrecería información redundante. Entonces se\n",
    "decidió no incluirla en futuros análisis."
   ]
  },
  {
   "cell_type": "markdown",
   "id": "876e7fc3",
   "metadata": {
    "cell_marker": "\"\"\"",
    "lines_to_next_cell": 0
   },
   "source": [
    "Se puede ver que las regiones `Western Victoria`, `Eastern Victoria`, y\n",
    "`Northern Victoria` poseen una baja frecuencia. Por lo tanto, se procedió a\n",
    "agruparlos bajo una misma categoría, denominada `Victoria`."
   ]
  },
  {
   "cell_type": "code",
   "execution_count": null,
   "id": "e4f78197",
   "metadata": {
    "lines_to_next_cell": 0
   },
   "outputs": [],
   "source": [
    "(\n",
    "    melb_housing_df\n",
    "        .join(melb_suburb_df[\"suburb_region_name\"], on=\"suburb_id\")\n",
    "        .groupby(\"suburb_region_name\")\n",
    "        .size()\n",
    ")"
   ]
  },
  {
   "cell_type": "code",
   "execution_count": null,
   "id": "78f2100f",
   "metadata": {
    "lines_to_next_cell": 0
   },
   "outputs": [],
   "source": [
    "melb_suburb_df = melb_suburb_df.assign(\n",
    "    suburb_region_segment=melb_suburb_df[\"suburb_region_name\"].replace(\n",
    "        {\n",
    "            \"Western Victoria\": \"Victoria\",\n",
    "            \"Eastern Victoria\": \"Victoria\",\n",
    "            \"Northern Victoria\": \"Victoria\"\n",
    "        }))"
   ]
  },
  {
   "cell_type": "code",
   "execution_count": null,
   "id": "f7f016de",
   "metadata": {
    "lines_to_next_cell": 0
   },
   "outputs": [],
   "source": [
    "(\n",
    "    melb_housing_df\n",
    "        .join(melb_suburb_df[\"suburb_region_segment\"], on=\"suburb_id\")\n",
    "        .groupby(\"suburb_region_segment\")\n",
    "        .size()\n",
    ")"
   ]
  },
  {
   "cell_type": "code",
   "execution_count": null,
   "id": "dbc6e710",
   "metadata": {
    "lines_to_next_cell": 0
   },
   "outputs": [],
   "source": [
    "plt.figure(figsize=(8, 8))\n",
    "seaborn.boxenplot(data=melb_housing_df.join(\n",
    "    melb_suburb_df[\"suburb_region_segment\"], on=\"suburb_id\"),\n",
    "                  x=\"suburb_region_segment\",\n",
    "                  y=\"housing_price\")\n",
    "plt.ticklabel_format(style=\"plain\", axis=\"y\")\n",
    "plt.xticks(rotation=40)"
   ]
  },
  {
   "cell_type": "markdown",
   "id": "ebd30201",
   "metadata": {
    "cell_marker": "\"\"\"",
    "lines_to_next_cell": 0
   },
   "source": [
    "### Cantidad de propiedades por suburbio (`suburb_property_count`)"
   ]
  },
  {
   "cell_type": "code",
   "execution_count": null,
   "id": "c428b505",
   "metadata": {
    "lines_to_next_cell": 0
   },
   "outputs": [],
   "source": [
    "plot_melbourne_map(\n",
    "    (\n",
    "        locations_df\n",
    "            .join(melb_housing_df[\"suburb_id\"])\n",
    "            .join(melb_suburb_df[\"suburb_property_count\"], on=\"suburb_id\")\n",
    "    ),\n",
    "    metropolitan_regions, \"suburb_property_count\")"
   ]
  },
  {
   "cell_type": "markdown",
   "id": "d649631e",
   "metadata": {
    "cell_marker": "\"\"\"",
    "lines_to_next_cell": 0
   },
   "source": [
    "Se puede visualizar en los mapas anteriormente expuestos, que los suburbios que\n",
    "tienen mayor cantidad de propiedades, no necesariamente son los que mayores\n",
    "precios de venta tienen. Por ejemplo, en la región `SOUTHERN METROPOLITAN` se\n",
    "encuentran los precios más altos (color violeta más oscuro), sin embargo en esa\n",
    "región suburb_property_count presenta una mayor variabilidad. "
   ]
  },
  {
   "cell_type": "markdown",
   "id": "571415c1",
   "metadata": {
    "cell_marker": "\"\"\"",
    "lines_to_next_cell": 0
   },
   "source": [
    "### Departamento gubernamental (`suburb_council_area`)\n",
    "Analizando las medidas de tendencia central para las variables\n",
    "`suburb_council_area` y `housing_price` se observa que algunos departamentos\n",
    "tienen una única vivienda con precio y otros como `Boroondara` tiene más de 1000\n",
    "viviendas. Esto muestra la disparidad en la cantidad de ventas registradas en\n",
    "los diferentes departamentos. Dado que está variable brinda información similar\n",
    "a otras ya disponibles en el *dataset* no se la consideró relevante para estimar\n",
    "el precio, sin embargo, se la seleccionó para continuar con el resto de las\n",
    "consignas del entregable."
   ]
  },
  {
   "cell_type": "code",
   "execution_count": null,
   "id": "d10ec48b",
   "metadata": {
    "lines_to_next_cell": 0
   },
   "outputs": [],
   "source": [
    "(\n",
    "    melb_housing_df\n",
    "        .join(melb_suburb_df, on=\"suburb_id\")\n",
    "        .loc[:, \"suburb_council_area\"]\n",
    "        .value_counts()\n",
    ")"
   ]
  },
  {
   "cell_type": "markdown",
   "id": "b2ea1e39",
   "metadata": {
    "cell_marker": "\"\"\"",
    "lines_to_next_cell": 0
   },
   "source": [
    "### Fecha de venta (`housing_date_sold`)\n",
    "El tiempo en el que se vendió una propiedad puede ser relevante si se consideran\n",
    "variables como inflación o burbujas inmobiliarias durante el período de venta.\n",
    "Dado que el conjunto de datos corresponden a ventas efectuadas durante los años\n",
    "2016 y 2017, es importante saber como fluctuó el precio durante este intervalo.\n",
    "Por ende, se trabajó sobre esta variable convirtiendo inicialmente los datos en\n",
    "objetos `datetime`."
   ]
  },
  {
   "cell_type": "code",
   "execution_count": null,
   "id": "3e1b2917",
   "metadata": {
    "lines_to_next_cell": 0
   },
   "outputs": [],
   "source": [
    "melb_housing_df = melb_housing_df.assign(\n",
    "    housing_date_sold_datetime=pd.to_datetime(\n",
    "        melb_housing_df[\"housing_date_sold\"]))\n",
    "melb_housing_df[\"housing_date_sold_datetime\"]"
   ]
  },
  {
   "cell_type": "code",
   "execution_count": null,
   "id": "2f94e429",
   "metadata": {
    "lines_to_next_cell": 0
   },
   "outputs": [],
   "source": [
    "seaborn.lineplot(data=melb_housing_df,\n",
    "                 x=\"housing_date_sold_datetime\",\n",
    "                 y=\"housing_price\")\n",
    "plt.ticklabel_format(style=\"plain\", axis=\"y\")\n",
    "plt.xticks(rotation=45)"
   ]
  },
  {
   "cell_type": "markdown",
   "id": "d9dc5d53",
   "metadata": {
    "cell_marker": "\"\"\"",
    "lines_to_next_cell": 0
   },
   "source": [
    "No se observa una tendencia entre la fecha y el precio de venta. Las propiedades\n",
    "vendidas fluctúan entre los 800000 a 120000 con una alta variabilidad que se\n",
    "obtiene probablemente a que se están considerando no solo los años y meses, sino\n",
    "también el día de la venta, siendo esto quizás no tan relevante si se desea\n",
    "identificar un período donde se realizaron ventas de un alto valor."
   ]
  },
  {
   "cell_type": "code",
   "execution_count": null,
   "id": "2c87835e",
   "metadata": {
    "lines_to_next_cell": 0
   },
   "outputs": [],
   "source": [
    "melb_housing_df = melb_housing_df.assign(\n",
    "    housing_date_sold_datetime=pd.to_datetime(\n",
    "        melb_housing_df[\"housing_date_sold_datetime\"].dt.strftime(\"%Y-%m\")))\n",
    "\n",
    "seaborn.lineplot(data=melb_housing_df,\n",
    "                 x=\"housing_date_sold_datetime\",\n",
    "                 y=\"housing_price\")\n",
    "plt.ticklabel_format(style=\"plain\", axis=\"y\")\n",
    "plt.xticks(rotation=45)"
   ]
  },
  {
   "cell_type": "markdown",
   "id": "2436152c",
   "metadata": {
    "cell_marker": "\"\"\"",
    "lines_to_next_cell": 0
   },
   "source": [
    "Si nos quedamos solamente con el mes y año de venta, se observa una menor\n",
    "variabilidad pero aún así no se perciben una tendencia clara en las\n",
    "fluctuaciones del precio."
   ]
  },
  {
   "cell_type": "code",
   "execution_count": null,
   "id": "b03303b7",
   "metadata": {
    "lines_to_next_cell": 0
   },
   "outputs": [],
   "source": [
    "melb_housing_df = melb_housing_df.assign(\n",
    "    housing_date_sold_datetime=melb_housing_df[\"housing_date_sold_datetime\"].\n",
    "    dt.strftime(\"%Y-%m\"))\n",
    "\n",
    "plt.figure(figsize=(10, 10))\n",
    "seaborn.barplot(data=melb_housing_df,\n",
    "                x=\"housing_date_sold_datetime\",\n",
    "                y=\"housing_price\",\n",
    "                estimator=np.mean)\n",
    "plt.xticks(rotation=45)"
   ]
  },
  {
   "cell_type": "markdown",
   "id": "a2c848e0",
   "metadata": {
    "cell_marker": "\"\"\"",
    "lines_to_next_cell": 0
   },
   "source": [
    "Se puede observar que los precios de venta en promedio son similares en los\n",
    "diferentes meses. Por lo tanto, se cree que debido al bajo rango de fechas que\n",
    "posee este *dataset* esta variable no sería significativa para estimar el precio\n",
    "de venta de las propiedades. "
   ]
  },
  {
   "cell_type": "markdown",
   "id": "5b75adc1",
   "metadata": {
    "cell_marker": "\"\"\"",
    "lines_to_next_cell": 0
   },
   "source": [
    "### Año de construcción (`housing_year_built`)"
   ]
  },
  {
   "cell_type": "code",
   "execution_count": null,
   "id": "14f0a364",
   "metadata": {
    "lines_to_next_cell": 0
   },
   "outputs": [],
   "source": [
    "seaborn.boxenplot(data=melb_housing_df, x=\"housing_year_built\")"
   ]
  },
  {
   "cell_type": "markdown",
   "id": "326356e7",
   "metadata": {
    "cell_marker": "\"\"\"",
    "lines_to_next_cell": 0
   },
   "source": [
    "Se observa que los años de construcción de las viviendas se distribuyen entre\n",
    "los años 1800 y 2010, con excepción de una sola propiedad construida en el año\n",
    "1200. Dado que el objetivo es predecir el precio de venta de las viviendas, se\n",
    "consideró seleccionar el rango que abarca la mayor cantidad de ventas,\n",
    "eliminando el valor de vivienda construida en el 1200 por considerar que\n",
    "tiene una baja probabilidad de ocurrencia."
   ]
  },
  {
   "cell_type": "code",
   "execution_count": null,
   "id": "36d11cca",
   "metadata": {
    "lines_to_next_cell": 0
   },
   "outputs": [],
   "source": [
    "old_atypical_house = melb_housing_df[\n",
    "    melb_housing_df['housing_year_built'] < 1800]\n",
    "old_atypical_house"
   ]
  },
  {
   "cell_type": "code",
   "execution_count": null,
   "id": "b2068bff",
   "metadata": {
    "lines_to_next_cell": 0
   },
   "outputs": [],
   "source": [
    "melb_housing_df = melb_housing_df.drop(old_atypical_house.index)"
   ]
  },
  {
   "cell_type": "code",
   "execution_count": null,
   "id": "30950e1d",
   "metadata": {
    "lines_to_next_cell": 0
   },
   "outputs": [],
   "source": [
    "seaborn.lineplot(data=melb_housing_df,\n",
    "                 x=\"housing_year_built\",\n",
    "                 y='housing_price')"
   ]
  },
  {
   "cell_type": "markdown",
   "id": "fa5f17a1",
   "metadata": {
    "cell_marker": "\"\"\"",
    "lines_to_next_cell": 0
   },
   "source": [
    "Se observa que las viviendas más antiguas tienen precios de venta más altos en\n",
    "comparación con las propiedades más nuevas. El año de construcción junto a la\n",
    "fecha de venta dan información acerca de la antigüedad de la propiedad. Debido a\n",
    "que las ventas fueron realizadas en un lapso corto de tiempo (2 años), se\n",
    "decidió seleccionar únicamente la variable `housing_year_built`, ya que se podría\n",
    "obtener la misma información."
   ]
  },
  {
   "cell_type": "markdown",
   "id": "6ad122f4",
   "metadata": {
    "cell_marker": "\"\"\"",
    "lines_to_next_cell": 0
   },
   "source": [
    "### Variables seleccionadas\n",
    "\n",
    "En conclusión para continuar con el análisis, se procedió a seleccionar las\n",
    "siguientes variables:\n",
    "\n",
    "- Precio de venta (`housing_price`)\n",
    "- Cantidad de ambientes (`housing_room_segment`)\n",
    "- Cantidad de baños (`housing_bathroom_segment`)\n",
    "- Tamaño del terreno (`housing_land_size`)\n",
    "- Tamaño de la construcción (`housing_bulding_area`)\n",
    "- Tipo de vivienda (`housing_type`)\n",
    "- Año de construcción (`housing_year_built`)\n",
    "- Región (`suburb_region_segment`)\n",
    "- Departamento gubernamental (`suburb_council_area`)\n",
    "- Nombre de región (`suburb_name`)"
   ]
  },
  {
   "cell_type": "markdown",
   "id": "fc91f6c0",
   "metadata": {
    "cell_marker": "\"\"\"",
    "lines_to_next_cell": 0
   },
   "source": [
    "## Imputación"
   ]
  },
  {
   "cell_type": "markdown",
   "id": "d037f2b5",
   "metadata": {
    "cell_marker": "\"\"\"",
    "lines_to_next_cell": 0
   },
   "source": [
    "### Departamento gubernamental (`suburb_council_area`) "
   ]
  },
  {
   "cell_type": "markdown",
   "id": "e7c562cb",
   "metadata": {
    "cell_marker": "\"\"\"",
    "lines_to_next_cell": 0
   },
   "source": [
    "Recordemos que en la notebook `combine_airbnb_dataset.ipynb` se agruparon los\n",
    "departamentos gubernamentales a los cuales un suburbio pertenece lidiando así\n",
    "con algunas entradas que presentaban datos faltantes o diferían en\n",
    "`suburb_council_area` para un mismo suburbio. Sin embargo,\n",
    "quedaron 6 filas sin poder imputar y corresponden a los siguientes suburbios."
   ]
  },
  {
   "cell_type": "code",
   "execution_count": null,
   "id": "f9220ec7",
   "metadata": {
    "lines_to_next_cell": 0
   },
   "outputs": [],
   "source": [
    "melb_suburb_df[melb_suburb_df[\"suburb_council_area\"].isna()]"
   ]
  },
  {
   "cell_type": "markdown",
   "id": "eef94b93",
   "metadata": {
    "cell_marker": "\"\"\"",
    "lines_to_next_cell": 0
   },
   "source": [
    "Para asignar estos valores faltantes se buscaron los departamentos\n",
    "gubernamentales de tales suburbios a partir de una [fuente externa de códigos\n",
    "postales de Melbourne ](https://github.com/matthewproctor/australianpostcodes).\n",
    "\n",
    "- `Burnside`: Melton - Bacchus Marsh\n",
    "- `Attwood`: Hume\n",
    "- `Plumpton`: Melton - Bacchus Marsh\n",
    "- `New Gisborne`: Macedon Ranges\n",
    "- `Wallan`: Macedon Ranges\n",
    "- `Monbulk`: Yarra Ranges"
   ]
  },
  {
   "cell_type": "code",
   "execution_count": null,
   "id": "02a695d7",
   "metadata": {
    "lines_to_next_cell": 0
   },
   "outputs": [],
   "source": [
    "new_councils = {\n",
    "    \"Burnside\": \"Melton - Bacchus Marsh\",\n",
    "    \"Attwood\": \"Hume\",\n",
    "    \"Plumpton\": \"Melton - Bacchus Marsh\",\n",
    "    \"New Gisborne\": \"Macedon Ranges\",\n",
    "    \"Wallan\": \"Macedon Ranges\",\n",
    "    \"Monbulk\": \"Yarra Ranges\"\n",
    "}\n",
    "\n",
    "missing_suburbs = melb_suburb_df[\"suburb_name\"].isin(new_councils.keys())\n",
    "\n",
    "filled_suburbs = (\n",
    "    melb_suburb_df\n",
    "        .loc[missing_suburbs, \"suburb_name\"]\n",
    "        .apply(lambda suburb: [new_councils[suburb]])\n",
    ")\n",
    "\n",
    "melb_suburb_df.loc[missing_suburbs, \"suburb_council_area\"] = filled_suburbs\n",
    "melb_suburb_df[missing_suburbs]"
   ]
  },
  {
   "cell_type": "markdown",
   "id": "0bd1ca6e",
   "metadata": {
    "cell_marker": "\"\"\"",
    "lines_to_next_cell": 0
   },
   "source": [
    "### Columnas del dataset de AirBnB (`suburb_rental_dailyprice`)"
   ]
  },
  {
   "cell_type": "code",
   "execution_count": null,
   "id": "e0b0d45a",
   "metadata": {
    "lines_to_next_cell": 0
   },
   "outputs": [],
   "source": [
    "msno.bar(melb_suburb_df, figsize=(12, 6), fontsize=12, color='steelblue')"
   ]
  },
  {
   "cell_type": "code",
   "execution_count": null,
   "id": "2164d7cd",
   "metadata": {
    "lines_to_next_cell": 0
   },
   "outputs": [],
   "source": [
    "melb_suburb_df[\"suburb_rental_dailyprice\"].isna().sum()"
   ]
  },
  {
   "cell_type": "markdown",
   "id": "94c231da",
   "metadata": {
    "cell_marker": "\"\"\"",
    "lines_to_next_cell": 0
   },
   "source": [
    "Luego de efectuar la combinación con el *Dataset* de Airnb, nos quedaron 114\n",
    "valores nulos en la columna `suburb_rental_daylyprice`. A continuación se\n",
    "efectúa la imputación de dicha variable."
   ]
  },
  {
   "cell_type": "code",
   "execution_count": null,
   "id": "14005e18",
   "metadata": {
    "lines_to_next_cell": 0
   },
   "outputs": [],
   "source": [
    "melb_suburb_df[\"suburb_rental_dailyprice\"].describe()"
   ]
  },
  {
   "cell_type": "code",
   "execution_count": null,
   "id": "e3bf46c7",
   "metadata": {
    "lines_to_next_cell": 0
   },
   "outputs": [],
   "source": [
    "plt.figure(figsize=(8, 8))\n",
    "seaborn.boxenplot(data=melb_suburb_df, x=\"suburb_rental_dailyprice\")\n",
    "plt.ticklabel_format(style=\"plain\", axis=\"x\")"
   ]
  },
  {
   "cell_type": "markdown",
   "id": "b63263ba",
   "metadata": {
    "cell_marker": "\"\"\"",
    "lines_to_next_cell": 0
   },
   "source": [
    "Podemos ver que la distribución es bastante simétrica (la media y la mediana se\n",
    "encuentran en valores cercanos), por lo cual se imputó esta variable por su\n",
    "valor medio."
   ]
  },
  {
   "cell_type": "code",
   "execution_count": null,
   "id": "76a74cfd",
   "metadata": {
    "lines_to_next_cell": 0
   },
   "outputs": [],
   "source": [
    "melb_suburb_df[\"suburb_rental_dailyprice\"] = (\n",
    "    melb_suburb_df[\"suburb_rental_dailyprice\"]\n",
    "        .fillna(melb_suburb_df[\"suburb_rental_dailyprice\"].mean())\n",
    ")\n",
    "melb_suburb_df.suburb_rental_dailyprice.isna().sum()"
   ]
  },
  {
   "cell_type": "code",
   "execution_count": null,
   "id": "f2311fd9",
   "metadata": {
    "lines_to_next_cell": 0
   },
   "outputs": [],
   "source": [
    "msno.bar(melb_suburb_df, figsize=(12, 6), fontsize=12, color='steelblue')"
   ]
  },
  {
   "cell_type": "markdown",
   "id": "fe3d3e7a",
   "metadata": {
    "cell_marker": "\"\"\"",
    "lines_to_next_cell": 0
   },
   "source": [
    "Se observa que ya no existen valores faltantes en la columna\n",
    "`suburb_rental_dailyprice`. Para un análisis posterior, se cree que una\n",
    "imputación del tipo KNN nos podría dar mayor información sobre esta variable."
   ]
  },
  {
   "cell_type": "markdown",
   "id": "d1179ec2",
   "metadata": {
    "cell_marker": "\"\"\"",
    "lines_to_next_cell": 0
   },
   "source": [
    "### Creación del conjunto de datos\n",
    "A continuación, se procedió a remover las columnas no seleccionadas de\n",
    "`melb_suburb_df` y `melb_housing_df` y guardarlos en archivos `.csv`"
   ]
  },
  {
   "cell_type": "code",
   "execution_count": null,
   "id": "c4b21836",
   "metadata": {
    "lines_to_next_cell": 0
   },
   "outputs": [],
   "source": [
    "selected_housing_columns = [\n",
    "    \"housing_price\",\n",
    "    \"housing_room_segment\",\n",
    "    \"housing_bathroom_segment\",\n",
    "    \"housing_land_size\",\n",
    "    \"housing_building_area\",\n",
    "    \"housing_type\",\n",
    "    \"housing_year_built\",\n",
    "    \"suburb_id\"\n",
    "]\n",
    "selected_suburb_columns = [\n",
    "    \"suburb_name\",\n",
    "    \"suburb_region_segment\",\n",
    "    \"suburb_council_area\",\n",
    "    \"suburb_rental_dailyprice\"\n",
    "]\n",
    "\n",
    "melb_housing_filtered_df = melb_housing_df[selected_housing_columns]\n",
    "\n",
    "melb_suburb_filtered_df = melb_suburb_df[selected_suburb_columns]"
   ]
  },
  {
   "cell_type": "code",
   "execution_count": null,
   "id": "c7694230",
   "metadata": {
    "lines_to_next_cell": 0
   },
   "outputs": [],
   "source": [
    "melb_housing_filtered_df.to_csv(\"melb_housing_filtered_df.csv\", index=False)\n",
    "melb_suburb_filtered_df.to_csv(\"melb_suburb_filtered_df.csv\", index=False)"
   ]
  },
  {
   "cell_type": "code",
   "execution_count": null,
   "id": "82b970c5",
   "metadata": {},
   "outputs": [],
   "source": []
  }
 ],
 "metadata": {
  "jupytext": {
   "cell_markers": "\"\"\"",
   "cell_metadata_filter": "-all",
   "encoding": "# -*- coding: utf-8 -*-",
   "formats": "ipynb,py:percent"
  },
  "kernelspec": {
   "display_name": "Python 3",
   "language": "python",
   "name": "python3"
  }
 },
 "nbformat": 4,
 "nbformat_minor": 5
}
