{
 "cells": [
  {
   "cell_type": "markdown",
   "metadata": {
    "cell_marker": "\"\"\"",
    "lines_to_next_cell": 0
   },
   "source": [
    "# Diplomatura en Ciencias de Datos, Aprendizaje Automático y sus Aplicaciones\n",
    "\n",
    "Autores: Matías Oria, Antonela Sambuceti, Pamela Pairo, Benjamín Ocampo"
   ]
  },
  {
   "cell_type": "markdown",
   "metadata": {
    "cell_marker": "\"\"\"",
    "lines_to_next_cell": 0
   },
   "source": [
    "## Definición de constantes, funciones *helper*, y lectura del conjunto de datos\n",
    "\n",
    "Se trabajó sobre los *dataframes* `melb_suburb_df` y `melb_housing_df` que\n",
    "fueron obtenidos en `normalize_melbourne_dataset.ipynb` alojados en un\n",
    "servidor de la Universidad Nacional de Córdoba para facilitar su acceso\n",
    "remoto."
   ]
  },
  {
   "cell_type": "code",
   "execution_count": null,
   "metadata": {
    "lines_to_next_cell": 0
   },
   "outputs": [],
   "source": [
    "from typing import Tuple\n",
    "import pandas as pd\n",
    "import numpy as np\n",
    "import seaborn\n",
    "import matplotlib.pyplot as plt\n",
    "import geopandas as gpd\n",
    "import requests\n",
    "import missingno as msno\n",
    "\n",
    "\n",
    "def clean_outliers(df: pd.DataFrame,\n",
    "                   column_name: str) -> Tuple[pd.DataFrame, pd.DataFrame]:\n",
    "    \"\"\"\n",
    "    Filters out entries of @df that have in @column_name values which are 2.5\n",
    "    times standard deviations apart from the mean. Returns both, entries that\n",
    "    hold and miss the condition.\n",
    "    \"\"\"\n",
    "    col = df[column_name]\n",
    "    mask_outlier = np.abs(col - col.mean()) <= (2.5 * col.std())\n",
    "    return df[mask_outlier], df[~mask_outlier]\n",
    "\n",
    "\n",
    "def to_categorical(column: pd.Series, bin_size: int, min_cut: int,\n",
    "                   max_cut: int) -> pd.Series:\n",
    "    \"\"\"\n",
    "    Returns a pandas series where each value of @column is replaced by an\n",
    "    interval that contains it. Intervals are generated from @min_cut to @max_cut\n",
    "    and have size @bin_size.\n",
    "    \"\"\"\n",
    "    if min_cut is None:\n",
    "        min_cut = int(round(column.min())) - 1\n",
    "    value_max = int(np.ceil(column.max()))\n",
    "    max_cut = min(max_cut, value_max)\n",
    "    intervals = [(x, x + bin_size) for x in range(min_cut, max_cut, bin_size)]\n",
    "    if max_cut != value_max:\n",
    "        intervals.append((max_cut, value_max))\n",
    "    return pd.cut(column, pd.IntervalIndex.from_tuples(intervals))"
   ]
  },
  {
   "cell_type": "code",
   "execution_count": null,
   "metadata": {
    "lines_to_next_cell": 0
   },
   "outputs": [],
   "source": [
    "URL_MELB_HOUSING_DATA = \"https://www.famaf.unc.edu.ar/~nocampo043/melb_housing_df.csv\"\n",
    "URL_MELB_SUBURB_DATA = \"https://www.famaf.unc.edu.ar/~nocampo043/melb_suburb_df.csv\"\n",
    "\n",
    "melb_housing_df = pd.read_csv(URL_MELB_HOUSING_DATA)\n",
    "melb_suburb_df = pd.read_csv(URL_MELB_SUBURB_DATA)"
   ]
  },
  {
   "cell_type": "code",
   "execution_count": null,
   "metadata": {
    "lines_to_next_cell": 0
   },
   "outputs": [],
   "source": [
    "melb_suburb_df"
   ]
  },
  {
   "cell_type": "code",
   "execution_count": null,
   "metadata": {
    "lines_to_next_cell": 0
   },
   "outputs": [],
   "source": [
    "melb_housing_df"
   ]
  },
  {
   "cell_type": "markdown",
   "metadata": {
    "cell_marker": "\"\"\"",
    "lines_to_next_cell": 0
   },
   "source": [
    "## Elección de variables relevantes\n",
    "Dado que el objetivo es predecir el precio de venta de viviendas en Melbourne\n",
    "se procedió a analizar cuáles son las variables que influyen."
   ]
  },
  {
   "cell_type": "markdown",
   "metadata": {
    "cell_marker": "\"\"\"",
    "lines_to_next_cell": 0
   },
   "source": [
    "### Precio de venta (`housing_price`)"
   ]
  },
  {
   "cell_type": "code",
   "execution_count": null,
   "metadata": {
    "lines_to_next_cell": 0
   },
   "outputs": [],
   "source": [
    "plt.figure(figsize=(8, 8))\n",
    "seaborn.boxenplot(data=melb_housing_df, x=\"housing_price\")\n",
    "plt.ticklabel_format(style=\"plain\", axis=\"x\")"
   ]
  },
  {
   "cell_type": "markdown",
   "metadata": {
    "cell_marker": "\"\"\"",
    "lines_to_next_cell": 0
   },
   "source": [
    "Se observa la presencia de outliers en la variable `housing_price`, por encima\n",
    "de los 6 millones. Se decidió eliminar aquellos valores atípicos que se\n",
    "encuentran alejados de la media, más allá de 2.5 veces su desviación estandar.\n",
    "TODO: Explicar cuál es la razón de que se descarten estos valores."
   ]
  },
  {
   "cell_type": "code",
   "execution_count": null,
   "metadata": {
    "lines_to_next_cell": 0
   },
   "outputs": [],
   "source": [
    "melb_housing_df, melb_housing_outliers_df = clean_outliers(\n",
    "    melb_housing_df, \"housing_price\")"
   ]
  },
  {
   "cell_type": "code",
   "execution_count": null,
   "metadata": {
    "lines_to_next_cell": 0
   },
   "outputs": [],
   "source": [
    "melb_housing_df"
   ]
  },
  {
   "cell_type": "code",
   "execution_count": null,
   "metadata": {
    "lines_to_next_cell": 0
   },
   "outputs": [],
   "source": [
    "melb_housing_outliers_df"
   ]
  },
  {
   "cell_type": "markdown",
   "metadata": {
    "cell_marker": "\"\"\"",
    "lines_to_next_cell": 0
   },
   "source": [
    "A continuación, se analizaron las demás variables sin los *outliers* del precio\n",
    "de venta."
   ]
  },
  {
   "cell_type": "code",
   "execution_count": null,
   "metadata": {
    "lines_to_next_cell": 0
   },
   "outputs": [],
   "source": [
    "plt.figure(figsize=(8,8))\n",
    "seaborn.boxenplot(data=melb_housing_df, x=\"housing_price\")\n",
    "plt.ticklabel_format(style=\"plain\", axis=\"x\")"
   ]
  },
  {
   "cell_type": "markdown",
   "metadata": {
    "cell_marker": "\"\"\"",
    "lines_to_next_cell": 0
   },
   "source": [
    "### Dirección de las viviendas (`housing_address`)\n",
    "Si bien `housing_address` permite conocer la ubicación exacta de una\n",
    "propiedad, no brinda información sobre aspectos de calidad que motiven la\n",
    "variación del precio de una vivienda en Melbourne. Es un dato único que\n",
    "primero debería ser agrupado en zonas para argumentar algún análisis.\n",
    "Agrupamiento que ya es brindado en el conjunto de datos por medio de otras\n",
    "variables como el nombre del suburbio, departamento, o el código postal."
   ]
  },
  {
   "cell_type": "code",
   "execution_count": null,
   "metadata": {
    "lines_to_next_cell": 0
   },
   "outputs": [],
   "source": [
    "melb_housing_df[\"housing_address\"].value_counts()"
   ]
  },
  {
   "cell_type": "markdown",
   "metadata": {
    "cell_marker": "\"\"\"",
    "lines_to_next_cell": 0
   },
   "source": [
    "### Cantidad habitaciones (`housing_bedroom_count`)\n",
    "Dado que las variables `housing_bedroom_count`, `housing_room_count` están\n",
    "fuertemente correlacionadas se optó por conservar la última de estas porque\n",
    "`housing_bedroom_count` proveniene de otro *dataset*."
   ]
  },
  {
   "cell_type": "code",
   "execution_count": null,
   "metadata": {
    "lines_to_next_cell": 0
   },
   "outputs": [],
   "source": [
    "melb_housing_df[\n",
    "    [\"housing_bedroom_count\", \"housing_room_count\"]\n",
    "].corr()"
   ]
  },
  {
   "cell_type": "markdown",
   "metadata": {
    "cell_marker": "\"\"\"",
    "lines_to_next_cell": 0
   },
   "source": [
    "### Cantidad de ambientes (`housing_room_count`)"
   ]
  },
  {
   "cell_type": "code",
   "execution_count": null,
   "metadata": {
    "lines_to_next_cell": 0
   },
   "outputs": [],
   "source": [
    "melb_housing_df[[\"housing_room_count\"]].value_counts()"
   ]
  },
  {
   "cell_type": "markdown",
   "metadata": {
    "cell_marker": "\"\"\"",
    "lines_to_next_cell": 0
   },
   "source": [
    "Se puede observar que la cantidad de ambientes varían entre 1 a 4, siendo\n",
    "valores menos frecuentes aquellas que tienen 5 o más. Por ende, se decide\n",
    "agrupar esta categoría."
   ]
  },
  {
   "cell_type": "code",
   "execution_count": null,
   "metadata": {
    "lines_to_next_cell": 0
   },
   "outputs": [],
   "source": [
    "# Explicitly create a copy after adding the column to avoid chained indexes\n",
    "melb_housing_df = melb_housing_df.assign(housing_room_segment=to_categorical(\n",
    "    melb_housing_df[\"housing_room_count\"], bin_size=1, min_cut=None,\n",
    "    max_cut=4))"
   ]
  },
  {
   "cell_type": "code",
   "execution_count": null,
   "metadata": {
    "lines_to_next_cell": 0
   },
   "outputs": [],
   "source": [
    "plt.figure(figsize=(16, 8))\n",
    "seaborn.boxplot(x=\"housing_room_segment\",\n",
    "                y=\"housing_price\",\n",
    "                data=melb_housing_df)\n",
    "plt.ylabel(\"Precio de la vivienda\")\n",
    "plt.xlabel(\"Cantidad de ambientes\")\n",
    "plt.ticklabel_format(style='plain', axis='y')"
   ]
  },
  {
   "cell_type": "markdown",
   "metadata": {
    "cell_marker": "\"\"\"",
    "lines_to_next_cell": 0
   },
   "source": [
    "Luego del análisis individual de la cantidad de ambientes, se puede observar\n",
    "que existe un aumento de la mediana del precio de venta y su variabilidad."
   ]
  },
  {
   "cell_type": "markdown",
   "metadata": {
    "cell_marker": "\"\"\"",
    "lines_to_next_cell": 0
   },
   "source": [
    "### Cantidad de baños (`housing_bathroom`)\n",
    "\n",
    "La cantidad de baños de las viviendas vendidas se encuentran en su mayoría\n",
    "entre 1 y 3 siendo valores más atípicos las que superan este rango. Por otro\n",
    "lado, se encuentran propiedades con una cantidad de 0 baños lo cual resulta\n",
    "peculiar recordando que los tipos de hogares en venta son casas, dúplex, y\n",
    "casas adosadas."
   ]
  },
  {
   "cell_type": "code",
   "execution_count": null,
   "metadata": {
    "lines_to_next_cell": 0
   },
   "outputs": [],
   "source": [
    "melb_housing_df[[\"housing_bathroom_count\"]].value_counts()"
   ]
  },
  {
   "cell_type": "markdown",
   "metadata": {
    "cell_marker": "\"\"\"",
    "lines_to_next_cell": 0
   },
   "source": [
    "A continuación, se procedió a reemplazar estos valores por el más frecuente\n",
    "dado que se considera que no puede haber una propiedad sin baño."
   ]
  },
  {
   "cell_type": "code",
   "execution_count": null,
   "metadata": {
    "lines_to_next_cell": 0
   },
   "outputs": [],
   "source": [
    "min_bathroom_count = 1\n",
    "lt_one_bathroom = melb_housing_df[\"housing_bathroom_count\"] < min_bathroom_count\n",
    "melb_housing_df.loc[lt_one_bathroom, \"housing_bathroom_count\"] = 1"
   ]
  },
  {
   "cell_type": "markdown",
   "metadata": {
    "cell_marker": "\"\"\"",
    "lines_to_next_cell": 0
   },
   "source": [
    "Ahora bien, para aquellas viviendas que presenten entre 3 a más baños se\n",
    "agruparán en una sola categoría con el fin de asegurar que los grupos 1, 2,\n",
    "y 3 o más baños, presenten una cantidad mínima de registros."
   ]
  },
  {
   "cell_type": "code",
   "execution_count": null,
   "metadata": {
    "lines_to_next_cell": 0
   },
   "outputs": [],
   "source": [
    "melb_housing_df = melb_housing_df.assign(\n",
    "    housing_bathroom_segment=to_categorical(\n",
    "        melb_housing_df[\"housing_bathroom_count\"],\n",
    "        bin_size=1,\n",
    "        min_cut=None,\n",
    "        max_cut=2))"
   ]
  },
  {
   "cell_type": "code",
   "execution_count": null,
   "metadata": {
    "lines_to_next_cell": 0
   },
   "outputs": [],
   "source": [
    "seaborn.catplot(data=melb_housing_df,\n",
    "                y=\"housing_price\",\n",
    "                x=\"housing_bathroom_segment\",\n",
    "                height=4,\n",
    "                aspect=2)"
   ]
  },
  {
   "cell_type": "markdown",
   "metadata": {
    "cell_marker": "\"\"\"",
    "lines_to_next_cell": 0
   },
   "source": [
    "Se puede observar una disminución en el rango de precios medida que aumenta la\n",
    "cantidad de baños. Si bien el precio máximo es similar, el mínimo aumenta para\n",
    "cada categoría."
   ]
  },
  {
   "cell_type": "markdown",
   "metadata": {
    "cell_marker": "\"\"\"",
    "lines_to_next_cell": 0
   },
   "source": [
    "### Cantidad de garages (`housing_garage_count`)"
   ]
  },
  {
   "cell_type": "code",
   "execution_count": null,
   "metadata": {
    "lines_to_next_cell": 0
   },
   "outputs": [],
   "source": [
    "melb_housing_df[\"housing_garage_count\"].value_counts()"
   ]
  },
  {
   "cell_type": "code",
   "execution_count": null,
   "metadata": {
    "lines_to_next_cell": 0
   },
   "outputs": [],
   "source": [
    "melb_housing_df = melb_housing_df.assign(housing_garage_segment=to_categorical(\n",
    "    melb_housing_df[\"housing_garage_count\"],\n",
    "    bin_size=1,\n",
    "    min_cut=None,\n",
    "    max_cut=2))"
   ]
  },
  {
   "cell_type": "code",
   "execution_count": null,
   "metadata": {
    "lines_to_next_cell": 0
   },
   "outputs": [],
   "source": [
    "plt.figure(figsize=(16, 8))\n",
    "seaborn.boxplot(x=\"housing_garage_segment\",\n",
    "                y=\"housing_price\",\n",
    "                data=melb_housing_df)\n",
    "plt.ylabel(\"Precio de la vivienda\")\n",
    "plt.xlabel(\"Cantidad de garages\")\n",
    "plt.ticklabel_format(style='plain', axis='y')"
   ]
  },
  {
   "cell_type": "markdown",
   "metadata": {
    "cell_marker": "\"\"\"",
    "lines_to_next_cell": 0
   },
   "source": [
    "A excepción de las viviendas con un garage, el resto de categorías pareciera\n",
    "que se comportan de manera similar ante la variable precio, por lo tanto se\n",
    "decidió no seleccionar `housing_garage_count`.\n",
    "TODO: Verlo con Aldana. ¿Decidir sacarla? ¿Como tomar la decisión de descartarlo?"
   ]
  },
  {
   "cell_type": "markdown",
   "metadata": {
    "cell_marker": "\"\"\"",
    "lines_to_next_cell": 0
   },
   "source": [
    "### Tamaño de terreno (`housing_land_size`)"
   ]
  },
  {
   "cell_type": "code",
   "execution_count": null,
   "metadata": {
    "lines_to_next_cell": 0
   },
   "outputs": [],
   "source": [
    "seaborn.pairplot(data=melb_housing_df.sample(2500),\n",
    "                 y_vars=\"housing_price\",\n",
    "                 x_vars=\"housing_land_size\",\n",
    "                 aspect=2,\n",
    "                 height=4)"
   ]
  },
  {
   "cell_type": "markdown",
   "metadata": {
    "cell_marker": "\"\"\"",
    "lines_to_next_cell": 0
   },
   "source": [
    "TODO: Verlo con Aldana. ¿Decidir sacarla? ¿Como tomar la decisión de descartarlo?"
   ]
  },
  {
   "cell_type": "markdown",
   "metadata": {
    "cell_marker": "\"\"\"",
    "lines_to_next_cell": 0
   },
   "source": [
    "## Área de construcción (`housing_building_area`)\n",
    "Se considera que esta variable es importante para predecir el precio, por ende\n",
    "se procedió a imputar sus valores faltantes en una sección posterior."
   ]
  },
  {
   "cell_type": "code",
   "execution_count": null,
   "metadata": {
    "lines_to_next_cell": 0
   },
   "outputs": [],
   "source": [
    "msno.bar(melb_housing_df[[\"housing_price\", \"housing_building_area\"]],\n",
    "         figsize=(12, 6),\n",
    "         fontsize=12)"
   ]
  },
  {
   "cell_type": "markdown",
   "metadata": {
    "cell_marker": "\"\"\"",
    "lines_to_next_cell": 0
   },
   "source": [
    "### Tipo de vivienda (`housing_type`)\n",
    "Significado de cada categoría:\n",
    "\n",
    "- `h`: Casa.\n",
    "\n",
    "- `u`: Unidad, dúplex.\n",
    "\n",
    "- `t`: Casa adosada."
   ]
  },
  {
   "cell_type": "code",
   "execution_count": null,
   "metadata": {
    "lines_to_next_cell": 0
   },
   "outputs": [],
   "source": [
    "(\n",
    "    melb_housing_df[[\"housing_type\", \"housing_price\"]]\n",
    "        .groupby(\"housing_type\")\n",
    "        .describe()\n",
    "        .round(2)\n",
    ")"
   ]
  },
  {
   "cell_type": "code",
   "execution_count": null,
   "metadata": {
    "lines_to_next_cell": 0
   },
   "outputs": [],
   "source": [
    "plt.figure(figsize=(8,8))\n",
    "seaborn.boxenplot(data=melb_housing_df, x=\"housing_price\", y=\"housing_type\")\n",
    "plt.ticklabel_format(style=\"plain\", axis=\"x\")"
   ]
  },
  {
   "cell_type": "markdown",
   "metadata": {
    "cell_marker": "\"\"\"",
    "lines_to_next_cell": 0
   },
   "source": [
    "Se observa que la variable tipo de vivienda, tiene influencia en el precio de la\n",
    "propiedad.\n",
    "\n",
    "- Para el tipo `h`, es decir casa, el precio medio se encuentra en valores\n",
    "  cercanos a 1,2 millones. Estando el rango intercuartil comprendido entre los\n",
    "  780 mil y 1,4 millones. Se observa que los valores máximos son superiores a\n",
    "  los 2,5 millones.\n",
    "\n",
    "- Para el caso de `u`, es decir duplex, el precio medio se encuentra en valores\n",
    "  cercanos a los 600 mil. Estando el rango intercuartil comprendido entre los\n",
    "  400 mil y 700 mil. Se observa que los valores máximos son superiores a los\n",
    "  2,5 millones.\n",
    "\n",
    "- Para el caso de `t`, es decir casa adosada, el precio medio se encuentra en\n",
    "  valores un poco superiores a los 900 mil. Estando el rango intercuartil\n",
    "  comprendido entre los 670 mil y 1,1 millones. Se observa que los valores\n",
    "  máximos llegan también a casi 2,5 millones."
   ]
  },
  {
   "cell_type": "markdown",
   "metadata": {
    "cell_marker": "\"\"\"",
    "lines_to_next_cell": 0
   },
   "source": [
    "Visualizando los valores extremos del precio en función de esta variable se\n",
    "obtiene.\n",
    "TODO: Cuando eliminar outliers? que análisis se hacen para quitarlos?"
   ]
  },
  {
   "cell_type": "code",
   "execution_count": null,
   "metadata": {
    "lines_to_next_cell": 0
   },
   "outputs": [],
   "source": [
    "(\n",
    "    melb_housing_outliers_df[[\"housing_type\", \"housing_price\"]]\n",
    "        .groupby(\"housing_type\")\n",
    "        .describe()\n",
    "        .round(2)\n",
    ")"
   ]
  },
  {
   "cell_type": "code",
   "execution_count": null,
   "metadata": {
    "lines_to_next_cell": 0
   },
   "outputs": [],
   "source": [
    "plt.figure(figsize=(8,8))\n",
    "seaborn.boxenplot(data=melb_housing_outliers_df,\n",
    "                  x=\"housing_price\",\n",
    "                  y=\"housing_type\")\n",
    "plt.ticklabel_format(style=\"plain\", axis=\"x\")"
   ]
  },
  {
   "cell_type": "markdown",
   "metadata": {
    "cell_marker": "\"\"\"",
    "lines_to_next_cell": 0
   },
   "source": [
    "Se observa que dentro de los outliers se están eliminando en mayor cantidad\n",
    "casas con precios comprendidos entre los 3 millones y los 9 millones."
   ]
  },
  {
   "cell_type": "markdown",
   "metadata": {
    "cell_marker": "\"\"\"",
    "lines_to_next_cell": 0
   },
   "source": [
    "### Método de venta (`housing_selling_method`)\n",
    "Significado de cada método:\n",
    "- `PI` - Propiedad transferida.\n",
    "- `S`  - Propiedad vendida.\n",
    "- `SA` - Vendido después de subasta.\n",
    "- `SP` - Propiedad vendida antes.\n",
    "- `VB` - Oferta del proveedor."
   ]
  },
  {
   "cell_type": "code",
   "execution_count": null,
   "metadata": {
    "lines_to_next_cell": 0
   },
   "outputs": [],
   "source": [
    "(\n",
    "    melb_housing_df[[\"housing_selling_method\", \"housing_price\"]]\n",
    "        .groupby(\"housing_selling_method\")\n",
    "        .describe()\n",
    "        .round(2)\n",
    ")"
   ]
  },
  {
   "cell_type": "code",
   "execution_count": null,
   "metadata": {
    "lines_to_next_cell": 0
   },
   "outputs": [],
   "source": [
    "plt.figure(figsize=(8,8))\n",
    "seaborn.boxenplot(data=melb_housing_df,\n",
    "                  x=\"housing_price\",\n",
    "                  y=\"housing_selling_method\")\n",
    "plt.ticklabel_format(style=\"plain\", axis=\"x\")"
   ]
  },
  {
   "cell_type": "code",
   "execution_count": null,
   "metadata": {
    "lines_to_next_cell": 0
   },
   "outputs": [],
   "source": [
    "types = melb_housing_df[\"housing_type\"].unique()\n",
    "fig, axes = plt.subplots(3, figsize=(12,12))\n",
    "\n",
    "for ax, type in zip(axes, types):\n",
    "    houses_by_type_df = melb_housing_df[\n",
    "        melb_housing_df[\"housing_type\"] == type\n",
    "    ]\n",
    "    seaborn.boxenplot(ax=ax,\n",
    "                      data=houses_by_type_df,\n",
    "                      x=\"housing_price\",\n",
    "                      y=\"housing_selling_method\")\n",
    "    ax.ticklabel_format(style=\"plain\", axis=\"x\")"
   ]
  },
  {
   "cell_type": "markdown",
   "metadata": {
    "cell_marker": "\"\"\"",
    "lines_to_next_cell": 0
   },
   "source": [
    "Se observa que la distribución de la variable `housing_price` es similar en\n",
    "cada método de venta. Los valores medios están cercanos al millón\n",
    "extendiéndose hasta valores máximos cercanos a los 2,5 millones. El método de\n",
    "venta `SA`, correspondiente a “vendido después de la subasta”, parece ser el\n",
    "más diferente. No obstante, se observa que son pocos los casos comprendidos en\n",
    "esta categoría (menos de 100), por lo cual la baja frecuencia podría\n",
    "justificar su disparidad con el resto.\n",
    "\n",
    "Consideramos no seleccionar el método venta para un siguiente análisis."
   ]
  },
  {
   "cell_type": "markdown",
   "metadata": {
    "cell_marker": "\"\"\"",
    "lines_to_next_cell": 0
   },
   "source": [
    "### Agencia de ventas (`housing_seller_agency`)"
   ]
  },
  {
   "cell_type": "code",
   "execution_count": null,
   "metadata": {
    "lines_to_next_cell": 0
   },
   "outputs": [],
   "source": [
    "melb_housing_df[\"housing_seller_agency\"].value_counts()"
   ]
  },
  {
   "cell_type": "markdown",
   "metadata": {
    "cell_marker": "\"\"\"",
    "lines_to_next_cell": 0
   },
   "source": [
    "Existen 266 vendedores que efectúan las transacciones de las viviendas. A\n",
    "continuación, se calcula si existe concentración de movimientos en alguno de\n",
    "ellos."
   ]
  },
  {
   "cell_type": "code",
   "execution_count": null,
   "metadata": {
    "lines_to_next_cell": 0
   },
   "outputs": [],
   "source": [
    "best_sellers_df = (\n",
    "    melb_housing_df[[\"housing_seller_agency\", \"housing_price\"]]\n",
    "        .groupby(\"housing_seller_agency\")\n",
    "        .agg(sales_count=(\"housing_seller_agency\", \"count\"),\n",
    "             sales_percentage=(\"housing_seller_agency\",\n",
    "                                lambda sales: 100 * len(sales) / len(melb_housing_df)))\n",
    "        .sort_values(by=\"sales_count\", ascending=False)\n",
    "        .head(20)\n",
    ")"
   ]
  },
  {
   "cell_type": "code",
   "execution_count": null,
   "metadata": {
    "lines_to_next_cell": 0
   },
   "outputs": [],
   "source": [
    "best_sellers_df.sum()"
   ]
  },
  {
   "cell_type": "code",
   "execution_count": null,
   "metadata": {
    "lines_to_next_cell": 0
   },
   "outputs": [],
   "source": [
    "fig = plt.figure(figsize=(12, 12))\n",
    "seaborn.barplot(\n",
    "    data=melb_housing_df[melb_housing_df[\"housing_seller_agency\"].isin(\n",
    "        best_sellers_df.index)],\n",
    "    x=\"housing_seller_agency\",\n",
    "    y=\"housing_price\",\n",
    "    estimator=np.mean)\n",
    "plt.xlabel(\"Agencia de ventas\")\n",
    "plt.ylabel(\"Precio promedio de ventas\")\n",
    "plt.xticks(rotation=90)\n",
    "plt.ticklabel_format(style=\"plain\", axis=\"y\")"
   ]
  },
  {
   "cell_type": "markdown",
   "metadata": {
    "cell_marker": "\"\"\"",
    "lines_to_next_cell": 0
   },
   "source": [
    "Se puede observar que algunos vendedores en promedio han vendido casas a\n",
    "precios más altos que otros, por ejemplo el vendedor `Marshall` sobresale por\n",
    "el resto con un precio medio de venta de 1,5 millones. Sin embargo, no se\n",
    "puede asegurar que el mayor precio de la venta sea por una mejor gestión del\n",
    "vendedor y no por otro tipo de variable, como ser el tipo de casa, la\n",
    "ubicación o bien su tamaño o composición. Por lo tanto tampoco se decidió\n",
    "seleccionarla."
   ]
  },
  {
   "cell_type": "markdown",
   "metadata": {
    "cell_marker": "\"\"\"",
    "lines_to_next_cell": 0
   },
   "source": [
    "### Región y distancia al distrito central comercial (`housing_region_name`, y `housing_cbd_distance`)\n",
    "Para analizar las medidas de tendencia central del precio de las viviendas por\n",
    "región se realizó un boxplot como se muestra a continuación."
   ]
  },
  {
   "cell_type": "code",
   "execution_count": null,
   "metadata": {
    "lines_to_next_cell": 0
   },
   "outputs": [],
   "source": [
    "plt.figure(figsize=(16, 8))\n",
    "seaborn.boxplot(x=\"suburb_region_name\",\n",
    "                y=\"housing_price\",\n",
    "                palette=\"Set2\",\n",
    "                data=melb_housing_df.join(melb_suburb_df, on=\"suburb_id\"))\n",
    "plt.xticks(rotation=40)\n",
    "plt.ylabel(\"Precio de venta\")\n",
    "plt.xlabel(\"Región\")\n",
    "plt.ticklabel_format(style=\"plain\", axis=\"y\")"
   ]
  },
  {
   "cell_type": "markdown",
   "metadata": {
    "cell_marker": "\"\"\"",
    "lines_to_next_cell": 0
   },
   "source": [
    "`Southern Metropolitan` es la región con la media más alta en el precio de\n",
    "viviendas. `Northern Metropolitan`, `Western Motropolitan`, y `South-Eastern\n",
    "Metropolitan` parecieran seguir un comportamiento similar. De la misma manera\n",
    "ocurre con `Eastern Victoria`, `Northern Victoria`, y `Western Victoria`."
   ]
  },
  {
   "cell_type": "markdown",
   "metadata": {
    "cell_marker": "\"\"\"",
    "lines_to_next_cell": 0
   },
   "source": [
    "La siguiente tabla muestra que `Southern Metropolitan` es la región en donde se\n",
    "registró una mayor cantidad de ventas de viviendas (4377) a diferencia de\n",
    "`Eastern Victoria`, `Northern Victoria` y `Western Victoria` que muestran menos de\n",
    "100."
   ]
  },
  {
   "cell_type": "code",
   "execution_count": null,
   "metadata": {
    "lines_to_next_cell": 0
   },
   "outputs": [],
   "source": [
    "(\n",
    "    melb_housing_df\n",
    "        .join(melb_suburb_df, on=\"suburb_id\")\n",
    "        .loc[:, \"suburb_region_name\"]\n",
    "        .value_counts()\n",
    ")"
   ]
  },
  {
   "cell_type": "markdown",
   "metadata": {
    "cell_marker": "\"\"\"",
    "lines_to_next_cell": 0
   },
   "source": [
    "## Geolocalización de propiedades por región\n",
    "El objetivo es ver la geolocalización de los datos en las diferentes regiones\n",
    "del Territorio de Victoria, Australia. A continuación, se muestra una\n",
    "imagen extraída de Wikipedia.\n",
    "\n",
    "<img src=\"../graphs/melbourne_by_region.png\" alt=\"melbourne by region\">\n",
    "\n",
    "Se utilizó el servicio de [wfs de geoserver](https://data.gov.au/geoserver)\n",
    "donde se obtiene una representación geométrica de las regiones."
   ]
  },
  {
   "cell_type": "code",
   "execution_count": null,
   "metadata": {
    "lines_to_next_cell": 0
   },
   "outputs": [],
   "source": [
    "geoserver = \"https://data.gov.au/geoserver\"\n",
    "route = \"vic-state-electoral-boundaries-psma-administrative-boundaries\"\n",
    "service = \"wfs\"\n",
    "\n",
    "wfsurl = f\"{geoserver}/{route}/{service}\"\n",
    "\n",
    "params = dict(service=\"WFS\",\n",
    "              version=\"2.0.0\",\n",
    "              request=\"GetFeature\",\n",
    "              typeName=(route + \":ckan_a0d8838b_2423_4c8b_a7d9_b04eb240a2b1\"),\n",
    "              outputFormat=\"json\")\n",
    "\n",
    "region_location_df = gpd.GeoDataFrame.from_features(\n",
    "    requests.get(wfsurl, params=params).json()).set_crs(\"EPSG:3110\")\n",
    "\n",
    "region_location_df.head()"
   ]
  },
  {
   "cell_type": "markdown",
   "metadata": {
    "cell_marker": "\"\"\"",
    "lines_to_next_cell": 0
   },
   "source": [
    "De este *dataframe* se obtiene información correspondiente a las divisiones\n",
    "gubernamentales de Melbourne. En particular, la columna `vic_stat_2` es\n",
    "aquella que contiene los nombres de regiones, y `geometry` su representación\n",
    "geométrica limítrofe. La proyección sobre las zonas de Melbourne es dada por\n",
    "el método `set_crs` que establece coordenadas arbitrarias del espacio en una\n",
    "ubicación particular del planeta. Sin embargo, hay varias zonas que se\n",
    "muestran en los alrededores de Melbourne, por ende, se filtran por aquellas\n",
    "que correspondan a las que se tiene registro en el conjunto de datos inicial."
   ]
  },
  {
   "cell_type": "code",
   "execution_count": null,
   "metadata": {
    "lines_to_next_cell": 0
   },
   "outputs": [],
   "source": [
    "key_regions = [\n",
    "    region.upper() for region in melb_suburb_df[\"suburb_region_name\"].unique()\n",
    "]\n",
    "\n",
    "region_location_df = region_location_df[[\"vic_stat_2\", \"geometry\"]]\n",
    "only_key_regions = region_location_df[\"vic_stat_2\"].isin(key_regions)\n",
    "\n",
    "region_location_df = (\n",
    "    region_location_df[only_key_regions]\n",
    "        .dissolve(by=\"vic_stat_2\")\n",
    "        .reset_index()\n",
    ")\n",
    "region_location_df"
   ]
  },
  {
   "cell_type": "markdown",
   "metadata": {
    "cell_marker": "\"\"\"",
    "lines_to_next_cell": 0
   },
   "source": [
    "De manera similar, se necesita convertir las coordenadas de las propiedades\n",
    "vendidas en puntos geométricos de GeoPandas para ser graficados junto a las\n",
    "zonas recolectadas. En particular, en este caso serán representados como un\n",
    "objeto `POINT`. El *dataframe* subyacente es el siguiente:"
   ]
  },
  {
   "cell_type": "code",
   "execution_count": null,
   "metadata": {
    "lines_to_next_cell": 0
   },
   "outputs": [],
   "source": [
    "house_location_cols = [\n",
    "    \"housing_cbd_distance\", \"housing_lattitude\", \"housing_longitude\"\n",
    "]\n",
    "suburb_location_cols = [\"suburb_region_name\", \"suburb_property_count\"]\n",
    "\n",
    "house_location_df = (\n",
    "    melb_housing_df[house_location_cols + [\"housing_price\", \"suburb_id\"]]\n",
    "        .join(melb_suburb_df[suburb_location_cols], on=\"suburb_id\"))\n",
    "\n",
    "house_location_df = gpd.GeoDataFrame(\n",
    "    house_location_df,\n",
    "    geometry=gpd.points_from_xy(\n",
    "        house_location_df[\"housing_longitude\"],\n",
    "        house_location_df[\"housing_lattitude\"])).set_crs(\"EPSG:3110\")\n",
    "\n",
    "house_location_df.head()"
   ]
  },
  {
   "cell_type": "markdown",
   "metadata": {
    "cell_marker": "\"\"\"",
    "lines_to_next_cell": 0
   },
   "source": [
    "Finalmente, se procede a graficar las zonas limítrofes de Melbourne\n",
    "superponiendo las ubicaciones de las viviendas. El mapa muestra que la mayoría\n",
    "de las ventas (en color rojo) se concentran en la región Metropolitana\n",
    "(`South-Eastern Metropolitan`, `Southern Metropolitan`, `Western Metropolitan`\n",
    "y `Northern Metropolitan`)."
   ]
  },
  {
   "cell_type": "code",
   "execution_count": null,
   "metadata": {
    "lines_to_next_cell": 0
   },
   "outputs": [],
   "source": [
    "background = region_location_df.plot(column=\"vic_stat_2\",\n",
    "                                     edgecolor=\"black\",\n",
    "                                     figsize=(15, 15),\n",
    "                                     legend=True)\n",
    "\n",
    "properties = house_location_df.plot(ax=background, marker=\"o\", color=\"red\")\n",
    "background.set(title=\"Regiones del Territorio de Victoria, Australia\")\n",
    "plt.ylabel(\"Latitude\")\n",
    "plt.xlabel(\"Longitude\")"
   ]
  },
  {
   "cell_type": "markdown",
   "metadata": {
    "cell_marker": "\"\"\"",
    "lines_to_next_cell": 0
   },
   "source": [
    "Para observar con mayor detalle la zona metropolitana, se filtran las entradas\n",
    "de `region_location_df` y se incluye en el mapa la variable\n",
    "`housing_cbd_distance` que indica la distancia que una propiedad tiene al\n",
    "distrito central comercial. Se muestra que las viviendas más cerca al centro\n",
    "(valores de distancia cercanos a cero de color naranja claro), se encuentran\n",
    "en `Southern Metropolitan` donde también se encuentra la ciudad de Melbourne."
   ]
  },
  {
   "cell_type": "code",
   "execution_count": null,
   "metadata": {
    "lines_to_next_cell": 0
   },
   "outputs": [],
   "source": [
    "metropolitan_regions = [\n",
    "    region_name for region_name in key_regions\n",
    "    if region_name.endswith(\"METROPOLITAN\")\n",
    "]\n",
    "\n",
    "only_metropolitan = (\n",
    "    region_location_df[\"vic_stat_2\"].isin(metropolitan_regions))\n",
    "region_location_df = region_location_df[only_metropolitan]"
   ]
  },
  {
   "cell_type": "code",
   "execution_count": null,
   "metadata": {
    "lines_to_next_cell": 0
   },
   "outputs": [],
   "source": [
    "cmap = seaborn.color_palette(\"flare\", as_cmap=True)\n",
    "\n",
    "background = region_location_df.plot(column=\"vic_stat_2\",\n",
    "                                     edgecolor=\"black\",\n",
    "                                     figsize=(11, 11),\n",
    "                                     legend=True)\n",
    "properties = house_location_df.plot(ax=background,\n",
    "                                    marker=\"o\",\n",
    "                                    markersize=3,\n",
    "                                    column=\"housing_cbd_distance\",\n",
    "                                    cmap=cmap)\n",
    "\n",
    "background.set(title=\"Área Metropolitana- Victoria, Australia\")\n",
    "\n",
    "plt.ylabel(\"Latitude\")\n",
    "plt.xlabel(\"Longitude\")\n",
    "\n",
    "fig = properties.get_figure()\n",
    "\n",
    "cbax = fig.add_axes([0.95, 0.2, 0.04, 0.60])\n",
    "cbax.set_title(\"Distancia al centro\")\n",
    "\n",
    "sm = plt.cm.ScalarMappable(\n",
    "    cmap=cmap,\n",
    "    norm=plt.Normalize(vmin=min(house_location_df[\"housing_cbd_distance\"]),\n",
    "                       vmax=max(house_location_df[\"housing_cbd_distance\"])))\n",
    "fig.colorbar(sm, cax=cbax, format=\"%d\")"
   ]
  },
  {
   "cell_type": "markdown",
   "metadata": {
    "cell_marker": "\"\"\"",
    "lines_to_next_cell": 0
   },
   "source": [
    "También, se realizó otro mapa incluyendo a la variable `housing_price`, el\n",
    "cual muestra que los precios de vivienda más altos se localizan en las\n",
    "regiones de `Southern Metropolitan` y `Estearn Metropolitan`.\n",
    "TODO: Se repite el código del gráfico. Capaz se podría hacer una función."
   ]
  },
  {
   "cell_type": "code",
   "execution_count": null,
   "metadata": {
    "lines_to_next_cell": 0
   },
   "outputs": [],
   "source": [
    "cmap = seaborn.color_palette(\"flare\", as_cmap=True)\n",
    "\n",
    "background = region_location_df.plot(column=\"vic_stat_2\",\n",
    "                                     edgecolor=\"black\",\n",
    "                                     figsize=(11, 11),\n",
    "                                     legend=True)\n",
    "properties = house_location_df.plot(ax=background,\n",
    "                                    marker=\"o\",\n",
    "                                    markersize=3,\n",
    "                                    column=\"housing_price\",\n",
    "                                    cmap=cmap)\n",
    "\n",
    "background.set(title=\"Área Metropolitana- Victoria, Australia\")\n",
    "\n",
    "plt.ylabel(\"Latitude\")\n",
    "plt.xlabel(\"Longitude\")\n",
    "\n",
    "fig = properties.get_figure()\n",
    "\n",
    "cbax = fig.add_axes([0.95, 0.2, 0.04, 0.60])\n",
    "cbax.set_title(\"Precio de venta\")\n",
    "\n",
    "sm = plt.cm.ScalarMappable(cmap=cmap,\n",
    "                           norm=plt.Normalize(\n",
    "                               vmin=min(house_location_df[\"housing_price\"]),\n",
    "                               vmax=max(house_location_df[\"housing_price\"])))\n",
    "fig.colorbar(sm, cax=cbax, format=\"%d\")"
   ]
  },
  {
   "cell_type": "markdown",
   "metadata": {
    "cell_marker": "\"\"\"",
    "lines_to_next_cell": 0
   },
   "source": [
    "Estas observaciones dejan en evidencia que la localización de las viviendas\n",
    "puede influir en el precio de las mismas. En este sentido, se decide incluir\n",
    "la variable `suburb_region_name` en futuros análisis. Respecto a la variable\n",
    "`housing_cbd_distance`, su mapa correspondiente muestra que los valores\n",
    "cercanos al centro se ubican en la región `Southern Metropolitan` y aumenta a\n",
    "medida que se aleja del mismo y cambia de región. Por lo tanto, a partir de\n",
    "conocer la región en la que se ubica una vivienda se puede inferir su valor de\n",
    "distancia y por ende `housing_cbd_distance` ofrecería información redundante.\n",
    "Entonces se decidió no incluirla en futuros análisis."
   ]
  },
  {
   "cell_type": "markdown",
   "metadata": {
    "cell_marker": "\"\"\"",
    "lines_to_next_cell": 0
   },
   "source": [
    "Se puede ver que las regiones `Western Victoria`, `Eastern Victoria`, y\n",
    "`Northern Victoria` poseen una baja frecuencia. Por lo tanto, se procedió a\n",
    "agruparlos bajo una misma categoría, denominada `Victoria`."
   ]
  },
  {
   "cell_type": "code",
   "execution_count": null,
   "metadata": {
    "lines_to_next_cell": 0
   },
   "outputs": [],
   "source": [
    "(\n",
    "    melb_housing_df\n",
    "        .join(melb_suburb_df[\"suburb_region_name\"], on=\"suburb_id\")\n",
    "        .groupby(\"suburb_region_name\")\n",
    "        .size()\n",
    ")"
   ]
  },
  {
   "cell_type": "code",
   "execution_count": null,
   "metadata": {
    "lines_to_next_cell": 0
   },
   "outputs": [],
   "source": [
    "melb_suburb_df = melb_suburb_df.assign(\n",
    "    suburb_region_segment=melb_suburb_df[\"suburb_region_name\"].replace(\n",
    "        {\n",
    "            \"Western Victoria\": \"Victoria\",\n",
    "            \"Eastern Victoria\": \"Victoria\",\n",
    "            \"Northern Victoria\": \"Victoria\"\n",
    "        }))"
   ]
  },
  {
   "cell_type": "code",
   "execution_count": null,
   "metadata": {
    "lines_to_next_cell": 0
   },
   "outputs": [],
   "source": [
    "(\n",
    "    melb_housing_df\n",
    "        .join(melb_suburb_df[\"suburb_region_segment\"], on=\"suburb_id\")\n",
    "        .groupby(\"suburb_region_segment\")\n",
    "        .size()\n",
    ")"
   ]
  },
  {
   "cell_type": "code",
   "execution_count": null,
   "metadata": {
    "lines_to_next_cell": 0
   },
   "outputs": [],
   "source": [
    "plt.figure(figsize=(8, 8))\n",
    "seaborn.boxenplot(data=melb_housing_df.join(\n",
    "    melb_suburb_df[\"suburb_region_segment\"], on=\"suburb_id\"),\n",
    "                  x=\"suburb_region_segment\",\n",
    "                  y=\"housing_price\")\n",
    "plt.ticklabel_format(style=\"plain\", axis=\"y\")\n",
    "plt.xticks(rotation=40)"
   ]
  },
  {
   "cell_type": "markdown",
   "metadata": {
    "cell_marker": "\"\"\"",
    "lines_to_next_cell": 0
   },
   "source": [
    "## Cantidad de propiedades por suburbio (`suburb_property_count`)"
   ]
  },
  {
   "cell_type": "code",
   "execution_count": null,
   "metadata": {
    "lines_to_next_cell": 0
   },
   "outputs": [],
   "source": [
    "cmap = seaborn.color_palette(\"flare\", as_cmap=True)\n",
    "\n",
    "base = region_location_df.plot(column=\"vic_stat_2\",\n",
    "                               categorical=True,\n",
    "                               edgecolor=\"black\",\n",
    "                               figsize=(11, 11),\n",
    "                               legend=True)\n",
    "puntos = (\n",
    "    house_location_df\n",
    "        .join()\n",
    "        .plot(ax=base, marker=\"o\",\n",
    "              markersize=3,\n",
    "              column=\"suburb_property_count\",\n",
    "              cmap=cmap)\n",
    ")\n",
    "base.set(title=\"Área Metropolitana- Victoria, Australia\")\n",
    "\n",
    "plt.ylabel(\"Latitude\")\n",
    "plt.xlabel(\"Longitude\")\n",
    "\n",
    "fig = puntos.get_figure()\n",
    "\n",
    "cbax.set_title(\"Número de propiedades por suburbio\")\n",
    "\n",
    "sm = plt.cm.ScalarMappable(\n",
    "    cmap=cmap,\n",
    "    norm=plt.Normalize(vmin=min(house_location_df[\"suburb_property_count\"]),\n",
    "                       vmax=max(house_location_df[\"suburb_property_count\"])))\n",
    "\n",
    "fig.colorbar(sm, cax=cbax, format=\"%d\")"
   ]
  },
  {
   "cell_type": "markdown",
   "metadata": {
    "cell_marker": "\"\"\"",
    "lines_to_next_cell": 0
   },
   "source": [
    "## Departamento gubernamental (`housing_council_area`)\n",
    "Analizando las medidas de tendencia central para las variables\n",
    "`suburb_council_area` y `housing_price` se observa que algunos departamentos\n",
    "tienen una única vivienda con precio y otros como `Boroondara` tiene más de\n",
    "1000 viviendas. Esto muestra la disparidad en la cantidad de ventas\n",
    "registradas en los diferentes departamentos. Dado que está variable brinda\n",
    "información similar a otras ya disponibles en el *dataset* no se la consideró\n",
    "relevante para estimar el precio, sin embargo, se la seleccionó para continuar\n",
    "con el resto de las consignas de el entregable."
   ]
  },
  {
   "cell_type": "code",
   "execution_count": null,
   "metadata": {
    "lines_to_next_cell": 0
   },
   "outputs": [],
   "source": [
    "(\n",
    "    melb_housing_df\n",
    "        .join(melb_suburb_df, on=\"suburb_id\")\n",
    "        .loc[:, \"suburb_council_area\"]\n",
    "        .value_counts()\n",
    ")"
   ]
  },
  {
   "cell_type": "markdown",
   "metadata": {
    "cell_marker": "\"\"\"",
    "lines_to_next_cell": 0
   },
   "source": [
    "## Fecha de venta y año de construcción (`housing_date_sold` y `housing_year_built`)\n",
    "El tiempo en el que se vendió una propiedad puede ser relevante si se\n",
    "consideran inflación o cuestiones económicas durante el período de venta. Dado\n",
    "que el conjunto de datos corresponden a ventas de 2016 y 2017, es importante\n",
    "saber como fluctuó el precio durante este intervalo. Por ende, se trabajó\n",
    "sobre esta variable combirtiendo inicialmente los datos en objetos `datetime`."
   ]
  },
  {
   "cell_type": "code",
   "execution_count": null,
   "metadata": {
    "lines_to_next_cell": 0
   },
   "outputs": [],
   "source": [
    "melb_housing_df = melb_housing_df.assign(\n",
    "    housing_date_sold_datetime=pd.to_datetime(\n",
    "        melb_housing_df[\"housing_date_sold\"]))"
   ]
  },
  {
   "cell_type": "markdown",
   "metadata": {
    "cell_marker": "\"\"\"",
    "lines_to_next_cell": 0
   },
   "source": [
    "Observando la fecha y precio de venta no se encuentra una tendencia en algún\n",
    "periodo en particular. Las propiedades vendidas se encontraron entre los\n",
    "800000 a 120000 con una alta variabilidad que se obtiene probablemente a que\n",
    "se están considerando no solo los años y meses, sino también el día de venta,\n",
    "siendo quizás no tan relevante si se desea identificar un período donde se\n",
    "realizaron ventas de un alto valor."
   ]
  },
  {
   "cell_type": "code",
   "execution_count": null,
   "metadata": {
    "lines_to_next_cell": 0
   },
   "outputs": [],
   "source": [
    "seaborn.lineplot(data=melb_housing_df,\n",
    "                 x=\"housing_date_sold_datetime\",\n",
    "                 y=\"housing_price\")\n",
    "plt.ticklabel_format(style=\"plain\", axis=\"y\")\n",
    "plt.xticks(rotation=45)"
   ]
  },
  {
   "cell_type": "markdown",
   "metadata": {
    "cell_marker": "\"\"\"",
    "lines_to_next_cell": 0
   },
   "source": [
    "Si se desconsidera el día de venta, se obtiene una menor variabilidad pero aún\n",
    "así no se perciben fluctuaciones en el precio salvo quizás para inicios,\n",
    "mediados, y fines del 2017 donde se dieron ventas con precio menor en\n",
    "comparación al 2016."
   ]
  },
  {
   "cell_type": "code",
   "execution_count": null,
   "metadata": {
    "lines_to_next_cell": 0
   },
   "outputs": [],
   "source": [
    "melb_housing_df = melb_housing_df.assign(\n",
    "    housing_date_sold_datetime=pd.to_datetime(\n",
    "        melb_housing_df[\"housing_date_sold_datetime\"].dt.strftime(\"%Y-%m\")))"
   ]
  },
  {
   "cell_type": "code",
   "execution_count": null,
   "metadata": {
    "lines_to_next_cell": 0
   },
   "outputs": [],
   "source": [
    "seaborn.lineplot(data=melb_housing_df,\n",
    "                 x=\"housing_date_sold_datetime\",\n",
    "                 y=\"housing_price\")\n",
    "plt.ticklabel_format(style=\"plain\", axis=\"y\")\n",
    "plt.xticks(rotation=45)"
   ]
  },
  {
   "cell_type": "markdown",
   "metadata": {
    "cell_marker": "\"\"\"",
    "lines_to_next_cell": 0
   },
   "source": [
    "Se puede ver que la frecuencia de ventas en algún mes en particular salvo para\n",
    "inicios y fin del 2017 que se corresponden con las"
   ]
  },
  {
   "cell_type": "code",
   "execution_count": null,
   "metadata": {
    "lines_to_next_cell": 0
   },
   "outputs": [],
   "source": [
    "plt.figure(figsize=(10, 10))\n",
    "seaborn.countplot(\n",
    "    melb_housing_df[\"housing_date_sold_datetime\"]\n",
    "        .dt.month\n",
    ")\n",
    "plt.xticks(rotation=45)"
   ]
  },
  {
   "cell_type": "code",
   "execution_count": null,
   "metadata": {},
   "outputs": [],
   "source": []
  }
 ],
 "metadata": {
  "jupytext": {
   "cell_markers": "\"\"\"",
   "cell_metadata_filter": "-all",
   "encoding": "# -*- coding: utf-8 -*-",
   "formats": "ipynb,py:percent"
  },
  "kernelspec": {
   "display_name": "Python 3",
   "language": "python",
   "name": "python3"
  },
  "language_info": {
   "codemirror_mode": {
    "name": "ipython",
    "version": 3
   },
   "file_extension": ".py",
   "mimetype": "text/x-python",
   "name": "python",
   "nbconvert_exporter": "python",
   "pygments_lexer": "ipython3",
   "version": "3.8.5"
  }
 },
 "nbformat": 4,
 "nbformat_minor": 4
}
