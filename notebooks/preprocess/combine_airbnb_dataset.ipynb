{
 "cells": [
  {
   "cell_type": "markdown",
   "id": "65ee5511",
   "metadata": {
    "cell_marker": "\"\"\"",
    "lines_to_next_cell": 0
   },
   "source": [
    "# Diplomatura en Ciencias de Datos, Aprendizaje Automático y sus Aplicaciones\n",
    "\n",
    "Autores: Matías Oria, Antonela Sambuceti, Pamela Pairo, Benjamín Ocampo"
   ]
  },
  {
   "cell_type": "markdown",
   "id": "6732b4d2",
   "metadata": {
    "cell_marker": "\"\"\"",
    "lines_to_next_cell": 0
   },
   "source": [
    "## Introducción\n",
    "\n",
    "Se trabajó sobre el conjunto de datos de [la competencia\n",
    "Kaggle](https://www.kaggle.com/dansbecker/melbourne-housing-snapshot) para la\n",
    "estimación de precios de ventas de propiedades en Melbourne, Australia.\n",
    "\n",
    "Este fue producido por [DanB](https://www.kaggle.com/dansbecker) de datos\n",
    "provenientes del sitio [Domain.com.au](https://www.domain.com.au/) y se\n",
    "accedió a través de un servidor de la Universidad Nacional de Córdoba para\n",
    "facilitar su acceso remoto.\n",
    "\n",
    "Con el fin de agilizar la exploración, se realizó una etapa de\n",
    "preprocesamiento separando información de viviendas y suburbios. A su vez, se\n",
    "agregó nueva información proveniente de datos recolectados por [Tyler\n",
    "Xie](https://www.kaggle.com/tylerx) a través de la página de AirBnB,\n",
    "disponibles en [una\n",
    "publicación]((https://www.kaggle.com/tylerx/melbourne-airbnb-open-data?select=cleansed_listings_dec18.csv))\n",
    "en su perfil de Kaggle."
   ]
  },
  {
   "cell_type": "markdown",
   "id": "04862258",
   "metadata": {
    "cell_marker": "\"\"\"",
    "lines_to_next_cell": 0
   },
   "source": [
    "## Definición de funciones y constantes *helper*\n",
    "A continuación se encuentran las funciones y constantes que se utilizaron\n",
    "durante el preprocesamiento.\n",
    "TODO: Agregar docstrings, y especificación de tipos."
   ]
  },
  {
   "cell_type": "code",
   "execution_count": null,
   "id": "6e6bbf5a",
   "metadata": {
    "lines_to_next_cell": 1
   },
   "outputs": [],
   "source": [
    "from typing import Dict, List\n",
    "import pandas as pd\n",
    "import nltk\n",
    "import missingno as msno\n",
    "import numpy as np\n",
    "from nltk.corpus import stopwords\n",
    "from nltk.tokenize import word_tokenize\n",
    "\n",
    "nltk.download(\"stopwords\")\n",
    "nltk.download('punkt')\n",
    "\n",
    "stopwords = set(nltk.corpus.stopwords.words(\"english\"))\n",
    "\n",
    "\n",
    "def replace_columns(df: pd.DataFrame, new_columns: Dict[str, Dict[str, str]]) -> pd.DataFrame:\n",
    "    \"\"\"\n",
    "    Renames the columns in @df according to @new_columns. Names to replace need\n",
    "    to be organized in categories, as the example shows, so then the resulting\n",
    "    columns will be assigned that category as a prefix.\n",
    "\n",
    "    <category>: {\n",
    "        <old_name_1> : <new_name_1>\n",
    "        <old_name_2> : <new_name_2>\n",
    "        ...\n",
    "    }\n",
    "    \"\"\"\n",
    "    new_col_names = {\n",
    "        original_name: category + '_' + new_name\n",
    "        for category, cols in new_columns.items()\n",
    "        for original_name, new_name in cols.items()\n",
    "    }\n",
    "    return df.rename(columns=new_col_names)\n",
    "\n",
    "\n",
    "def remove_unimportant_words(s: str) -> str:\n",
    "    \"\"\"\n",
    "    Removes from the string @s all the stopwords, digits, and special chars.\n",
    "    \"\"\"\n",
    "    special_chars = \"-.+,[@_!#$%^&*()<>?/\\|}{~:]\"\n",
    "    digits = \"0123456789\"\n",
    "    invalid_chars = special_chars + digits\n",
    "\n",
    "    reduced_text = \"\".join(c for c in s if not c in invalid_chars)\n",
    "\n",
    "    reduced_text = \" \".join(w.lower() for w in word_tokenize(reduced_text)\n",
    "                            if not w.lower() in stopwords)\n",
    "    return reduced_text\n",
    "\n",
    "\n",
    "def frequent_words(text_batch: List[str], threshold: int) -> nltk.FreqDist:\n",
    "    \"\"\"\n",
    "    Gets the @threshold most common words that occurs on @text_batch.\n",
    "    \"\"\"\n",
    "    joined_descritions = \" \".join(\n",
    "        remove_unimportant_words(text) for text in text_batch)\n",
    "    tokens = word_tokenize(joined_descritions)\n",
    "    return nltk.FreqDist(tokens).most_common(threshold)"
   ]
  },
  {
   "cell_type": "markdown",
   "id": "3cc0983f",
   "metadata": {
    "cell_marker": "\"\"\"",
    "lines_to_next_cell": 0
   },
   "source": [
    "## Renombrado de columnas\n",
    "Debido a que se manipularán las columnas del conjunto de datos a través de\n",
    "Python, se renombraron las columnas para que respeten los [estándares de\n",
    "código](https://www.python.org/dev/peps/pep-0008/) del lenguaje de\n",
    "programación y caractericen de mejor manera los datos almacenados. En\n",
    "particular, columnas como `Car`, `Distance`, `Date`, y `Method` carecen de\n",
    "expresividad y no reflejan los datos que están registrados en ellas. Por\n",
    "último, se representaron con prefijos aquellas que relacionan propiedades de\n",
    "viviendas\n",
    "y suburbios."
   ]
  },
  {
   "cell_type": "code",
   "execution_count": null,
   "id": "d52ee4f0",
   "metadata": {
    "lines_to_next_cell": 0
   },
   "outputs": [],
   "source": [
    "URL_DOMAIN_DATA = \"https://cs.famaf.unc.edu.ar/~mteruel/datasets/diplodatos/melb_data.csv\"\n",
    "\n",
    "new_columns = {\n",
    "    \"suburb\": {\n",
    "        \"Suburb\": \"name\",\n",
    "        \"Propertycount\": \"property_count\",\n",
    "        \"Regionname\": \"region_name\",\n",
    "        \"Postcode\": \"postcode\",\n",
    "        \"CouncilArea\": \"council_area\"\n",
    "    },\n",
    "    \"housing\": {\n",
    "        \"Address\": \"address\",\n",
    "        \"Price\": \"price\",\n",
    "        \"Rooms\": \"room_count\",\n",
    "        \"Date\": \"date_sold\",\n",
    "        \"Distance\": \"cbd_distance\",\n",
    "        \"Car\": \"garage_count\",\n",
    "        \"Landsize\": \"land_size\",\n",
    "        \"BuildingArea\": \"building_area\",\n",
    "        \"Type\": \"type\",\n",
    "        \"Bathroom\": \"bathroom_count\",\n",
    "        \"Bedroom2\": \"bedroom_count\",\n",
    "        \"Method\": \"selling_method\",\n",
    "        \"YearBuilt\": \"year_built\",\n",
    "        \"Lattitude\": \"lattitude\",\n",
    "        \"Longtitude\": \"longitude\",\n",
    "        \"SellerG\": \"seller_agency\"\n",
    "    }\n",
    "}\n",
    "\n",
    "melb_df = (pd\n",
    "    .read_csv(URL_DOMAIN_DATA)\n",
    "    .pipe(replace_columns, new_columns)\n",
    ")\n",
    "\n",
    "melb_df"
   ]
  },
  {
   "cell_type": "markdown",
   "id": "ffae6b98",
   "metadata": {
    "cell_marker": "\"\"\"",
    "lines_to_next_cell": 0
   },
   "source": [
    "## Separación del conjunto de datos\n",
    "Se observa que los datos asociados a los suburbios se repiten por cada\n",
    "vivienda, debido a que se encuentran almacenados en un único *dataframe*. Por\n",
    "ejemplo, las filas asociadas a los departamentos del suburbio *Abbotsford*\n",
    "tendrán el mismo `suburb_name`, `suburb_postcode`, `suburb_region_name`,\n",
    "`suburb_council_area`, y `suburb_property_count` desaprovechando espacio de\n",
    "memoria y complejizando el estudio de la estructura del conjunto de datos. Por\n",
    "ende, se puede [separar el\n",
    "*dataframe*](https://en.wikipedia.org/wiki/Third_normal_form) en dos;\n",
    "`melb_suburb_df` y `melb_housing_df`, mantentiendo una *foreign key* en\n",
    "`melb_housing_df`. Esto permite unir ambas tablas por medio de la operación\n",
    "`join` y obtener el *dataframe* original.\n",
    "\n",
    "Para separar `melb_df` como se mencionó anteriormente, se obtienen las\n",
    "columnas de ambas categorías por medio de sus prefijos `housing` y `suburb` y\n",
    "se filtran para obtener dos *dataframes* distintos. Posteriormente, se\n",
    "remueven los duplicados de la tabla asociada a los suburbios."
   ]
  },
  {
   "cell_type": "code",
   "execution_count": null,
   "id": "2ae98bb6",
   "metadata": {
    "lines_to_next_cell": 0
   },
   "outputs": [],
   "source": [
    "housing_cols = [col for col in melb_df if col.startswith(\"housing\")]\n",
    "suburb_cols = [col for col in melb_df if col.startswith(\"suburb\")]\n",
    "\n",
    "melb_suburb_df = melb_df[suburb_cols].drop_duplicates()\n",
    "melb_suburb_df"
   ]
  },
  {
   "cell_type": "markdown",
   "id": "655b51ed",
   "metadata": {
    "cell_marker": "\"\"\"",
    "lines_to_next_cell": 0
   },
   "source": [
    "No obstante, se observa que al aplicar `drop_duplicates` para eliminar las\n",
    "filas que tengan  entradas repetidas, se obtiene información duplicada en los\n",
    "suburbios. Esto se debe a que la columna `suburb_council_area` contiene no solo\n",
    "datos faltantes, sino que también para un suburbio, información distinta. Por\n",
    "ejemplo, para el caso del suburbio `Alphington`:"
   ]
  },
  {
   "cell_type": "code",
   "execution_count": null,
   "id": "1ba9121b",
   "metadata": {
    "lines_to_next_cell": 0
   },
   "outputs": [],
   "source": [
    "melb_suburb_df[melb_suburb_df[\"suburb_name\"] == \"Alphington\"]"
   ]
  },
  {
   "cell_type": "markdown",
   "id": "b58096a2",
   "metadata": {
    "cell_marker": "\"\"\"",
    "lines_to_next_cell": 0
   },
   "source": [
    "En este caso, las entradas para todas las columnas son las mismas salvo la de\n",
    "`suburb_council_area`. De manera similar, esto ocurre con otros suburbios."
   ]
  },
  {
   "cell_type": "code",
   "execution_count": null,
   "id": "20ab510f",
   "metadata": {
    "lines_to_next_cell": 0
   },
   "outputs": [],
   "source": [
    "(\n",
    "    melb_suburb_df[[\"suburb_name\", \"suburb_council_area\"]]\n",
    "        .groupby(\"suburb_name\")\n",
    "        .size()\n",
    ")"
   ]
  },
  {
   "cell_type": "markdown",
   "id": "b0cf0d6b",
   "metadata": {
    "cell_marker": "\"\"\"",
    "lines_to_next_cell": 0
   },
   "source": [
    "Ahora bien, las entradas distintas no se puede considerar que son\n",
    "inconsistentes, ya que hay suburbios en Melbourne que dependen de dos\n",
    "departamentos gubernamentales como es el caso de `Alphington`. Por ende, se\n",
    "agruparán en listas todos los departamentos a los cuales un suburbio\n",
    "pertenece. Si todas las entradas de un suburbio presentan valores nulos, será\n",
    "dejado como faltante para ser imputado en la etapa de curación."
   ]
  },
  {
   "cell_type": "code",
   "execution_count": null,
   "id": "2b191c20",
   "metadata": {
    "lines_to_next_cell": 0
   },
   "outputs": [],
   "source": [
    "councils_df = (\n",
    "    melb_suburb_df[[\"suburb_name\", \"suburb_council_area\"]]\n",
    "        .groupby(\"suburb_name\")\n",
    "        .agg(lambda councils:\n",
    "             np.nan\n",
    "             if councils.count() == 0\n",
    "             else list(councils.dropna()))\n",
    ")"
   ]
  },
  {
   "cell_type": "code",
   "execution_count": null,
   "id": "d1f09595",
   "metadata": {
    "lines_to_next_cell": 0
   },
   "outputs": [],
   "source": [
    "councils_df"
   ]
  },
  {
   "cell_type": "code",
   "execution_count": null,
   "id": "6c9de15e",
   "metadata": {
    "lines_to_next_cell": 0
   },
   "outputs": [],
   "source": [
    "melb_suburb_df = (\n",
    "    melb_suburb_df\n",
    "        .drop(columns=\"suburb_council_area\")\n",
    "        .drop_duplicates()\n",
    "        .merge(councils_df, on=\"suburb_name\")\n",
    ")\n",
    "melb_suburb_df"
   ]
  },
  {
   "cell_type": "markdown",
   "id": "f3d494ab",
   "metadata": {
    "cell_marker": "\"\"\"",
    "lines_to_next_cell": 0
   },
   "source": [
    "TODO: Se puede hacer de otra forma? Evitar obtener listas de Python.\n",
    "\n",
    "De esta forma se obtienen valores únicos para los suburbios, manteniendo todos\n",
    "los departamentos a los cuales un suburbio pertenece en listas. También, puede\n",
    "verse que al combinar los datos los índices fueron alterados obteniendo un\n",
    "total de 314. Finalmente, estos índices se agregan al conjunto de datos de las\n",
    "viviendas en aquellas posiciones donde se tenía un suburbio asociado siendo su\n",
    "*foreign key*."
   ]
  },
  {
   "cell_type": "code",
   "execution_count": null,
   "id": "774eac39",
   "metadata": {
    "lines_to_next_cell": 0
   },
   "outputs": [],
   "source": [
    "melb_housing_df = (\n",
    "    melb_df[housing_cols + [\"suburb_name\"]]\n",
    "        .replace({suburb_name: suburb_id\n",
    "                 for suburb_name, suburb_id\n",
    "                 in zip(melb_suburb_df[\"suburb_name\"], melb_suburb_df.index)})\n",
    "        .rename(columns={\"suburb_name\": \"suburb_id\"})\n",
    ")"
   ]
  },
  {
   "cell_type": "code",
   "execution_count": null,
   "id": "66c05eab",
   "metadata": {
    "lines_to_next_cell": 0
   },
   "outputs": [],
   "source": [
    "melb_housing_df"
   ]
  },
  {
   "cell_type": "code",
   "execution_count": null,
   "id": "15710702",
   "metadata": {
    "lines_to_next_cell": 0
   },
   "outputs": [],
   "source": [
    "melb_suburb_df"
   ]
  },
  {
   "cell_type": "markdown",
   "id": "388ef19b",
   "metadata": {
    "cell_marker": "\"\"\"",
    "lines_to_next_cell": 0
   },
   "source": [
    "Con esto se pueden analizar características de los suburbios sin considerar\n",
    "las viviendas. Es decir, la información contenida en las columnas\n",
    "`suburb_council_area`, `suburb_property_count`, `suburb_region_name`,\n",
    "`suburb_postcode` permite caracterizar mejor cada suburbio."
   ]
  },
  {
   "cell_type": "markdown",
   "id": "f0124421",
   "metadata": {
    "cell_marker": "\"\"\""
   },
   "source": [
    "## Combinación de conjuntos de datos\n",
    "Con el fin de estimar con mayor precisión el valor de venta de una propiedad\n",
    "se aumentó los datos actuales utilizando otro conjunto de datos obtenido\n",
    "por publicaciones de la plataforma de AirBnB en Melbourne en el año\n",
    "2018.\n",
    "\n",
    "Este es un conjunto de datos de *scrapings* del sitio realizado por [Tyler\n",
    "Xie](https://www.kaggle.com/tylerx), disponibles en [una\n",
    "publicación]((https://www.kaggle.com/tylerx/melbourne-airbnb-open-data?select=cleansed_listings_dec18.csv))\n",
    "en su perfil de Kaggle.\n",
    "\n",
    "En particular, se agregó información del entorno de las viviendas, o mejor\n",
    "dicho de los suburbios en donde se encuentran. Es importante conocer factores\n",
    "de calidad de dichas zonas, tales como la seguridad, concurrencia,\n",
    "disponibilidad de actividades recreativas, entre otras. Por otro lado, conocer\n",
    "cuál es el precio en el que se alquilan las viviendas de una zona por lo\n",
    "general está relacionado con cierta garantía de algunos de esos factores.\n",
    "\n",
    "Por ende, de las distintas columnas que se encuentran en el conjunto de datos\n",
    "de AirBnB se utilizaron las siguientes:\n",
    "\n",
    "- `zipcode`: El código postal es un buen descriptor que involucra un conjunto\n",
    "  de suburbios que se encuentran cerca.\n",
    "\n",
    "- `neighborhood_overview`, `transit`, y `description`: Obtener las palabras\n",
    "  más frecuentes que se mencionan en las descripciones de las viviendas,\n",
    "  suburbios, y concurrencias, da mucha información sobre los factores de\n",
    "  calidad.\n",
    "\n",
    "- `price`, `weekly_price`, `monthly_price`: Obtener en promedio los precios de\n",
    "  alquiler de las viviendas de un suburbio, pueden ser relevantes en la\n",
    "  estimación del costo de una propiedad."
   ]
  },
  {
   "cell_type": "code",
   "execution_count": null,
   "id": "0d898405",
   "metadata": {
    "lines_to_next_cell": 0
   },
   "outputs": [],
   "source": [
    "\n",
    "URL_AIRBNB_DATA = \"https://cs.famaf.unc.edu.ar/~mteruel/datasets/diplodatos/cleansed_listings_dec18.csv\"\n",
    "\n",
    "interesting_cols = [\n",
    "    \"zipcode\",\n",
    "    \"neighborhood_overview\", \"transit\", \"description\",\n",
    "    \"price\", \"weekly_price\", \"monthly_price\",\n",
    "]\n",
    "\n",
    "airbnb_df = pd.read_csv(URL_AIRBNB_DATA, usecols=interesting_cols)\n",
    "airbnb_df[\"zipcode\"] = pd.to_numeric(airbnb_df.zipcode, errors=\"coerce\")\n",
    "airbnb_df"
   ]
  },
  {
   "cell_type": "markdown",
   "id": "4ba78fc6",
   "metadata": {
    "cell_marker": "\"\"\"",
    "lines_to_next_cell": 0
   },
   "source": [
    "Posteriormente, son de interés aquellos `zipcodes` que tengan una cantidad\n",
    "mínima de registros. Por ende, se seleccionan aquellos que son superiores a la\n",
    "mediana del conteo de registros (27)."
   ]
  },
  {
   "cell_type": "code",
   "execution_count": null,
   "id": "4a82f5ed",
   "metadata": {
    "lines_to_next_cell": 0
   },
   "outputs": [],
   "source": [
    "zipcode_count_df = airbnb_df[\"zipcode\"].value_counts()\n",
    "zipcode_count_df"
   ]
  },
  {
   "cell_type": "code",
   "execution_count": null,
   "id": "c2395367",
   "metadata": {
    "lines_to_next_cell": 0
   },
   "outputs": [],
   "source": [
    "airbnb_df = airbnb_df[airbnb_df[\"zipcode\"].isin(\n",
    "    zipcode_count_df.index[zipcode_count_df > zipcode_count_df.median()])]\n",
    "airbnb_df"
   ]
  },
  {
   "cell_type": "markdown",
   "id": "66eae522",
   "metadata": {
    "cell_marker": "\"\"\"",
    "lines_to_next_cell": 0
   },
   "source": [
    "Ahora bien, la cantidad de datos faltantes en las variables `weekly_price` y\n",
    "`monthly_price` luego de quitar los códigos postales poco frecuentes es mayor\n",
    "al 80%. Luego les siguen `neighborhood_overview` y `transit` con alrededor del\n",
    "40%. `description` solo presenta una pequeña fracción de datos nulos. Si bien\n",
    "no se realizará una curación de datos sobre el conjunto de AirBnB hasta luego\n",
    "de combinarlo con el original, visualizar estos datos permite considerar si\n",
    "las variables elegidas presentan una cantidad de muestras significativa y\n",
    "replantear su selección."
   ]
  },
  {
   "cell_type": "code",
   "execution_count": null,
   "id": "96453f37",
   "metadata": {
    "lines_to_next_cell": 0
   },
   "outputs": [],
   "source": [
    "msno.bar(airbnb_df, figsize=(12, 6), fontsize=12, color='steelblue')"
   ]
  },
  {
   "cell_type": "markdown",
   "id": "0b74a26b",
   "metadata": {
    "cell_marker": "\"\"\"",
    "lines_to_next_cell": 0
   },
   "source": [
    "`weekly_price` y `monthly_price` presentan datos faltantes situados en la\n",
    "categoría MNAR, es decir, a través de alguna perdida sistemática. Por lo\n",
    "tanto, son no tenidas en cuenta debido a la poca cantidad de ejemplares. Por\n",
    "otro lado, las clumnas `neighborhood_overview` y `transit` parecen ser\n",
    "perdidas aleatorias."
   ]
  },
  {
   "cell_type": "code",
   "execution_count": null,
   "id": "971c8ed9",
   "metadata": {
    "lines_to_next_cell": 0
   },
   "outputs": [],
   "source": [
    "msno.matrix(airbnb_df,figsize=(12, 6), fontsize=12, color=[0,0,0.2])"
   ]
  },
  {
   "cell_type": "code",
   "execution_count": null,
   "id": "5084dbae",
   "metadata": {
    "lines_to_next_cell": 0
   },
   "outputs": [],
   "source": [
    "airbnb_df = (\n",
    "    airbnb_df\n",
    "        .drop(columns=[\"weekly_price\", \"monthly_price\"])\n",
    "        .dropna()\n",
    ")\n",
    "\n",
    "airbnb_df"
   ]
  },
  {
   "cell_type": "code",
   "execution_count": null,
   "id": "d8ce5521",
   "metadata": {
    "lines_to_next_cell": 0
   },
   "outputs": [],
   "source": [
    "msno.bar(airbnb_df,figsize=(12, 6), fontsize=12, color='steelblue')"
   ]
  },
  {
   "cell_type": "markdown",
   "id": "4edde0fc",
   "metadata": {
    "cell_marker": "\"\"\"",
    "lines_to_next_cell": 0
   },
   "source": [
    "Se obtuvo el siguiente conjunto con 12395 datos por cada columna. Se calculó\n",
    "la frecuencia de palabras para cada descripción, y el precio\n",
    "promedio de renta por día de las viviendas agrupado por código postal."
   ]
  },
  {
   "cell_type": "code",
   "execution_count": null,
   "id": "1a350f27",
   "metadata": {
    "lines_to_next_cell": 0
   },
   "outputs": [],
   "source": [
    "ten_most_freq_words = lambda text_batch: frequent_words(text_batch, 10)\n",
    "\n",
    "airbnb_df = (\n",
    "    airbnb_df.groupby(\"zipcode\")\n",
    "    .agg(suburb_description_wordcount=(\n",
    "             \"description\", ten_most_freq_words),\n",
    "         suburb_neighborhoods_overview_wordcount=(\n",
    "             \"neighborhood_overview\", ten_most_freq_words),\n",
    "         suburb_transit_wordcount=(\"transit\", ten_most_freq_words),\n",
    "         suburb_rental_dailyprice=(\"price\", \"mean\"))\n",
    "    .reset_index()\n",
    "    .rename(columns={\"zipcode\": \"suburb_postcode\"})\n",
    ")"
   ]
  },
  {
   "cell_type": "code",
   "execution_count": null,
   "id": "d11e40a4",
   "metadata": {
    "lines_to_next_cell": 0
   },
   "outputs": [],
   "source": [
    "airbnb_df"
   ]
  },
  {
   "cell_type": "markdown",
   "id": "441dc5b0",
   "metadata": {
    "cell_marker": "\"\"\"",
    "lines_to_next_cell": 0
   },
   "source": [
    "Cabe recalcar nuevamente que solo se incluirá información del suburbio de las\n",
    "viviendas por lo tanto los datos deben combinarse con la tabla\n",
    "`melb_suburb_df`. Esta es otra de las justificaciones por las cuales es\n",
    "conveniente normalizar relaciones de datos. Por ende, para finalizar se\n",
    "combinaron los *dataframes* `melb_suburb_df` y `airbnb_df` renombrando la\n",
    "columna `zipcode` de este último."
   ]
  },
  {
   "cell_type": "code",
   "execution_count": null,
   "id": "2327fd5f",
   "metadata": {
    "lines_to_next_cell": 0
   },
   "outputs": [],
   "source": [
    "melb_suburb_df = melb_suburb_df.merge(airbnb_df,\n",
    "                                      how='left',\n",
    "                                      on=\"suburb_postcode\")"
   ]
  },
  {
   "cell_type": "code",
   "execution_count": null,
   "id": "ca97cdf4",
   "metadata": {
    "lines_to_next_cell": 0
   },
   "outputs": [],
   "source": [
    "melb_suburb_df"
   ]
  },
  {
   "cell_type": "code",
   "execution_count": null,
   "id": "71a1ebd4",
   "metadata": {
    "lines_to_next_cell": 0
   },
   "outputs": [],
   "source": [
    "msno.bar(melb_suburb_df,figsize=(12, 6), fontsize=12, color='steelblue')"
   ]
  },
  {
   "cell_type": "markdown",
   "id": "34e6f897",
   "metadata": {
    "cell_marker": "\"\"\"",
    "lines_to_next_cell": 0
   },
   "source": [
    "Notar ahora que los datos faltantes correspondientes luego de combinar los\n",
    "datos son debido a aquellos códigos postales que no figuraban en el conjunto de\n",
    "datos de AirBnB.\n",
    "\n",
    "Para finalizar, `melb_suburb_df` y `melb_housing_df` fueron puestos a\n",
    "disposición en servidores de FaMAF para su futura exploración. Estos pueden\n",
    "encontrarse en:\n",
    "- [Datos de\n",
    "  viviendas](https://www.famaf.unc.edu.ar/~nocampo043/melb_housing_df.csv)\n",
    "- [Datos de\n",
    "  suburbios](https://www.famaf.unc.edu.ar/~nocampo043/melb_suburb_df.csv)"
   ]
  },
  {
   "cell_type": "code",
   "execution_count": null,
   "id": "734e1724",
   "metadata": {},
   "outputs": [],
   "source": []
  }
 ],
 "metadata": {
  "jupytext": {
   "cell_markers": "\"\"\"",
   "cell_metadata_filter": "-all",
   "encoding": "# -*- coding: utf-8 -*-",
   "formats": "ipynb,py:percent",
   "main_language": "python"
  }
 },
 "nbformat": 4,
 "nbformat_minor": 5
}
