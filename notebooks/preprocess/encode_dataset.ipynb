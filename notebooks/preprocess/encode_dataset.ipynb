{
 "cells": [
  {
   "cell_type": "markdown",
   "id": "bd50510f",
   "metadata": {
    "cell_marker": "\"\"\"",
    "lines_to_next_cell": 0
   },
   "source": [
    "# Diplomatura en Ciencias de Datos, Aprendizaje Automático y sus Aplicaciones\n",
    "\n",
    "Autores: Matías Oria, Antonela Sambuceti, Pamela Pairo, Benjamín Ocampo"
   ]
  },
  {
   "cell_type": "code",
   "execution_count": 1,
   "id": "24e9fd3e",
   "metadata": {
    "lines_to_next_cell": 0
   },
   "outputs": [],
   "source": [
    "import numpy as np\n",
    "import pandas as pd\n",
    "import matplotlib.pyplot as plt\n",
    "import seaborn\n",
    "from sklearn import preprocessing, impute, neighbors, feature_extraction, pipeline\n",
    "from sklearn.experimental import enable_iterative_imputer\n",
    "from typing import List, Tuple\n",
    "\n",
    "\n",
    "def plot_imputation_graph(imputations: Tuple[str, List[pd.DataFrame]],\n",
    "                          missing_cols: List[str]) -> None:\n",
    "    _, axs = plt.subplots(len(missing_cols), figsize=(10, 10))\n",
    "    for ax, col_name in zip(axs, missing_cols):\n",
    "        data = pd.concat([\n",
    "            imputation_df[[col_name]].assign(method=method)\n",
    "            for method, imputation_df in imputations\n",
    "        ])\n",
    "        seaborn.kdeplot(data=data, x=col_name, hue=\"method\", ax=ax)\n",
    "\n",
    "\n",
    "def impute_by(values, missing_col_names, estimator):\n",
    "    indicator = impute.MissingIndicator()\n",
    "    indicator.fit_transform(values)\n",
    "\n",
    "    imputer = impute.IterativeImputer(\n",
    "        random_state=0, estimator=estimator)\n",
    "    imputed_values = imputer.fit_transform(values)\n",
    "    imputed_df = pd.DataFrame(imputed_values[:, indicator.features_],\n",
    "                              columns=missing_col_names)\n",
    "    return imputed_df"
   ]
  },
  {
   "cell_type": "code",
   "execution_count": 2,
   "id": "50e61608",
   "metadata": {
    "lines_to_next_cell": 0
   },
   "outputs": [
    {
     "data": {
      "text/html": [
       "<div>\n",
       "<style scoped>\n",
       "    .dataframe tbody tr th:only-of-type {\n",
       "        vertical-align: middle;\n",
       "    }\n",
       "\n",
       "    .dataframe tbody tr th {\n",
       "        vertical-align: top;\n",
       "    }\n",
       "\n",
       "    .dataframe thead th {\n",
       "        text-align: right;\n",
       "    }\n",
       "</style>\n",
       "<table border=\"1\" class=\"dataframe\">\n",
       "  <thead>\n",
       "    <tr style=\"text-align: right;\">\n",
       "      <th></th>\n",
       "      <th>housing_price</th>\n",
       "      <th>housing_room_segment</th>\n",
       "      <th>housing_bathroom_segment</th>\n",
       "      <th>housing_land_size</th>\n",
       "      <th>housing_building_area</th>\n",
       "      <th>housing_type</th>\n",
       "      <th>housing_year_built</th>\n",
       "      <th>suburb_id</th>\n",
       "      <th>suburb_name</th>\n",
       "      <th>suburb_region_segment</th>\n",
       "      <th>suburb_council_area</th>\n",
       "      <th>suburb_rental_dailyprice</th>\n",
       "    </tr>\n",
       "  </thead>\n",
       "  <tbody>\n",
       "    <tr>\n",
       "      <th>0</th>\n",
       "      <td>1480000.0</td>\n",
       "      <td>(1, 2]</td>\n",
       "      <td>(0, 1]</td>\n",
       "      <td>202.0</td>\n",
       "      <td>NaN</td>\n",
       "      <td>h</td>\n",
       "      <td>NaN</td>\n",
       "      <td>0</td>\n",
       "      <td>Abbotsford</td>\n",
       "      <td>Northern Metropolitan</td>\n",
       "      <td>['Yarra']</td>\n",
       "      <td>117.719512</td>\n",
       "    </tr>\n",
       "    <tr>\n",
       "      <th>1</th>\n",
       "      <td>1035000.0</td>\n",
       "      <td>(1, 2]</td>\n",
       "      <td>(0, 1]</td>\n",
       "      <td>156.0</td>\n",
       "      <td>79.0</td>\n",
       "      <td>h</td>\n",
       "      <td>1900.0</td>\n",
       "      <td>0</td>\n",
       "      <td>Abbotsford</td>\n",
       "      <td>Northern Metropolitan</td>\n",
       "      <td>['Yarra']</td>\n",
       "      <td>117.719512</td>\n",
       "    </tr>\n",
       "    <tr>\n",
       "      <th>2</th>\n",
       "      <td>1465000.0</td>\n",
       "      <td>(2, 3]</td>\n",
       "      <td>(1, 2]</td>\n",
       "      <td>134.0</td>\n",
       "      <td>150.0</td>\n",
       "      <td>h</td>\n",
       "      <td>1900.0</td>\n",
       "      <td>0</td>\n",
       "      <td>Abbotsford</td>\n",
       "      <td>Northern Metropolitan</td>\n",
       "      <td>['Yarra']</td>\n",
       "      <td>117.719512</td>\n",
       "    </tr>\n",
       "    <tr>\n",
       "      <th>3</th>\n",
       "      <td>850000.0</td>\n",
       "      <td>(2, 3]</td>\n",
       "      <td>(1, 2]</td>\n",
       "      <td>94.0</td>\n",
       "      <td>NaN</td>\n",
       "      <td>h</td>\n",
       "      <td>NaN</td>\n",
       "      <td>0</td>\n",
       "      <td>Abbotsford</td>\n",
       "      <td>Northern Metropolitan</td>\n",
       "      <td>['Yarra']</td>\n",
       "      <td>117.719512</td>\n",
       "    </tr>\n",
       "    <tr>\n",
       "      <th>4</th>\n",
       "      <td>1600000.0</td>\n",
       "      <td>(3, 4]</td>\n",
       "      <td>(0, 1]</td>\n",
       "      <td>120.0</td>\n",
       "      <td>142.0</td>\n",
       "      <td>h</td>\n",
       "      <td>2014.0</td>\n",
       "      <td>0</td>\n",
       "      <td>Abbotsford</td>\n",
       "      <td>Northern Metropolitan</td>\n",
       "      <td>['Yarra']</td>\n",
       "      <td>117.719512</td>\n",
       "    </tr>\n",
       "    <tr>\n",
       "      <th>...</th>\n",
       "      <td>...</td>\n",
       "      <td>...</td>\n",
       "      <td>...</td>\n",
       "      <td>...</td>\n",
       "      <td>...</td>\n",
       "      <td>...</td>\n",
       "      <td>...</td>\n",
       "      <td>...</td>\n",
       "      <td>...</td>\n",
       "      <td>...</td>\n",
       "      <td>...</td>\n",
       "      <td>...</td>\n",
       "    </tr>\n",
       "    <tr>\n",
       "      <th>13201</th>\n",
       "      <td>1245000.0</td>\n",
       "      <td>(3, 4]</td>\n",
       "      <td>(1, 2]</td>\n",
       "      <td>652.0</td>\n",
       "      <td>NaN</td>\n",
       "      <td>h</td>\n",
       "      <td>1981.0</td>\n",
       "      <td>248</td>\n",
       "      <td>Wheelers Hill</td>\n",
       "      <td>South-Eastern Metropolitan</td>\n",
       "      <td>['Monash']</td>\n",
       "      <td>109.742268</td>\n",
       "    </tr>\n",
       "    <tr>\n",
       "      <th>13202</th>\n",
       "      <td>1031000.0</td>\n",
       "      <td>(2, 3]</td>\n",
       "      <td>(1, 2]</td>\n",
       "      <td>333.0</td>\n",
       "      <td>133.0</td>\n",
       "      <td>h</td>\n",
       "      <td>1995.0</td>\n",
       "      <td>104</td>\n",
       "      <td>Williamstown</td>\n",
       "      <td>Western Metropolitan</td>\n",
       "      <td>['Hobsons Bay']</td>\n",
       "      <td>177.911765</td>\n",
       "    </tr>\n",
       "    <tr>\n",
       "      <th>13203</th>\n",
       "      <td>1170000.0</td>\n",
       "      <td>(2, 3]</td>\n",
       "      <td>(1, 2]</td>\n",
       "      <td>436.0</td>\n",
       "      <td>NaN</td>\n",
       "      <td>h</td>\n",
       "      <td>1997.0</td>\n",
       "      <td>104</td>\n",
       "      <td>Williamstown</td>\n",
       "      <td>Western Metropolitan</td>\n",
       "      <td>['Hobsons Bay']</td>\n",
       "      <td>177.911765</td>\n",
       "    </tr>\n",
       "    <tr>\n",
       "      <th>13204</th>\n",
       "      <td>2500000.0</td>\n",
       "      <td>(3, 4]</td>\n",
       "      <td>(0, 1]</td>\n",
       "      <td>866.0</td>\n",
       "      <td>157.0</td>\n",
       "      <td>h</td>\n",
       "      <td>1920.0</td>\n",
       "      <td>104</td>\n",
       "      <td>Williamstown</td>\n",
       "      <td>Western Metropolitan</td>\n",
       "      <td>['Hobsons Bay']</td>\n",
       "      <td>177.911765</td>\n",
       "    </tr>\n",
       "    <tr>\n",
       "      <th>13205</th>\n",
       "      <td>1285000.0</td>\n",
       "      <td>(3, 4]</td>\n",
       "      <td>(0, 1]</td>\n",
       "      <td>362.0</td>\n",
       "      <td>112.0</td>\n",
       "      <td>h</td>\n",
       "      <td>1920.0</td>\n",
       "      <td>108</td>\n",
       "      <td>Yarraville</td>\n",
       "      <td>Western Metropolitan</td>\n",
       "      <td>['Maribyrnong']</td>\n",
       "      <td>146.830189</td>\n",
       "    </tr>\n",
       "  </tbody>\n",
       "</table>\n",
       "<p>13206 rows × 12 columns</p>\n",
       "</div>"
      ],
      "text/plain": [
       "       housing_price housing_room_segment housing_bathroom_segment  \\\n",
       "0          1480000.0               (1, 2]                   (0, 1]   \n",
       "1          1035000.0               (1, 2]                   (0, 1]   \n",
       "2          1465000.0               (2, 3]                   (1, 2]   \n",
       "3           850000.0               (2, 3]                   (1, 2]   \n",
       "4          1600000.0               (3, 4]                   (0, 1]   \n",
       "...              ...                  ...                      ...   \n",
       "13201      1245000.0               (3, 4]                   (1, 2]   \n",
       "13202      1031000.0               (2, 3]                   (1, 2]   \n",
       "13203      1170000.0               (2, 3]                   (1, 2]   \n",
       "13204      2500000.0               (3, 4]                   (0, 1]   \n",
       "13205      1285000.0               (3, 4]                   (0, 1]   \n",
       "\n",
       "       housing_land_size  housing_building_area housing_type  \\\n",
       "0                  202.0                    NaN            h   \n",
       "1                  156.0                   79.0            h   \n",
       "2                  134.0                  150.0            h   \n",
       "3                   94.0                    NaN            h   \n",
       "4                  120.0                  142.0            h   \n",
       "...                  ...                    ...          ...   \n",
       "13201              652.0                    NaN            h   \n",
       "13202              333.0                  133.0            h   \n",
       "13203              436.0                    NaN            h   \n",
       "13204              866.0                  157.0            h   \n",
       "13205              362.0                  112.0            h   \n",
       "\n",
       "       housing_year_built  suburb_id    suburb_name  \\\n",
       "0                     NaN          0     Abbotsford   \n",
       "1                  1900.0          0     Abbotsford   \n",
       "2                  1900.0          0     Abbotsford   \n",
       "3                     NaN          0     Abbotsford   \n",
       "4                  2014.0          0     Abbotsford   \n",
       "...                   ...        ...            ...   \n",
       "13201              1981.0        248  Wheelers Hill   \n",
       "13202              1995.0        104   Williamstown   \n",
       "13203              1997.0        104   Williamstown   \n",
       "13204              1920.0        104   Williamstown   \n",
       "13205              1920.0        108     Yarraville   \n",
       "\n",
       "            suburb_region_segment suburb_council_area  \\\n",
       "0           Northern Metropolitan           ['Yarra']   \n",
       "1           Northern Metropolitan           ['Yarra']   \n",
       "2           Northern Metropolitan           ['Yarra']   \n",
       "3           Northern Metropolitan           ['Yarra']   \n",
       "4           Northern Metropolitan           ['Yarra']   \n",
       "...                           ...                 ...   \n",
       "13201  South-Eastern Metropolitan          ['Monash']   \n",
       "13202        Western Metropolitan     ['Hobsons Bay']   \n",
       "13203        Western Metropolitan     ['Hobsons Bay']   \n",
       "13204        Western Metropolitan     ['Hobsons Bay']   \n",
       "13205        Western Metropolitan     ['Maribyrnong']   \n",
       "\n",
       "       suburb_rental_dailyprice  \n",
       "0                    117.719512  \n",
       "1                    117.719512  \n",
       "2                    117.719512  \n",
       "3                    117.719512  \n",
       "4                    117.719512  \n",
       "...                         ...  \n",
       "13201                109.742268  \n",
       "13202                177.911765  \n",
       "13203                177.911765  \n",
       "13204                177.911765  \n",
       "13205                146.830189  \n",
       "\n",
       "[13206 rows x 12 columns]"
      ]
     },
     "execution_count": 2,
     "metadata": {},
     "output_type": "execute_result"
    }
   ],
   "source": [
    "URL_MELB_HOUSING_FILTERED = \"https://www.famaf.unc.edu.ar/~nocampo043/melb_housing_filtered_df.csv\"\n",
    "URL_MELB_SUBURB_FILTERED = \"https://www.famaf.unc.edu.ar/~nocampo043/melb_suburb_filtered_df.csv\"\n",
    "\n",
    "melb_housing_df = pd.read_csv(URL_MELB_HOUSING_FILTERED)\n",
    "melb_suburb_df = pd.read_csv(URL_MELB_SUBURB_FILTERED)\n",
    "melb_combined_df = melb_housing_df.join(melb_suburb_df, on=\"suburb_id\")\n",
    "melb_combined_df"
   ]
  },
  {
   "cell_type": "markdown",
   "id": "d045620e",
   "metadata": {
    "cell_marker": "\"\"\"",
    "lines_to_next_cell": 0
   },
   "source": [
    "## Enconding "
   ]
  },
  {
   "cell_type": "markdown",
   "id": "b10480fd",
   "metadata": {
    "cell_marker": "\"\"\"",
    "lines_to_next_cell": 0
   },
   "source": [
    "### Dict Vectorizer"
   ]
  },
  {
   "cell_type": "code",
   "execution_count": 3,
   "id": "246e5672",
   "metadata": {
    "lines_to_next_cell": 0
   },
   "outputs": [
    {
     "data": {
      "text/plain": [
       "<13206x20 sparse matrix of type '<class 'numpy.float64'>'\n",
       "\twith 92442 stored elements in Compressed Sparse Row format>"
      ]
     },
     "execution_count": 3,
     "metadata": {},
     "output_type": "execute_result"
    }
   ],
   "source": [
    "categorical_cols = [\n",
    "    \"housing_room_segment\", \"housing_bathroom_segment\", \"housing_type\",\n",
    "    \"suburb_region_segment\"\n",
    "]\n",
    "numerical_cols = [\n",
    "    \"housing_price\", \"housing_land_size\", \"suburb_rental_dailyprice\"\n",
    "]\n",
    "feature_cols = categorical_cols + numerical_cols\n",
    "features = list(melb_combined_df[feature_cols].T.to_dict().values())\n",
    "\n",
    "vectorizer = feature_extraction.DictVectorizer()\n",
    "feature_matrix = vectorizer.fit_transform(features)\n",
    "feature_matrix"
   ]
  },
  {
   "cell_type": "code",
   "execution_count": 4,
   "id": "08faa36b",
   "metadata": {
    "lines_to_next_cell": 0
   },
   "outputs": [
    {
     "data": {
      "text/plain": [
       "['housing_bathroom_segment=(0, 1]',\n",
       " 'housing_bathroom_segment=(1, 2]',\n",
       " 'housing_bathroom_segment=(2, 8]',\n",
       " 'housing_land_size',\n",
       " 'housing_price',\n",
       " 'housing_room_segment=(0, 1]',\n",
       " 'housing_room_segment=(1, 2]',\n",
       " 'housing_room_segment=(2, 3]',\n",
       " 'housing_room_segment=(3, 4]',\n",
       " 'housing_room_segment=(4, 10]',\n",
       " 'housing_type=h',\n",
       " 'housing_type=t',\n",
       " 'housing_type=u',\n",
       " 'suburb_region_segment=Eastern Metropolitan',\n",
       " 'suburb_region_segment=Northern Metropolitan',\n",
       " 'suburb_region_segment=South-Eastern Metropolitan',\n",
       " 'suburb_region_segment=Southern Metropolitan',\n",
       " 'suburb_region_segment=Victoria',\n",
       " 'suburb_region_segment=Western Metropolitan',\n",
       " 'suburb_rental_dailyprice']"
      ]
     },
     "execution_count": 4,
     "metadata": {},
     "output_type": "execute_result"
    }
   ],
   "source": [
    "vectorizer.get_feature_names()"
   ]
  },
  {
   "cell_type": "markdown",
   "id": "db97634e",
   "metadata": {
    "cell_marker": "\"\"\"",
    "lines_to_next_cell": 0
   },
   "source": [
    "### One-Hot Encoding"
   ]
  },
  {
   "cell_type": "code",
   "execution_count": 5,
   "id": "768293a9",
   "metadata": {
    "lines_to_next_cell": 0
   },
   "outputs": [
    {
     "data": {
      "text/plain": [
       "(13206, 20)"
      ]
     },
     "execution_count": 5,
     "metadata": {},
     "output_type": "execute_result"
    }
   ],
   "source": [
    "ohe = preprocessing.OneHotEncoder(sparse=False)\n",
    "feature_matrix_ohe = np.hstack([\n",
    "    ohe.fit_transform(melb_combined_df[categorical_cols]),\n",
    "    melb_combined_df[numerical_cols]\n",
    "])\n",
    "feature_matrix_ohe.shape"
   ]
  },
  {
   "cell_type": "markdown",
   "id": "cb2b7cf9",
   "metadata": {
    "cell_marker": "\"\"\"",
    "lines_to_next_cell": 0
   },
   "source": [
    "## Imputación por KNN"
   ]
  },
  {
   "cell_type": "markdown",
   "id": "17986d04",
   "metadata": {
    "cell_marker": "\"\"\"",
    "lines_to_next_cell": 0
   },
   "source": [
    "### Sin escalado"
   ]
  },
  {
   "cell_type": "code",
   "execution_count": 6,
   "id": "20570ed2",
   "metadata": {
    "lines_to_next_cell": 0
   },
   "outputs": [],
   "source": [
    "missing_cols = [\"housing_year_built\", \"housing_building_area\"]\n",
    "estimator = neighbors.KNeighborsRegressor(n_neighbors=2)"
   ]
  },
  {
   "cell_type": "code",
   "execution_count": 7,
   "id": "ae786367",
   "metadata": {
    "lines_to_next_cell": 0
   },
   "outputs": [
    {
     "name": "stderr",
     "output_type": "stream",
     "text": [
      "C:\\Users\\Pame\\anaconda3\\envs\\diplo\\lib\\site-packages\\sklearn\\impute\\_iterative.py:685: ConvergenceWarning: [IterativeImputer] Early stopping criterion not reached.\n",
      "  warnings.warn(\"[IterativeImputer] Early stopping criterion not\"\n"
     ]
    }
   ],
   "source": [
    "missing_df = melb_combined_df[missing_cols]\n",
    "original_df = missing_df.dropna()\n",
    "all_df = np.hstack([missing_df, feature_matrix.todense()])\n",
    "\n",
    "knn_missing_cols = impute_by(missing_df, missing_cols, estimator)\n",
    "knn_all_cols = impute_by(all_df, missing_cols, estimator)"
   ]
  },
  {
   "cell_type": "code",
   "execution_count": 8,
   "id": "67e09ccd",
   "metadata": {
    "lines_to_next_cell": 0
   },
   "outputs": [
    {
     "data": {
      "image/png": "[encoded data removed]",
      "text/plain": [
       "<Figure size 720x720 with 2 Axes>"
      ]
     },
     "metadata": {
      "needs_background": "light"
     },
     "output_type": "display_data"
    }
   ],
   "source": [
    "imputations = [\n",
    "    (\"original\", original_df),\n",
    "    (\"knn - missing cols\", knn_missing_cols),\n",
    "    (\"knn - all cols\", knn_all_cols)\n",
    "]\n",
    "plot_imputation_graph(imputations, missing_cols)"
   ]
  },
  {
   "cell_type": "markdown",
   "id": "6d87462a",
   "metadata": {
    "cell_marker": "\"\"\"",
    "lines_to_next_cell": 0
   },
   "source": [
    "### Con escalado"
   ]
  },
  {
   "cell_type": "code",
   "execution_count": null,
   "id": "e69f3154",
   "metadata": {
    "lines_to_next_cell": 0
   },
   "outputs": [
    {
     "name": "stderr",
     "output_type": "stream",
     "text": [
      "C:\\Users\\Pame\\anaconda3\\envs\\diplo\\lib\\site-packages\\sklearn\\impute\\_iterative.py:685: ConvergenceWarning: [IterativeImputer] Early stopping criterion not reached.\n",
      "  warnings.warn(\"[IterativeImputer] Early stopping criterion not\"\n"
     ]
    }
   ],
   "source": [
    "scaler = preprocessing.StandardScaler()\n",
    "original_scaled_df = pd.DataFrame(scaler.fit_transform(original_df),\n",
    "                                  columns=missing_cols)\n",
    "knn_scaled_missing_cols = impute_by(scaler.fit_transform(missing_df),\n",
    "                                    missing_cols, estimator)\n",
    "knn_scaled_all_cols = impute_by(scaler.fit_transform(all_df), missing_cols,\n",
    "                                estimator)"
   ]
  },
  {
   "cell_type": "code",
   "execution_count": null,
   "id": "f8daa766",
   "metadata": {
    "lines_to_next_cell": 0
   },
   "outputs": [],
   "source": [
    "imputations = [\n",
    "    (\"scaled original\", original_scaled_df),\n",
    "    (\"knn - scaled missing cols\", knn_scaled_missing_cols),\n",
    "    (\"knn - scaled all cols\", knn_scaled_all_cols)\n",
    "]\n",
    "plot_imputation_graph(imputations, missing_cols)"
   ]
  },
  {
   "cell_type": "markdown",
   "id": "7210c529",
   "metadata": {
    "cell_marker": "\"\"\"",
    "lines_to_next_cell": 0
   },
   "source": [
    "### Selección de imputación por todas las columnas"
   ]
  },
  {
   "cell_type": "code",
   "execution_count": null,
   "id": "fa6e4133",
   "metadata": {
    "lines_to_next_cell": 0
   },
   "outputs": [],
   "source": [
    "feature_matrix = np.hstack([feature_matrix.todense(), knn_all_cols])"
   ]
  },
  {
   "cell_type": "markdown",
   "id": "1c9299cd",
   "metadata": {
    "cell_marker": "\"\"\"",
    "lines_to_next_cell": 0
   },
   "source": [
    "## Reducción de dimensionalidad"
   ]
  },
  {
   "cell_type": "markdown",
   "id": "552e8faf",
   "metadata": {
    "cell_marker": "\"\"\""
   },
   "source": [
    "## Composición del resultado"
   ]
  }
 ],
 "metadata": {
  "jupytext": {
   "cell_markers": "\"\"\"",
   "encoding": "# -*- coding: utf-8 -*-",
   "formats": "ipynb,py:percent",
   "main_language": "python"
  },
  "kernelspec": {
   "display_name": "Python 3",
   "language": "python",
   "name": "python3"
  },
  "language_info": {
   "codemirror_mode": {
    "name": "ipython",
    "version": 3
   },
   "file_extension": ".py",
   "mimetype": "text/x-python",
   "name": "python",
   "nbconvert_exporter": "python",
   "pygments_lexer": "ipython3",
   "version": "3.9.5"
  }
 },
 "nbformat": 4,
 "nbformat_minor": 5
}
