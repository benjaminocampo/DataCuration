{
 "cells": [
  {
   "cell_type": "markdown",
   "id": "bd50510f",
   "metadata": {
    "cell_marker": "\"\"\"",
    "lines_to_next_cell": 0
   },
   "source": [
    "# Diplomatura en Ciencias de Datos, Aprendizaje Automático y sus Aplicaciones\n",
    "\n",
    "Autores: Matías Oria, Antonela Sambuceti, Pamela Pairo, Benjamín Ocampo"
   ]
  },
  {
   "cell_type": "code",
   "execution_count": null,
   "id": "24e9fd3e",
   "metadata": {
    "lines_to_next_cell": 0
   },
   "outputs": [],
   "source": [
    "from typing import List, Tuple\n",
    "import numpy as np\n",
    "import pandas as pd\n",
    "import matplotlib.pyplot as plt\n",
    "import seaborn\n",
    "from sklearn import preprocessing, impute, neighbors, feature_extraction, pipeline\n",
    "from sklearn.experimental import enable_iterative_imputer\n",
    "\n",
    "\n",
    "def plot_imputation_graph(imputations: Tuple[str, List[pd.DataFrame]],\n",
    "                          missing_cols: List[str]) -> None:\n",
    "    _, axs = plt.subplots(len(missing_cols), figsize=(10, 10))\n",
    "    for ax, col_name in zip(axs, missing_cols):\n",
    "        data = pd.concat([\n",
    "            imputation_df[[col_name]].assign(method=method)\n",
    "            for method, imputation_df in imputations\n",
    "        ])\n",
    "        seaborn.kdeplot(data=data, x=col_name, hue=\"method\", ax=ax)\n",
    "\n",
    "\n",
    "def impute_by(values, missing_col_names, estimator):\n",
    "    indicator = impute.MissingIndicator()\n",
    "    indicator.fit_transform(values)\n",
    "\n",
    "    imputer = impute.IterativeImputer(\n",
    "        random_state=0, estimator=estimator)\n",
    "    imputed_values = imputer.fit_transform(values)\n",
    "    imputed_df = pd.DataFrame(imputed_values[:, indicator.features_],\n",
    "                              columns=missing_col_names)\n",
    "    return imputed_df"
   ]
  },
  {
   "cell_type": "code",
   "execution_count": null,
   "id": "50e61608",
   "metadata": {
    "lines_to_next_cell": 0
   },
   "outputs": [],
   "source": [
    "URL_MELB_HOUSING_FILTERED = \"https://www.famaf.unc.edu.ar/~nocampo043/melb_housing_filtered_df.csv\"\n",
    "URL_MELB_SUBURB_FILTERED = \"https://www.famaf.unc.edu.ar/~nocampo043/melb_suburb_filtered_df.csv\"\n",
    "\n",
    "melb_housing_df = pd.read_csv(URL_MELB_HOUSING_FILTERED)\n",
    "melb_suburb_df = pd.read_csv(URL_MELB_SUBURB_FILTERED)\n",
    "melb_combined_df = melb_housing_df.join(melb_suburb_df, on=\"suburb_id\")\n",
    "melb_combined_df"
   ]
  },
  {
   "cell_type": "markdown",
   "id": "d045620e",
   "metadata": {
    "cell_marker": "\"\"\"",
    "lines_to_next_cell": 0
   },
   "source": [
    "## Enconding "
   ]
  },
  {
   "cell_type": "code",
   "execution_count": null,
   "id": "246e5672",
   "metadata": {
    "lines_to_next_cell": 0
   },
   "outputs": [],
   "source": [
    "categorical_cols = [\n",
    "    \"housing_room_segment\", \"housing_bathroom_segment\", \"housing_type\",\n",
    "    \"suburb_region_segment\"\n",
    "]\n",
    "numerical_cols = [\n",
    "    \"housing_price\", \"housing_land_size\", \"suburb_rental_dailyprice\"\n",
    "]\n",
    "feature_cols = categorical_cols + numerical_cols\n",
    "features = list(melb_combined_df[feature_cols].T.to_dict().values())\n",
    "\n",
    "vectorizer = feature_extraction.DictVectorizer()\n",
    "feature_matrix = vectorizer.fit_transform(features)\n",
    "feature_matrix"
   ]
  },
  {
   "cell_type": "code",
   "execution_count": null,
   "id": "08faa36b",
   "metadata": {
    "lines_to_next_cell": 0
   },
   "outputs": [],
   "source": [
    "vectorizer.get_feature_names()"
   ]
  },
  {
   "cell_type": "markdown",
   "id": "cb2b7cf9",
   "metadata": {
    "cell_marker": "\"\"\"",
    "lines_to_next_cell": 0
   },
   "source": [
    "## Imputación por KNN"
   ]
  },
  {
   "cell_type": "markdown",
   "id": "17986d04",
   "metadata": {
    "cell_marker": "\"\"\"",
    "lines_to_next_cell": 0
   },
   "source": [
    "### Sin escalado"
   ]
  },
  {
   "cell_type": "code",
   "execution_count": null,
   "id": "20570ed2",
   "metadata": {
    "lines_to_next_cell": 0
   },
   "outputs": [],
   "source": [
    "missing_cols = [\"housing_year_built\", \"housing_building_area\"]\n",
    "estimator = neighbors.KNeighborsRegressor(n_neighbors=2)"
   ]
  },
  {
   "cell_type": "code",
   "execution_count": null,
   "id": "ae786367",
   "metadata": {
    "lines_to_next_cell": 0
   },
   "outputs": [],
   "source": [
    "missing_df = melb_combined_df[missing_cols]\n",
    "original_df = missing_df.dropna()\n",
    "all_df = np.hstack([missing_df, feature_matrix.todense()])\n",
    "\n",
    "knn_missing_cols = impute_by(missing_df, missing_cols, estimator)\n",
    "knn_all_cols = impute_by(all_df, missing_cols, estimator)"
   ]
  },
  {
   "cell_type": "code",
   "execution_count": null,
   "id": "67e09ccd",
   "metadata": {
    "lines_to_next_cell": 0
   },
   "outputs": [],
   "source": [
    "imputations = [\n",
    "    (\"original\", original_df),\n",
    "    (\"knn - missing cols\", knn_missing_cols),\n",
    "    (\"knn - all cols\", knn_all_cols)\n",
    "]\n",
    "plot_imputation_graph(imputations, missing_cols)"
   ]
  },
  {
   "cell_type": "markdown",
   "id": "6d87462a",
   "metadata": {
    "cell_marker": "\"\"\"",
    "lines_to_next_cell": 0
   },
   "source": [
    "### Con escalado"
   ]
  },
  {
   "cell_type": "code",
   "execution_count": null,
   "id": "e69f3154",
   "metadata": {
    "lines_to_next_cell": 0
   },
   "outputs": [],
   "source": [
    "scaler = preprocessing.StandardScaler()\n",
    "original_scaled_df = pd.DataFrame(scaler.fit_transform(original_df),\n",
    "                                  columns=missing_cols)\n",
    "knn_scaled_missing_cols = impute_by(scaler.fit_transform(missing_df),\n",
    "                                    missing_cols, estimator)\n",
    "knn_scaled_all_cols = impute_by(scaler.fit_transform(all_df), missing_cols,\n",
    "                                estimator)"
   ]
  },
  {
   "cell_type": "code",
   "execution_count": null,
   "id": "f8daa766",
   "metadata": {
    "lines_to_next_cell": 0
   },
   "outputs": [],
   "source": [
    "imputations = [\n",
    "    (\"scaled original\", original_scaled_df),\n",
    "    (\"knn - scaled missing cols\", knn_scaled_missing_cols),\n",
    "    (\"knn - scaled all cols\", knn_scaled_all_cols)\n",
    "]\n",
    "plot_imputation_graph(imputations, missing_cols)"
   ]
  },
  {
   "cell_type": "markdown",
   "id": "1c9299cd",
   "metadata": {
    "cell_marker": "\"\"\"",
    "lines_to_next_cell": 0
   },
   "source": [
    "## Reducción de dimensionalidad"
   ]
  },
  {
   "cell_type": "markdown",
   "id": "552e8faf",
   "metadata": {
    "cell_marker": "\"\"\""
   },
   "source": [
    "## Composición del resultado"
   ]
  }
 ],
 "metadata": {
  "jupytext": {
   "cell_markers": "\"\"\"",
   "encoding": "# -*- coding: utf-8 -*-",
   "formats": "ipynb,py:percent",
   "main_language": "python"
  },
  "kernelspec": {
   "display_name": "Python 3",
   "name": "python3"
  }
 },
 "nbformat": 4,
 "nbformat_minor": 5
}
