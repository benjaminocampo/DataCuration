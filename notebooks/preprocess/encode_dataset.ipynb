{
 "cells": [
  {
   "cell_type": "markdown",
   "id": "d857b958",
   "metadata": {
    "cell_marker": "\"\"\"",
    "lines_to_next_cell": 0
   },
   "source": [
    "# Diplomatura en Ciencias de Datos, Aprendizaje Automático y sus Aplicaciones\n",
    "\n",
    "Autores: Matías Oria, Antonela Sambuceti, Pamela Pairo, Benjamín Ocampo"
   ]
  },
  {
   "cell_type": "markdown",
   "id": "17ce677e",
   "metadata": {
    "cell_marker": "\"\"\"",
    "lines_to_next_cell": 0
   },
   "source": [
    "## Definición de funciones *helper*\n",
    "Inicialmente se definen funciones que se utilizaron durante la selección e\n",
    "imputación de columnas del conjunto de datos obtenido en\n",
    "`melbourne_exploration.py` y almacenados en un servidor para su acceso remoto."
   ]
  },
  {
   "cell_type": "code",
   "execution_count": 1,
   "id": "bdcb046b",
   "metadata": {
    "lines_to_next_cell": 0
   },
   "outputs": [],
   "source": [
    "import numpy as np\n",
    "import pandas as pd\n",
    "import matplotlib.pyplot as plt\n",
    "import seaborn\n",
    "from sklearn.experimental import enable_iterative_imputer\n",
    "from sklearn import (base, decomposition, feature_extraction, impute,\n",
    "                     neighbors, preprocessing)\n",
    "from typing import List, Tuple, Union\n",
    "\n",
    "\n",
    "def plot_imputation_graph(imputations: List[Tuple[str, pd.DataFrame]],\n",
    "                          missing_cols: List[str]) -> None:\n",
    "    \"\"\"\n",
    "    Makes a group of density plots according to the number of columns on the\n",
    "    dataframes inside @imputations. @imputations must be a list of pairs\n",
    "    (@method_name, @value_df) where each @value_df has the same @missing_cols\n",
    "    obtained by its corresponding imputer @method_name.\n",
    "    \"\"\"\n",
    "    _, axs = plt.subplots(len(missing_cols), figsize=(10, 10))\n",
    "    for ax, col_name in zip(axs, missing_cols):\n",
    "        data = pd.concat([\n",
    "            imputation_df[[col_name]].assign(method=method)\n",
    "            for method, imputation_df in imputations\n",
    "        ])\n",
    "        seaborn.kdeplot(data=data, x=col_name, hue=\"method\", ax=ax)\n",
    "\n",
    "\n",
    "def impute_by(values: Union[np.array, pd.DataFrame],\n",
    "              missing_col_names: List[str],\n",
    "              estimator: base.BaseEstimator) -> pd.DataFrame:\n",
    "    \"\"\"\n",
    "    Returns a dataframe that fills null entries of @values according to\n",
    "    @estimator. @missing_col_names are labels that will be assigned when\n",
    "    created. @values might have columns that doesn't have null values, such that\n",
    "    the IterativeImputer class takes advantage of it in order to estimate\n",
    "    missing values.\n",
    "    \"\"\"\n",
    "    indicator = impute.MissingIndicator()\n",
    "    indicator.fit_transform(values)\n",
    "\n",
    "    imputer = impute.IterativeImputer(\n",
    "        random_state=0, estimator=estimator)\n",
    "    imputed_values = imputer.fit_transform(values)\n",
    "    imputed_df = pd.DataFrame(imputed_values[:, indicator.features_],\n",
    "                              columns=missing_col_names)\n",
    "    return imputed_df"
   ]
  },
  {
   "cell_type": "code",
   "execution_count": 2,
   "id": "f5c7fcc3",
   "metadata": {
    "lines_to_next_cell": 0
   },
   "outputs": [
    {
     "data": {
      "text/html": [
       "<div>\n",
       "<style scoped>\n",
       "    .dataframe tbody tr th:only-of-type {\n",
       "        vertical-align: middle;\n",
       "    }\n",
       "\n",
       "    .dataframe tbody tr th {\n",
       "        vertical-align: top;\n",
       "    }\n",
       "\n",
       "    .dataframe thead th {\n",
       "        text-align: right;\n",
       "    }\n",
       "</style>\n",
       "<table border=\"1\" class=\"dataframe\">\n",
       "  <thead>\n",
       "    <tr style=\"text-align: right;\">\n",
       "      <th></th>\n",
       "      <th>housing_price</th>\n",
       "      <th>housing_room_segment</th>\n",
       "      <th>housing_bathroom_segment</th>\n",
       "      <th>housing_land_size</th>\n",
       "      <th>housing_building_area</th>\n",
       "      <th>housing_type</th>\n",
       "      <th>housing_year_built</th>\n",
       "      <th>suburb_id</th>\n",
       "      <th>suburb_name</th>\n",
       "      <th>suburb_region_segment</th>\n",
       "      <th>suburb_council_area</th>\n",
       "      <th>suburb_rental_dailyprice</th>\n",
       "    </tr>\n",
       "  </thead>\n",
       "  <tbody>\n",
       "    <tr>\n",
       "      <th>0</th>\n",
       "      <td>1480000.0</td>\n",
       "      <td>(1, 2]</td>\n",
       "      <td>(0, 1]</td>\n",
       "      <td>202.0</td>\n",
       "      <td>NaN</td>\n",
       "      <td>h</td>\n",
       "      <td>NaN</td>\n",
       "      <td>0</td>\n",
       "      <td>Abbotsford</td>\n",
       "      <td>Northern Metropolitan</td>\n",
       "      <td>['Yarra']</td>\n",
       "      <td>117.719512</td>\n",
       "    </tr>\n",
       "    <tr>\n",
       "      <th>1</th>\n",
       "      <td>1035000.0</td>\n",
       "      <td>(1, 2]</td>\n",
       "      <td>(0, 1]</td>\n",
       "      <td>156.0</td>\n",
       "      <td>79.0</td>\n",
       "      <td>h</td>\n",
       "      <td>1900.0</td>\n",
       "      <td>0</td>\n",
       "      <td>Abbotsford</td>\n",
       "      <td>Northern Metropolitan</td>\n",
       "      <td>['Yarra']</td>\n",
       "      <td>117.719512</td>\n",
       "    </tr>\n",
       "    <tr>\n",
       "      <th>2</th>\n",
       "      <td>1465000.0</td>\n",
       "      <td>(2, 3]</td>\n",
       "      <td>(1, 2]</td>\n",
       "      <td>134.0</td>\n",
       "      <td>150.0</td>\n",
       "      <td>h</td>\n",
       "      <td>1900.0</td>\n",
       "      <td>0</td>\n",
       "      <td>Abbotsford</td>\n",
       "      <td>Northern Metropolitan</td>\n",
       "      <td>['Yarra']</td>\n",
       "      <td>117.719512</td>\n",
       "    </tr>\n",
       "    <tr>\n",
       "      <th>3</th>\n",
       "      <td>850000.0</td>\n",
       "      <td>(2, 3]</td>\n",
       "      <td>(1, 2]</td>\n",
       "      <td>94.0</td>\n",
       "      <td>NaN</td>\n",
       "      <td>h</td>\n",
       "      <td>NaN</td>\n",
       "      <td>0</td>\n",
       "      <td>Abbotsford</td>\n",
       "      <td>Northern Metropolitan</td>\n",
       "      <td>['Yarra']</td>\n",
       "      <td>117.719512</td>\n",
       "    </tr>\n",
       "    <tr>\n",
       "      <th>4</th>\n",
       "      <td>1600000.0</td>\n",
       "      <td>(3, 4]</td>\n",
       "      <td>(0, 1]</td>\n",
       "      <td>120.0</td>\n",
       "      <td>142.0</td>\n",
       "      <td>h</td>\n",
       "      <td>2014.0</td>\n",
       "      <td>0</td>\n",
       "      <td>Abbotsford</td>\n",
       "      <td>Northern Metropolitan</td>\n",
       "      <td>['Yarra']</td>\n",
       "      <td>117.719512</td>\n",
       "    </tr>\n",
       "    <tr>\n",
       "      <th>...</th>\n",
       "      <td>...</td>\n",
       "      <td>...</td>\n",
       "      <td>...</td>\n",
       "      <td>...</td>\n",
       "      <td>...</td>\n",
       "      <td>...</td>\n",
       "      <td>...</td>\n",
       "      <td>...</td>\n",
       "      <td>...</td>\n",
       "      <td>...</td>\n",
       "      <td>...</td>\n",
       "      <td>...</td>\n",
       "    </tr>\n",
       "    <tr>\n",
       "      <th>13201</th>\n",
       "      <td>1245000.0</td>\n",
       "      <td>(3, 4]</td>\n",
       "      <td>(1, 2]</td>\n",
       "      <td>652.0</td>\n",
       "      <td>NaN</td>\n",
       "      <td>h</td>\n",
       "      <td>1981.0</td>\n",
       "      <td>248</td>\n",
       "      <td>Wheelers Hill</td>\n",
       "      <td>South-Eastern Metropolitan</td>\n",
       "      <td>['Monash']</td>\n",
       "      <td>109.742268</td>\n",
       "    </tr>\n",
       "    <tr>\n",
       "      <th>13202</th>\n",
       "      <td>1031000.0</td>\n",
       "      <td>(2, 3]</td>\n",
       "      <td>(1, 2]</td>\n",
       "      <td>333.0</td>\n",
       "      <td>133.0</td>\n",
       "      <td>h</td>\n",
       "      <td>1995.0</td>\n",
       "      <td>104</td>\n",
       "      <td>Williamstown</td>\n",
       "      <td>Western Metropolitan</td>\n",
       "      <td>['Hobsons Bay']</td>\n",
       "      <td>177.911765</td>\n",
       "    </tr>\n",
       "    <tr>\n",
       "      <th>13203</th>\n",
       "      <td>1170000.0</td>\n",
       "      <td>(2, 3]</td>\n",
       "      <td>(1, 2]</td>\n",
       "      <td>436.0</td>\n",
       "      <td>NaN</td>\n",
       "      <td>h</td>\n",
       "      <td>1997.0</td>\n",
       "      <td>104</td>\n",
       "      <td>Williamstown</td>\n",
       "      <td>Western Metropolitan</td>\n",
       "      <td>['Hobsons Bay']</td>\n",
       "      <td>177.911765</td>\n",
       "    </tr>\n",
       "    <tr>\n",
       "      <th>13204</th>\n",
       "      <td>2500000.0</td>\n",
       "      <td>(3, 4]</td>\n",
       "      <td>(0, 1]</td>\n",
       "      <td>866.0</td>\n",
       "      <td>157.0</td>\n",
       "      <td>h</td>\n",
       "      <td>1920.0</td>\n",
       "      <td>104</td>\n",
       "      <td>Williamstown</td>\n",
       "      <td>Western Metropolitan</td>\n",
       "      <td>['Hobsons Bay']</td>\n",
       "      <td>177.911765</td>\n",
       "    </tr>\n",
       "    <tr>\n",
       "      <th>13205</th>\n",
       "      <td>1285000.0</td>\n",
       "      <td>(3, 4]</td>\n",
       "      <td>(0, 1]</td>\n",
       "      <td>362.0</td>\n",
       "      <td>112.0</td>\n",
       "      <td>h</td>\n",
       "      <td>1920.0</td>\n",
       "      <td>108</td>\n",
       "      <td>Yarraville</td>\n",
       "      <td>Western Metropolitan</td>\n",
       "      <td>['Maribyrnong']</td>\n",
       "      <td>146.830189</td>\n",
       "    </tr>\n",
       "  </tbody>\n",
       "</table>\n",
       "<p>13206 rows × 12 columns</p>\n",
       "</div>"
      ],
      "text/plain": [
       "       housing_price housing_room_segment housing_bathroom_segment  \\\n",
       "0          1480000.0               (1, 2]                   (0, 1]   \n",
       "1          1035000.0               (1, 2]                   (0, 1]   \n",
       "2          1465000.0               (2, 3]                   (1, 2]   \n",
       "3           850000.0               (2, 3]                   (1, 2]   \n",
       "4          1600000.0               (3, 4]                   (0, 1]   \n",
       "...              ...                  ...                      ...   \n",
       "13201      1245000.0               (3, 4]                   (1, 2]   \n",
       "13202      1031000.0               (2, 3]                   (1, 2]   \n",
       "13203      1170000.0               (2, 3]                   (1, 2]   \n",
       "13204      2500000.0               (3, 4]                   (0, 1]   \n",
       "13205      1285000.0               (3, 4]                   (0, 1]   \n",
       "\n",
       "       housing_land_size  housing_building_area housing_type  \\\n",
       "0                  202.0                    NaN            h   \n",
       "1                  156.0                   79.0            h   \n",
       "2                  134.0                  150.0            h   \n",
       "3                   94.0                    NaN            h   \n",
       "4                  120.0                  142.0            h   \n",
       "...                  ...                    ...          ...   \n",
       "13201              652.0                    NaN            h   \n",
       "13202              333.0                  133.0            h   \n",
       "13203              436.0                    NaN            h   \n",
       "13204              866.0                  157.0            h   \n",
       "13205              362.0                  112.0            h   \n",
       "\n",
       "       housing_year_built  suburb_id    suburb_name  \\\n",
       "0                     NaN          0     Abbotsford   \n",
       "1                  1900.0          0     Abbotsford   \n",
       "2                  1900.0          0     Abbotsford   \n",
       "3                     NaN          0     Abbotsford   \n",
       "4                  2014.0          0     Abbotsford   \n",
       "...                   ...        ...            ...   \n",
       "13201              1981.0        248  Wheelers Hill   \n",
       "13202              1995.0        104   Williamstown   \n",
       "13203              1997.0        104   Williamstown   \n",
       "13204              1920.0        104   Williamstown   \n",
       "13205              1920.0        108     Yarraville   \n",
       "\n",
       "            suburb_region_segment suburb_council_area  \\\n",
       "0           Northern Metropolitan           ['Yarra']   \n",
       "1           Northern Metropolitan           ['Yarra']   \n",
       "2           Northern Metropolitan           ['Yarra']   \n",
       "3           Northern Metropolitan           ['Yarra']   \n",
       "4           Northern Metropolitan           ['Yarra']   \n",
       "...                           ...                 ...   \n",
       "13201  South-Eastern Metropolitan          ['Monash']   \n",
       "13202        Western Metropolitan     ['Hobsons Bay']   \n",
       "13203        Western Metropolitan     ['Hobsons Bay']   \n",
       "13204        Western Metropolitan     ['Hobsons Bay']   \n",
       "13205        Western Metropolitan     ['Maribyrnong']   \n",
       "\n",
       "       suburb_rental_dailyprice  \n",
       "0                    117.719512  \n",
       "1                    117.719512  \n",
       "2                    117.719512  \n",
       "3                    117.719512  \n",
       "4                    117.719512  \n",
       "...                         ...  \n",
       "13201                109.742268  \n",
       "13202                177.911765  \n",
       "13203                177.911765  \n",
       "13204                177.911765  \n",
       "13205                146.830189  \n",
       "\n",
       "[13206 rows x 12 columns]"
      ]
     },
     "execution_count": 2,
     "metadata": {},
     "output_type": "execute_result"
    }
   ],
   "source": [
    "URL_MELB_HOUSING_FILTERED = \"https://www.famaf.unc.edu.ar/~nocampo043/melb_housing_filtered_df.csv\"\n",
    "URL_MELB_SUBURB_FILTERED = \"https://www.famaf.unc.edu.ar/~nocampo043/melb_suburb_filtered_df.csv\"\n",
    "\n",
    "melb_housing_df = pd.read_csv(URL_MELB_HOUSING_FILTERED)\n",
    "melb_suburb_df = pd.read_csv(URL_MELB_SUBURB_FILTERED)\n",
    "melb_combined_df = melb_housing_df.join(melb_suburb_df, on=\"suburb_id\")\n",
    "melb_combined_df"
   ]
  },
  {
   "cell_type": "markdown",
   "id": "afc80d93",
   "metadata": {
    "cell_marker": "\"\"\"",
    "lines_to_next_cell": 0
   },
   "source": [
    "## Encoding\n",
    "Con el fin de poder entrenar un modelo bajo las variables en `melb_combined_df`,\n",
    "se deben codificar aquellas que sean categóricas. Para ello, se utiliza *One-Hot\n",
    "Encoding* donde se muestran dos posibles métodos distintos."
   ]
  },
  {
   "cell_type": "markdown",
   "id": "90f4cc98",
   "metadata": {
    "cell_marker": "\"\"\"",
    "lines_to_next_cell": 0
   },
   "source": [
    "### Dict Vectorizer"
   ]
  },
  {
   "cell_type": "code",
   "execution_count": 3,
   "id": "9c102314",
   "metadata": {
    "lines_to_next_cell": 0
   },
   "outputs": [
    {
     "data": {
      "text/plain": [
       "<13206x20 sparse matrix of type '<class 'numpy.float64'>'\n",
       "\twith 92442 stored elements in Compressed Sparse Row format>"
      ]
     },
     "execution_count": 3,
     "metadata": {},
     "output_type": "execute_result"
    }
   ],
   "source": [
    "categorical_cols = [\n",
    "    \"housing_room_segment\", \"housing_bathroom_segment\", \"housing_type\",\n",
    "    \"suburb_region_segment\"\n",
    "]\n",
    "numerical_cols = [\n",
    "    \"housing_price\", \"housing_land_size\", \"suburb_rental_dailyprice\"\n",
    "]\n",
    "feature_cols = categorical_cols + numerical_cols\n",
    "features = list(melb_combined_df[feature_cols].T.to_dict().values())\n",
    "\n",
    "vectorizer = feature_extraction.DictVectorizer()\n",
    "feature_matrix = vectorizer.fit_transform(features)\n",
    "feature_matrix"
   ]
  },
  {
   "cell_type": "code",
   "execution_count": 4,
   "id": "dc4f5ee3",
   "metadata": {
    "lines_to_next_cell": 0
   },
   "outputs": [
    {
     "data": {
      "text/plain": [
       "['housing_bathroom_segment=(0, 1]',\n",
       " 'housing_bathroom_segment=(1, 2]',\n",
       " 'housing_bathroom_segment=(2, 8]',\n",
       " 'housing_land_size',\n",
       " 'housing_price',\n",
       " 'housing_room_segment=(0, 1]',\n",
       " 'housing_room_segment=(1, 2]',\n",
       " 'housing_room_segment=(2, 3]',\n",
       " 'housing_room_segment=(3, 4]',\n",
       " 'housing_room_segment=(4, 10]',\n",
       " 'housing_type=h',\n",
       " 'housing_type=t',\n",
       " 'housing_type=u',\n",
       " 'suburb_region_segment=Eastern Metropolitan',\n",
       " 'suburb_region_segment=Northern Metropolitan',\n",
       " 'suburb_region_segment=South-Eastern Metropolitan',\n",
       " 'suburb_region_segment=Southern Metropolitan',\n",
       " 'suburb_region_segment=Victoria',\n",
       " 'suburb_region_segment=Western Metropolitan',\n",
       " 'suburb_rental_dailyprice']"
      ]
     },
     "execution_count": 4,
     "metadata": {},
     "output_type": "execute_result"
    }
   ],
   "source": [
    "vectorizer.get_feature_names()"
   ]
  },
  {
   "cell_type": "markdown",
   "id": "80a78d1f",
   "metadata": {
    "cell_marker": "\"\"\"",
    "lines_to_next_cell": 0
   },
   "source": [
    "Se obtiene una matriz de $13206 \\times 20$ cuyas columnas son las que se\n",
    "muestran por `get_feature_names()`.\n",
    "\n",
    "Del total de variables de `melb_combined_df`, se excluyen `suburb_name` y\n",
    "`suburb_council_area` con el fin de obtener una matriz cuyo espacio en memoria\n",
    "no imposibilite la imputación de las variables numéricas `housing_year_built` y\n",
    "`housing_building_area` en una sección posterior. A su vez, se presentó otra\n",
    "forma de realizar una codificación *one-hot* con fin complementario. No\n",
    "obstante, se trabajó sobre la matriz dada por el método `Dict Vectorizer`."
   ]
  },
  {
   "cell_type": "markdown",
   "id": "cb954185",
   "metadata": {
    "cell_marker": "\"\"\"",
    "lines_to_next_cell": 0
   },
   "source": [
    "### One-Hot Encoding\n",
    "Otro forma posible de obtener la matriz de *features* es por medio de la clase\n",
    "`OneHotEncoder` realizando la codificación sobre `categorical_cols`."
   ]
  },
  {
   "cell_type": "code",
   "execution_count": 5,
   "id": "0c3ca575",
   "metadata": {
    "lines_to_next_cell": 0
   },
   "outputs": [
    {
     "data": {
      "text/plain": [
       "(13206, 20)"
      ]
     },
     "execution_count": 5,
     "metadata": {},
     "output_type": "execute_result"
    }
   ],
   "source": [
    "ohe = preprocessing.OneHotEncoder(sparse=False)\n",
    "feature_matrix_ohe = np.hstack([\n",
    "    ohe.fit_transform(melb_combined_df[categorical_cols]),\n",
    "    melb_combined_df[numerical_cols]\n",
    "])\n",
    "feature_matrix_ohe.shape"
   ]
  },
  {
   "cell_type": "markdown",
   "id": "91ea9094",
   "metadata": {
    "cell_marker": "\"\"\"",
    "lines_to_next_cell": 0
   },
   "source": [
    "De manera similar, se obtiene la matriz codificada donde las primeras 17\n",
    "columnas corresponden a la codificación de las variables categóricas, y las 3\n",
    "restantes a las numéricas que no requerían este paso."
   ]
  },
  {
   "cell_type": "markdown",
   "id": "2ff749f6",
   "metadata": {
    "cell_marker": "\"\"\"",
    "lines_to_next_cell": 0
   },
   "source": [
    "## Imputación por KNN\n",
    "En esta sección se procedió a imputar las variables `housin_year_built` y\n",
    "`housing_building_area` con el fin de incluirlas en la matriz de *features*.\n",
    "Para ello, se realizaron imputaciones univariadas y multivariadas, es decir,\n",
    "utilizando solamente valores no nulos de dichas variables para realizar la\n",
    "imputación, en comparación a, aprovechar todos los *features* disponibles en la\n",
    "matriz obtenida en la sección anterior. A su vez, esta comparación también se\n",
    "realizó estandarizando las variables con el fin de verificar si influía en la\n",
    "imputación resultante."
   ]
  },
  {
   "cell_type": "markdown",
   "id": "3a39880a",
   "metadata": {
    "cell_marker": "\"\"\"",
    "lines_to_next_cell": 0
   },
   "source": [
    "### Sin estandarizado"
   ]
  },
  {
   "cell_type": "code",
   "execution_count": 6,
   "id": "0b26bc15",
   "metadata": {
    "lines_to_next_cell": 0
   },
   "outputs": [],
   "source": [
    "missing_cols = [\"housing_year_built\", \"housing_building_area\"]\n",
    "estimator = neighbors.KNeighborsRegressor(n_neighbors=2)"
   ]
  },
  {
   "cell_type": "code",
   "execution_count": 7,
   "id": "63f691d1",
   "metadata": {
    "lines_to_next_cell": 0
   },
   "outputs": [
    {
     "name": "stderr",
     "output_type": "stream",
     "text": [
      "C:\\Users\\Pame\\anaconda3\\envs\\diplo\\lib\\site-packages\\sklearn\\impute\\_iterative.py:685: ConvergenceWarning: [IterativeImputer] Early stopping criterion not reached.\n",
      "  warnings.warn(\"[IterativeImputer] Early stopping criterion not\"\n"
     ]
    }
   ],
   "source": [
    "missing_df = melb_combined_df[missing_cols]\n",
    "original_df = missing_df.dropna()\n",
    "all_df = np.hstack([missing_df, feature_matrix.todense()])\n",
    "\n",
    "knn_missing_cols = impute_by(missing_df, missing_cols, estimator)\n",
    "knn_all_cols = impute_by(all_df, missing_cols, estimator)"
   ]
  },
  {
   "cell_type": "markdown",
   "id": "ecbd8d5a",
   "metadata": {
    "cell_marker": "\"\"\"",
    "lines_to_next_cell": 0
   },
   "source": [
    "Para la comparación se crean 3 *dataframes*:\n",
    "  - `original_df`: Contiene las columnas de `housing_year_built` y\n",
    "    `housing_building_area` eliminando aquellos valores faltantes.\n",
    "  - `missing_df`: Similar a `original_df` pero sin eliminar las entradas nulas.\n",
    "  - `all_df`: Contiene todas las *features* obtenidas en la sección de\n",
    "    codificación junto a las de `missing_df`.\n",
    "\n",
    "Posteriormente, se procedió a imputar los valores faltantes que ocurren en las\n",
    "entradas de `missing_df` y `all_df` por medio de `impute_by`, una de las\n",
    "funciones *helper* definidas en la primera sección, generando un nuevo\n",
    "*dataframe* con aquellos datos completados por el estimador `KNeighbors`.\n",
    "\n",
    "Por último, las distribuciones de las observaciones de los *dataframes*\n",
    "resultantes se comparan por medio de un gráfico de densidad."
   ]
  },
  {
   "cell_type": "code",
   "execution_count": 8,
   "id": "3a189d9d",
   "metadata": {
    "lines_to_next_cell": 0
   },
   "outputs": [
    {
     "data": {
      "image/png": "[encoded data removed]",
      "text/plain": [
       "<Figure size 720x720 with 2 Axes>"
      ]
     },
     "metadata": {
      "needs_background": "light"
     },
     "output_type": "display_data"
    }
   ],
   "source": [
    "imputations = [\n",
    "    (\"original\", original_df),\n",
    "    (\"knn - missing cols\", knn_missing_cols),\n",
    "    (\"knn - all cols\", knn_all_cols)\n",
    "]\n",
    "plot_imputation_graph(imputations, missing_cols)"
   ]
  },
  {
   "cell_type": "markdown",
   "id": "bfc57e0d",
   "metadata": {
    "cell_marker": "\"\"\"",
    "lines_to_next_cell": 0
   },
   "source": [
    "Se puede observar que la distribución de `housing_year_built` luego de imputar\n",
    "por medio de todas las columnas captura en mejor medida la tendencia\n",
    "correspondiente a su original. Especialmente para aquellas viviendas con poca\n",
    "antigüedad al momento de la venta. Similarmente, puede darse la misma\n",
    "aseveración para la variable `housing_bulding_area`."
   ]
  },
  {
   "cell_type": "markdown",
   "id": "083132f2",
   "metadata": {
    "cell_marker": "\"\"\"",
    "lines_to_next_cell": 0
   },
   "source": [
    "### Con estandarizado"
   ]
  },
  {
   "cell_type": "code",
   "execution_count": 9,
   "id": "6b9a1092",
   "metadata": {
    "lines_to_next_cell": 0
   },
   "outputs": [
    {
     "name": "stderr",
     "output_type": "stream",
     "text": [
      "C:\\Users\\Pame\\anaconda3\\envs\\diplo\\lib\\site-packages\\sklearn\\impute\\_iterative.py:685: ConvergenceWarning: [IterativeImputer] Early stopping criterion not reached.\n",
      "  warnings.warn(\"[IterativeImputer] Early stopping criterion not\"\n",
      "C:\\Users\\Pame\\anaconda3\\envs\\diplo\\lib\\site-packages\\sklearn\\impute\\_iterative.py:685: ConvergenceWarning: [IterativeImputer] Early stopping criterion not reached.\n",
      "  warnings.warn(\"[IterativeImputer] Early stopping criterion not\"\n"
     ]
    }
   ],
   "source": [
    "scaler = preprocessing.StandardScaler()\n",
    "original_scaled_df = pd.DataFrame(scaler.fit_transform(original_df),\n",
    "                                  columns=missing_cols)\n",
    "knn_scaled_missing_cols = impute_by(scaler.fit_transform(missing_df),\n",
    "                                    missing_cols, estimator)\n",
    "knn_scaled_all_cols = impute_by(scaler.fit_transform(all_df), missing_cols,\n",
    "                                estimator)"
   ]
  },
  {
   "cell_type": "code",
   "execution_count": 10,
   "id": "9ba1720a",
   "metadata": {
    "lines_to_next_cell": 0
   },
   "outputs": [
    {
     "data": {
      "image/png": "[encoded data removed]",
      "text/plain": [
       "<Figure size 720x720 with 2 Axes>"
      ]
     },
     "metadata": {
      "needs_background": "light"
     },
     "output_type": "display_data"
    }
   ],
   "source": [
    "imputations = [\n",
    "    (\"scaled original\", original_scaled_df),\n",
    "    (\"knn - scaled missing cols\", knn_scaled_missing_cols),\n",
    "    (\"knn - scaled all cols\", knn_scaled_all_cols)\n",
    "]\n",
    "plot_imputation_graph(imputations, missing_cols)"
   ]
  },
  {
   "cell_type": "markdown",
   "id": "26dcc8af",
   "metadata": {
    "cell_marker": "\"\"\"",
    "lines_to_next_cell": 0
   },
   "source": [
    "Escalando los datos de manera previa a la imputación no pareció afectar la\n",
    "elección de un método por sobre otro. Se puede observar que la manera en que se\n",
    "distribuyen ambas variables es similar al caso anterior salvo por el cambio de\n",
    "escala en los ejes x e y. Por lo tanto, se optó por incluir la imputación con\n",
    "todas las *features* sin estandarizado previo a la matriz resultante de la\n",
    "sección anterior."
   ]
  },
  {
   "cell_type": "code",
   "execution_count": 11,
   "id": "07d57104",
   "metadata": {
    "lines_to_next_cell": 0
   },
   "outputs": [],
   "source": [
    "feature_matrix = np.hstack([feature_matrix.todense(), knn_all_cols])\n",
    "feature_matrix.shape"
   ]
  },
  {
   "cell_type": "markdown",
   "id": "10b472f5",
   "metadata": {
    "cell_marker": "\"\"\"",
    "lines_to_next_cell": 0
   },
   "source": [
    "## Reducción de dimensionalidad"
   ]
  },
  {
   "cell_type": "markdown",
   "id": "03a89902",
   "metadata": {
    "cell_marker": "\"\"\"",
    "lines_to_next_cell": 0
   },
   "source": [
    "### Análisis de Componentes Principales (`PCA`)\n",
    "Antes de realizar el `PCA` se realiza la estandarización de los datos, es decir\n",
    "a cada dato se le resta su media y se lo divide por el desvío estándar. La\n",
    "estandarización permite trabajar con variables medidas en distintas unidades y\n",
    "así dar el mismo peso a todas las variables."
   ]
  },
  {
   "cell_type": "code",
   "execution_count": 22,
   "id": "2ecbf0b9",
   "metadata": {
    "lines_to_next_cell": 0
   },
   "outputs": [],
   "source": [
    "feature_matrix_standarized = preprocessing.StandardScaler().fit_transform(\n",
    "    feature_matrix)"
   ]
  },
  {
   "cell_type": "markdown",
   "id": "6051fd5d",
   "metadata": {
    "cell_marker": "\"\"\"",
    "lines_to_next_cell": 0
   },
   "source": [
    "A continuación se muestra a modo de ejemplo el cambio de los valores antes y\n",
    "después de la estandarización para la fila 6."
   ]
  },
  {
   "cell_type": "code",
   "execution_count": 43,
   "id": "0696cfdf",
   "metadata": {
    "lines_to_next_cell": 0
   },
   "outputs": [
    {
     "name": "stdout",
     "output_type": "stream",
     "text": [
      "\n",
      "Antes de estandarizar \n",
      "[[1.00000000e+00 0.00000000e+00 0.00000000e+00 1.81000000e+02\n",
      "  9.41000000e+05 0.00000000e+00 1.00000000e+00 0.00000000e+00\n",
      "  0.00000000e+00 0.00000000e+00 1.00000000e+00 0.00000000e+00\n",
      "  0.00000000e+00 0.00000000e+00 1.00000000e+00 0.00000000e+00\n",
      "  0.00000000e+00 0.00000000e+00 0.00000000e+00 1.17719512e+02\n",
      "  1.99050000e+03 1.25500000e+02]]\n",
      "\n",
      "Después de estandarizar \n",
      "[ 0.87049022 -0.75887745 -0.26507549 -0.23396802 -0.1398687  -0.23317645\n",
      "  1.62173256 -0.88699926 -0.48382876 -0.21180449  0.6739771  -0.30277982\n",
      " -0.54403717 -0.35215132  1.55603455 -0.18739056 -0.70409703 -0.097754\n",
      " -0.53502985 -0.14599648  0.79985318 -0.14816312]\n"
     ]
    }
   ],
   "source": [
    "print('\\nAntes de estandarizar \\n%s' %feature_matrix[5])\n",
    "print('\\nDespués de estandarizar \\n%s' %feature_matrix_standarized[5])"
   ]
  },
  {
   "cell_type": "code",
   "execution_count": 25,
   "id": "e944771d",
   "metadata": {
    "lines_to_next_cell": 0
   },
   "outputs": [],
   "source": [
    "_, nof_components = feature_matrix_standarized.shape\n",
    "pca = decomposition.PCA(n_components=nof_components)\n",
    "principal_components = pca.fit_transform(feature_matrix_standarized)"
   ]
  },
  {
   "cell_type": "markdown",
   "id": "ef203b13",
   "metadata": {
    "cell_marker": "\"\"\"",
    "lines_to_next_cell": 0
   },
   "source": [
    "Se muestra la varianza explicada por cada componente"
   ]
  },
  {
   "cell_type": "code",
   "execution_count": 34,
   "id": "709c83e5",
   "metadata": {
    "lines_to_next_cell": 0
   },
   "outputs": [
    {
     "data": {
      "text/plain": [
       "array([1.70897728e-01, 1.02284858e-01, 8.69834362e-02, 7.47646780e-02,\n",
       "       6.21809000e-02, 5.94767880e-02, 5.54138576e-02, 5.13408331e-02,\n",
       "       4.98153270e-02, 4.75253769e-02, 4.39038188e-02, 4.10687149e-02,\n",
       "       3.70542292e-02, 3.13082442e-02, 3.09145966e-02, 2.49832420e-02,\n",
       "       1.71317504e-02, 1.29516208e-02, 2.45262023e-29, 7.09866583e-31,\n",
       "       1.72868239e-32, 4.71945782e-33])"
      ]
     },
     "execution_count": 34,
     "metadata": {},
     "output_type": "execute_result"
    }
   ],
   "source": [
    "explained_variance = pca.explained_variance_ratio_\n",
    "explained_variance"
   ]
  },
  {
   "cell_type": "markdown",
   "id": "5c54d07c",
   "metadata": {
    "cell_marker": "\"\"\"",
    "lines_to_next_cell": 0
   },
   "source": [
    "Para una mejor comprensión se calcula el porcentaje acumulado explicado por cada\n",
    "componente. El primer componente explica el 17,09% de la variación. Luego, el\n",
    "primer y segundo componente explican el 27.32% de la variación y así\n",
    "sucesivamente."
   ]
  },
  {
   "cell_type": "code",
   "execution_count": 28,
   "id": "e186d586",
   "metadata": {
    "lines_to_next_cell": 0
   },
   "outputs": [
    {
     "data": {
      "text/plain": [
       "array([ 17.09,  27.32,  36.02,  43.5 ,  49.72,  55.67,  61.21,  66.34,\n",
       "        71.32,  76.07,  80.46,  84.57,  88.28,  91.41,  94.5 ,  97.  ,\n",
       "        98.71, 100.01, 100.01, 100.01, 100.01, 100.01])"
      ]
     },
     "execution_count": 28,
     "metadata": {},
     "output_type": "execute_result"
    }
   ],
   "source": [
    "acc_variance_percent = np.cumsum(np.round(explained_variance, decimals=4) * 100)\n",
    "acc_variance_percent"
   ]
  },
  {
   "cell_type": "markdown",
   "id": "e4ffcd79",
   "metadata": {
    "cell_marker": "\"\"\"",
    "lines_to_next_cell": 0
   },
   "source": [
    "Se eligen las primeras 18 componentes que explican el 98,71% de la variación y\n",
    "también a partir de ese valor se llega al *plateau* (meseta)."
   ]
  },
  {
   "cell_type": "code",
   "execution_count": 58,
   "id": "e3bb54ef",
   "metadata": {
    "lines_to_next_cell": 0
   },
   "outputs": [
    {
     "data": {
      "text/plain": [
       "[<matplotlib.lines.Line2D at 0x13ece029af0>]"
      ]
     },
     "execution_count": 58,
     "metadata": {},
     "output_type": "execute_result"
    },
    {
     "data": {
      "image/png": "[encoded data removed]",
      "text/plain": [
       "<Figure size 720x360 with 1 Axes>"
      ]
     },
     "metadata": {
      "needs_background": "light"
     },
     "output_type": "display_data"
    }
   ],
   "source": [
    "plt.figure(figsize=(10, 5))\n",
    "plt.ylabel('% de varianza explicada')\n",
    "plt.xlabel('Componentes Principales')\n",
    "plt.title('PCA')\n",
    "plt.ylim(20, 110)\n",
    "plt.xticks(range(nof_components))\n",
    "plt.plot(acc_variance_percent)"
   ]
  },
  {
   "cell_type": "markdown",
   "id": "d81c4a84",
   "metadata": {
    "cell_marker": "\"\"\"",
    "lines_to_next_cell": 0
   },
   "source": [
    "El siguiente gráfico muestra en conjunto la varianza explicada por cada\n",
    "componente (barra) y la varianza acumulada (línea escalonada)."
   ]
  },
  {
   "cell_type": "code",
   "execution_count": 36,
   "id": "51bd5566",
   "metadata": {
    "lines_to_next_cell": 0
   },
   "outputs": [],
   "source": [
    "acc_variance = np.cumsum(explained_variance)\n",
    "plt.figure(figsize=(10, 5))\n",
    "plt.bar(range(len(explained_variance)),\n",
    "        explained_variance,\n",
    "        alpha=0.5,\n",
    "        align='center',\n",
    "        label='Varianza explicada individual')\n",
    "plt.step(range(len(acc_variance)),\n",
    "         acc_variance,\n",
    "         where='mid',\n",
    "         label='Varianza explicada acumulada')\n",
    "plt.ylabel('Radio de varianza explicada')\n",
    "plt.xlabel('Componentes principales')\n",
    "plt.legend(loc='best')\n",
    "plt.xticks(range(nof_components))\n",
    "plt.tight_layout()\n",
    "plt.show()"
   ]
  },
  {
   "cell_type": "markdown",
   "id": "77328412",
   "metadata": {
    "cell_marker": "\"\"\"",
    "lines_to_next_cell": 0
   },
   "source": [
    "## Composición del resultado\n",
    "Para finalizar, se crea un nuevo *dataframe* que contenga las codificaciones de\n",
    "las variables categóricas y numéricas, las imputaciones de columnas que\n",
    "presentaban valores faltantes, y las primeras 18 componentes principales\n",
    "observadas en la sección anterior. El conjunto resultante es puesto a\n",
    "disposición para su acceso remoto a través de la siguiente URL:\n",
    "- [Codificación del conjunto de\n",
    "  datos](https://www.famaf.unc.edu.ar/~nocampo043/encoded_melb_df.csv)"
   ]
  },
  {
   "cell_type": "code",
   "execution_count": 56,
   "id": "344630d0",
   "metadata": {
    "lines_to_next_cell": 0
   },
   "outputs": [
    {
     "data": {
      "image/png": "[encoded data removed]",
      "text/plain": [
       "<Figure size 720x360 with 1 Axes>"
      ]
     },
     "metadata": {
      "needs_background": "light"
     },
     "output_type": "display_data"
    }
   ],
   "source": [
    "nof_selected_components = 18\n",
    "new_columns = vectorizer.get_feature_names()\n",
    "\n",
    "new_columns = (\n",
    "    vectorizer.get_feature_names() + missing_cols +\n",
    "    [f\"pca_{component_id}\" for component_id in range(nof_selected_components)])\n",
    "\n",
    "encoded_melb_df = pd.DataFrame(\n",
    "    data=np.hstack([\n",
    "        feature_matrix,\n",
    "        principal_components[:, :nof_selected_components]]),\n",
    "    columns=new_columns)\n",
    "encoded_melb_df"
   ]
  },
  {
   "cell_type": "code",
   "execution_count": null,
   "id": "d5f746c3",
   "metadata": {},
   "outputs": [],
   "source": [
    "encoded_melb_df.to_csv(\"encoded_melb_df.csv\", index=False)"
   ]
  }
 ],
 "metadata": {
  "jupytext": {
   "cell_markers": "\"\"\"",
   "encoding": "# -*- coding: utf-8 -*-",
   "formats": "ipynb,py:percent",
   "main_language": "python"
  },
  "kernelspec": {
   "display_name": "Python 3.8.5 64-bit ('usr')",
   "name": "python385jvsc74a57bd031f2aee4e71d21fbe5cf8b01ff0e069b9275f58929596ceb00d14d90e3e16cd6"
  },
  "language_info": {
   "name": "python",
   "version": ""
  }
 },
 "nbformat": 4,
 "nbformat_minor": 5
}
