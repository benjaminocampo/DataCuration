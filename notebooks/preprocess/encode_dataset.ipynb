{
 "cells": [
  {
   "cell_type": "markdown",
   "id": "bd50510f",
   "metadata": {
    "cell_marker": "\"\"\"",
    "lines_to_next_cell": 0
   },
   "source": [
    "# Diplomatura en Ciencias de Datos, Aprendizaje Automático y sus Aplicaciones\n",
    "\n",
    "Autores: Matías Oria, Antonela Sambuceti, Pamela Pairo, Benjamín Ocampo"
   ]
  },
  {
   "cell_type": "markdown",
   "id": "d045620e",
   "metadata": {
    "cell_marker": "\"\"\"",
    "lines_to_next_cell": 0
   },
   "source": [
    "## Enconding "
   ]
  },
  {
   "cell_type": "markdown",
   "id": "1696b057",
   "metadata": {
    "cell_marker": "\"\"\"",
    "lines_to_next_cell": 0
   },
   "source": [
    "### OneHotEncodeding"
   ]
  },
  {
   "cell_type": "code",
   "execution_count": null,
   "id": "a8ff8c91",
   "metadata": {},
   "outputs": [],
   "source": [
    "import numpy as np\n",
    "import pandas as pd\n",
    "from sklearn import preprocessing, impute, neighbors\n",
    "from sklearn.experimental import enable_iterative_imputer\n",
    "\n",
    "URL_MELB_HOUSING_FILTERED = \"https://www.famaf.unc.edu.ar/~nocampo043/melb_housing_filtered_df.csv\"\n",
    "URL_MELB_SUBURB_FILTERED = \"https://www.famaf.unc.edu.ar/~nocampo043/melb_suburb_filtered_df.csv\"\n",
    "\n",
    "melb_housing_df = pd.read_csv(URL_MELB_HOUSING_FILTERED)\n",
    "melb_suburb_df = pd.read_csv(URL_MELB_SUBURB_FILTERED)"
   ]
  },
  {
   "cell_type": "code",
   "execution_count": null,
   "id": "e3f1d79e",
   "metadata": {},
   "outputs": [],
   "source": [
    "melb_combim = melb_housing_df.join(melb_suburb_df, on=\"suburb_id\")\n",
    "melb_combim[:5]"
   ]
  },
  {
   "cell_type": "code",
   "execution_count": null,
   "id": "d25290ac",
   "metadata": {},
   "outputs": [],
   "source": [
    "categorical_cols = [\"housing_room_segment\", \"housing_bathroom_segment\", \"housing_type\", \"suburb_name\",\"suburb_region_segment\", \"suburb_council_area\"]\n",
    "numerical_cols = [\"housing_price\",\"housing_land_size\",\"suburb_rental_dailyprice\"]"
   ]
  },
  {
   "cell_type": "code",
   "execution_count": null,
   "id": "84fd5322",
   "metadata": {},
   "outputs": [],
   "source": [
    "print(\"housing_room_segment\", melb_combim.housing_room_segment.nunique())\n",
    "print(\"housing_bathroom_segment\", melb_combim.housing_bathroom_segment.nunique())\n",
    "print(\"housing_type\", melb_combim.housing_type.nunique())\n",
    "print(\"suburb_region_segment\", melb_combim.suburb_region_segment.nunique())\n",
    "print(\"suburb_council_area\", melb_combim.suburb_council_area.nunique())\n",
    "print(\"suburb_name\", melb_combim.suburb_name.nunique())"
   ]
  },
  {
   "cell_type": "code",
   "execution_count": null,
   "id": "f142377b",
   "metadata": {},
   "outputs": [],
   "source": [
    "encoder = OneHotEncoder(sparse=False)\n",
    "encoder.fit(melb_combim[categorical_cols])\n",
    "# We can inspect the categories found by the encoder\n",
    "encoder.categories_"
   ]
  },
  {
   "cell_type": "code",
   "execution_count": null,
   "id": "cb3855e3",
   "metadata": {},
   "outputs": [],
   "source": [
    "encoded_types = encoder.transform(melb_combim[categorical_cols])\n",
    "encoded_types[:10]"
   ]
  },
  {
   "cell_type": "code",
   "execution_count": null,
   "id": "7c139e07",
   "metadata": {},
   "outputs": [],
   "source": [
    "melb_numeric = melb_combim[numerical_cols].values\n",
    "melb_numeric[:10]"
   ]
  },
  {
   "cell_type": "code",
   "execution_count": null,
   "id": "2b0d1b43",
   "metadata": {},
   "outputs": [],
   "source": [
    "matriz = np.hstack((encoded_types, melb_numeric))\n",
    "matriz [:5]"
   ]
  },
  {
   "cell_type": "code",
   "execution_count": null,
   "id": "ebbf2d9e",
   "metadata": {},
   "outputs": [],
   "source": [
    "matriz.shape"
   ]
  },
  {
   "cell_type": "markdown",
   "id": "e691ecb7",
   "metadata": {
    "cell_marker": "\"\"\"",
    "lines_to_next_cell": 0
   },
   "source": [
    "### DictVectorizer"
   ]
  },
  {
   "cell_type": "code",
   "execution_count": null,
   "id": "5005efc0",
   "metadata": {
    "lines_to_next_cell": 0
   },
   "outputs": [],
   "source": [
    "feature_cols = [\"housing_room_segment\", \"housing_bathroom_segment\", \"housing_type\", \"suburb_name\",\"suburb_region_segment\", \"suburb_council_area\",\n",
    "\"housing_price\",\"housing_land_size\",\"suburb_rental_dailyprice\"]\n",
    "feature_dict = list(melb_combim[feature_cols].T.to_dict().values())\n",
    "feature_dict[:2]"
   ]
  },
  {
   "cell_type": "code",
   "execution_count": null,
   "id": "8d68d531",
   "metadata": {
    "lines_to_next_cell": 0
   },
   "outputs": [],
   "source": [
    "vec = DictVectorizer()\n",
    "feature_matrix = vec.fit_transform(feature_dict)"
   ]
  },
  {
   "cell_type": "code",
   "execution_count": null,
   "id": "121a3b03",
   "metadata": {
    "lines_to_next_cell": 0
   },
   "outputs": [],
   "source": [
    "feature_matrix"
   ]
  },
  {
   "cell_type": "code",
   "execution_count": null,
   "id": "949a5334",
   "metadata": {
    "lines_to_next_cell": 0
   },
   "outputs": [],
   "source": [
    "vec.get_feature_names()"
   ]
  },
  {
   "cell_type": "markdown",
   "id": "cb2b7cf9",
   "metadata": {
    "cell_marker": "\"\"\"",
    "lines_to_next_cell": 0
   },
   "source": [
    "## Imputación por KNN"
   ]
  },
  {
   "cell_type": "code",
   "execution_count": null,
   "id": "20570ed2",
   "metadata": {
    "lines_to_next_cell": 0
   },
   "outputs": [],
   "source": [
    "at_least_onena= melb_combim['housing_year_built'].isna() | melb_combim['housing_building_area'].isna()\n",
    "missing_values_indices= melb_combim[at_least_onena].index\n",
    "melb_combim[at_least_onena]"
   ]
  },
  {
   "cell_type": "code",
   "execution_count": null,
   "id": "ae786367",
   "metadata": {
    "lines_to_next_cell": 0
   },
   "outputs": [],
   "source": [
    "mice_imputer = IterativeImputer(random_state=0, estimator=KNeighborsRegressor(n_neighbors=2, weights=\"uniform\"))\n",
    "\n",
    "melb_combim.loc[:,['housing_year_built_imputer', 'housing_building_area_imputer']] = mice_imputer.fit_transform(\n",
    "    melb_combim[['housing_year_built', 'housing_building_area']])"
   ]
  },
  {
   "cell_type": "code",
   "execution_count": null,
   "id": "67e09ccd",
   "metadata": {
    "lines_to_next_cell": 0
   },
   "outputs": [],
   "source": [
    "mice_year_built_knn = melb_combim[\"housing_year_built_imputer\"].to_frame().rename(columns={\"housing_year_built_imputer\":\"housing_year_built\"})\n",
    "mice_year_built_knn['Imputation'] = 'KNN over YearBuilt'\n",
    "melb_year_built_orig = melb_combim[\"housing_year_built\"].dropna().to_frame()\n",
    "melb_year_built_orig['Imputation'] = 'Original'\n",
    "data = pd.concat([mice_year_built_knn, melb_year_built_orig])\n",
    "fig = plt.figure(figsize=(8, 5))\n",
    "g = seaborn.kdeplot(data=data, x='housing_year_built', hue='Imputation')"
   ]
  },
  {
   "cell_type": "code",
   "execution_count": null,
   "id": "70d0b9d6",
   "metadata": {
    "lines_to_next_cell": 0
   },
   "outputs": [],
   "source": [
    "mice_build_area_knn = melb_combim[\"housing_building_area_imputer\"].to_frame().rename(columns={\"housing_building_area_imputer\":\"housing_building_area\"})\n",
    "mice_build_area_knn['Imputation'] = 'KNN over Building Area'\n",
    "melb_build_area_orig = melb_combim[\"housing_building_area\"].dropna().to_frame()\n",
    "melb_build_area_orig['Imputation'] = 'Original'\n",
    "data = pd.concat([mice_build_area_knn, melb_build_area_orig])\n",
    "fig = plt.figure(figsize=(8, 5))\n",
    "g = seaborn.kdeplot(data=data, x=\"housing_building_area\", hue='Imputation')"
   ]
  },
  {
   "cell_type": "code",
   "execution_count": null,
   "id": "49acbf73",
   "metadata": {},
   "outputs": [],
   "source": [
    "print(melb_year_built_orig)"
   ]
  }
 ],
 "metadata": {
  "jupytext": {
   "cell_markers": "\"\"\"",
   "encoding": "# -*- coding: utf-8 -*-",
   "formats": "ipynb,py:percent",
   "main_language": "python"
  },
  "kernelspec": {
   "display_name": "Python 3",
   "name": "python3"
  }
 },
 "nbformat": 4,
 "nbformat_minor": 5
}
