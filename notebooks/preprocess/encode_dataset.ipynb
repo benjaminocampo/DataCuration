{
  "nbformat": 4,
  "nbformat_minor": 0,
  "metadata": {
    "colab": {
      "name": "Copia de encode_dataset.ipynb",
      "provenance": [],
      "collapsed_sections": [],
      "toc_visible": true
    },
    "kernelspec": {
      "name": "python3",
      "display_name": "Python 3"
    },
    "language_info": {
      "name": "python"
    }
  },
  "cells": [
    {
      "cell_type": "markdown",
      "metadata": {
        "id": "vhR76TIeo9aB"
      },
      "source": [
        "# Diplomatura en Ciencias de Datos, Aprendizaje Automático y sus Aplicaciones\n",
        "\n",
        "Autores: Matías Oria, Antonela Sambuceti, Pamela Pairo, Benjamín Ocampo"
      ]
    },
    {
      "cell_type": "markdown",
      "metadata": {
        "id": "3JbYOCW-w96F"
      },
      "source": [
        "##Enconding "
      ]
    },
    {
      "cell_type": "markdown",
      "metadata": {
        "id": "KiTLugIcw5OU"
      },
      "source": [
        "###OneHotEncoder"
      ]
    },
    {
      "cell_type": "code",
      "metadata": {
        "id": "fktU1fTQo5-4"
      },
      "source": [
        "import matplotlib.pyplot as plt\n",
        "import numpy as np\n",
        "import pandas as pd\n",
        "import seaborn\n",
        "import missingno as msno\n",
        "from sklearn.experimental import enable_iterative_imputer\n",
        "from sklearn.neighbors import KNeighborsRegressor\n",
        "from sklearn.impute import IterativeImputer\n",
        "from sklearn.preprocessing import OneHotEncoder"
      ],
      "execution_count": 68,
      "outputs": []
    },
    {
      "cell_type": "code",
      "metadata": {
        "id": "HSLc8lCfpsTi"
      },
      "source": [
        "URL_MELB_HOUSING_FILTERED = \"https://www.famaf.unc.edu.ar/~nocampo043/melb_housing_filtered_df.csv\"\n",
        "URL_MELB_SUBURB_FILTERED = \"https://www.famaf.unc.edu.ar/~nocampo043/melb_suburb_filtered_df.csv\"\n",
        "\n",
        "melb_housing_df = pd.read_csv(URL_MELB_HOUSING_FILTERED)\n",
        "melb_suburb_df = pd.read_csv(URL_MELB_SUBURB_FILTERED)"
      ],
      "execution_count": 82,
      "outputs": []
    },
    {
      "cell_type": "code",
      "metadata": {
        "colab": {
          "base_uri": "https://localhost:8080/",
          "height": 226
        },
        "id": "4i7WoNwUqVqe",
        "outputId": "5e55144f-1854-4b88-91ee-265731b8003a"
      },
      "source": [
        "melb_combim = melb_housing_df.join(melb_suburb_df, on=\"suburb_id\")\n",
        "melb_combim[:5]"
      ],
      "execution_count": 83,
      "outputs": [
        {
          "output_type": "execute_result",
          "data": {
            "text/html": [
              "<div>\n",
              "<style scoped>\n",
              "    .dataframe tbody tr th:only-of-type {\n",
              "        vertical-align: middle;\n",
              "    }\n",
              "\n",
              "    .dataframe tbody tr th {\n",
              "        vertical-align: top;\n",
              "    }\n",
              "\n",
              "    .dataframe thead th {\n",
              "        text-align: right;\n",
              "    }\n",
              "</style>\n",
              "<table border=\"1\" class=\"dataframe\">\n",
              "  <thead>\n",
              "    <tr style=\"text-align: right;\">\n",
              "      <th></th>\n",
              "      <th>housing_price</th>\n",
              "      <th>housing_room_segment</th>\n",
              "      <th>housing_bathroom_segment</th>\n",
              "      <th>housing_land_size</th>\n",
              "      <th>housing_building_area</th>\n",
              "      <th>housing_type</th>\n",
              "      <th>housing_year_built</th>\n",
              "      <th>suburb_id</th>\n",
              "      <th>suburb_name</th>\n",
              "      <th>suburb_region_segment</th>\n",
              "      <th>suburb_council_area</th>\n",
              "      <th>suburb_rental_dailyprice</th>\n",
              "    </tr>\n",
              "  </thead>\n",
              "  <tbody>\n",
              "    <tr>\n",
              "      <th>0</th>\n",
              "      <td>1480000.0</td>\n",
              "      <td>(1, 2]</td>\n",
              "      <td>(0, 1]</td>\n",
              "      <td>202.0</td>\n",
              "      <td>NaN</td>\n",
              "      <td>h</td>\n",
              "      <td>NaN</td>\n",
              "      <td>0</td>\n",
              "      <td>Abbotsford</td>\n",
              "      <td>Northern Metropolitan</td>\n",
              "      <td>['Yarra']</td>\n",
              "      <td>117.719512</td>\n",
              "    </tr>\n",
              "    <tr>\n",
              "      <th>1</th>\n",
              "      <td>1035000.0</td>\n",
              "      <td>(1, 2]</td>\n",
              "      <td>(0, 1]</td>\n",
              "      <td>156.0</td>\n",
              "      <td>79.0</td>\n",
              "      <td>h</td>\n",
              "      <td>1900.0</td>\n",
              "      <td>0</td>\n",
              "      <td>Abbotsford</td>\n",
              "      <td>Northern Metropolitan</td>\n",
              "      <td>['Yarra']</td>\n",
              "      <td>117.719512</td>\n",
              "    </tr>\n",
              "    <tr>\n",
              "      <th>2</th>\n",
              "      <td>1465000.0</td>\n",
              "      <td>(2, 3]</td>\n",
              "      <td>(1, 2]</td>\n",
              "      <td>134.0</td>\n",
              "      <td>150.0</td>\n",
              "      <td>h</td>\n",
              "      <td>1900.0</td>\n",
              "      <td>0</td>\n",
              "      <td>Abbotsford</td>\n",
              "      <td>Northern Metropolitan</td>\n",
              "      <td>['Yarra']</td>\n",
              "      <td>117.719512</td>\n",
              "    </tr>\n",
              "    <tr>\n",
              "      <th>3</th>\n",
              "      <td>850000.0</td>\n",
              "      <td>(2, 3]</td>\n",
              "      <td>(1, 2]</td>\n",
              "      <td>94.0</td>\n",
              "      <td>NaN</td>\n",
              "      <td>h</td>\n",
              "      <td>NaN</td>\n",
              "      <td>0</td>\n",
              "      <td>Abbotsford</td>\n",
              "      <td>Northern Metropolitan</td>\n",
              "      <td>['Yarra']</td>\n",
              "      <td>117.719512</td>\n",
              "    </tr>\n",
              "    <tr>\n",
              "      <th>4</th>\n",
              "      <td>1600000.0</td>\n",
              "      <td>(3, 4]</td>\n",
              "      <td>(0, 1]</td>\n",
              "      <td>120.0</td>\n",
              "      <td>142.0</td>\n",
              "      <td>h</td>\n",
              "      <td>2014.0</td>\n",
              "      <td>0</td>\n",
              "      <td>Abbotsford</td>\n",
              "      <td>Northern Metropolitan</td>\n",
              "      <td>['Yarra']</td>\n",
              "      <td>117.719512</td>\n",
              "    </tr>\n",
              "  </tbody>\n",
              "</table>\n",
              "</div>"
            ],
            "text/plain": [
              "   housing_price  ... suburb_rental_dailyprice\n",
              "0      1480000.0  ...               117.719512\n",
              "1      1035000.0  ...               117.719512\n",
              "2      1465000.0  ...               117.719512\n",
              "3       850000.0  ...               117.719512\n",
              "4      1600000.0  ...               117.719512\n",
              "\n",
              "[5 rows x 12 columns]"
            ]
          },
          "metadata": {
            "tags": []
          },
          "execution_count": 83
        }
      ]
    },
    {
      "cell_type": "code",
      "metadata": {
        "id": "1ooX9u3RsoOG"
      },
      "source": [
        "categorical_cols = [\"housing_room_segment\", \"housing_bathroom_segment\", \"housing_type\", \"suburb_name\",\"suburb_region_segment\", \"suburb_council_area\"]\n",
        "numerical_cols = [\"housing_price\",\"housing_land_size\",\"suburb_rental_dailyprice\"]"
      ],
      "execution_count": 84,
      "outputs": []
    },
    {
      "cell_type": "code",
      "metadata": {
        "colab": {
          "base_uri": "https://localhost:8080/"
        },
        "id": "P-wF6v5xtIel",
        "outputId": "6113c71a-9519-4b0e-dead-1c0e06014a6a"
      },
      "source": [
        "print(\"housing_room_segment\", melb_combim.housing_room_segment.nunique())\n",
        "print(\"housing_bathroom_segment\", melb_combim.housing_bathroom_segment.nunique())\n",
        "print(\"housing_type\", melb_combim.housing_type.nunique())\n",
        "print(\"suburb_region_segment\", melb_combim.suburb_region_segment.nunique())\n",
        "print(\"suburb_council_area\", melb_combim.suburb_council_area.nunique())\n",
        "print(\"suburb_name\", melb_combim.suburb_name.nunique())"
      ],
      "execution_count": 72,
      "outputs": [
        {
          "output_type": "stream",
          "text": [
            "housing_room_segment 5\n",
            "housing_bathroom_segment 3\n",
            "housing_type 3\n",
            "suburb_region_segment 6\n",
            "suburb_council_area 60\n",
            "suburb_name 314\n"
          ],
          "name": "stdout"
        }
      ]
    },
    {
      "cell_type": "code",
      "metadata": {
        "colab": {
          "base_uri": "https://localhost:8080/"
        },
        "id": "8AOMExoKtmQi",
        "outputId": "80bf63ab-5d0f-4e9a-935d-c40b01a7b466"
      },
      "source": [
        "from sklearn.preprocessing import OneHotEncoder\n",
        "\n",
        "encoder = OneHotEncoder(sparse=False)\n",
        "encoder.fit(melb_combim[categorical_cols])\n",
        "# We can inspect the categories found by the encoder\n",
        "encoder.categories_"
      ],
      "execution_count": 85,
      "outputs": [
        {
          "output_type": "execute_result",
          "data": {
            "text/plain": [
              "[array(['(0, 1]', '(1, 2]', '(2, 3]', '(3, 4]', '(4, 10]'], dtype=object),\n",
              " array(['(0, 1]', '(1, 2]', '(2, 8]'], dtype=object),\n",
              " array(['h', 't', 'u'], dtype=object),\n",
              " array(['Abbotsford', 'Aberfeldie', 'Airport West', 'Albanvale',\n",
              "        'Albert Park', 'Albion', 'Alphington', 'Altona', 'Altona Meadows',\n",
              "        'Altona North', 'Ardeer', 'Armadale', 'Ascot Vale', 'Ashburton',\n",
              "        'Ashwood', 'Aspendale', 'Aspendale Gardens', 'Attwood',\n",
              "        'Avondale Heights', 'Bacchus Marsh', 'Balaclava', 'Balwyn',\n",
              "        'Balwyn North', 'Bayswater', 'Bayswater North', 'Beaconsfield',\n",
              "        'Beaconsfield Upper', 'Beaumaris', 'Bellfield', 'Bentleigh',\n",
              "        'Bentleigh East', 'Berwick', 'Black Rock', 'Blackburn',\n",
              "        'Blackburn North', 'Blackburn South', 'Bonbeach', 'Boronia',\n",
              "        'Box Hill', 'Braybrook', 'Briar Hill', 'Brighton', 'Brighton East',\n",
              "        'Broadmeadows', 'Brookfield', 'Brooklyn', 'Brunswick',\n",
              "        'Brunswick East', 'Brunswick West', 'Bulleen', 'Bullengarook',\n",
              "        'Bundoora', 'Burnley', 'Burnside', 'Burnside Heights', 'Burwood',\n",
              "        'Burwood East', 'Cairnlea', 'Camberwell', 'Campbellfield',\n",
              "        'Canterbury', 'Carlton', 'Carlton North', 'Carnegie',\n",
              "        'Caroline Springs', 'Carrum', 'Carrum Downs', 'Caulfield',\n",
              "        'Caulfield East', 'Caulfield North', 'Caulfield South',\n",
              "        'Chadstone', 'Chelsea', 'Chelsea Heights', 'Cheltenham',\n",
              "        'Chirnside Park', 'Clarinda', 'Clayton', 'Clayton South',\n",
              "        'Clifton Hill', 'Coburg', 'Coburg North', 'Collingwood',\n",
              "        'Coolaroo', 'Craigieburn', 'Cranbourne', 'Cranbourne North',\n",
              "        'Cremorne', 'Croydon', 'Croydon Hills', 'Croydon North',\n",
              "        'Croydon South', 'Dallas', 'Dandenong', 'Dandenong North',\n",
              "        'Deepdene', 'Deer Park', 'Delahey', 'Derrimut', 'Diamond Creek',\n",
              "        'Diggers Rest', 'Dingley Village', 'Docklands', 'Doncaster',\n",
              "        'Doncaster East', 'Donvale', 'Doreen', 'Doveton', 'Eaglemont',\n",
              "        'East Melbourne', 'Edithvale', 'Elsternwick', 'Eltham',\n",
              "        'Eltham North', 'Elwood', 'Emerald', 'Endeavour Hills', 'Epping',\n",
              "        'Essendon', 'Essendon North', 'Essendon West', 'Fairfield',\n",
              "        'Fawkner', 'Ferntree Gully', 'Fitzroy', 'Fitzroy North',\n",
              "        'Flemington', 'Footscray', 'Forest Hill', 'Frankston',\n",
              "        'Frankston North', 'Frankston South', 'Gardenvale', 'Gisborne',\n",
              "        'Gladstone Park', 'Glen Huntly', 'Glen Iris', 'Glen Waverley',\n",
              "        'Glenroy', 'Gowanbrae', 'Greensborough', 'Greenvale', 'Hadfield',\n",
              "        'Hallam', 'Hampton', 'Hampton East', 'Hampton Park', 'Hawthorn',\n",
              "        'Hawthorn East', 'Healesville', 'Heathmont', 'Heidelberg',\n",
              "        'Heidelberg Heights', 'Heidelberg West', 'Highett', 'Hillside',\n",
              "        'Hoppers Crossing', 'Hughesdale', 'Huntingdale', 'Hurstbridge',\n",
              "        'Ivanhoe', 'Ivanhoe East', 'Jacana', 'Kealba', 'Keilor',\n",
              "        'Keilor Downs', 'Keilor East', 'Keilor Lodge', 'Keilor Park',\n",
              "        'Kensington', 'Kew', 'Kew East', 'Keysborough', 'Kilsyth',\n",
              "        'Kings Park', 'Kingsbury', 'Kingsville', 'Knoxfield', 'Kooyong',\n",
              "        'Kurunjang', 'Lalor', 'Langwarrin', 'Lower Plenty', 'Maidstone',\n",
              "        'Malvern', 'Malvern East', 'Maribyrnong', 'McKinnon',\n",
              "        'Meadow Heights', 'Melbourne', 'Melton', 'Melton South',\n",
              "        'Melton West', 'Mentone', 'Mernda', 'Middle Park', 'Mill Park',\n",
              "        'Mitcham', 'Monbulk', 'Mont Albert', 'Montmorency', 'Montrose',\n",
              "        'Moonee Ponds', 'Moorabbin', 'Mooroolbark', 'Mordialloc',\n",
              "        'Mount Evelyn', 'Mount Waverley', 'Mulgrave', 'Murrumbeena',\n",
              "        'Narre Warren', 'New Gisborne', 'Newport', 'Niddrie', 'Noble Park',\n",
              "        'North Melbourne', 'North Warrandyte', 'Northcote', 'Notting Hill',\n",
              "        'Nunawading', 'Oak Park', 'Oakleigh', 'Oakleigh East',\n",
              "        'Oakleigh South', 'Officer', 'Ormond', 'Pakenham', 'Parkdale',\n",
              "        'Parkville', 'Pascoe Vale', 'Plumpton', 'Point Cook',\n",
              "        'Port Melbourne', 'Prahran', 'Preston', 'Princes Hill',\n",
              "        'Reservoir', 'Richmond', 'Riddells Creek', 'Ringwood',\n",
              "        'Ringwood East', 'Ringwood North', 'Ripponlea', 'Rockbank',\n",
              "        'Rosanna', 'Rowville', 'Roxburgh Park', 'Sandhurst', 'Sandringham',\n",
              "        'Scoresby', 'Seabrook', 'Seaford', 'Seaholme', 'Seddon', 'Silvan',\n",
              "        'Skye', 'South Kingsville', 'South Melbourne', 'South Morang',\n",
              "        'South Yarra', 'Southbank', 'Spotswood', 'Springvale',\n",
              "        'Springvale South', 'St Albans', 'St Helena', 'St Kilda',\n",
              "        'Strathmore', 'Strathmore Heights', 'Sunbury', 'Sunshine',\n",
              "        'Sunshine North', 'Sunshine West', 'Surrey Hills', 'Sydenham',\n",
              "        'Tarneit', 'Taylors Hill', 'Taylors Lakes', 'Templestowe',\n",
              "        'Templestowe Lower', 'The Basin', 'Thomastown', 'Thornbury',\n",
              "        'Toorak', 'Travancore', 'Truganina', 'Tullamarine', 'Upwey',\n",
              "        'Vermont', 'Vermont South', 'Viewbank', 'Wallan', 'Wantirna',\n",
              "        'Wantirna South', 'Warrandyte', 'Waterways', 'Watsonia',\n",
              "        'Watsonia North', 'Werribee', 'West Footscray', 'West Melbourne',\n",
              "        'Westmeadows', 'Wheelers Hill', 'Whittlesea', 'Williams Landing',\n",
              "        'Williamstown', 'Williamstown North', 'Windsor', 'Wollert',\n",
              "        'Wonga Park', 'Wyndham Vale', 'Yallambie', 'Yarra Glen',\n",
              "        'Yarraville'], dtype=object),\n",
              " array(['Eastern Metropolitan', 'Northern Metropolitan',\n",
              "        'South-Eastern Metropolitan', 'Southern Metropolitan', 'Victoria',\n",
              "        'Western Metropolitan'], dtype=object),\n",
              " array([\"['Banyule', 'Nillumbik']\", \"['Banyule', 'Whittlesea', 'Darebin']\",\n",
              "        \"['Banyule']\", \"['Bayside', 'Glen Eira']\",\n",
              "        \"['Bayside', 'Kingston']\", \"['Bayside', 'Unavailable']\",\n",
              "        \"['Bayside']\", \"['Boroondara', 'Stonnington']\",\n",
              "        \"['Boroondara', 'Whitehorse']\", \"['Boroondara']\", \"['Brimbank']\",\n",
              "        \"['Cardinia']\", \"['Casey']\", \"['Darebin', 'Banyule']\",\n",
              "        \"['Darebin', 'Yarra']\", \"['Darebin']\", \"['Frankston']\",\n",
              "        \"['Glen Eira']\", \"['Greater Dandenong']\",\n",
              "        \"['Hobsons Bay', 'Brimbank']\", \"['Hobsons Bay']\", \"['Hume']\",\n",
              "        \"['Kingston', 'Bayside']\", \"['Kingston']\", \"['Knox']\",\n",
              "        \"['Macedon Ranges']\", \"['Manningham']\", \"['Maribyrnong']\",\n",
              "        \"['Maroondah']\", \"['Melbourne', 'Moonee Valley']\",\n",
              "        \"['Melbourne', 'Port Phillip']\", \"['Melbourne']\",\n",
              "        \"['Melton - Bacchus Marsh']\", \"['Melton', 'Brimbank']\",\n",
              "        \"['Melton']\", \"['Monash', 'Kingston']\", \"['Monash']\",\n",
              "        \"['Moonee Valley', 'Brimbank']\", \"['Moonee Valley', 'Melbourne']\",\n",
              "        \"['Moonee Valley']\", \"['Moorabool']\", \"['Moreland', 'Darebin']\",\n",
              "        \"['Moreland', 'Hume']\", \"['Moreland']\", \"['Nillumbik', 'Banyule']\",\n",
              "        \"['Nillumbik']\", \"['Port Phillip', 'Glen Eira']\",\n",
              "        \"['Port Phillip', 'Melbourne']\", \"['Port Phillip', 'Stonnington']\",\n",
              "        \"['Port Phillip']\", \"['Stonnington', 'Melbourne']\",\n",
              "        \"['Stonnington']\", \"['Whitehorse', 'Boroondara']\",\n",
              "        \"['Whitehorse', 'Monash']\", \"['Whitehorse']\", \"['Whittlesea']\",\n",
              "        \"['Wyndham']\", \"['Yarra Ranges']\", \"['Yarra', 'Moreland']\",\n",
              "        \"['Yarra']\"], dtype=object)]"
            ]
          },
          "metadata": {
            "tags": []
          },
          "execution_count": 85
        }
      ]
    },
    {
      "cell_type": "code",
      "metadata": {
        "colab": {
          "base_uri": "https://localhost:8080/"
        },
        "id": "Zn-Gf4netypB",
        "outputId": "9ca0021c-6ed7-4625-b5d4-c41c623cc36e"
      },
      "source": [
        "encoded_types = encoder.transform(melb_combim[categorical_cols])\n",
        "encoded_types[:10]"
      ],
      "execution_count": 86,
      "outputs": [
        {
          "output_type": "execute_result",
          "data": {
            "text/plain": [
              "array([[0., 1., 0., ..., 0., 0., 1.],\n",
              "       [0., 1., 0., ..., 0., 0., 1.],\n",
              "       [0., 0., 1., ..., 0., 0., 1.],\n",
              "       ...,\n",
              "       [0., 1., 0., ..., 0., 0., 1.],\n",
              "       [1., 0., 0., ..., 0., 0., 1.],\n",
              "       [0., 1., 0., ..., 0., 0., 1.]])"
            ]
          },
          "metadata": {
            "tags": []
          },
          "execution_count": 86
        }
      ]
    },
    {
      "cell_type": "code",
      "metadata": {
        "colab": {
          "base_uri": "https://localhost:8080/"
        },
        "id": "MXT5gHdLt7TK",
        "outputId": "6afaf8af-99ba-4647-d424-68944a5a95e5"
      },
      "source": [
        "melb_numeric = melb_combim[numerical_cols].values\n",
        "melb_numeric[:10]"
      ],
      "execution_count": 87,
      "outputs": [
        {
          "output_type": "execute_result",
          "data": {
            "text/plain": [
              "array([[1.48000000e+06, 2.02000000e+02, 1.17719512e+02],\n",
              "       [1.03500000e+06, 1.56000000e+02, 1.17719512e+02],\n",
              "       [1.46500000e+06, 1.34000000e+02, 1.17719512e+02],\n",
              "       [8.50000000e+05, 9.40000000e+01, 1.17719512e+02],\n",
              "       [1.60000000e+06, 1.20000000e+02, 1.17719512e+02],\n",
              "       [9.41000000e+05, 1.81000000e+02, 1.17719512e+02],\n",
              "       [1.87600000e+06, 2.45000000e+02, 1.17719512e+02],\n",
              "       [1.63600000e+06, 2.56000000e+02, 1.17719512e+02],\n",
              "       [3.00000000e+05, 0.00000000e+00, 1.17719512e+02],\n",
              "       [1.09700000e+06, 2.20000000e+02, 1.17719512e+02]])"
            ]
          },
          "metadata": {
            "tags": []
          },
          "execution_count": 87
        }
      ]
    },
    {
      "cell_type": "code",
      "metadata": {
        "colab": {
          "base_uri": "https://localhost:8080/"
        },
        "id": "MSen8a_-uEWo",
        "outputId": "9e7b5845-ac1d-4671-c390-e68e03fa7f68"
      },
      "source": [
        "matriz = np.hstack((encoded_types, melb_numeric))\n",
        "matriz [:5]"
      ],
      "execution_count": 88,
      "outputs": [
        {
          "output_type": "execute_result",
          "data": {
            "text/plain": [
              "array([[0.00000000e+00, 1.00000000e+00, 0.00000000e+00, ...,\n",
              "        1.48000000e+06, 2.02000000e+02, 1.17719512e+02],\n",
              "       [0.00000000e+00, 1.00000000e+00, 0.00000000e+00, ...,\n",
              "        1.03500000e+06, 1.56000000e+02, 1.17719512e+02],\n",
              "       [0.00000000e+00, 0.00000000e+00, 1.00000000e+00, ...,\n",
              "        1.46500000e+06, 1.34000000e+02, 1.17719512e+02],\n",
              "       [0.00000000e+00, 0.00000000e+00, 1.00000000e+00, ...,\n",
              "        8.50000000e+05, 9.40000000e+01, 1.17719512e+02],\n",
              "       [0.00000000e+00, 0.00000000e+00, 0.00000000e+00, ...,\n",
              "        1.60000000e+06, 1.20000000e+02, 1.17719512e+02]])"
            ]
          },
          "metadata": {
            "tags": []
          },
          "execution_count": 88
        }
      ]
    },
    {
      "cell_type": "code",
      "metadata": {
        "colab": {
          "base_uri": "https://localhost:8080/"
        },
        "id": "J0827ohfugcn",
        "outputId": "cd85a7d4-f461-4c4e-b9ad-bdb1a333ce84"
      },
      "source": [
        "matriz.shape"
      ],
      "execution_count": null,
      "outputs": [
        {
          "output_type": "execute_result",
          "data": {
            "text/plain": [
              "(13207, 394)"
            ]
          },
          "metadata": {
            "tags": []
          },
          "execution_count": 27
        }
      ]
    },
    {
      "cell_type": "markdown",
      "metadata": {
        "id": "PlSDuDM4xMsU"
      },
      "source": [
        "###DictVectorizer"
      ]
    },
    {
      "cell_type": "code",
      "metadata": {
        "colab": {
          "base_uri": "https://localhost:8080/"
        },
        "id": "9MPqzoCgvtOf",
        "outputId": "a34878de-8b4f-46db-fd58-c573fae69a51"
      },
      "source": [
        "feature_cols = [\"housing_room_segment\", \"housing_bathroom_segment\", \"housing_type\", \"suburb_name\",\"suburb_region_segment\", \"suburb_council_area\",\n",
        "\"housing_price\",\"housing_land_size\",\"suburb_rental_dailyprice\"]\n",
        "feature_dict = list(melb_combim[feature_cols].T.to_dict().values())\n",
        "feature_dict[:2]"
      ],
      "execution_count": 89,
      "outputs": [
        {
          "output_type": "execute_result",
          "data": {
            "text/plain": [
              "[{'housing_bathroom_segment': '(0, 1]',\n",
              "  'housing_land_size': 202.0,\n",
              "  'housing_price': 1480000.0,\n",
              "  'housing_room_segment': '(1, 2]',\n",
              "  'housing_type': 'h',\n",
              "  'suburb_council_area': \"['Yarra']\",\n",
              "  'suburb_name': 'Abbotsford',\n",
              "  'suburb_region_segment': 'Northern Metropolitan',\n",
              "  'suburb_rental_dailyprice': 117.71951219512195},\n",
              " {'housing_bathroom_segment': '(0, 1]',\n",
              "  'housing_land_size': 156.0,\n",
              "  'housing_price': 1035000.0,\n",
              "  'housing_room_segment': '(1, 2]',\n",
              "  'housing_type': 'h',\n",
              "  'suburb_council_area': \"['Yarra']\",\n",
              "  'suburb_name': 'Abbotsford',\n",
              "  'suburb_region_segment': 'Northern Metropolitan',\n",
              "  'suburb_rental_dailyprice': 117.71951219512195}]"
            ]
          },
          "metadata": {
            "tags": []
          },
          "execution_count": 89
        }
      ]
    },
    {
      "cell_type": "code",
      "metadata": {
        "id": "XQ3AxWpCwNu-"
      },
      "source": [
        "from sklearn.feature_extraction import DictVectorizer\n",
        "vec = DictVectorizer()\n",
        "feature_matrix = vec.fit_transform(feature_dict)"
      ],
      "execution_count": 90,
      "outputs": []
    },
    {
      "cell_type": "code",
      "metadata": {
        "colab": {
          "base_uri": "https://localhost:8080/"
        },
        "id": "UR4HXlV2wa0E",
        "outputId": "61dd10f6-8424-4cf6-dfd4-acaeb5ba2912"
      },
      "source": [
        "feature_matrix"
      ],
      "execution_count": null,
      "outputs": [
        {
          "output_type": "execute_result",
          "data": {
            "text/plain": [
              "<13207x394 sparse matrix of type '<class 'numpy.float64'>'\n",
              "\twith 118863 stored elements in Compressed Sparse Row format>"
            ]
          },
          "metadata": {
            "tags": []
          },
          "execution_count": 30
        }
      ]
    },
    {
      "cell_type": "code",
      "metadata": {
        "colab": {
          "base_uri": "https://localhost:8080/"
        },
        "id": "_9nssI-Owf4t",
        "outputId": "ac9923c2-a37e-4a7b-d38e-6890352a1e44"
      },
      "source": [
        "vec.get_feature_names()"
      ],
      "execution_count": null,
      "outputs": [
        {
          "output_type": "execute_result",
          "data": {
            "text/plain": [
              "['housing_bathroom_segment=(0, 1]',\n",
              " 'housing_bathroom_segment=(1, 2]',\n",
              " 'housing_bathroom_segment=(2, 8]',\n",
              " 'housing_land_size',\n",
              " 'housing_price',\n",
              " 'housing_room_segment=(0, 1]',\n",
              " 'housing_room_segment=(1, 2]',\n",
              " 'housing_room_segment=(2, 3]',\n",
              " 'housing_room_segment=(3, 4]',\n",
              " 'housing_room_segment=(4, 10]',\n",
              " 'housing_type=h',\n",
              " 'housing_type=t',\n",
              " 'housing_type=u',\n",
              " \"suburb_council_area=['Banyule', 'Nillumbik']\",\n",
              " \"suburb_council_area=['Banyule', 'Whittlesea', 'Darebin']\",\n",
              " \"suburb_council_area=['Banyule']\",\n",
              " \"suburb_council_area=['Bayside', 'Glen Eira']\",\n",
              " \"suburb_council_area=['Bayside', 'Kingston']\",\n",
              " \"suburb_council_area=['Bayside', 'Unavailable']\",\n",
              " \"suburb_council_area=['Bayside']\",\n",
              " \"suburb_council_area=['Boroondara', 'Stonnington']\",\n",
              " \"suburb_council_area=['Boroondara', 'Whitehorse']\",\n",
              " \"suburb_council_area=['Boroondara']\",\n",
              " \"suburb_council_area=['Brimbank']\",\n",
              " \"suburb_council_area=['Cardinia']\",\n",
              " \"suburb_council_area=['Casey']\",\n",
              " \"suburb_council_area=['Darebin', 'Banyule']\",\n",
              " \"suburb_council_area=['Darebin', 'Yarra']\",\n",
              " \"suburb_council_area=['Darebin']\",\n",
              " \"suburb_council_area=['Frankston']\",\n",
              " \"suburb_council_area=['Glen Eira']\",\n",
              " \"suburb_council_area=['Greater Dandenong']\",\n",
              " \"suburb_council_area=['Hobsons Bay', 'Brimbank']\",\n",
              " \"suburb_council_area=['Hobsons Bay']\",\n",
              " \"suburb_council_area=['Hume']\",\n",
              " \"suburb_council_area=['Kingston', 'Bayside']\",\n",
              " \"suburb_council_area=['Kingston']\",\n",
              " \"suburb_council_area=['Knox']\",\n",
              " \"suburb_council_area=['Macedon Ranges']\",\n",
              " \"suburb_council_area=['Manningham']\",\n",
              " \"suburb_council_area=['Maribyrnong']\",\n",
              " \"suburb_council_area=['Maroondah']\",\n",
              " \"suburb_council_area=['Melbourne', 'Moonee Valley']\",\n",
              " \"suburb_council_area=['Melbourne', 'Port Phillip']\",\n",
              " \"suburb_council_area=['Melbourne']\",\n",
              " \"suburb_council_area=['Melton - Bacchus Marsh']\",\n",
              " \"suburb_council_area=['Melton', 'Brimbank']\",\n",
              " \"suburb_council_area=['Melton']\",\n",
              " \"suburb_council_area=['Monash', 'Kingston']\",\n",
              " \"suburb_council_area=['Monash']\",\n",
              " \"suburb_council_area=['Moonee Valley', 'Brimbank']\",\n",
              " \"suburb_council_area=['Moonee Valley', 'Melbourne']\",\n",
              " \"suburb_council_area=['Moonee Valley']\",\n",
              " \"suburb_council_area=['Moorabool']\",\n",
              " \"suburb_council_area=['Moreland', 'Darebin']\",\n",
              " \"suburb_council_area=['Moreland', 'Hume']\",\n",
              " \"suburb_council_area=['Moreland']\",\n",
              " \"suburb_council_area=['Nillumbik', 'Banyule']\",\n",
              " \"suburb_council_area=['Nillumbik']\",\n",
              " \"suburb_council_area=['Port Phillip', 'Glen Eira']\",\n",
              " \"suburb_council_area=['Port Phillip', 'Melbourne']\",\n",
              " \"suburb_council_area=['Port Phillip', 'Stonnington']\",\n",
              " \"suburb_council_area=['Port Phillip']\",\n",
              " \"suburb_council_area=['Stonnington', 'Melbourne']\",\n",
              " \"suburb_council_area=['Stonnington']\",\n",
              " \"suburb_council_area=['Whitehorse', 'Boroondara']\",\n",
              " \"suburb_council_area=['Whitehorse', 'Monash']\",\n",
              " \"suburb_council_area=['Whitehorse']\",\n",
              " \"suburb_council_area=['Whittlesea']\",\n",
              " \"suburb_council_area=['Wyndham']\",\n",
              " \"suburb_council_area=['Yarra Ranges']\",\n",
              " \"suburb_council_area=['Yarra', 'Moreland']\",\n",
              " \"suburb_council_area=['Yarra']\",\n",
              " 'suburb_name=Abbotsford',\n",
              " 'suburb_name=Aberfeldie',\n",
              " 'suburb_name=Airport West',\n",
              " 'suburb_name=Albanvale',\n",
              " 'suburb_name=Albert Park',\n",
              " 'suburb_name=Albion',\n",
              " 'suburb_name=Alphington',\n",
              " 'suburb_name=Altona',\n",
              " 'suburb_name=Altona Meadows',\n",
              " 'suburb_name=Altona North',\n",
              " 'suburb_name=Ardeer',\n",
              " 'suburb_name=Armadale',\n",
              " 'suburb_name=Ascot Vale',\n",
              " 'suburb_name=Ashburton',\n",
              " 'suburb_name=Ashwood',\n",
              " 'suburb_name=Aspendale',\n",
              " 'suburb_name=Aspendale Gardens',\n",
              " 'suburb_name=Attwood',\n",
              " 'suburb_name=Avondale Heights',\n",
              " 'suburb_name=Bacchus Marsh',\n",
              " 'suburb_name=Balaclava',\n",
              " 'suburb_name=Balwyn',\n",
              " 'suburb_name=Balwyn North',\n",
              " 'suburb_name=Bayswater',\n",
              " 'suburb_name=Bayswater North',\n",
              " 'suburb_name=Beaconsfield',\n",
              " 'suburb_name=Beaconsfield Upper',\n",
              " 'suburb_name=Beaumaris',\n",
              " 'suburb_name=Bellfield',\n",
              " 'suburb_name=Bentleigh',\n",
              " 'suburb_name=Bentleigh East',\n",
              " 'suburb_name=Berwick',\n",
              " 'suburb_name=Black Rock',\n",
              " 'suburb_name=Blackburn',\n",
              " 'suburb_name=Blackburn North',\n",
              " 'suburb_name=Blackburn South',\n",
              " 'suburb_name=Bonbeach',\n",
              " 'suburb_name=Boronia',\n",
              " 'suburb_name=Box Hill',\n",
              " 'suburb_name=Braybrook',\n",
              " 'suburb_name=Briar Hill',\n",
              " 'suburb_name=Brighton',\n",
              " 'suburb_name=Brighton East',\n",
              " 'suburb_name=Broadmeadows',\n",
              " 'suburb_name=Brookfield',\n",
              " 'suburb_name=Brooklyn',\n",
              " 'suburb_name=Brunswick',\n",
              " 'suburb_name=Brunswick East',\n",
              " 'suburb_name=Brunswick West',\n",
              " 'suburb_name=Bulleen',\n",
              " 'suburb_name=Bullengarook',\n",
              " 'suburb_name=Bundoora',\n",
              " 'suburb_name=Burnley',\n",
              " 'suburb_name=Burnside',\n",
              " 'suburb_name=Burnside Heights',\n",
              " 'suburb_name=Burwood',\n",
              " 'suburb_name=Burwood East',\n",
              " 'suburb_name=Cairnlea',\n",
              " 'suburb_name=Camberwell',\n",
              " 'suburb_name=Campbellfield',\n",
              " 'suburb_name=Canterbury',\n",
              " 'suburb_name=Carlton',\n",
              " 'suburb_name=Carlton North',\n",
              " 'suburb_name=Carnegie',\n",
              " 'suburb_name=Caroline Springs',\n",
              " 'suburb_name=Carrum',\n",
              " 'suburb_name=Carrum Downs',\n",
              " 'suburb_name=Caulfield',\n",
              " 'suburb_name=Caulfield East',\n",
              " 'suburb_name=Caulfield North',\n",
              " 'suburb_name=Caulfield South',\n",
              " 'suburb_name=Chadstone',\n",
              " 'suburb_name=Chelsea',\n",
              " 'suburb_name=Chelsea Heights',\n",
              " 'suburb_name=Cheltenham',\n",
              " 'suburb_name=Chirnside Park',\n",
              " 'suburb_name=Clarinda',\n",
              " 'suburb_name=Clayton',\n",
              " 'suburb_name=Clayton South',\n",
              " 'suburb_name=Clifton Hill',\n",
              " 'suburb_name=Coburg',\n",
              " 'suburb_name=Coburg North',\n",
              " 'suburb_name=Collingwood',\n",
              " 'suburb_name=Coolaroo',\n",
              " 'suburb_name=Craigieburn',\n",
              " 'suburb_name=Cranbourne',\n",
              " 'suburb_name=Cranbourne North',\n",
              " 'suburb_name=Cremorne',\n",
              " 'suburb_name=Croydon',\n",
              " 'suburb_name=Croydon Hills',\n",
              " 'suburb_name=Croydon North',\n",
              " 'suburb_name=Croydon South',\n",
              " 'suburb_name=Dallas',\n",
              " 'suburb_name=Dandenong',\n",
              " 'suburb_name=Dandenong North',\n",
              " 'suburb_name=Deepdene',\n",
              " 'suburb_name=Deer Park',\n",
              " 'suburb_name=Delahey',\n",
              " 'suburb_name=Derrimut',\n",
              " 'suburb_name=Diamond Creek',\n",
              " 'suburb_name=Diggers Rest',\n",
              " 'suburb_name=Dingley Village',\n",
              " 'suburb_name=Docklands',\n",
              " 'suburb_name=Doncaster',\n",
              " 'suburb_name=Doncaster East',\n",
              " 'suburb_name=Donvale',\n",
              " 'suburb_name=Doreen',\n",
              " 'suburb_name=Doveton',\n",
              " 'suburb_name=Eaglemont',\n",
              " 'suburb_name=East Melbourne',\n",
              " 'suburb_name=Edithvale',\n",
              " 'suburb_name=Elsternwick',\n",
              " 'suburb_name=Eltham',\n",
              " 'suburb_name=Eltham North',\n",
              " 'suburb_name=Elwood',\n",
              " 'suburb_name=Emerald',\n",
              " 'suburb_name=Endeavour Hills',\n",
              " 'suburb_name=Epping',\n",
              " 'suburb_name=Essendon',\n",
              " 'suburb_name=Essendon North',\n",
              " 'suburb_name=Essendon West',\n",
              " 'suburb_name=Fairfield',\n",
              " 'suburb_name=Fawkner',\n",
              " 'suburb_name=Ferntree Gully',\n",
              " 'suburb_name=Fitzroy',\n",
              " 'suburb_name=Fitzroy North',\n",
              " 'suburb_name=Flemington',\n",
              " 'suburb_name=Footscray',\n",
              " 'suburb_name=Forest Hill',\n",
              " 'suburb_name=Frankston',\n",
              " 'suburb_name=Frankston North',\n",
              " 'suburb_name=Frankston South',\n",
              " 'suburb_name=Gardenvale',\n",
              " 'suburb_name=Gisborne',\n",
              " 'suburb_name=Gladstone Park',\n",
              " 'suburb_name=Glen Huntly',\n",
              " 'suburb_name=Glen Iris',\n",
              " 'suburb_name=Glen Waverley',\n",
              " 'suburb_name=Glenroy',\n",
              " 'suburb_name=Gowanbrae',\n",
              " 'suburb_name=Greensborough',\n",
              " 'suburb_name=Greenvale',\n",
              " 'suburb_name=Hadfield',\n",
              " 'suburb_name=Hallam',\n",
              " 'suburb_name=Hampton',\n",
              " 'suburb_name=Hampton East',\n",
              " 'suburb_name=Hampton Park',\n",
              " 'suburb_name=Hawthorn',\n",
              " 'suburb_name=Hawthorn East',\n",
              " 'suburb_name=Healesville',\n",
              " 'suburb_name=Heathmont',\n",
              " 'suburb_name=Heidelberg',\n",
              " 'suburb_name=Heidelberg Heights',\n",
              " 'suburb_name=Heidelberg West',\n",
              " 'suburb_name=Highett',\n",
              " 'suburb_name=Hillside',\n",
              " 'suburb_name=Hoppers Crossing',\n",
              " 'suburb_name=Hughesdale',\n",
              " 'suburb_name=Huntingdale',\n",
              " 'suburb_name=Hurstbridge',\n",
              " 'suburb_name=Ivanhoe',\n",
              " 'suburb_name=Ivanhoe East',\n",
              " 'suburb_name=Jacana',\n",
              " 'suburb_name=Kealba',\n",
              " 'suburb_name=Keilor',\n",
              " 'suburb_name=Keilor Downs',\n",
              " 'suburb_name=Keilor East',\n",
              " 'suburb_name=Keilor Lodge',\n",
              " 'suburb_name=Keilor Park',\n",
              " 'suburb_name=Kensington',\n",
              " 'suburb_name=Kew',\n",
              " 'suburb_name=Kew East',\n",
              " 'suburb_name=Keysborough',\n",
              " 'suburb_name=Kilsyth',\n",
              " 'suburb_name=Kings Park',\n",
              " 'suburb_name=Kingsbury',\n",
              " 'suburb_name=Kingsville',\n",
              " 'suburb_name=Knoxfield',\n",
              " 'suburb_name=Kooyong',\n",
              " 'suburb_name=Kurunjang',\n",
              " 'suburb_name=Lalor',\n",
              " 'suburb_name=Langwarrin',\n",
              " 'suburb_name=Lower Plenty',\n",
              " 'suburb_name=Maidstone',\n",
              " 'suburb_name=Malvern',\n",
              " 'suburb_name=Malvern East',\n",
              " 'suburb_name=Maribyrnong',\n",
              " 'suburb_name=McKinnon',\n",
              " 'suburb_name=Meadow Heights',\n",
              " 'suburb_name=Melbourne',\n",
              " 'suburb_name=Melton',\n",
              " 'suburb_name=Melton South',\n",
              " 'suburb_name=Melton West',\n",
              " 'suburb_name=Mentone',\n",
              " 'suburb_name=Mernda',\n",
              " 'suburb_name=Middle Park',\n",
              " 'suburb_name=Mill Park',\n",
              " 'suburb_name=Mitcham',\n",
              " 'suburb_name=Monbulk',\n",
              " 'suburb_name=Mont Albert',\n",
              " 'suburb_name=Montmorency',\n",
              " 'suburb_name=Montrose',\n",
              " 'suburb_name=Moonee Ponds',\n",
              " 'suburb_name=Moorabbin',\n",
              " 'suburb_name=Mooroolbark',\n",
              " 'suburb_name=Mordialloc',\n",
              " 'suburb_name=Mount Evelyn',\n",
              " 'suburb_name=Mount Waverley',\n",
              " 'suburb_name=Mulgrave',\n",
              " 'suburb_name=Murrumbeena',\n",
              " 'suburb_name=Narre Warren',\n",
              " 'suburb_name=New Gisborne',\n",
              " 'suburb_name=Newport',\n",
              " 'suburb_name=Niddrie',\n",
              " 'suburb_name=Noble Park',\n",
              " 'suburb_name=North Melbourne',\n",
              " 'suburb_name=North Warrandyte',\n",
              " 'suburb_name=Northcote',\n",
              " 'suburb_name=Notting Hill',\n",
              " 'suburb_name=Nunawading',\n",
              " 'suburb_name=Oak Park',\n",
              " 'suburb_name=Oakleigh',\n",
              " 'suburb_name=Oakleigh East',\n",
              " 'suburb_name=Oakleigh South',\n",
              " 'suburb_name=Officer',\n",
              " 'suburb_name=Ormond',\n",
              " 'suburb_name=Pakenham',\n",
              " 'suburb_name=Parkdale',\n",
              " 'suburb_name=Parkville',\n",
              " 'suburb_name=Pascoe Vale',\n",
              " 'suburb_name=Plumpton',\n",
              " 'suburb_name=Point Cook',\n",
              " 'suburb_name=Port Melbourne',\n",
              " 'suburb_name=Prahran',\n",
              " 'suburb_name=Preston',\n",
              " 'suburb_name=Princes Hill',\n",
              " 'suburb_name=Reservoir',\n",
              " 'suburb_name=Richmond',\n",
              " 'suburb_name=Riddells Creek',\n",
              " 'suburb_name=Ringwood',\n",
              " 'suburb_name=Ringwood East',\n",
              " 'suburb_name=Ringwood North',\n",
              " 'suburb_name=Ripponlea',\n",
              " 'suburb_name=Rockbank',\n",
              " 'suburb_name=Rosanna',\n",
              " 'suburb_name=Rowville',\n",
              " 'suburb_name=Roxburgh Park',\n",
              " 'suburb_name=Sandhurst',\n",
              " 'suburb_name=Sandringham',\n",
              " 'suburb_name=Scoresby',\n",
              " 'suburb_name=Seabrook',\n",
              " 'suburb_name=Seaford',\n",
              " 'suburb_name=Seaholme',\n",
              " 'suburb_name=Seddon',\n",
              " 'suburb_name=Silvan',\n",
              " 'suburb_name=Skye',\n",
              " 'suburb_name=South Kingsville',\n",
              " 'suburb_name=South Melbourne',\n",
              " 'suburb_name=South Morang',\n",
              " 'suburb_name=South Yarra',\n",
              " 'suburb_name=Southbank',\n",
              " 'suburb_name=Spotswood',\n",
              " 'suburb_name=Springvale',\n",
              " 'suburb_name=Springvale South',\n",
              " 'suburb_name=St Albans',\n",
              " 'suburb_name=St Helena',\n",
              " 'suburb_name=St Kilda',\n",
              " 'suburb_name=Strathmore',\n",
              " 'suburb_name=Strathmore Heights',\n",
              " 'suburb_name=Sunbury',\n",
              " 'suburb_name=Sunshine',\n",
              " 'suburb_name=Sunshine North',\n",
              " 'suburb_name=Sunshine West',\n",
              " 'suburb_name=Surrey Hills',\n",
              " 'suburb_name=Sydenham',\n",
              " 'suburb_name=Tarneit',\n",
              " 'suburb_name=Taylors Hill',\n",
              " 'suburb_name=Taylors Lakes',\n",
              " 'suburb_name=Templestowe',\n",
              " 'suburb_name=Templestowe Lower',\n",
              " 'suburb_name=The Basin',\n",
              " 'suburb_name=Thomastown',\n",
              " 'suburb_name=Thornbury',\n",
              " 'suburb_name=Toorak',\n",
              " 'suburb_name=Travancore',\n",
              " 'suburb_name=Truganina',\n",
              " 'suburb_name=Tullamarine',\n",
              " 'suburb_name=Upwey',\n",
              " 'suburb_name=Vermont',\n",
              " 'suburb_name=Vermont South',\n",
              " 'suburb_name=Viewbank',\n",
              " 'suburb_name=Wallan',\n",
              " 'suburb_name=Wantirna',\n",
              " 'suburb_name=Wantirna South',\n",
              " 'suburb_name=Warrandyte',\n",
              " 'suburb_name=Waterways',\n",
              " 'suburb_name=Watsonia',\n",
              " 'suburb_name=Watsonia North',\n",
              " 'suburb_name=Werribee',\n",
              " 'suburb_name=West Footscray',\n",
              " 'suburb_name=West Melbourne',\n",
              " 'suburb_name=Westmeadows',\n",
              " 'suburb_name=Wheelers Hill',\n",
              " 'suburb_name=Whittlesea',\n",
              " 'suburb_name=Williams Landing',\n",
              " 'suburb_name=Williamstown',\n",
              " 'suburb_name=Williamstown North',\n",
              " 'suburb_name=Windsor',\n",
              " 'suburb_name=Wollert',\n",
              " 'suburb_name=Wonga Park',\n",
              " 'suburb_name=Wyndham Vale',\n",
              " 'suburb_name=Yallambie',\n",
              " 'suburb_name=Yarra Glen',\n",
              " 'suburb_name=Yarraville',\n",
              " 'suburb_region_segment=Eastern Metropolitan',\n",
              " 'suburb_region_segment=Northern Metropolitan',\n",
              " 'suburb_region_segment=South-Eastern Metropolitan',\n",
              " 'suburb_region_segment=Southern Metropolitan',\n",
              " 'suburb_region_segment=Victoria',\n",
              " 'suburb_region_segment=Western Metropolitan',\n",
              " 'suburb_rental_dailyprice']"
            ]
          },
          "metadata": {
            "tags": []
          },
          "execution_count": 32
        }
      ]
    },
    {
      "cell_type": "markdown",
      "metadata": {
        "id": "WShD7kbG1tQa"
      },
      "source": [
        "# Imputación por KNN"
      ]
    },
    {
      "cell_type": "code",
      "metadata": {
        "colab": {
          "base_uri": "https://localhost:8080/",
          "height": 495
        },
        "id": "Qhfc9r8i6Cyd",
        "outputId": "23d1b95f-a904-4e43-efce-90624f231a1c"
      },
      "source": [
        "at_least_onena= melb_combim['housing_year_built'].isna() | melb_combim['housing_building_area'].isna()\n",
        "missing_values_indices= melb_combim[at_least_onena].index\n",
        "melb_combim[at_least_onena]"
      ],
      "execution_count": 91,
      "outputs": [
        {
          "output_type": "execute_result",
          "data": {
            "text/html": [
              "<div>\n",
              "<style scoped>\n",
              "    .dataframe tbody tr th:only-of-type {\n",
              "        vertical-align: middle;\n",
              "    }\n",
              "\n",
              "    .dataframe tbody tr th {\n",
              "        vertical-align: top;\n",
              "    }\n",
              "\n",
              "    .dataframe thead th {\n",
              "        text-align: right;\n",
              "    }\n",
              "</style>\n",
              "<table border=\"1\" class=\"dataframe\">\n",
              "  <thead>\n",
              "    <tr style=\"text-align: right;\">\n",
              "      <th></th>\n",
              "      <th>housing_price</th>\n",
              "      <th>housing_room_segment</th>\n",
              "      <th>housing_bathroom_segment</th>\n",
              "      <th>housing_land_size</th>\n",
              "      <th>housing_building_area</th>\n",
              "      <th>housing_type</th>\n",
              "      <th>housing_year_built</th>\n",
              "      <th>suburb_id</th>\n",
              "      <th>suburb_name</th>\n",
              "      <th>suburb_region_segment</th>\n",
              "      <th>suburb_council_area</th>\n",
              "      <th>suburb_rental_dailyprice</th>\n",
              "    </tr>\n",
              "  </thead>\n",
              "  <tbody>\n",
              "    <tr>\n",
              "      <th>0</th>\n",
              "      <td>1480000.0</td>\n",
              "      <td>(1, 2]</td>\n",
              "      <td>(0, 1]</td>\n",
              "      <td>202.0</td>\n",
              "      <td>NaN</td>\n",
              "      <td>h</td>\n",
              "      <td>NaN</td>\n",
              "      <td>0</td>\n",
              "      <td>Abbotsford</td>\n",
              "      <td>Northern Metropolitan</td>\n",
              "      <td>['Yarra']</td>\n",
              "      <td>117.719512</td>\n",
              "    </tr>\n",
              "    <tr>\n",
              "      <th>3</th>\n",
              "      <td>850000.0</td>\n",
              "      <td>(2, 3]</td>\n",
              "      <td>(1, 2]</td>\n",
              "      <td>94.0</td>\n",
              "      <td>NaN</td>\n",
              "      <td>h</td>\n",
              "      <td>NaN</td>\n",
              "      <td>0</td>\n",
              "      <td>Abbotsford</td>\n",
              "      <td>Northern Metropolitan</td>\n",
              "      <td>['Yarra']</td>\n",
              "      <td>117.719512</td>\n",
              "    </tr>\n",
              "    <tr>\n",
              "      <th>5</th>\n",
              "      <td>941000.0</td>\n",
              "      <td>(1, 2]</td>\n",
              "      <td>(0, 1]</td>\n",
              "      <td>181.0</td>\n",
              "      <td>NaN</td>\n",
              "      <td>h</td>\n",
              "      <td>NaN</td>\n",
              "      <td>0</td>\n",
              "      <td>Abbotsford</td>\n",
              "      <td>Northern Metropolitan</td>\n",
              "      <td>['Yarra']</td>\n",
              "      <td>117.719512</td>\n",
              "    </tr>\n",
              "    <tr>\n",
              "      <th>8</th>\n",
              "      <td>300000.0</td>\n",
              "      <td>(0, 1]</td>\n",
              "      <td>(0, 1]</td>\n",
              "      <td>0.0</td>\n",
              "      <td>NaN</td>\n",
              "      <td>u</td>\n",
              "      <td>NaN</td>\n",
              "      <td>0</td>\n",
              "      <td>Abbotsford</td>\n",
              "      <td>Northern Metropolitan</td>\n",
              "      <td>['Yarra']</td>\n",
              "      <td>117.719512</td>\n",
              "    </tr>\n",
              "    <tr>\n",
              "      <th>10</th>\n",
              "      <td>700000.0</td>\n",
              "      <td>(1, 2]</td>\n",
              "      <td>(1, 2]</td>\n",
              "      <td>0.0</td>\n",
              "      <td>NaN</td>\n",
              "      <td>u</td>\n",
              "      <td>NaN</td>\n",
              "      <td>0</td>\n",
              "      <td>Abbotsford</td>\n",
              "      <td>Northern Metropolitan</td>\n",
              "      <td>['Yarra']</td>\n",
              "      <td>117.719512</td>\n",
              "    </tr>\n",
              "    <tr>\n",
              "      <th>...</th>\n",
              "      <td>...</td>\n",
              "      <td>...</td>\n",
              "      <td>...</td>\n",
              "      <td>...</td>\n",
              "      <td>...</td>\n",
              "      <td>...</td>\n",
              "      <td>...</td>\n",
              "      <td>...</td>\n",
              "      <td>...</td>\n",
              "      <td>...</td>\n",
              "      <td>...</td>\n",
              "      <td>...</td>\n",
              "    </tr>\n",
              "    <tr>\n",
              "      <th>13196</th>\n",
              "      <td>1323000.0</td>\n",
              "      <td>(3, 4]</td>\n",
              "      <td>(1, 2]</td>\n",
              "      <td>551.0</td>\n",
              "      <td>NaN</td>\n",
              "      <td>h</td>\n",
              "      <td>NaN</td>\n",
              "      <td>216</td>\n",
              "      <td>Wantirna South</td>\n",
              "      <td>Eastern Metropolitan</td>\n",
              "      <td>['Knox']</td>\n",
              "      <td>95.238095</td>\n",
              "    </tr>\n",
              "    <tr>\n",
              "      <th>13197</th>\n",
              "      <td>970000.0</td>\n",
              "      <td>(2, 3]</td>\n",
              "      <td>(1, 2]</td>\n",
              "      <td>674.0</td>\n",
              "      <td>NaN</td>\n",
              "      <td>h</td>\n",
              "      <td>NaN</td>\n",
              "      <td>216</td>\n",
              "      <td>Wantirna South</td>\n",
              "      <td>Eastern Metropolitan</td>\n",
              "      <td>['Knox']</td>\n",
              "      <td>95.238095</td>\n",
              "    </tr>\n",
              "    <tr>\n",
              "      <th>13201</th>\n",
              "      <td>582000.0</td>\n",
              "      <td>(2, 3]</td>\n",
              "      <td>(1, 2]</td>\n",
              "      <td>256.0</td>\n",
              "      <td>NaN</td>\n",
              "      <td>h</td>\n",
              "      <td>NaN</td>\n",
              "      <td>218</td>\n",
              "      <td>Westmeadows</td>\n",
              "      <td>Northern Metropolitan</td>\n",
              "      <td>['Hume']</td>\n",
              "      <td>123.084156</td>\n",
              "    </tr>\n",
              "    <tr>\n",
              "      <th>13202</th>\n",
              "      <td>1245000.0</td>\n",
              "      <td>(3, 4]</td>\n",
              "      <td>(1, 2]</td>\n",
              "      <td>652.0</td>\n",
              "      <td>NaN</td>\n",
              "      <td>h</td>\n",
              "      <td>1981.0</td>\n",
              "      <td>248</td>\n",
              "      <td>Wheelers Hill</td>\n",
              "      <td>South-Eastern Metropolitan</td>\n",
              "      <td>['Monash']</td>\n",
              "      <td>109.742268</td>\n",
              "    </tr>\n",
              "    <tr>\n",
              "      <th>13204</th>\n",
              "      <td>1170000.0</td>\n",
              "      <td>(2, 3]</td>\n",
              "      <td>(1, 2]</td>\n",
              "      <td>436.0</td>\n",
              "      <td>NaN</td>\n",
              "      <td>h</td>\n",
              "      <td>1997.0</td>\n",
              "      <td>104</td>\n",
              "      <td>Williamstown</td>\n",
              "      <td>Western Metropolitan</td>\n",
              "      <td>['Hobsons Bay']</td>\n",
              "      <td>177.911765</td>\n",
              "    </tr>\n",
              "  </tbody>\n",
              "</table>\n",
              "<p>6555 rows × 12 columns</p>\n",
              "</div>"
            ],
            "text/plain": [
              "       housing_price  ... suburb_rental_dailyprice\n",
              "0          1480000.0  ...               117.719512\n",
              "3           850000.0  ...               117.719512\n",
              "5           941000.0  ...               117.719512\n",
              "8           300000.0  ...               117.719512\n",
              "10          700000.0  ...               117.719512\n",
              "...              ...  ...                      ...\n",
              "13196      1323000.0  ...                95.238095\n",
              "13197       970000.0  ...                95.238095\n",
              "13201       582000.0  ...               123.084156\n",
              "13202      1245000.0  ...               109.742268\n",
              "13204      1170000.0  ...               177.911765\n",
              "\n",
              "[6555 rows x 12 columns]"
            ]
          },
          "metadata": {
            "tags": []
          },
          "execution_count": 91
        }
      ]
    },
    {
      "cell_type": "code",
      "metadata": {
        "colab": {
          "base_uri": "https://localhost:8080/"
        },
        "id": "kfWaKKFU3R12",
        "outputId": "febc0452-a35e-45de-812d-8e2348120b0e"
      },
      "source": [
        "mice_imputer = IterativeImputer(random_state=0, estimator=KNeighborsRegressor(n_neighbors=2, weights=\"uniform\"))\n",
        "\n",
        "melb_combim.loc[:,['housing_year_built_imputer', 'housing_building_area_imputer']] = mice_imputer.fit_transform(\n",
        "    melb_combim[['housing_year_built', 'housing_building_area']])\n",
        "\n"
      ],
      "execution_count": 92,
      "outputs": [
        {
          "output_type": "stream",
          "text": [
            "/usr/local/lib/python3.7/dist-packages/sklearn/impute/_iterative.py:638: ConvergenceWarning: [IterativeImputer] Early stopping criterion not reached.\n",
            "  \" reached.\", ConvergenceWarning)\n"
          ],
          "name": "stderr"
        }
      ]
    },
    {
      "cell_type": "code",
      "metadata": {
        "colab": {
          "base_uri": "https://localhost:8080/",
          "height": 335
        },
        "id": "RkCFwWAHE1i5",
        "outputId": "be61ac0d-128a-4e18-b34c-0f65e31f0eb7"
      },
      "source": [
        "mice_year_built_knn = melb_combim[\"housing_year_built_imputer\"].to_frame().rename(columns={\"housing_year_built_imputer\":\"housing_year_built\"})\n",
        "mice_year_built_knn['Imputation'] = 'KNN over YearBuilt'\n",
        "melb_year_built_orig = melb_combim[\"housing_year_built\"].dropna().to_frame()\n",
        "melb_year_built_orig['Imputation'] = 'Original'\n",
        "data = pd.concat([mice_year_built_knn, melb_year_built_orig])\n",
        "fig = plt.figure(figsize=(8, 5))\n",
        "g = seaborn.kdeplot(data=data, x='housing_year_built', hue='Imputation')"
      ],
      "execution_count": 104,
      "outputs": [
        {
          "output_type": "display_data",
          "data": {
            "image/png": "[encoded data removed]",
            "text/plain": [
              "<Figure size 576x360 with 1 Axes>"
            ]
          },
          "metadata": {
            "tags": [],
            "needs_background": "light"
          }
        }
      ]
    },
    {
      "cell_type": "code",
      "metadata": {
        "colab": {
          "base_uri": "https://localhost:8080/",
          "height": 335
        },
        "id": "kq2Xb4nwKCoV",
        "outputId": "26da6bdc-e651-4747-ade2-064f57931c20"
      },
      "source": [
        "mice_build_area_knn = melb_combim[\"housing_building_area_imputer\"].to_frame().rename(columns={\"housing_building_area_imputer\":\"housing_building_area\"})\n",
        "mice_build_area_knn['Imputation'] = 'KNN over Building Area'\n",
        "melb_build_area_orig = melb_combim[\"housing_building_area\"].dropna().to_frame()\n",
        "melb_build_area_orig['Imputation'] = 'Original'\n",
        "data = pd.concat([mice_build_area_knn, melb_build_area_orig])\n",
        "fig = plt.figure(figsize=(8, 5))\n",
        "g = seaborn.kdeplot(data=data, x=\"housing_building_area\", hue='Imputation')"
      ],
      "execution_count": 106,
      "outputs": [
        {
          "output_type": "display_data",
          "data": {
            "image/png": "[encoded data removed]",
            "text/plain": [
              "<Figure size 576x360 with 1 Axes>"
            ]
          },
          "metadata": {
            "tags": [],
            "needs_background": "light"
          }
        }
      ]
    },
    {
      "cell_type": "code",
      "metadata": {
        "colab": {
          "base_uri": "https://localhost:8080/"
        },
        "id": "n3MSr4igHfAi",
        "outputId": "762faae8-13f3-4987-994b-991fe5229046"
      },
      "source": [
        "print(melb_year_built_orig)"
      ],
      "execution_count": 101,
      "outputs": [
        {
          "output_type": "stream",
          "text": [
            "       housing_year_built Imputation\n",
            "1                  1900.0   Original\n",
            "2                  1900.0   Original\n",
            "4                  2014.0   Original\n",
            "6                  1910.0   Original\n",
            "7                  1890.0   Original\n",
            "...                   ...        ...\n",
            "13202              1981.0   Original\n",
            "13203              1995.0   Original\n",
            "13204              1997.0   Original\n",
            "13205              1920.0   Original\n",
            "13206              1920.0   Original\n",
            "\n",
            "[7966 rows x 2 columns]\n"
          ],
          "name": "stdout"
        }
      ]
    }
  ]
}