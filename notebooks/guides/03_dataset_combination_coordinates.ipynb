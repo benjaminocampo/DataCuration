{
  "nbformat": 4,
  "nbformat_minor": 0,
  "metadata": {
    "colab": {
      "name": "03 Combinacion por coordenadas [Opcional] .ipynb",
      "provenance": [],
      "collapsed_sections": [],
      "toc_visible": true,
      "authorship_tag": "ABX9TyMaFe7/c6H+/1JtPlkKnNgU",
      "include_colab_link": true
    },
    "kernelspec": {
      "name": "python3",
      "display_name": "Python 3"
    },
    "language_info": {
      "name": "python"
    }
  },
  "cells": [
    {
      "cell_type": "markdown",
      "metadata": {
        "id": "view-in-github",
        "colab_type": "text"
      },
      "source": [
        "<a href=\"https://colab.research.google.com/github/DiploDatos/AnalisisYCuracion/blob/master/03_Combinacion_por_coordenadas_%5BOpcional%5D_.ipynb\" target=\"_parent\"><img src=\"https://colab.research.google.com/assets/colab-badge.svg\" alt=\"Open In Colab\"/></a>"
      ]
    },
    {
      "cell_type": "markdown",
      "metadata": {
        "id": "zO4bRoxr2Apy"
      },
      "source": [
        "**Diplomatura en Ciencia de Datos, Aprendizaje Automático y sus Aplicaciones**\n",
        "\n",
        "**Exploración y Curación de Datos**\n",
        "\n",
        "*Edición 2021*\n",
        "\n",
        "----\n",
        "\n",
        "# Combinacion por coordenadas [Opcional]\n",
        "\n",
        "En esta notebook, vamos a explorar cómo combinar dos conjuntos de datos utilizando cercanía de coordenadas geográficas.\n",
        "\n",
        "Vamos a utilizar el conjunto de datos de [la compentencia Kaggle](https://www.kaggle.com/dansbecker/melbourne-housing-snapshot) sobre estimación de precios de ventas de propiedades en Melbourne, Australia. Hemos subido una copia a un servidor de la Universidad Nacional de Córdoba para facilitar su acceso remoto."
      ]
    },
    {
      "cell_type": "code",
      "metadata": {
        "id": "4udjxjk1EtVU"
      },
      "source": [
        "import matplotlib.pyplot as plt\n",
        "import numpy\n",
        "import pandas\n",
        "\n",
        "import seaborn\n",
        "seaborn.set_context('talk')"
      ],
      "execution_count": null,
      "outputs": []
    },
    {
      "cell_type": "code",
      "metadata": {
        "colab": {
          "base_uri": "https://localhost:8080/",
          "height": 35
        },
        "id": "3XdIsB8hISis",
        "outputId": "0b6befb9-e768-4a58-896d-f342419cf6e5"
      },
      "source": [
        "import plotly\n",
        "import plotly.express as px\n",
        "plotly.__version__\n",
        "# Make sure it's 4.14.3"
      ],
      "execution_count": null,
      "outputs": [
        {
          "output_type": "execute_result",
          "data": {
            "application/vnd.google.colaboratory.intrinsic+json": {
              "type": "string"
            },
            "text/plain": [
              "'4.14.3'"
            ]
          },
          "metadata": {
            "tags": []
          },
          "execution_count": 2
        }
      ]
    },
    {
      "cell_type": "code",
      "metadata": {
        "id": "i2nqY0GGIVn2"
      },
      "source": [
        "# To update plotly, uncomment and run the following line:\n",
        "# !pip install plotly --upgrade"
      ],
      "execution_count": null,
      "outputs": []
    },
    {
      "cell_type": "code",
      "metadata": {
        "colab": {
          "base_uri": "https://localhost:8080/",
          "height": 227
        },
        "id": "_qeFN3GnEvMk",
        "outputId": "fcd1e1b8-62ac-4dc8-d236-6b2df68f5b03"
      },
      "source": [
        "melb_df = pandas.read_csv(\n",
        "    'https://cs.famaf.unc.edu.ar/~mteruel/datasets/diplodatos/melb_data.csv')\n",
        "melb_df[:3]"
      ],
      "execution_count": null,
      "outputs": [
        {
          "output_type": "execute_result",
          "data": {
            "text/html": [
              "<div>\n",
              "<style scoped>\n",
              "    .dataframe tbody tr th:only-of-type {\n",
              "        vertical-align: middle;\n",
              "    }\n",
              "\n",
              "    .dataframe tbody tr th {\n",
              "        vertical-align: top;\n",
              "    }\n",
              "\n",
              "    .dataframe thead th {\n",
              "        text-align: right;\n",
              "    }\n",
              "</style>\n",
              "<table border=\"1\" class=\"dataframe\">\n",
              "  <thead>\n",
              "    <tr style=\"text-align: right;\">\n",
              "      <th></th>\n",
              "      <th>Suburb</th>\n",
              "      <th>Address</th>\n",
              "      <th>Rooms</th>\n",
              "      <th>Type</th>\n",
              "      <th>Price</th>\n",
              "      <th>Method</th>\n",
              "      <th>SellerG</th>\n",
              "      <th>Date</th>\n",
              "      <th>Distance</th>\n",
              "      <th>Postcode</th>\n",
              "      <th>Bedroom2</th>\n",
              "      <th>Bathroom</th>\n",
              "      <th>Car</th>\n",
              "      <th>Landsize</th>\n",
              "      <th>BuildingArea</th>\n",
              "      <th>YearBuilt</th>\n",
              "      <th>CouncilArea</th>\n",
              "      <th>Lattitude</th>\n",
              "      <th>Longtitude</th>\n",
              "      <th>Regionname</th>\n",
              "      <th>Propertycount</th>\n",
              "    </tr>\n",
              "  </thead>\n",
              "  <tbody>\n",
              "    <tr>\n",
              "      <th>0</th>\n",
              "      <td>Abbotsford</td>\n",
              "      <td>85 Turner St</td>\n",
              "      <td>2</td>\n",
              "      <td>h</td>\n",
              "      <td>1480000.0</td>\n",
              "      <td>S</td>\n",
              "      <td>Biggin</td>\n",
              "      <td>3/12/2016</td>\n",
              "      <td>2.5</td>\n",
              "      <td>3067.0</td>\n",
              "      <td>2.0</td>\n",
              "      <td>1.0</td>\n",
              "      <td>1.0</td>\n",
              "      <td>202.0</td>\n",
              "      <td>NaN</td>\n",
              "      <td>NaN</td>\n",
              "      <td>Yarra</td>\n",
              "      <td>-37.7996</td>\n",
              "      <td>144.9984</td>\n",
              "      <td>Northern Metropolitan</td>\n",
              "      <td>4019.0</td>\n",
              "    </tr>\n",
              "    <tr>\n",
              "      <th>1</th>\n",
              "      <td>Abbotsford</td>\n",
              "      <td>25 Bloomburg St</td>\n",
              "      <td>2</td>\n",
              "      <td>h</td>\n",
              "      <td>1035000.0</td>\n",
              "      <td>S</td>\n",
              "      <td>Biggin</td>\n",
              "      <td>4/02/2016</td>\n",
              "      <td>2.5</td>\n",
              "      <td>3067.0</td>\n",
              "      <td>2.0</td>\n",
              "      <td>1.0</td>\n",
              "      <td>0.0</td>\n",
              "      <td>156.0</td>\n",
              "      <td>79.0</td>\n",
              "      <td>1900.0</td>\n",
              "      <td>Yarra</td>\n",
              "      <td>-37.8079</td>\n",
              "      <td>144.9934</td>\n",
              "      <td>Northern Metropolitan</td>\n",
              "      <td>4019.0</td>\n",
              "    </tr>\n",
              "    <tr>\n",
              "      <th>2</th>\n",
              "      <td>Abbotsford</td>\n",
              "      <td>5 Charles St</td>\n",
              "      <td>3</td>\n",
              "      <td>h</td>\n",
              "      <td>1465000.0</td>\n",
              "      <td>SP</td>\n",
              "      <td>Biggin</td>\n",
              "      <td>4/03/2017</td>\n",
              "      <td>2.5</td>\n",
              "      <td>3067.0</td>\n",
              "      <td>3.0</td>\n",
              "      <td>2.0</td>\n",
              "      <td>0.0</td>\n",
              "      <td>134.0</td>\n",
              "      <td>150.0</td>\n",
              "      <td>1900.0</td>\n",
              "      <td>Yarra</td>\n",
              "      <td>-37.8093</td>\n",
              "      <td>144.9944</td>\n",
              "      <td>Northern Metropolitan</td>\n",
              "      <td>4019.0</td>\n",
              "    </tr>\n",
              "  </tbody>\n",
              "</table>\n",
              "</div>"
            ],
            "text/plain": [
              "       Suburb          Address  ...             Regionname Propertycount\n",
              "0  Abbotsford     85 Turner St  ...  Northern Metropolitan        4019.0\n",
              "1  Abbotsford  25 Bloomburg St  ...  Northern Metropolitan        4019.0\n",
              "2  Abbotsford     5 Charles St  ...  Northern Metropolitan        4019.0\n",
              "\n",
              "[3 rows x 21 columns]"
            ]
          },
          "metadata": {
            "tags": []
          },
          "execution_count": 4
        }
      ]
    },
    {
      "cell_type": "markdown",
      "metadata": {
        "id": "s-mixICN22kA"
      },
      "source": [
        "## Datos adicionales\n",
        "\n",
        "Vamos a aumentar los datos presentes en el conjunto dado con un dataset similar: las publicaciones de la plataforma AirBnB en Melbourne en el año 2018. El objetivo es **agregar información en texto libre sobre descripciones de los vecindarios**.\n",
        "\n",
        "Para ello, utilizaremos [un conjunto de datos](https://www.kaggle.com/tylerx/melbourne-airbnb-open-data?select=cleansed_listings_dec18.csv) de *scrapings* del sitio realizado por [Tyler Xie](https://www.kaggle.com/tylerx), también disponible en una competencia de Kaggle."
      ]
    },
    {
      "cell_type": "code",
      "metadata": {
        "colab": {
          "base_uri": "https://localhost:8080/"
        },
        "id": "k3Z2vxNHJfJK",
        "outputId": "8b0055d4-cbc6-4b97-fa77-e46ea8abda38"
      },
      "source": [
        "# data source:\n",
        "# https://www.kaggle.com/tylerx/melbourne-airbnb-open-data?select=cleansed_listings_dec18.csv\n",
        "interesting_cols = [\n",
        "  'description', 'neighborhood_overview',\n",
        "  'street', 'neighborhood', 'city', 'suburb', 'state', 'zipcode',\n",
        "  'price', 'weekly_price', 'monthly_price',\n",
        "  'latitude', 'longitude',\n",
        "]\n",
        "airbnb_df = pandas.read_csv(\n",
        "    'https://cs.famaf.unc.edu.ar/~mteruel/datasets/diplodatos/cleansed_listings_dec18.csv',\n",
        "    usecols=interesting_cols)"
      ],
      "execution_count": null,
      "outputs": [
        {
          "output_type": "stream",
          "text": [
            "/usr/local/lib/python3.7/dist-packages/IPython/core/interactiveshell.py:2718: DtypeWarning: Columns (35) have mixed types.Specify dtype option on import or set low_memory=False.\n",
            "  interactivity=interactivity, compiler=compiler, result=result)\n"
          ],
          "name": "stderr"
        }
      ]
    },
    {
      "cell_type": "code",
      "metadata": {
        "colab": {
          "base_uri": "https://localhost:8080/",
          "height": 313
        },
        "id": "bc55TFlhF6tP",
        "outputId": "4fe27abf-e9ea-47ea-9103-9a13b422c78a"
      },
      "source": [
        "airbnb_df[:3]"
      ],
      "execution_count": null,
      "outputs": [
        {
          "output_type": "execute_result",
          "data": {
            "text/html": [
              "<div>\n",
              "<style scoped>\n",
              "    .dataframe tbody tr th:only-of-type {\n",
              "        vertical-align: middle;\n",
              "    }\n",
              "\n",
              "    .dataframe tbody tr th {\n",
              "        vertical-align: top;\n",
              "    }\n",
              "\n",
              "    .dataframe thead th {\n",
              "        text-align: right;\n",
              "    }\n",
              "</style>\n",
              "<table border=\"1\" class=\"dataframe\">\n",
              "  <thead>\n",
              "    <tr style=\"text-align: right;\">\n",
              "      <th></th>\n",
              "      <th>description</th>\n",
              "      <th>neighborhood_overview</th>\n",
              "      <th>street</th>\n",
              "      <th>neighborhood</th>\n",
              "      <th>city</th>\n",
              "      <th>suburb</th>\n",
              "      <th>state</th>\n",
              "      <th>zipcode</th>\n",
              "      <th>latitude</th>\n",
              "      <th>longitude</th>\n",
              "      <th>price</th>\n",
              "      <th>weekly_price</th>\n",
              "      <th>monthly_price</th>\n",
              "    </tr>\n",
              "  </thead>\n",
              "  <tbody>\n",
              "    <tr>\n",
              "      <th>0</th>\n",
              "      <td>House: Clean, New, Modern, Quite, Safe. 10Km f...</td>\n",
              "      <td>Very safe! Family oriented. Older age group.</td>\n",
              "      <td>Bulleen, VIC, Australia</td>\n",
              "      <td>Balwyn North</td>\n",
              "      <td>Manningham</td>\n",
              "      <td>Bulleen</td>\n",
              "      <td>VIC</td>\n",
              "      <td>3105</td>\n",
              "      <td>-37.772684</td>\n",
              "      <td>145.092133</td>\n",
              "      <td>60</td>\n",
              "      <td>NaN</td>\n",
              "      <td>NaN</td>\n",
              "    </tr>\n",
              "    <tr>\n",
              "      <th>1</th>\n",
              "      <td>A large air conditioned room with queen spring...</td>\n",
              "      <td>This hip area is a crossroads between two grea...</td>\n",
              "      <td>Brunswick East, VIC, Australia</td>\n",
              "      <td>Brunswick</td>\n",
              "      <td>Moreland</td>\n",
              "      <td>Brunswick East</td>\n",
              "      <td>VIC</td>\n",
              "      <td>3057</td>\n",
              "      <td>-37.766505</td>\n",
              "      <td>144.980736</td>\n",
              "      <td>35</td>\n",
              "      <td>200.0</td>\n",
              "      <td>803.0</td>\n",
              "    </tr>\n",
              "    <tr>\n",
              "      <th>2</th>\n",
              "      <td>RIGHT IN THE HEART OF ST KILDA! It doesn't get...</td>\n",
              "      <td>A stay at our apartment means you can enjoy so...</td>\n",
              "      <td>St Kilda, VIC, Australia</td>\n",
              "      <td>St Kilda</td>\n",
              "      <td>Port Phillip</td>\n",
              "      <td>St Kilda</td>\n",
              "      <td>VIC</td>\n",
              "      <td>3182</td>\n",
              "      <td>-37.859755</td>\n",
              "      <td>144.977369</td>\n",
              "      <td>159</td>\n",
              "      <td>1253.0</td>\n",
              "      <td>4452.0</td>\n",
              "    </tr>\n",
              "  </tbody>\n",
              "</table>\n",
              "</div>"
            ],
            "text/plain": [
              "                                         description  ... monthly_price\n",
              "0  House: Clean, New, Modern, Quite, Safe. 10Km f...  ...           NaN\n",
              "1  A large air conditioned room with queen spring...  ...         803.0\n",
              "2  RIGHT IN THE HEART OF ST KILDA! It doesn't get...  ...        4452.0\n",
              "\n",
              "[3 rows x 13 columns]"
            ]
          },
          "metadata": {
            "tags": []
          },
          "execution_count": 6
        }
      ]
    },
    {
      "cell_type": "code",
      "metadata": {
        "colab": {
          "base_uri": "https://localhost:8080/"
        },
        "id": "kdqexZvsJTcT",
        "outputId": "f927a027-d674-4bdd-d3c8-2fc25da6282c"
      },
      "source": [
        "len(airbnb_df)"
      ],
      "execution_count": null,
      "outputs": [
        {
          "output_type": "execute_result",
          "data": {
            "text/plain": [
              "22895"
            ]
          },
          "metadata": {
            "tags": []
          },
          "execution_count": 7
        }
      ]
    },
    {
      "cell_type": "code",
      "metadata": {
        "colab": {
          "base_uri": "https://localhost:8080/"
        },
        "id": "_UB-1hfsQUwo",
        "outputId": "533d38a0-2d53-4620-a6c1-117779b42f64"
      },
      "source": [
        "null_neighborhood_overview = airbnb_df.neighborhood_overview.isna().sum()\n",
        "print(\"{:.0%} of records with null neighborhood_overview\".format(\n",
        "    null_neighborhood_overview / len(airbnb_df)))"
      ],
      "execution_count": null,
      "outputs": [
        {
          "output_type": "stream",
          "text": [
            "37% of records with null neighborhood_overview\n"
          ],
          "name": "stdout"
        }
      ]
    },
    {
      "cell_type": "markdown",
      "metadata": {
        "id": "ismngxPcfoWb"
      },
      "source": [
        "Para poder realizar esta combinación de datos, tenemos que encontrar una columna que contenga información en común.\n",
        "\n",
        "En esta notebook vamos a explorar cómo obtener el conjunto de ofertas de AirBnB más cercano a una propiedad en venta, utilizando las coordenadas geográficas provistas en cada conjunto de datos. "
      ]
    },
    {
      "cell_type": "markdown",
      "metadata": {
        "id": "RTks99kNapzw"
      },
      "source": [
        "## Distancias entre coordenadas\n",
        "\n",
        "El cálculo de \"vecinos más cercanos\" es una operación computacionalmente compleja, por lo que utilizaremos librerías que tienen diversos métodos ya implementados. Pueden encontrar más información en [este tutorial](https://towardsdatascience.com/using-scikit-learns-binary-trees-to-efficiently-find-latitude-and-longitude-neighbors-909979bd929b)."
      ]
    },
    {
      "cell_type": "code",
      "metadata": {
        "id": "RqA5AzTijBw8"
      },
      "source": [
        "from sklearn.neighbors import BallTree\n",
        "\n",
        "def closest_locations(df_centers, df_locations, k=5):\n",
        "  \"\"\"Returns a dataset with the index of the k locations\n",
        "  in df_locations that are closest to each row in df_centers.\n",
        "  \n",
        "  Both datasets must have columns latitude and longitude.\"\"\"\n",
        "  # Create new variables to not affect originals.\n",
        "  df_centers_ = df_centers\n",
        "  df_locations_ = df_locations\n",
        "  # Creates new columns converting coordinate degrees to radians.\n",
        "  for column in df_locations_[[\"latitude\", \"longitude\"]]:\n",
        "    df_locations_[f'{column}_rad'] = numpy.deg2rad(df_locations_[column].values)\n",
        "    df_centers_[f'{column}_rad'] = numpy.deg2rad(df_centers_[column].values)\n",
        "\n",
        "  # Takes the first group's latitude and longitude values to construct\n",
        "  # the ball tree.\n",
        "  ball = BallTree(df_locations_[[\"latitude_rad\", \"longitude_rad\"]].values,\n",
        "                  metric='haversine')\n",
        "\n",
        "  # Executes a query with the second group. This will also return two arrays.\n",
        "  # One for the distances and one containing the indices of the neighboring\n",
        "  # locations (referring to the DataFrame that was used to construct the tree).\n",
        "  distances, indices = ball.query(\n",
        "      df_centers_[[\"latitude_rad\", \"longitude_rad\"]].values, k=k)\n",
        "  return indices"
      ],
      "execution_count": null,
      "outputs": []
    },
    {
      "cell_type": "markdown",
      "metadata": {
        "id": "M8RYbTMjRmQm"
      },
      "source": [
        "Si bien la scikit-learn nos provee de clases y métodos optimizados, calcular los vecinos más cercanos involucra comparar las filas de los dos DataFrames \"todas contra todas\". Si tengo N filas en un conjunto y M en el otro, esto significa:\n",
        "* N*M operaciones de comparación\n",
        "* Una matrix con tamaño (N, M) que almacena la distancia entre las filas. Es un buen ejercicio calcular manualmente cuánto espacio ocupa una [matriz densa](https://numpy.org/doc/stable/reference/arrays.ndarray.html) (N,M) que almacena `floats`, sabiendo que un `float32` ocupa 1 byte, y un `float64` ocupa 2 bytes; y comparalo con las [matrices esparsas](https://matteding.github.io/2019/04/25/sparse-matrices/).\n",
        "\n",
        "Por ello, durante la exploración trabajaremos sólo con muestras de nuestro conjunto de datos, aunque pueden hacer alguna prueba con los datos completos cuando sepan que funciona."
      ]
    },
    {
      "cell_type": "code",
      "metadata": {
        "id": "c4KW03BWao9l"
      },
      "source": [
        "# Create samples\n",
        "# We need to re-index\n",
        "airbnb_sample = airbnb_df.sample(1000)\\\n",
        "  .reset_index().drop(columns='index')\n",
        "sales_sample = melb_df.sample(100)\\\n",
        "  .rename(columns={'Lattitude': 'latitude', 'Longtitude': 'longitude'})\\\n",
        "  .reset_index().drop(columns='index')"
      ],
      "execution_count": null,
      "outputs": []
    },
    {
      "cell_type": "code",
      "metadata": {
        "id": "pMFQ1DeGbuDd"
      },
      "source": [
        "closest_indices = closest_locations(sales_sample, airbnb_sample)"
      ],
      "execution_count": null,
      "outputs": []
    },
    {
      "cell_type": "markdown",
      "metadata": {
        "id": "SwuP-1cjdvjP"
      },
      "source": [
        "Podemos graficar las ubicaciones que encuentra la función anterior. Sin embargo, recuerden graficar sólo una muestra pequeña para poder distinguir los colores por categoría."
      ]
    },
    {
      "cell_type": "code",
      "metadata": {
        "id": "eoC7J1h9ebV2"
      },
      "source": [
        "import itertools\n",
        "\n",
        "def plot_closest_locations(df_centers, df_locations, closest_indices):\n",
        "  \"\"\"Creates a plotly viz with latitude and longitude columns.\n",
        "\n",
        "  For each point in df_centres, in closest_indices we expect a list of the \n",
        "  indices of the nearest locations. The indices corresponds to locations in\n",
        "  df_locations.\n",
        "\n",
        "  Records in df_centers and df_locations are marked with a different symbol.\n",
        "  Records in closes_indices are marked with a different color per row.\n",
        "  \"\"\"\n",
        "  df_centers_ = df_centers\n",
        "  df_locations_ = df_locations\n",
        "  # Combine parameters into a single df.\n",
        "  df_centers_.loc[:,'item_type'] = \"Center\"\n",
        "  df_centers_.loc[:,'close_to'] = \"--\"\n",
        "\n",
        "  df_locations_['close_to'] = \"None\"\n",
        "  color_map = {\"None\": \"#C0C0C0\"}  # light grey\n",
        "  # After 10 elements it will start repiting colors!\n",
        "  color_iterator = itertools.cycle(px.colors.qualitative.Plotly)\n",
        "  for close_to, index in enumerate(closest_indices[df_centers_.index]):\n",
        "    for i in index:\n",
        "      df_locations_.loc[i,'close_to'] = str(close_to)\n",
        "      color_map[close_to]: next(color_iterator)  # pick a color for the item\n",
        "  df_locations_.loc[:,'item_type'] = \"Location\"\n",
        "  cols = ['latitude', 'longitude', 'item_type', 'close_to']\n",
        "  data = pandas.concat([df_locations_[cols],\n",
        "                        df_centers_[cols]])\n",
        "  \n",
        "  # Select symbols for centers and locations\n",
        "  # https://plotly.com/python/marker-style/#custom-marker-symbols\n",
        "  symbols = {\"Center\": 'square-dot', \"Location\":'circle'}\n",
        "\n",
        "  fig = px.scatter_geo(\n",
        "      data, lat=data.latitude, lon=data.longitude,\n",
        "      color=data.close_to, color_discrete_map=color_map,\n",
        "      symbol=data.item_type, symbol_map=symbols\n",
        "  )\n",
        "  fig.update_geos(fitbounds=\"locations\")\n",
        "  fig.show()"
      ],
      "execution_count": null,
      "outputs": []
    },
    {
      "cell_type": "code",
      "metadata": {
        "colab": {
          "base_uri": "https://localhost:8080/",
          "height": 542
        },
        "id": "YS3KQUStcjdX",
        "outputId": "c50909b7-5a7d-4d15-b6d5-f28023fa2111"
      },
      "source": [
        "plot_closest_locations(sales_sample.sample(10), airbnb_sample, closest_indices)"
      ],
      "execution_count": null,
      "outputs": [
        {
          "output_type": "display_data",
          "data": {
            "text/html": [
              "<html>\n",
              "<head><meta charset=\"utf-8\" /></head>\n",
              "<body>\n",
              "    <div>            <script src=\"https://cdnjs.cloudflare.com/ajax/libs/mathjax/2.7.5/MathJax.js?config=TeX-AMS-MML_SVG\"></script><script type=\"text/javascript\">if (window.MathJax) {MathJax.Hub.Config({SVG: {font: \"STIX-Web\"}});}</script>                <script type=\"text/javascript\">window.PlotlyConfig = {MathJaxConfig: 'local'};</script>\n",
              "        <script src=\"https://cdn.plot.ly/plotly-latest.min.js\"></script>                <div id=\"a39aee93-d019-4c7c-b8e4-249a4229d06a\" class=\"plotly-graph-div\" style=\"height:525px; width:100%;\"></div>            <script type=\"text/javascript\">                                    window.PLOTLYENV=window.PLOTLYENV || {};                                    if (document.getElementById(\"a39aee93-d019-4c7c-b8e4-249a4229d06a\")) {                    Plotly.newPlot(                        \"a39aee93-d019-4c7c-b8e4-249a4229d06a\",                        [{\"geo\": \"geo\", \"hovertemplate\": \"close_to=0<br>item_type=Location<br>latitude=%{lat}<br>longitude=%{lon}<extra></extra>\", \"lat\": [-37.79544037, -37.78458384, -37.77419582, -37.78143577, -37.78426356], \"legendgroup\": \"0, Location\", \"lon\": [144.8851679, 144.89905119999997, 144.8913906, 144.87804, 144.8989916], \"marker\": {\"color\": \"#EF553B\", \"symbol\": \"circle\"}, \"mode\": \"markers\", \"name\": \"0, Location\", \"showlegend\": true, \"type\": \"scattergeo\"}, {\"geo\": \"geo\", \"hovertemplate\": \"close_to=None<br>item_type=Location<br>latitude=%{lat}<br>longitude=%{lon}<extra></extra>\", \"lat\": [-37.81251848, -37.76520334, -37.93943853, -37.8167936, -37.76100828, -37.75808917, -37.7654937, -37.89730992, -37.80437608, -37.82138061, -37.90436048, -37.81029732, -37.86291805, -37.81452204, -37.76009488, -37.6912601, -37.7932591, -37.81207558, -37.84561267, -37.85904201, -37.86948439, -37.82306031, -37.77692296, -37.81010552, -37.81805165, -37.86635348, -37.774801700000005, -37.76757177, -37.80141247, -37.86398808, -37.77610673, -37.80549048, -38.07063794, -37.88449133, -37.81287355, -37.86681039, -37.82981311, -37.87334726, -37.76768223, -37.81868936, -37.811229600000004, -37.858101700000006, -37.809629, -37.82467497, -37.81608522, -37.82044029, -37.81612239, -37.85503887, -37.82479112, -37.85667432, -37.80406164, -37.89572566, -37.82380548, -37.88857619, -37.80388289, -37.80993293, -37.86690197, -37.81350516, -37.85599749, -37.81173785, -37.85985248, -37.86474375, -37.87583856, -37.76533584, -37.79998106, -37.83305737, -37.94138922, -37.96016924, -37.81345981, -37.80820056, -37.79355627, -37.789239, -37.81973864, -37.8077438, -37.81663197, -38.0232869, -37.58396061, -37.84999313, -37.81795946, -37.67859641, -37.73381488, -37.81070948, -37.93072987, -37.87086174, -37.81060199, -37.81515603, -37.71601093, -37.88737613, -37.86247493, -38.00024179, -37.84107548, -37.80597045, -37.86993363, -37.84725162, -37.78667567, -37.80974622, -37.85926895, -37.84705582, -37.82747131, -37.77593462, -37.86894137, -37.81625542, -37.789215500000005, -37.82223375, -37.814656799999995, -37.76592602, -37.82422683, -37.85083215, -37.81535646, -37.80558217, -37.8951086, -37.82286255, -37.85943419, -37.84353272, -37.6509175, -37.80342228, -37.829081099999996, -37.80959568, -37.79860868, -37.89905295, -37.82491888, -37.81493851, -37.82100753, -37.84818565, -37.81658249, -37.80185891, -37.8639765, -37.82672648, -37.79736829, -37.80075492, -37.86758881, -37.80902002, -37.87409054, -37.80651365, -37.90974957, -38.12641362, -37.81650102, -37.81551112, -37.822856099999996, -37.82549383, -37.66396493, -37.76889737, -37.85635122, -37.86007056, -37.80585509, -37.83215696, -37.92228265, -37.79914116, -37.79660838, -37.80091445, -37.88236422, -37.84333265, -37.83434491, -37.81586101, -37.82591889, -37.81062482, -37.81954573, -37.81338363, -37.69684697, -37.80784672, -37.81599274, -37.80923306, -37.80867312, -37.84185974, -37.81457726, -37.80880914, -37.85266823, -37.80853056, -37.80044648, -37.93551149, -37.85783377, -37.81802676, -37.92064304, -37.82259954, -37.75303675, -37.81390661, -37.8049579, -37.81334012, -37.76827193, -37.82247812, -37.81608524, -37.849869899999995, -37.77347731, -37.81068819, -37.81106529, -37.90562023, -37.83378223, -37.78580696, -37.80976069, -37.86308098, -37.88162082, -37.83612024, -37.80977525, -37.8145258, -37.83250615, -37.89144969, -37.79454858, -37.8310217, -37.88266983, -37.66698367, -38.00059016, -37.82480135, -37.62845762, -37.81048047, -37.83618501, -37.97136317, -37.77419143, -37.81540009, -37.81612008, -37.79606888, -38.00529777, -37.76353293, -37.83855253, -37.80944978, -37.85906716, -37.79701563, -37.81218248, -37.8634789, -37.82010755, -37.801151700000005, -37.7813635, -37.83583829, -37.78958768, -37.80884009, -37.95320099, -37.85144005, -37.93916698, -37.81027277, -37.84361385, -37.83526326, -37.82000767, -37.75780566, -37.81552364, -37.79516052, -37.84407929, -37.84583956, -37.83028461, -37.77064517, -37.76194741, -37.77285434, -37.83563857, -37.81021264, -37.74759272, -37.80958475, -37.82861498, -37.82955155, -37.79274654, -37.86763036, -37.80260434, -37.86070459, -37.86256576, -37.80446721, -37.81611333, -37.83078033, -37.87055491, -37.81466862, -37.80926043, -37.80102596, -37.75639974, -37.8097725, -37.85101085, -37.88725645, -37.78433819, -37.82661152, -37.866401, -37.82660956, -37.91646799, -37.80081936, -37.88507814, -37.8055805, -37.77788223, -37.82936436, -37.81722868, -37.80945341, -37.73835309, -37.84005791, -37.81975277, -37.819660799999994, -37.81811827, -37.83916983, -37.81261065, -37.77116171, -37.799733399999994, -37.77514456, -37.81782803, -37.80920952, -37.81005055, -37.81868385, -37.77193176, -37.86584334, -37.80738966, -37.52963934, -37.86927294, -37.78720633, -37.83566614, -37.83622233, -37.81662535, -37.8022983, -37.76574307, -37.65516884, -37.87810404, -37.8183393, -37.774037400000005, -37.83133027, -37.81011420000001, -37.90107078, -37.84637364, -37.80754974, -37.77162033, -37.84058681, -37.76866294, -37.80666353, -37.81624787, -37.99685443, -37.808398600000004, -37.81443718, -37.77433776, -37.7648848, -37.85350316, -37.840276, -37.80060381, -37.84011666, -37.80094575, -37.85242863, -37.80516796, -37.82367538, -37.81406186, -37.83280556, -37.87781788, -37.80181324, -37.88587104, -37.834108799999996, -37.76791311, -37.8197472, -37.81683129, -37.81051952, -37.80807202, -37.76474795, -37.88396245, -37.84164119, -37.84304891, -37.84363009, -37.81933665, -37.74373773, -37.8085322, -37.87103297, -37.77965357, -37.81319848, -37.87562304, -37.81585693, -37.81487588, -37.79184, -37.81022596, -37.81400095, -37.76705247, -37.87224706, -37.85170415, -37.80980405, -37.81541137, -37.81013081, -37.73773481, -37.88585194, -37.80170448, -37.82218703, -37.80950806, -37.79965363, -37.78505342, -37.81726373, -37.77409817, -37.76942692, -37.81992467, -37.81206511, -37.83749174, -38.05675386, -37.81028664, -37.86546728, -37.80342323, -37.82060988, -37.87506018, -37.76835136, -37.82749294, -37.813146, -37.77659066, -37.8591496, -37.81691335, -37.82925016, -37.95326889, -37.84193844, -37.86804231, -37.81773148, -37.80986507, -37.78677642, -37.83272618, -37.81628609, -37.86616072, -37.80904141, -37.80452363, -37.82041718, -37.8160774, -37.81654304, -37.86431908, -37.80791367, -37.78703775, -37.8040715, -37.84667003, -37.90009525, -37.81611954, -37.88527637, -37.82285866, -37.8236834, -37.86278271, -37.87165769, -37.81363837, -37.98744787, -37.87177464, -37.81758151, -37.69803322, -37.86082587, -37.80935956, -37.7896705, -37.85913634, -37.81064722, -37.80697736, -37.83095109, -37.91888902, -37.78183806, -37.875892900000004, -37.85942135, -37.81887494, -37.81530969, -37.61942012, -37.84540839, -37.82535249, -37.835372899999996, -37.80637278, -37.88840368, -37.78224179, -37.85775466, -37.76291613, -37.82876417, -37.88875404, -37.79973457, -37.924299100000006, -37.81666971, -37.90803697, -37.81152054, -37.59081048, -37.82346857, -37.80667722, -37.82068071, -37.69289739, -37.77672112, -37.809343, -37.81624607, -37.89631293, -37.7835911, -37.86365275, -37.81594761, -37.80850224, -37.905075, -37.80225914, -37.8345589, -37.73587685, -37.85306903, -37.87419337, -37.86874712, -37.86391156, -37.81988539, -37.62202552, -37.83367443, -37.8080035, -37.77820308, -37.79159861, -37.81119205, -37.8519195, -37.84177592, -37.79521605, -37.88833307, -37.85962722, -37.87124577, -37.82413213, -37.82117499, -37.80345542, -37.791281700000006, -37.81364092, -37.84669652, -37.81637611, -37.85204946, -37.79814882, -37.86436128, -37.80188604, -37.80912304, -37.79277552, -37.5999501, -37.84262655, -37.8139551, -37.77296203, -37.81016752, -37.82862659, -37.83292048, -37.82188696, -37.81792076, -37.81315898, -37.86631057, -37.84731124, -37.76863849, -37.86557533, -37.81117345, -37.84860645, -37.77068112, -37.85171173, -37.88057918, -37.94692725, -37.80267763, -37.79611763, -37.85879644, -37.837414200000005, -37.85265459, -37.86316986, -37.80247148, -37.81335157, -37.65786209, -37.77376161, -37.79489622, -37.82025053, -37.81291949, -37.84907458, -37.77742279, -37.85281984, -37.84359025, -37.82017539, -37.87924832, -37.81677329, -37.82587552, -37.799733200000006, -38.05725414, -37.81028528, -37.81404179999999, -37.84751899, -37.89615962, -37.92655456, -37.80086267, -37.81663573, -37.85453738, -37.76884242, -37.86973984, -37.81296841, -37.81983287, -37.86345459, -37.81252705, -37.78551237, -37.798264200000006, -37.81781251, -37.79548302, -37.82772718, -37.8718903, -37.77050614, -37.86378072, -37.84357686, -37.77165120000001, -37.855261, -37.86494465, -37.81582385, -37.78619925, -37.70722109, -38.00379938, -37.81762053, -37.837227, -37.86608427, -37.84097092, -37.80105699, -37.81320482, -37.80998369, -37.91941043, -37.81840964, -37.81029321, -37.58049474, -37.98946086, -37.818417700000005, -37.80339505, -37.85170299, -37.79486421, -37.74897286, -37.78740781, -37.79359568, -37.81399575, -37.83671718, -37.9506747, -37.85813259, -37.82147205, -37.91901835, -37.77496984, -37.86697885, -37.82148066, -37.91405502, -37.81973749, -37.77064085, -37.81516582, -37.80933645, -37.84263714, -37.82305785, -37.84157215, -37.79802799, -37.84455999, -37.82382718, -37.86721403, -37.88462293, -37.80692565, -37.8648487, -37.80953693, -37.84722522, -37.803842100000004, -37.86678183, -37.8644382, -37.799117200000005, -37.83073216, -37.83446103, -37.79252427, -37.81185092, -37.81432139, -37.90922544, -37.80861708, -37.8162011, -37.77167223, -37.84229226, -37.81273293, -37.78050916, -37.79799581, -37.85888591, -37.83707487, -37.82440768, -37.86608866, -37.80146938, -37.87418439, -37.84095004, -37.81769461, -37.82124309, -37.77345373, -37.81731823, -37.8576203, -37.80883505, -37.81528993, -37.76981576, -37.82751105, -37.87599851, -37.76763999, -37.80234665, -37.82653939, -37.79113933, -37.81509849, -37.80280489, -37.81372691, -37.87084736, -37.87175575, -37.82394127, -37.81585647, -38.0785859, -37.85631435, -37.81971514, -37.82200241, -37.840349100000005, -37.73716555, -37.86793539, -37.83008178, -37.80815473, -37.80737824, -37.8973402, -37.845453799999994, -37.80741861, -37.85677103, -37.91295072, -37.7816861, -37.82690513, -37.8101109, -37.77783669, -37.88384259, -37.77191379, -37.89278854, -37.82093538, -37.79452782, -37.79179591, -37.80316429, -37.80125335, -37.72754437, -37.83008078, -37.80967401, -37.69795426, -37.85799484, -37.8206833, -37.82531103, -37.80956522, -37.79131736, -37.72438439, -37.85039516, -37.82880496, -37.85983042, -37.79788525, -37.81526947, -37.88695205, -37.81609686, -37.82410308, -37.8544119, -37.8153275, -37.81810683, -38.00988446, -37.85971592, -37.80428817, -37.59404452, -37.80696862, -37.82077879999999, -37.81603998, -37.78529852, -37.75376775, -37.80592862, -37.9398571, -37.81054245, -37.87130375, -37.80479356, -37.798191100000004, -37.84680149, -37.85882315, -37.83395917, -37.813764500000005, -37.87190165, -37.75621813, -37.78922255, -37.78577707, -37.91663844, -37.9995238, -37.9395851, -37.82251349, -37.81146531, -37.80552733, -37.92228323, -37.81083861, -37.78361976, -37.91525375, -37.83348561, -37.78777825, -37.81175158, -37.829473799999995, -38.01526643, -37.817974, -37.8140005, -37.86080029, -37.696862200000005, -37.7959231, -37.78212511, -37.81157541, -37.82012248, -37.82002482, -37.80928903, -37.82373223, -37.81750762, -37.83238492, -37.86211386, -37.90416784, -37.87937045, -37.85225332, -37.88160748, -37.87091288, -37.84371009, -37.76995711, -37.83135942, -37.76800611, -37.82012922, -38.06809489, -37.81374431, -37.84087119, -37.82185611, -37.81229308, -37.83631707, -37.80998524, -37.84815585, -37.88212189, -37.80690459, -37.68761207, -37.86067839, -37.78888706, -37.80653251, -37.75814328, -37.77691977, -37.8107721, -37.79856974, -37.89251843, -37.88004529, -37.87224261, -37.81817077, -37.835075200000006, -37.82119357, -37.82072664, -37.86877089, -37.801666600000004, -37.82024447, -37.82697038, -37.63028871, -37.83705729, -37.76612686, -37.76124166, -37.75162499, -37.96044694, -37.85663552, -37.81509735, -37.80069692, -37.77081534, -37.82690136, -37.80547785, -37.80190014, -37.80680713, -37.80184515, -37.89107879, -37.81531471, -37.80350576, -37.82764576, -37.77371994, -37.80826634, -37.66452804, -37.78224626, -37.61974785, -37.80489825, -37.77930836, -38.00546325, -37.76568591, -37.80834896, -37.95410385, -37.79747888, -37.80134234, -37.92683323, -37.84961466, -37.85694907, -37.8385653, -37.80734619, -37.84829415, -37.78611619, -37.77451666, -37.70022735, -37.81269272, -37.77768566, -37.8090852, -37.78382402, -37.80738547, -37.89792468, -37.86257325, -37.75418742, -37.84226726, -37.80588904, -37.87482184, -37.82821739, -37.81031157, -37.79140959, -37.80919697, -37.84986443, -37.79676671, -37.82665065, -37.87629799, -37.81258684, -37.81516505, -37.79861687, -37.84597475, -37.9839179, -37.78915675, -37.76761731, -38.05279915, -37.82596767, -38.10737096, -37.85660325, -37.91774836, -37.82137658, -37.82687058, -37.86695362, -37.87817232, -37.80510742, -37.85961005, -37.84983217, -37.95319357, -37.91997469, -37.81503983, -37.81198682, -37.80647021, -37.74409586, -37.81513446, -37.81164291, -37.90780743, -38.16975408, -37.90134948, -37.75979995, -37.82033239, -37.81481534, -37.89978379, -38.10412941, -37.80192382, -37.87693415, -37.81821801, -37.85576855, -37.80553975, -37.80060103, -37.88321732, -37.79395449, -37.81197575, -37.82223585, -37.84314229, -37.83969125, -37.82846794, -37.80441664, -37.88568695, -37.85957632, -37.81154959, -37.80767331, -37.82513783, -37.86514039, -37.80998954, -37.82058501, -37.98821437, -37.8115467, -37.84209823, -37.80273783, -37.81471977, -37.81473558, -37.84613209, -37.82274935, -37.80555132, -37.86706727, -37.77782118, -37.84474926, -37.85008758, -37.80686933, -37.81020355, -37.75232158, -37.80152849, -37.81422681, -37.78696367, -37.67870569, -37.80624813, -37.88814417, -37.85783177, -37.86040384, -37.82514879, -37.78325892, -37.82965037, -37.7752119, -37.83035663, -37.84743659, -37.86401525, -37.81382145, -37.83699397, -37.86196246, -37.80643817, -37.88791507, -37.81507208, -37.84510182, -37.79202251, -37.79651311, -37.83973621, -37.84874501], \"legendgroup\": \"None, Location\", \"lon\": [145.1192593, 144.97085230000002, 145.15674140000002, 144.9538947, 145.01433830000002, 145.00336719999999, 144.9577352, 144.7297436, 144.9310392, 144.96188869999997, 144.99146519999996, 145.0062824, 144.9763697, 144.95418490000003, 144.96325, 144.91840449999998, 145.1560808, 144.97206719999997, 144.99469209999998, 145.1239839, 145.1504555, 145.02230600000001, 144.912449, 144.9623888, 144.9671875, 144.98760180000002, 145.0311498, 145.1393651, 144.98474040000002, 145.0057861, 145.0036484, 144.99291619999997, 145.4489466, 144.9829611, 145.1232534, 144.9009425, 144.9690435, 144.9816775, 144.96961869999998, 145.005013, 144.9655947, 144.9850188, 144.9602881, 145.06570990000003, 144.9550722, 144.9409243, 144.97702880000003, 145.3592167, 144.9665765, 144.97078369999997, 144.9686141, 145.0097335, 145.0063865, 144.6369885, 144.9497882, 144.9617313, 145.1624208, 144.9541899, 145.0532449, 144.9601587, 145.02055959999998, 144.9780624, 144.99982519999998, 145.59375569999997, 144.9757386, 144.67263640000002, 145.02225159999998, 145.0212196, 144.9571159, 144.952259, 144.9661866, 144.84032390000002, 144.95859119999997, 144.9595303, 144.88868069999998, 145.1005197, 145.26164119999999, 145.02282480000002, 144.8895815, 144.8975143, 144.87857340000002, 145.0144559, 144.9930778, 144.9804125, 144.9512267, 145.3805953, 144.9387837, 145.0919255, 145.0090262, 145.3233039, 144.97814250000002, 144.9850091, 144.98064580000002, 144.9770909, 144.97936030000002, 145.07569180000002, 145.035096, 145.01192460000001, 144.9560867, 144.9692759, 145.0279861, 145.00823, 144.9235132, 144.9638378, 144.9530108, 144.99847649999998, 144.9630732, 144.9953154, 145.0888066, 145.3280815, 145.0199131, 144.96360669999999, 144.97646540000002, 144.94139909999998, 145.5255733, 144.9511893, 144.9975842, 144.95656, 144.9270918, 145.0275053, 144.9994324, 144.9533295, 144.9563089, 144.9882587, 144.95207290000002, 144.9564021, 144.723389, 144.9591166, 144.9902115, 144.9547552, 144.9886169, 144.9591461, 144.9797995, 145.13025349999998, 145.0287821, 145.6877038, 144.9531586, 144.9542937, 144.9909927, 145.000091, 145.50987030000002, 144.9625659, 144.96769790000002, 144.9850104, 144.967961, 144.9705147, 145.0263697, 144.94668149999998, 144.98832869999998, 144.87935980000003, 145.0250561, 144.9947302, 144.971114, 144.95397830000002, 144.96394909999998, 145.00611740000002, 144.95519280000002, 144.941847, 144.7544803, 144.88201930000002, 144.9536425, 144.976555, 144.96189280000002, 145.20522519999997, 144.9560229, 144.96032240000002, 144.9815895, 144.9562392, 144.96547180000002, 145.0647413, 144.98424440000002, 144.9638605, 145.1312417, 144.96290430000002, 145.07013909999998, 145.0039934, 144.96849519999998, 144.9640924, 144.98847, 144.96259650000002, 144.95363930000002, 144.98661719999998, 144.9489324, 145.0064333, 144.96093380000002, 145.14417319999998, 144.87861919999997, 144.9685295, 144.995279, 144.9828214, 144.9983155, 144.9952291, 144.89489269999999, 144.951998, 145.07353940000002, 145.0109688, 144.8738954, 145.51783730000002, 144.98323280000002, 145.5142719, 145.09482319999998, 144.961023, 145.4602176, 145.00590730000002, 145.00670449999998, 145.1583776, 144.9970624, 144.9551754, 144.9527606, 144.9692205, 145.2633167, 144.9535082, 144.99985139999998, 144.9703524, 144.97685880000003, 144.9533272, 144.94968500000002, 144.98250249999998, 144.9554885, 144.8914036, 144.9974092, 145.0373705, 144.9766837, 144.9616948, 145.006943, 145.0328009, 145.0708821, 144.9620303, 144.994718, 144.9723841, 144.9567898, 144.7895585, 144.9665397, 145.1254198, 145.1084617, 144.986738, 144.9668345, 144.9134632, 144.96288330000002, 144.9596651, 144.94894399999998, 144.9504673, 145.6763003, 144.9759798, 144.9569182, 144.99163090000002, 144.9798932, 144.9892476, 144.96488080000003, 144.97510549999998, 144.9748821, 144.9755509, 144.97629030000002, 145.04798540000002, 144.8140956, 144.9526751, 144.96744569999998, 144.8643729, 145.1872514, 144.955981, 145.0686975, 144.984839, 145.31170319999998, 144.9580544, 144.98782219999998, 144.9661575, 145.1625773, 144.9882968, 144.9982317, 144.9628279, 144.9694552, 144.9439278, 144.962151, 144.96352530000001, 145.2172066, 144.6724415, 144.9413951, 145.00204580000002, 144.9600802, 145.00274130000003, 144.9595751, 144.980065, 144.94392009999999, 144.99605369999998, 144.95104880000002, 144.96003969999998, 144.9594695, 144.95519480000002, 144.92493080000003, 144.9908356, 144.9665076, 144.9069011, 144.9788014, 144.92559540000002, 144.9758991, 145.1184427, 144.95282949999998, 144.9511658, 145.00969730000003, 145.37550890000003, 144.99158880000002, 144.9990544, 144.977494, 144.9813935, 144.9518517, 144.7502428, 145.05632519999997, 144.959813, 144.9101594, 144.94067859999998, 144.9808308, 144.9834676, 144.9370837, 145.236569, 144.98520119999998, 144.9867367, 144.9981345, 145.0986211, 144.9893734, 145.00601609999998, 145.0527495, 144.9764429, 144.95503469999997, 145.1123608, 144.9644804, 144.96492780000003, 144.95321950000002, 145.04736359999998, 144.9990777, 144.9808102, 145.052207, 145.0009982, 144.9629634, 144.9419164, 144.9717655, 145.0262218, 144.9605089, 145.0105927, 145.42232959999998, 144.99660930000002, 144.74141930000002, 144.98554740000003, 144.9419638, 145.49237340000002, 144.96787369999998, 144.977094, 144.9796268, 144.9532267, 144.9782056, 144.9527476, 144.9528669, 144.98202780000003, 144.9586119, 144.9549611, 144.92775790000002, 144.9779779, 144.9804887, 144.97185530000002, 144.95237, 144.9561803, 144.59590369999998, 145.05695219999998, 144.983701, 144.9556868, 144.9622783, 144.90451869999998, 144.9783197, 144.95594930000001, 144.95297209999998, 144.9256005, 144.94418430000002, 144.9684939, 144.9955281, 145.1184807, 145.00743880000002, 145.01823059999998, 144.9653996, 145.0042946, 144.9878863, 144.9411364, 145.2225737, 144.9694494, 144.99215230000001, 144.97913590000002, 144.9525309, 145.151388, 145.01080369999997, 144.9950016, 144.98300749999999, 144.95413100000002, 144.959429, 144.8733595, 144.96469319999997, 144.9533668, 144.9793563, 145.02457009999998, 145.1117379, 144.95137780000002, 144.9532724, 145.1187306, 145.0095699, 144.9609714, 145.2070783, 144.9654963, 145.0470815, 145.1565849, 144.95397140000003, 144.98329750000002, 144.96523190000002, 144.9648399, 144.9817698, 144.9774377, 144.956344, 145.08489430000003, 144.99615500000002, 145.0235953, 144.8894414, 144.97435249999998, 145.1066714, 144.97878390000002, 144.9860306, 144.9626802, 144.9546655, 144.9686642, 145.03278390000003, 144.974782, 144.9767215, 145.015903, 144.9627809, 144.9524428, 145.4918868, 145.0051573, 144.96832790000002, 144.99773290000002, 144.9690784, 145.06007150000002, 144.97557519999998, 144.98059569999998, 144.94495609999998, 144.9911716, 145.1647033, 144.9686875, 145.11177990000002, 144.98561180000002, 145.1123216, 144.9726175, 144.91534819999998, 144.9606915, 145.1325086, 145.11755449999998, 144.8873822, 144.9806379, 144.9616554, 145.0415924, 145.0258293, 144.97926130000002, 144.9735226, 144.9538737, 144.95932040000002, 144.7722855, 144.95599230000002, 144.99944440000002, 145.23085659999998, 144.98908380000003, 144.9864361, 145.1718849, 145.0041411, 144.9413286, 144.9213514, 144.98647590000002, 144.9717895, 144.9673987, 144.9298321, 144.9650934, 144.9793815, 145.0030393, 144.98144299999998, 145.0661427, 145.02821630000003, 144.97707590000002, 144.9629294, 144.96293469999998, 144.969084, 144.9684852, 144.9549117, 144.9915099, 144.9539675, 144.9803117, 144.8685409, 144.9924326, 144.9837096, 144.95948669999999, 144.9871946, 145.37134809999998, 144.99514219999998, 144.9409788, 145.1048517, 144.96067630000002, 144.8669642, 145.1224638, 144.96489259999998, 144.956314, 144.88445919999998, 144.978771, 144.9775555, 144.99662769999998, 145.0236754, 145.00876509999998, 144.97863, 144.96643590000002, 145.0144165, 145.51493200000002, 145.1454497, 144.9748627, 144.953982, 144.7399868, 144.99259909999998, 144.95790780000002, 145.00933559999999, 144.89294009999998, 144.9390533, 145.50909840000003, 145.00765810000001, 144.9450305, 144.9429476, 144.96354230000003, 145.01599950000002, 144.987557, 144.9795498, 144.9966834, 144.94227450000002, 145.046927, 145.123962, 144.9572417, 144.97188169999998, 145.3393561, 144.98956769999998, 144.9544253, 145.007666, 145.0091389, 145.08101169999998, 145.0008872, 144.95418059999997, 144.77317340000002, 144.9637623, 144.9771666, 145.1069899, 144.9407716, 145.0269064, 144.9683626, 145.1352904, 144.9788764, 144.9667255, 144.9824125, 144.9600941, 144.9822997, 145.32180219999998, 144.99255259999998, 144.9531135, 145.00045569999997, 145.18539199999998, 144.9781611, 144.96304709999998, 145.08338, 144.8157333, 145.0974448, 145.1231229, 144.86870469999997, 144.9834526, 144.93935880000004, 144.9959488, 144.9900771, 144.9607762, 145.01723159999997, 144.887002, 144.9602165, 144.6965881, 145.21902839999998, 145.13185369999997, 144.985746, 144.9786128, 144.9764935, 144.9130765, 145.12438219999999, 145.0644833, 144.95408909999998, 144.966786, 145.5087456, 144.9765372, 144.95522480000002, 144.9912985, 144.9798639, 144.89296480000002, 144.9942865, 145.0140294, 144.9432779, 144.9237775, 145.1221783, 144.98325419999998, 144.6755122, 144.9605565, 144.97737949999998, 144.9529222, 144.95089919999998, 144.96745869999998, 144.99704640000002, 145.04609399999998, 144.8934424, 145.0191584, 144.95831230000002, 144.99185380000003, 144.95584069999998, 144.98385869999998, 144.99140769999997, 144.95437130000002, 144.9687147, 144.9723165, 145.0264875, 145.2201355, 145.1172948, 144.7316325, 144.95843369999997, 145.0083745, 144.96156169999998, 144.9899258, 144.9528106, 145.1313988, 144.95236540000002, 144.9739969, 144.9547337, 145.07785810000001, 144.98113569999998, 144.9839229, 144.99554630000003, 144.94048080000002, 144.9585157, 144.940871, 145.0205496, 144.9601081, 144.89083300000001, 144.9617496, 144.8951324, 144.8918448, 144.9598705, 144.98503259999998, 145.0217291, 144.95211980000002, 145.1102555, 144.920243, 144.99250990000002, 144.9844786, 144.9686589, 144.9781167, 144.9901609, 144.9634511, 144.9532028, 145.3297274, 144.9872934, 144.9426783, 144.99751609999998, 144.93542380000002, 144.8889622, 144.9855912, 144.9698949, 144.9662051, 144.96067250000002, 145.00845690000003, 144.71637990000002, 144.9596301, 145.0168666, 145.115382, 145.1725947, 145.00952769999998, 144.961792, 144.9401035, 144.9899912, 144.9807774, 144.7447632, 145.0259032, 144.97206780000002, 144.928348, 145.0541456, 144.9574716, 145.1233014, 144.9868869, 144.9608455, 144.7563405, 144.981102, 144.94391059999998, 144.95720480000003, 144.9633046, 145.35813230000002, 145.5660906, 144.9568162, 144.958887, 144.9749445, 144.951807, 144.9613372, 144.9860574, 144.953706, 144.96335459999997, 144.9811378, 144.95359409999998, 144.954449, 145.1776185, 145.0436576, 144.9649226, 145.4910741, 144.86810419999998, 144.9682352, 144.9531464, 144.98241330000002, 145.0028626, 144.96721019999998, 145.0142275, 144.9578078, 145.347236, 144.9882341, 144.97759419999997, 144.9818311, 144.9796569, 144.98982519999998, 144.9697033, 144.9831255, 144.9363523, 145.1230262, 144.9215206, 145.12229169999998, 145.1779371, 145.2252293, 144.9649517, 144.9526847, 144.9598267, 144.9899753, 145.0074131, 145.0166231, 145.1631325, 144.99027959999998, 145.2526667, 144.9503647, 145.0330686, 145.2790794, 145.3731831, 144.95392230000002, 144.99023380000003, 145.4905741, 145.0317333, 144.9880788, 144.9586, 144.95520009999998, 144.9436212, 145.22887519999998, 144.9918764, 144.9648778, 145.0780344, 144.97313259999999, 144.7244541, 144.9902378, 144.9789295, 145.0808242, 144.9784581, 145.0303696, 145.11148290000003, 144.9888459, 144.9204419, 145.2121581, 145.2469058, 144.9570426, 145.0107927, 145.0440874, 144.96923950000001, 145.0235054, 144.9605053, 144.97933999999998, 144.9840939, 144.96345780000001, 144.9075052, 144.97672849999998, 145.1229543, 144.96773190000002, 144.9938044, 144.96060380000003, 144.9627501, 144.99103269999998, 145.06706409999998, 144.98229609999999, 145.15059159999998, 145.0075945, 144.9377878, 145.00193969999998, 144.9434076, 145.3480611, 144.9782125, 144.94254750000002, 144.9595397, 144.7465024, 144.9314024, 145.0106831, 144.9280972, 145.00178300000002, 145.0577396, 144.98625239999998, 144.9526785, 144.9650793, 144.9981487, 144.9680543, 144.9654919, 144.9990804, 144.9602858, 144.8946621, 144.75076130000002, 144.95479430000003, 145.0396147, 144.95907649999998, 145.015922, 144.96188590000003, 145.5231866, 145.1550541, 144.8866614, 144.98453930000002, 144.9811108, 145.08541330000003, 145.0079845, 144.99385519999998, 145.0259452, 144.9842645, 144.9653831, 145.14949819999998, 144.9860354, 144.87152, 144.9957082, 144.9616904, 145.1476581, 145.10586719999998, 145.15172769999998, 144.9667632, 144.957627, 145.0280663, 144.9606064, 144.9637939, 144.9613536, 145.1129794, 144.9976784, 144.9927719, 144.9943149, 144.9846107, 145.06268830000002, 144.96944150000002, 144.9721874, 145.1057059, 144.959875, 144.9943516, 144.9568056, 144.9586384, 144.9956346, 144.94396369999998, 144.95257880000003, 144.9681531, 144.96099840000002, 145.03118480000003, 145.1235501, 144.9990355, 145.1136436, 144.96831909999997, 145.3026961, 144.9805131, 145.3692244, 144.9553688, 145.00101769999998, 144.9796408, 145.0668636, 144.98640669999997, 144.9022157, 144.99057630000001, 145.0409946, 145.33042700000001, 144.9537194, 144.9605939, 145.1310726, 145.4807838, 144.97357150000002, 144.9516741, 145.12511669999998, 145.1606601, 144.7504711, 144.9962746, 144.95523559999998, 145.1084663, 145.02544440000003, 145.2629753, 144.9523462, 144.9922868, 144.96467919999998, 144.96867350000002, 144.9672496, 144.9724775, 144.9928017, 144.9681229, 144.9925987, 145.19295590000002, 144.9851496, 144.9367795, 144.95900509999998, 144.9845787, 145.05202119999998, 145.0810409, 144.9593066, 144.96001040000002, 145.0065916, 144.9749412, 144.95751, 145.0282636, 145.2116022, 144.95873410000002, 144.998227, 144.9849517, 144.9647528, 144.9454355, 144.7379019, 144.99157390000002, 144.9802576, 144.9755179, 145.17389440000002, 144.846671, 144.98742869999998, 144.96128230000002, 144.96080039999998, 145.3687334, 144.98514609999998, 144.9681192, 145.1264758, 144.87617790000002, 144.9622095, 145.0285388, 144.98400039999999, 144.9712154, 144.94472119999998, 144.978725, 145.0483364, 144.9158184, 144.9704101, 144.9804354, 144.9914881, 144.9549603, 144.9972008, 144.9747697, 144.95901130000001, 145.02736059999998, 144.9528476, 144.9962771, 144.9896381, 144.9807678, 144.9949647, 145.14623419999998], \"marker\": {\"color\": \"#C0C0C0\", \"symbol\": \"circle\"}, \"mode\": \"markers\", \"name\": \"None, Location\", \"showlegend\": true, \"type\": \"scattergeo\"}, {\"geo\": \"geo\", \"hovertemplate\": \"close_to=1<br>item_type=Location<br>latitude=%{lat}<br>longitude=%{lon}<extra></extra>\", \"lat\": [-37.72878773, -37.69923043, -37.72016342], \"legendgroup\": \"1, Location\", \"lon\": [145.0196915, 145.0096457, 145.02706799999999], \"marker\": {\"color\": \"#00cc96\", \"symbol\": \"circle\"}, \"mode\": \"markers\", \"name\": \"1, Location\", \"showlegend\": true, \"type\": \"scattergeo\"}, {\"geo\": \"geo\", \"hovertemplate\": \"close_to=3<br>item_type=Location<br>latitude=%{lat}<br>longitude=%{lon}<extra></extra>\", \"lat\": [-37.61120276, -37.68054956, -37.6811783, -37.67339391, -37.67318742], \"legendgroup\": \"3, Location\", \"lon\": [145.0912358, 145.07147709999998, 145.07800459999999, 145.0173144, 145.06819050000001], \"marker\": {\"color\": \"#ab63fa\", \"symbol\": \"circle\"}, \"mode\": \"markers\", \"name\": \"3, Location\", \"showlegend\": true, \"type\": \"scattergeo\"}, {\"geo\": \"geo\", \"hovertemplate\": \"close_to=5<br>item_type=Location<br>latitude=%{lat}<br>longitude=%{lon}<extra></extra>\", \"lat\": [-37.70160149, -37.68311581, -37.71664746, -37.73835128, -37.68309548], \"legendgroup\": \"5, Location\", \"lon\": [145.052606, 145.0797456, 145.0404145, 145.071178, 145.07651090000002], \"marker\": {\"color\": \"#FFA15A\", \"symbol\": \"circle\"}, \"mode\": \"markers\", \"name\": \"5, Location\", \"showlegend\": true, \"type\": \"scattergeo\"}, {\"geo\": \"geo\", \"hovertemplate\": \"close_to=6<br>item_type=Location<br>latitude=%{lat}<br>longitude=%{lon}<extra></extra>\", \"lat\": [-37.92300639, -37.91810616, -37.862303999999995, -37.90777218, -37.88222568], \"legendgroup\": \"6, Location\", \"lon\": [145.22734599999998, 145.2471529, 145.2628322, 145.2718884, 145.1822011], \"marker\": {\"color\": \"#19d3f3\", \"symbol\": \"circle\"}, \"mode\": \"markers\", \"name\": \"6, Location\", \"showlegend\": true, \"type\": \"scattergeo\"}, {\"geo\": \"geo\", \"hovertemplate\": \"close_to=2<br>item_type=Location<br>latitude=%{lat}<br>longitude=%{lon}<extra></extra>\", \"lat\": [-37.889793, -37.893025, -37.88987386, -37.90284692, -37.90291951], \"legendgroup\": \"2, Location\", \"lon\": [145.0447259, 145.05644850000002, 145.0484885, 145.0404137, 145.04457480000002], \"marker\": {\"color\": \"#FF6692\", \"symbol\": \"circle\"}, \"mode\": \"markers\", \"name\": \"2, Location\", \"showlegend\": true, \"type\": \"scattergeo\"}, {\"geo\": \"geo\", \"hovertemplate\": \"close_to=7<br>item_type=Location<br>latitude=%{lat}<br>longitude=%{lon}<extra></extra>\", \"lat\": [-37.85640202, -37.85716611, -37.85213403, -37.85062709, -37.85448623], \"legendgroup\": \"7, Location\", \"lon\": [145.0071252, 144.9981975, 145.00469809999998, 144.9979591, 145.00272560000002], \"marker\": {\"color\": \"#B6E880\", \"symbol\": \"circle\"}, \"mode\": \"markers\", \"name\": \"7, Location\", \"showlegend\": true, \"type\": \"scattergeo\"}, {\"geo\": \"geo\", \"hovertemplate\": \"close_to=9<br>item_type=Location<br>latitude=%{lat}<br>longitude=%{lon}<extra></extra>\", \"lat\": [-37.78879245, -37.78192742, -37.781811, -37.782328899999996, -37.78204568], \"legendgroup\": \"9, Location\", \"lon\": [144.9974275, 144.9974211, 144.99954209999999, 144.9982655, 144.99624880000002], \"marker\": {\"color\": \"#FF97FF\", \"symbol\": \"circle\"}, \"mode\": \"markers\", \"name\": \"9, Location\", \"showlegend\": true, \"type\": \"scattergeo\"}, {\"geo\": \"geo\", \"hovertemplate\": \"close_to=4<br>item_type=Location<br>latitude=%{lat}<br>longitude=%{lon}<extra></extra>\", \"lat\": [-37.74889877, -37.74823395, -37.7383596], \"legendgroup\": \"4, Location\", \"lon\": [145.0018792, 145.0013655, 145.00592230000004], \"marker\": {\"color\": \"#FECB52\", \"symbol\": \"circle\"}, \"mode\": \"markers\", \"name\": \"4, Location\", \"showlegend\": true, \"type\": \"scattergeo\"}, {\"geo\": \"geo\", \"hovertemplate\": \"close_to=8<br>item_type=Location<br>latitude=%{lat}<br>longitude=%{lon}<extra></extra>\", \"lat\": [-37.73195787, -37.72640281, -37.75664672, -37.72828374, -37.73797936], \"legendgroup\": \"8, Location\", \"lon\": [144.9872429, 144.9401436, 144.959021, 144.92901640000002, 144.98677949999998], \"marker\": {\"color\": \"#636efa\", \"symbol\": \"circle\"}, \"mode\": \"markers\", \"name\": \"8, Location\", \"showlegend\": true, \"type\": \"scattergeo\"}, {\"geo\": \"geo\", \"hovertemplate\": \"close_to=--<br>item_type=Center<br>latitude=%{lat}<br>longitude=%{lon}<extra></extra>\", \"lat\": [-37.7853, -37.713, -37.9007, -37.60983, -37.7373, -37.7163, -37.88153, -37.85491, -37.735, -37.78745], \"legendgroup\": \"--, Center\", \"lon\": [144.8944, 145.0108, 145.047, 145.03874, 144.9864, 145.0768, 145.23003, 145.00373000000005, 144.9581, 145.00061000000005], \"marker\": {\"color\": \"#EF553B\", \"symbol\": \"square-dot\"}, \"mode\": \"markers\", \"name\": \"--, Center\", \"showlegend\": true, \"type\": \"scattergeo\"}],                        {\"geo\": {\"center\": {}, \"domain\": {\"x\": [0.0, 1.0], \"y\": [0.0, 1.0]}, \"fitbounds\": \"locations\"}, \"legend\": {\"title\": {\"text\": \"close_to, item_type\"}, \"tracegroupgap\": 0}, \"margin\": {\"t\": 60}, \"template\": {\"data\": {\"bar\": [{\"error_x\": {\"color\": \"#2a3f5f\"}, \"error_y\": {\"color\": \"#2a3f5f\"}, \"marker\": {\"line\": {\"color\": \"#E5ECF6\", \"width\": 0.5}}, \"type\": \"bar\"}], \"barpolar\": [{\"marker\": {\"line\": {\"color\": \"#E5ECF6\", \"width\": 0.5}}, \"type\": \"barpolar\"}], \"carpet\": [{\"aaxis\": {\"endlinecolor\": \"#2a3f5f\", \"gridcolor\": \"white\", \"linecolor\": \"white\", \"minorgridcolor\": \"white\", \"startlinecolor\": \"#2a3f5f\"}, \"baxis\": {\"endlinecolor\": \"#2a3f5f\", \"gridcolor\": \"white\", \"linecolor\": \"white\", \"minorgridcolor\": \"white\", \"startlinecolor\": \"#2a3f5f\"}, \"type\": \"carpet\"}], \"choropleth\": [{\"colorbar\": {\"outlinewidth\": 0, \"ticks\": \"\"}, \"type\": \"choropleth\"}], \"contour\": [{\"colorbar\": {\"outlinewidth\": 0, \"ticks\": \"\"}, \"colorscale\": [[0.0, \"#0d0887\"], [0.1111111111111111, \"#46039f\"], [0.2222222222222222, \"#7201a8\"], [0.3333333333333333, \"#9c179e\"], [0.4444444444444444, \"#bd3786\"], [0.5555555555555556, \"#d8576b\"], [0.6666666666666666, \"#ed7953\"], [0.7777777777777778, \"#fb9f3a\"], [0.8888888888888888, \"#fdca26\"], [1.0, \"#f0f921\"]], \"type\": \"contour\"}], \"contourcarpet\": [{\"colorbar\": {\"outlinewidth\": 0, \"ticks\": \"\"}, \"type\": \"contourcarpet\"}], \"heatmap\": [{\"colorbar\": {\"outlinewidth\": 0, \"ticks\": \"\"}, \"colorscale\": [[0.0, \"#0d0887\"], [0.1111111111111111, \"#46039f\"], [0.2222222222222222, \"#7201a8\"], [0.3333333333333333, \"#9c179e\"], [0.4444444444444444, \"#bd3786\"], [0.5555555555555556, \"#d8576b\"], [0.6666666666666666, \"#ed7953\"], [0.7777777777777778, \"#fb9f3a\"], [0.8888888888888888, \"#fdca26\"], [1.0, \"#f0f921\"]], \"type\": \"heatmap\"}], \"heatmapgl\": [{\"colorbar\": {\"outlinewidth\": 0, \"ticks\": \"\"}, \"colorscale\": [[0.0, \"#0d0887\"], [0.1111111111111111, \"#46039f\"], [0.2222222222222222, \"#7201a8\"], [0.3333333333333333, \"#9c179e\"], [0.4444444444444444, \"#bd3786\"], [0.5555555555555556, \"#d8576b\"], [0.6666666666666666, \"#ed7953\"], [0.7777777777777778, \"#fb9f3a\"], [0.8888888888888888, \"#fdca26\"], [1.0, \"#f0f921\"]], \"type\": \"heatmapgl\"}], \"histogram\": [{\"marker\": {\"colorbar\": {\"outlinewidth\": 0, \"ticks\": \"\"}}, \"type\": \"histogram\"}], \"histogram2d\": [{\"colorbar\": {\"outlinewidth\": 0, \"ticks\": \"\"}, \"colorscale\": [[0.0, \"#0d0887\"], [0.1111111111111111, \"#46039f\"], [0.2222222222222222, \"#7201a8\"], [0.3333333333333333, \"#9c179e\"], [0.4444444444444444, \"#bd3786\"], [0.5555555555555556, \"#d8576b\"], [0.6666666666666666, \"#ed7953\"], [0.7777777777777778, \"#fb9f3a\"], [0.8888888888888888, \"#fdca26\"], [1.0, \"#f0f921\"]], \"type\": \"histogram2d\"}], \"histogram2dcontour\": [{\"colorbar\": {\"outlinewidth\": 0, \"ticks\": \"\"}, \"colorscale\": [[0.0, \"#0d0887\"], [0.1111111111111111, \"#46039f\"], [0.2222222222222222, \"#7201a8\"], [0.3333333333333333, \"#9c179e\"], [0.4444444444444444, \"#bd3786\"], [0.5555555555555556, \"#d8576b\"], [0.6666666666666666, \"#ed7953\"], [0.7777777777777778, \"#fb9f3a\"], [0.8888888888888888, \"#fdca26\"], [1.0, \"#f0f921\"]], \"type\": \"histogram2dcontour\"}], \"mesh3d\": [{\"colorbar\": {\"outlinewidth\": 0, \"ticks\": \"\"}, \"type\": \"mesh3d\"}], \"parcoords\": [{\"line\": {\"colorbar\": {\"outlinewidth\": 0, \"ticks\": \"\"}}, \"type\": \"parcoords\"}], \"pie\": [{\"automargin\": true, \"type\": \"pie\"}], \"scatter\": [{\"marker\": {\"colorbar\": {\"outlinewidth\": 0, \"ticks\": \"\"}}, \"type\": \"scatter\"}], \"scatter3d\": [{\"line\": {\"colorbar\": {\"outlinewidth\": 0, \"ticks\": \"\"}}, \"marker\": {\"colorbar\": {\"outlinewidth\": 0, \"ticks\": \"\"}}, \"type\": \"scatter3d\"}], \"scattercarpet\": [{\"marker\": {\"colorbar\": {\"outlinewidth\": 0, \"ticks\": \"\"}}, \"type\": \"scattercarpet\"}], \"scattergeo\": [{\"marker\": {\"colorbar\": {\"outlinewidth\": 0, \"ticks\": \"\"}}, \"type\": \"scattergeo\"}], \"scattergl\": [{\"marker\": {\"colorbar\": {\"outlinewidth\": 0, \"ticks\": \"\"}}, \"type\": \"scattergl\"}], \"scattermapbox\": [{\"marker\": {\"colorbar\": {\"outlinewidth\": 0, \"ticks\": \"\"}}, \"type\": \"scattermapbox\"}], \"scatterpolar\": [{\"marker\": {\"colorbar\": {\"outlinewidth\": 0, \"ticks\": \"\"}}, \"type\": \"scatterpolar\"}], \"scatterpolargl\": [{\"marker\": {\"colorbar\": {\"outlinewidth\": 0, \"ticks\": \"\"}}, \"type\": \"scatterpolargl\"}], \"scatterternary\": [{\"marker\": {\"colorbar\": {\"outlinewidth\": 0, \"ticks\": \"\"}}, \"type\": \"scatterternary\"}], \"surface\": [{\"colorbar\": {\"outlinewidth\": 0, \"ticks\": \"\"}, \"colorscale\": [[0.0, \"#0d0887\"], [0.1111111111111111, \"#46039f\"], [0.2222222222222222, \"#7201a8\"], [0.3333333333333333, \"#9c179e\"], [0.4444444444444444, \"#bd3786\"], [0.5555555555555556, \"#d8576b\"], [0.6666666666666666, \"#ed7953\"], [0.7777777777777778, \"#fb9f3a\"], [0.8888888888888888, \"#fdca26\"], [1.0, \"#f0f921\"]], \"type\": \"surface\"}], \"table\": [{\"cells\": {\"fill\": {\"color\": \"#EBF0F8\"}, \"line\": {\"color\": \"white\"}}, \"header\": {\"fill\": {\"color\": \"#C8D4E3\"}, \"line\": {\"color\": \"white\"}}, \"type\": \"table\"}]}, \"layout\": {\"annotationdefaults\": {\"arrowcolor\": \"#2a3f5f\", \"arrowhead\": 0, \"arrowwidth\": 1}, \"autotypenumbers\": \"strict\", \"coloraxis\": {\"colorbar\": {\"outlinewidth\": 0, \"ticks\": \"\"}}, \"colorscale\": {\"diverging\": [[0, \"#8e0152\"], [0.1, \"#c51b7d\"], [0.2, \"#de77ae\"], [0.3, \"#f1b6da\"], [0.4, \"#fde0ef\"], [0.5, \"#f7f7f7\"], [0.6, \"#e6f5d0\"], [0.7, \"#b8e186\"], [0.8, \"#7fbc41\"], [0.9, \"#4d9221\"], [1, \"#276419\"]], \"sequential\": [[0.0, \"#0d0887\"], [0.1111111111111111, \"#46039f\"], [0.2222222222222222, \"#7201a8\"], [0.3333333333333333, \"#9c179e\"], [0.4444444444444444, \"#bd3786\"], [0.5555555555555556, \"#d8576b\"], [0.6666666666666666, \"#ed7953\"], [0.7777777777777778, \"#fb9f3a\"], [0.8888888888888888, \"#fdca26\"], [1.0, \"#f0f921\"]], \"sequentialminus\": [[0.0, \"#0d0887\"], [0.1111111111111111, \"#46039f\"], [0.2222222222222222, \"#7201a8\"], [0.3333333333333333, \"#9c179e\"], [0.4444444444444444, \"#bd3786\"], [0.5555555555555556, \"#d8576b\"], [0.6666666666666666, \"#ed7953\"], [0.7777777777777778, \"#fb9f3a\"], [0.8888888888888888, \"#fdca26\"], [1.0, \"#f0f921\"]]}, \"colorway\": [\"#636efa\", \"#EF553B\", \"#00cc96\", \"#ab63fa\", \"#FFA15A\", \"#19d3f3\", \"#FF6692\", \"#B6E880\", \"#FF97FF\", \"#FECB52\"], \"font\": {\"color\": \"#2a3f5f\"}, \"geo\": {\"bgcolor\": \"white\", \"lakecolor\": \"white\", \"landcolor\": \"#E5ECF6\", \"showlakes\": true, \"showland\": true, \"subunitcolor\": \"white\"}, \"hoverlabel\": {\"align\": \"left\"}, \"hovermode\": \"closest\", \"mapbox\": {\"style\": \"light\"}, \"paper_bgcolor\": \"white\", \"plot_bgcolor\": \"#E5ECF6\", \"polar\": {\"angularaxis\": {\"gridcolor\": \"white\", \"linecolor\": \"white\", \"ticks\": \"\"}, \"bgcolor\": \"#E5ECF6\", \"radialaxis\": {\"gridcolor\": \"white\", \"linecolor\": \"white\", \"ticks\": \"\"}}, \"scene\": {\"xaxis\": {\"backgroundcolor\": \"#E5ECF6\", \"gridcolor\": \"white\", \"gridwidth\": 2, \"linecolor\": \"white\", \"showbackground\": true, \"ticks\": \"\", \"zerolinecolor\": \"white\"}, \"yaxis\": {\"backgroundcolor\": \"#E5ECF6\", \"gridcolor\": \"white\", \"gridwidth\": 2, \"linecolor\": \"white\", \"showbackground\": true, \"ticks\": \"\", \"zerolinecolor\": \"white\"}, \"zaxis\": {\"backgroundcolor\": \"#E5ECF6\", \"gridcolor\": \"white\", \"gridwidth\": 2, \"linecolor\": \"white\", \"showbackground\": true, \"ticks\": \"\", \"zerolinecolor\": \"white\"}}, \"shapedefaults\": {\"line\": {\"color\": \"#2a3f5f\"}}, \"ternary\": {\"aaxis\": {\"gridcolor\": \"white\", \"linecolor\": \"white\", \"ticks\": \"\"}, \"baxis\": {\"gridcolor\": \"white\", \"linecolor\": \"white\", \"ticks\": \"\"}, \"bgcolor\": \"#E5ECF6\", \"caxis\": {\"gridcolor\": \"white\", \"linecolor\": \"white\", \"ticks\": \"\"}}, \"title\": {\"x\": 0.05}, \"xaxis\": {\"automargin\": true, \"gridcolor\": \"white\", \"linecolor\": \"white\", \"ticks\": \"\", \"title\": {\"standoff\": 15}, \"zerolinecolor\": \"white\", \"zerolinewidth\": 2}, \"yaxis\": {\"automargin\": true, \"gridcolor\": \"white\", \"linecolor\": \"white\", \"ticks\": \"\", \"title\": {\"standoff\": 15}, \"zerolinecolor\": \"white\", \"zerolinewidth\": 2}}}},                        {\"responsive\": true}                    ).then(function(){\n",
              "                            \n",
              "var gd = document.getElementById('a39aee93-d019-4c7c-b8e4-249a4229d06a');\n",
              "var x = new MutationObserver(function (mutations, observer) {{\n",
              "        var display = window.getComputedStyle(gd).display;\n",
              "        if (!display || display === 'none') {{\n",
              "            console.log([gd, 'removed!']);\n",
              "            Plotly.purge(gd);\n",
              "            observer.disconnect();\n",
              "        }}\n",
              "}});\n",
              "\n",
              "// Listen for the removal of the full notebook cells\n",
              "var notebookContainer = gd.closest('#notebook-container');\n",
              "if (notebookContainer) {{\n",
              "    x.observe(notebookContainer, {childList: true});\n",
              "}}\n",
              "\n",
              "// Listen for the clearing of the current output cell\n",
              "var outputEl = gd.closest('.output');\n",
              "if (outputEl) {{\n",
              "    x.observe(outputEl, {childList: true});\n",
              "}}\n",
              "\n",
              "                        })                };                            </script>        </div>\n",
              "</body>\n",
              "</html>"
            ]
          },
          "metadata": {
            "tags": []
          }
        }
      ]
    },
    {
      "cell_type": "markdown",
      "metadata": {
        "id": "d6GZOkd0bEqk"
      },
      "source": [
        "## Adición de registros relevantes\n",
        "\n",
        "En la notebook 02 añadimos, para cada registro del conjunto de ventas, el promedio de precios en las publicaciones de AirBnB para el mismo código postal.\n",
        "\n",
        "En este caso, les proponemos añadir una nueva columna  que tenga, para cada registro del conjunto de ventas, las descripciones de los vecindarios de las 5 ubicaciones más cercanas."
      ]
    },
    {
      "cell_type": "markdown",
      "metadata": {
        "id": "45olgXFVcSJG"
      },
      "source": [
        "### Cálculo de las distancias entre coordenadas"
      ]
    },
    {
      "cell_type": "code",
      "metadata": {
        "id": "j-wqLnS_NjUe",
        "colab": {
          "base_uri": "https://localhost:8080/"
        },
        "outputId": "5bd119e3-1c31-4c59-8be4-f4d288466f7c"
      },
      "source": [
        "group_size = 5\n",
        "col_to_join = 'neighborhood_overview'\n",
        "airbnb_locations = airbnb_df[['latitude', 'longitude', col_to_join]]\n",
        "sales_locations = melb_df[['Lattitude', 'Longtitude']]\\\n",
        "  .rename(columns={'Lattitude': 'latitude', 'Longtitude': 'longitude'})\n",
        "closest_indices = closest_locations(sales_locations, airbnb_locations,\n",
        "                                    k=group_size)"
      ],
      "execution_count": null,
      "outputs": [
        {
          "output_type": "stream",
          "text": [
            "/usr/local/lib/python3.7/dist-packages/ipykernel_launcher.py:13: SettingWithCopyWarning:\n",
            "\n",
            "\n",
            "A value is trying to be set on a copy of a slice from a DataFrame.\n",
            "Try using .loc[row_indexer,col_indexer] = value instead\n",
            "\n",
            "See the caveats in the documentation: https://pandas.pydata.org/pandas-docs/stable/user_guide/indexing.html#returning-a-view-versus-a-copy\n",
            "\n"
          ],
          "name": "stderr"
        }
      ]
    },
    {
      "cell_type": "markdown",
      "metadata": {
        "id": "lTfH3WnbcPvf"
      },
      "source": [
        "### Extracción de las descripciones de las propiedades más cercanas"
      ]
    },
    {
      "cell_type": "code",
      "metadata": {
        "colab": {
          "base_uri": "https://localhost:8080/",
          "height": 304
        },
        "id": "W0oOnz9CQLXw",
        "outputId": "4c6c2d43-9c05-4e78-a539-d0dfba8723ee"
      },
      "source": [
        "new_data = []\n",
        "for position in range(group_size):\n",
        "  # Create new df with the col_to_join\n",
        "  closest_airbnb_descriptions = airbnb_locations\\\n",
        "    .loc[closest_indices[:,position]][col_to_join].to_frame()\\\n",
        "    .rename(columns={col_to_join: '{}_{}'.format(col_to_join, position)})\n",
        "  closest_airbnb_descriptions.reset_index(drop=True, inplace=True)\n",
        "\n",
        "  new_data.append(closest_airbnb_descriptions)\n",
        "\n",
        "# Concatenate all new_data DataFrames horizontally\n",
        "all_closest_airbnb_descriptions = pandas.concat(new_data,axis=1).fillna('')\n",
        "all_closest_airbnb_descriptions.head()"
      ],
      "execution_count": null,
      "outputs": [
        {
          "output_type": "execute_result",
          "data": {
            "text/html": [
              "<div>\n",
              "<style scoped>\n",
              "    .dataframe tbody tr th:only-of-type {\n",
              "        vertical-align: middle;\n",
              "    }\n",
              "\n",
              "    .dataframe tbody tr th {\n",
              "        vertical-align: top;\n",
              "    }\n",
              "\n",
              "    .dataframe thead th {\n",
              "        text-align: right;\n",
              "    }\n",
              "</style>\n",
              "<table border=\"1\" class=\"dataframe\">\n",
              "  <thead>\n",
              "    <tr style=\"text-align: right;\">\n",
              "      <th></th>\n",
              "      <th>neighborhood_overview_0</th>\n",
              "      <th>neighborhood_overview_1</th>\n",
              "      <th>neighborhood_overview_2</th>\n",
              "      <th>neighborhood_overview_3</th>\n",
              "      <th>neighborhood_overview_4</th>\n",
              "    </tr>\n",
              "  </thead>\n",
              "  <tbody>\n",
              "    <tr>\n",
              "      <th>0</th>\n",
              "      <td>Neighbourhood is quiet but super close to the ...</td>\n",
              "      <td>Abbotsford is one of the highly sought after i...</td>\n",
              "      <td>Local Attractions: - Victoria Park (just oppos...</td>\n",
              "      <td>Nestled in amongst the leafy end of Johnston S...</td>\n",
              "      <td>Very safe and quiet area. Many cafes at walkin...</td>\n",
              "    </tr>\n",
              "    <tr>\n",
              "      <th>1</th>\n",
              "      <td>Abbotsford is a small, leafy, inner city subur...</td>\n",
              "      <td>Abbotsford is a small, leafy, inner city subur...</td>\n",
              "      <td></td>\n",
              "      <td>One thing I often get is people don't realize ...</td>\n",
              "      <td>Great location. A lot of restaurants on Victor...</td>\n",
              "    </tr>\n",
              "    <tr>\n",
              "      <th>2</th>\n",
              "      <td>One thing I often get is people don't realize ...</td>\n",
              "      <td></td>\n",
              "      <td>We have fallen in love with Abbotsford. We are...</td>\n",
              "      <td>One thing I often get is people don't realize ...</td>\n",
              "      <td>One thing I often get is people don't realize ...</td>\n",
              "    </tr>\n",
              "    <tr>\n",
              "      <th>3</th>\n",
              "      <td></td>\n",
              "      <td>Close to absolutley everything. Fantastic café...</td>\n",
              "      <td>The space Perfectly positioned in Abbotsford, ...</td>\n",
              "      <td></td>\n",
              "      <td></td>\n",
              "    </tr>\n",
              "    <tr>\n",
              "      <th>4</th>\n",
              "      <td>Abbotsford is a small, leafy, inner city subur...</td>\n",
              "      <td>Great location. A lot of restaurants on Victor...</td>\n",
              "      <td>Abbotsford has a mix of industrial architectur...</td>\n",
              "      <td>One thing I often get is people don't realize ...</td>\n",
              "      <td>Abbotsford has a mix of industrial architectur...</td>\n",
              "    </tr>\n",
              "  </tbody>\n",
              "</table>\n",
              "</div>"
            ],
            "text/plain": [
              "                             neighborhood_overview_0  ...                            neighborhood_overview_4\n",
              "0  Neighbourhood is quiet but super close to the ...  ...  Very safe and quiet area. Many cafes at walkin...\n",
              "1  Abbotsford is a small, leafy, inner city subur...  ...  Great location. A lot of restaurants on Victor...\n",
              "2  One thing I often get is people don't realize ...  ...  One thing I often get is people don't realize ...\n",
              "3                                                     ...                                                   \n",
              "4  Abbotsford is a small, leafy, inner city subur...  ...  Abbotsford has a mix of industrial architectur...\n",
              "\n",
              "[5 rows x 5 columns]"
            ]
          },
          "metadata": {
            "tags": []
          },
          "execution_count": 15
        }
      ]
    },
    {
      "cell_type": "markdown",
      "metadata": {
        "id": "GSpNkFczclJV"
      },
      "source": [
        "### Concatenación de las descripciones en una nueva columna"
      ]
    },
    {
      "cell_type": "code",
      "metadata": {
        "id": "uJt9WA5TR8IB"
      },
      "source": [
        "def concatenate_str_cols(descriptions):\n",
        "  result = descriptions[descriptions.columns[0]]\n",
        "  for col in descriptions.columns[1:]:\n",
        "    result += '\\n' + descriptions[col]\n",
        "  return result"
      ],
      "execution_count": null,
      "outputs": []
    },
    {
      "cell_type": "code",
      "metadata": {
        "colab": {
          "base_uri": "https://localhost:8080/",
          "height": 338
        },
        "id": "Wz_abGSsTV5F",
        "outputId": "fbb072ae-ac0e-4cca-87bd-b193d01e1c09"
      },
      "source": [
        "new_col_name = 'closest_airbnb_{}'.format(col_to_join)\n",
        "melb_df[new_col_name] = concatenate_str_cols(all_closest_airbnb_descriptions)\n",
        "melb_df.head()"
      ],
      "execution_count": null,
      "outputs": [
        {
          "output_type": "execute_result",
          "data": {
            "text/html": [
              "<div>\n",
              "<style scoped>\n",
              "    .dataframe tbody tr th:only-of-type {\n",
              "        vertical-align: middle;\n",
              "    }\n",
              "\n",
              "    .dataframe tbody tr th {\n",
              "        vertical-align: top;\n",
              "    }\n",
              "\n",
              "    .dataframe thead th {\n",
              "        text-align: right;\n",
              "    }\n",
              "</style>\n",
              "<table border=\"1\" class=\"dataframe\">\n",
              "  <thead>\n",
              "    <tr style=\"text-align: right;\">\n",
              "      <th></th>\n",
              "      <th>Suburb</th>\n",
              "      <th>Address</th>\n",
              "      <th>Rooms</th>\n",
              "      <th>Type</th>\n",
              "      <th>Price</th>\n",
              "      <th>Method</th>\n",
              "      <th>SellerG</th>\n",
              "      <th>Date</th>\n",
              "      <th>Distance</th>\n",
              "      <th>Postcode</th>\n",
              "      <th>Bedroom2</th>\n",
              "      <th>Bathroom</th>\n",
              "      <th>Car</th>\n",
              "      <th>Landsize</th>\n",
              "      <th>BuildingArea</th>\n",
              "      <th>YearBuilt</th>\n",
              "      <th>CouncilArea</th>\n",
              "      <th>Lattitude</th>\n",
              "      <th>Longtitude</th>\n",
              "      <th>Regionname</th>\n",
              "      <th>Propertycount</th>\n",
              "      <th>closest_airbnb_neighborhood_overview</th>\n",
              "    </tr>\n",
              "  </thead>\n",
              "  <tbody>\n",
              "    <tr>\n",
              "      <th>0</th>\n",
              "      <td>Abbotsford</td>\n",
              "      <td>85 Turner St</td>\n",
              "      <td>2</td>\n",
              "      <td>h</td>\n",
              "      <td>1480000.0</td>\n",
              "      <td>S</td>\n",
              "      <td>Biggin</td>\n",
              "      <td>3/12/2016</td>\n",
              "      <td>2.5</td>\n",
              "      <td>3067.0</td>\n",
              "      <td>2.0</td>\n",
              "      <td>1.0</td>\n",
              "      <td>1.0</td>\n",
              "      <td>202.0</td>\n",
              "      <td>NaN</td>\n",
              "      <td>NaN</td>\n",
              "      <td>Yarra</td>\n",
              "      <td>-37.7996</td>\n",
              "      <td>144.9984</td>\n",
              "      <td>Northern Metropolitan</td>\n",
              "      <td>4019.0</td>\n",
              "      <td>Neighbourhood is quiet but super close to the ...</td>\n",
              "    </tr>\n",
              "    <tr>\n",
              "      <th>1</th>\n",
              "      <td>Abbotsford</td>\n",
              "      <td>25 Bloomburg St</td>\n",
              "      <td>2</td>\n",
              "      <td>h</td>\n",
              "      <td>1035000.0</td>\n",
              "      <td>S</td>\n",
              "      <td>Biggin</td>\n",
              "      <td>4/02/2016</td>\n",
              "      <td>2.5</td>\n",
              "      <td>3067.0</td>\n",
              "      <td>2.0</td>\n",
              "      <td>1.0</td>\n",
              "      <td>0.0</td>\n",
              "      <td>156.0</td>\n",
              "      <td>79.0</td>\n",
              "      <td>1900.0</td>\n",
              "      <td>Yarra</td>\n",
              "      <td>-37.8079</td>\n",
              "      <td>144.9934</td>\n",
              "      <td>Northern Metropolitan</td>\n",
              "      <td>4019.0</td>\n",
              "      <td>Abbotsford is a small, leafy, inner city subur...</td>\n",
              "    </tr>\n",
              "    <tr>\n",
              "      <th>2</th>\n",
              "      <td>Abbotsford</td>\n",
              "      <td>5 Charles St</td>\n",
              "      <td>3</td>\n",
              "      <td>h</td>\n",
              "      <td>1465000.0</td>\n",
              "      <td>SP</td>\n",
              "      <td>Biggin</td>\n",
              "      <td>4/03/2017</td>\n",
              "      <td>2.5</td>\n",
              "      <td>3067.0</td>\n",
              "      <td>3.0</td>\n",
              "      <td>2.0</td>\n",
              "      <td>0.0</td>\n",
              "      <td>134.0</td>\n",
              "      <td>150.0</td>\n",
              "      <td>1900.0</td>\n",
              "      <td>Yarra</td>\n",
              "      <td>-37.8093</td>\n",
              "      <td>144.9944</td>\n",
              "      <td>Northern Metropolitan</td>\n",
              "      <td>4019.0</td>\n",
              "      <td>One thing I often get is people don't realize ...</td>\n",
              "    </tr>\n",
              "    <tr>\n",
              "      <th>3</th>\n",
              "      <td>Abbotsford</td>\n",
              "      <td>40 Federation La</td>\n",
              "      <td>3</td>\n",
              "      <td>h</td>\n",
              "      <td>850000.0</td>\n",
              "      <td>PI</td>\n",
              "      <td>Biggin</td>\n",
              "      <td>4/03/2017</td>\n",
              "      <td>2.5</td>\n",
              "      <td>3067.0</td>\n",
              "      <td>3.0</td>\n",
              "      <td>2.0</td>\n",
              "      <td>1.0</td>\n",
              "      <td>94.0</td>\n",
              "      <td>NaN</td>\n",
              "      <td>NaN</td>\n",
              "      <td>Yarra</td>\n",
              "      <td>-37.7969</td>\n",
              "      <td>144.9969</td>\n",
              "      <td>Northern Metropolitan</td>\n",
              "      <td>4019.0</td>\n",
              "      <td>\\nClose to absolutley everything. Fantastic ca...</td>\n",
              "    </tr>\n",
              "    <tr>\n",
              "      <th>4</th>\n",
              "      <td>Abbotsford</td>\n",
              "      <td>55a Park St</td>\n",
              "      <td>4</td>\n",
              "      <td>h</td>\n",
              "      <td>1600000.0</td>\n",
              "      <td>VB</td>\n",
              "      <td>Nelson</td>\n",
              "      <td>4/06/2016</td>\n",
              "      <td>2.5</td>\n",
              "      <td>3067.0</td>\n",
              "      <td>3.0</td>\n",
              "      <td>1.0</td>\n",
              "      <td>2.0</td>\n",
              "      <td>120.0</td>\n",
              "      <td>142.0</td>\n",
              "      <td>2014.0</td>\n",
              "      <td>Yarra</td>\n",
              "      <td>-37.8072</td>\n",
              "      <td>144.9941</td>\n",
              "      <td>Northern Metropolitan</td>\n",
              "      <td>4019.0</td>\n",
              "      <td>Abbotsford is a small, leafy, inner city subur...</td>\n",
              "    </tr>\n",
              "  </tbody>\n",
              "</table>\n",
              "</div>"
            ],
            "text/plain": [
              "       Suburb  ...               closest_airbnb_neighborhood_overview\n",
              "0  Abbotsford  ...  Neighbourhood is quiet but super close to the ...\n",
              "1  Abbotsford  ...  Abbotsford is a small, leafy, inner city subur...\n",
              "2  Abbotsford  ...  One thing I often get is people don't realize ...\n",
              "3  Abbotsford  ...  \\nClose to absolutley everything. Fantastic ca...\n",
              "4  Abbotsford  ...  Abbotsford is a small, leafy, inner city subur...\n",
              "\n",
              "[5 rows x 22 columns]"
            ]
          },
          "metadata": {
            "tags": []
          },
          "execution_count": 22
        }
      ]
    },
    {
      "cell_type": "markdown",
      "metadata": {
        "id": "u7CWD5Ch9XJf"
      },
      "source": [
        "Para poder analizar los resultados de texto, tendremos que usar técnicas avanzadas de exploración de datos que veremos en la notebook `08 Encodings para texto y LDA [Opcional]`."
      ]
    },
    {
      "cell_type": "markdown",
      "metadata": {
        "id": "pGOtCOlBcC48"
      },
      "source": [
        "## Guardado\n",
        "\n",
        "Finalmente, guardamos los datos para utilizarlos luego."
      ]
    },
    {
      "cell_type": "code",
      "metadata": {
        "id": "RkLeMm1HUIKU"
      },
      "source": [
        "melb_df.to_csv(\"melb_extended_neighborhood_overview.csv\", index=None)"
      ],
      "execution_count": null,
      "outputs": []
    },
    {
      "cell_type": "code",
      "metadata": {
        "colab": {
          "base_uri": "https://localhost:8080/",
          "height": 34
        },
        "id": "lXLClWhDUTmL",
        "outputId": "71289611-4fa3-4e79-f241-ef25a5756f9b"
      },
      "source": [
        "from google.colab import files\n",
        "files.download('melb_extended_neighborhood_overview.csv') "
      ],
      "execution_count": null,
      "outputs": [
        {
          "output_type": "display_data",
          "data": {
            "application/javascript": [
              "\n",
              "    async function download(id, filename, size) {\n",
              "      if (!google.colab.kernel.accessAllowed) {\n",
              "        return;\n",
              "      }\n",
              "      const div = document.createElement('div');\n",
              "      const label = document.createElement('label');\n",
              "      label.textContent = `Downloading \"${filename}\": `;\n",
              "      div.appendChild(label);\n",
              "      const progress = document.createElement('progress');\n",
              "      progress.max = size;\n",
              "      div.appendChild(progress);\n",
              "      document.body.appendChild(div);\n",
              "\n",
              "      const buffers = [];\n",
              "      let downloaded = 0;\n",
              "\n",
              "      const channel = await google.colab.kernel.comms.open(id);\n",
              "      // Send a message to notify the kernel that we're ready.\n",
              "      channel.send({})\n",
              "\n",
              "      for await (const message of channel.messages) {\n",
              "        // Send a message to notify the kernel that we're ready.\n",
              "        channel.send({})\n",
              "        if (message.buffers) {\n",
              "          for (const buffer of message.buffers) {\n",
              "            buffers.push(buffer);\n",
              "            downloaded += buffer.byteLength;\n",
              "            progress.value = downloaded;\n",
              "          }\n",
              "        }\n",
              "      }\n",
              "      const blob = new Blob(buffers, {type: 'application/binary'});\n",
              "      const a = document.createElement('a');\n",
              "      a.href = window.URL.createObjectURL(blob);\n",
              "      a.download = filename;\n",
              "      div.appendChild(a);\n",
              "      a.click();\n",
              "      div.remove();\n",
              "    }\n",
              "  "
            ],
            "text/plain": [
              "<IPython.core.display.Javascript object>"
            ]
          },
          "metadata": {
            "tags": []
          }
        },
        {
          "output_type": "display_data",
          "data": {
            "application/javascript": [
              "download(\"download_fce90937-7cbc-4d50-8903-e795b04a4520\", \"melb_extended_neighborhood_overview.csv\", 28174776)"
            ],
            "text/plain": [
              "<IPython.core.display.Javascript object>"
            ]
          },
          "metadata": {
            "tags": []
          }
        }
      ]
    },
    {
      "cell_type": "markdown",
      "metadata": {
        "id": "CbZTOq8RznVm"
      },
      "source": [
        "**¿Por qué no utilizamos ninguna operación de `join` o `merge`?** \n",
        "\n",
        "La clase `BallTree` se encargó de \"cruzar\" los datos de ambos DataFrames internamente, y por eso no fue necesario hacerlo nuevamente."
      ]
    },
    {
      "cell_type": "code",
      "metadata": {
        "id": "Xpm__lfhp6rE"
      },
      "source": [
        ""
      ],
      "execution_count": null,
      "outputs": []
    }
  ]
}