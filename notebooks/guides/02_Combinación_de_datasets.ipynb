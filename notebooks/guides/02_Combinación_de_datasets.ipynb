{
  "nbformat": 4,
  "nbformat_minor": 0,
  "metadata": {
    "colab": {
      "name": "02 Combinación de datasets.ipynb",
      "provenance": [],
      "collapsed_sections": [],
      "authorship_tag": "ABX9TyOFaydYsvAapK1lD/RezX5w",
      "include_colab_link": true
    },
    "kernelspec": {
      "name": "python3",
      "display_name": "Python 3"
    },
    "language_info": {
      "name": "python"
    }
  },
  "cells": [
    {
      "cell_type": "markdown",
      "metadata": {
        "id": "view-in-github",
        "colab_type": "text"
      },
      "source": [
        "<a href=\"https://colab.research.google.com/github/DiploDatos/AnalisisYCuracion/blob/master/02_Combinaci%C3%B3n_de_datasets.ipynb\" target=\"_parent\"><img src=\"https://colab.research.google.com/assets/colab-badge.svg\" alt=\"Open In Colab\"/></a>"
      ]
    },
    {
      "cell_type": "markdown",
      "metadata": {
        "id": "zO4bRoxr2Apy"
      },
      "source": [
        "**Diplomatura en Ciencia de Datos, Aprendizaje Automático y sus Aplicaciones**\n",
        "\n",
        "**Exploración y Curación de Datos**\n",
        "\n",
        "*Edición 2021*\n",
        "\n",
        "----\n",
        "\n",
        "# Exploración de datos\n",
        "\n",
        "En esta notebook, vamos a cargar el conjunto de datos de [la compentencia Kaggle](https://www.kaggle.com/dansbecker/melbourne-housing-snapshot) sobre estimación de precios de ventas de propiedades en Melbourne, Australia.\n",
        "\n",
        "Utilizaremos el conjunto de datos reducido producido por [DanB](https://www.kaggle.com/dansbecker). Hemos subido una copia a un servidor de la Universidad Nacional de Córdoba para facilitar su acceso remoto."
      ]
    },
    {
      "cell_type": "code",
      "metadata": {
        "id": "4udjxjk1EtVU"
      },
      "source": [
        "import matplotlib.pyplot as plt\n",
        "import numpy\n",
        "import pandas\n",
        "\n",
        "import seaborn\n",
        "seaborn.set_context('talk')"
      ],
      "execution_count": 1,
      "outputs": []
    },
    {
      "cell_type": "code",
      "metadata": {
        "colab": {
          "base_uri": "https://localhost:8080/",
          "height": 35
        },
        "id": "3XdIsB8hISis",
        "outputId": "26508feb-92a4-458e-9bf6-0ae25149d58a"
      },
      "source": [
        "import plotly\n",
        "plotly.__version__\n",
        "# Make sure it's 4.14.3"
      ],
      "execution_count": 2,
      "outputs": [
        {
          "output_type": "execute_result",
          "data": {
            "application/vnd.google.colaboratory.intrinsic+json": {
              "type": "string"
            },
            "text/plain": [
              "'4.4.1'"
            ]
          },
          "metadata": {
            "tags": []
          },
          "execution_count": 2
        }
      ]
    },
    {
      "cell_type": "code",
      "metadata": {
        "id": "i2nqY0GGIVn2"
      },
      "source": [
        "# To update plotly, uncomment and run the following line:\n",
        "# !pip install plotly --upgrade"
      ],
      "execution_count": 3,
      "outputs": []
    },
    {
      "cell_type": "code",
      "metadata": {
        "colab": {
          "base_uri": "https://localhost:8080/",
          "height": 230
        },
        "id": "_qeFN3GnEvMk",
        "outputId": "0bf15189-da4e-497d-ce15-a677ce5c7dc1"
      },
      "source": [
        "melb_df = pandas.read_csv(\n",
        "    'https://cs.famaf.unc.edu.ar/~mteruel/datasets/diplodatos/melb_data.csv')\n",
        "melb_df[:3]"
      ],
      "execution_count": 4,
      "outputs": [
        {
          "output_type": "execute_result",
          "data": {
            "text/html": [
              "<div>\n",
              "<style scoped>\n",
              "    .dataframe tbody tr th:only-of-type {\n",
              "        vertical-align: middle;\n",
              "    }\n",
              "\n",
              "    .dataframe tbody tr th {\n",
              "        vertical-align: top;\n",
              "    }\n",
              "\n",
              "    .dataframe thead th {\n",
              "        text-align: right;\n",
              "    }\n",
              "</style>\n",
              "<table border=\"1\" class=\"dataframe\">\n",
              "  <thead>\n",
              "    <tr style=\"text-align: right;\">\n",
              "      <th></th>\n",
              "      <th>Suburb</th>\n",
              "      <th>Address</th>\n",
              "      <th>Rooms</th>\n",
              "      <th>Type</th>\n",
              "      <th>Price</th>\n",
              "      <th>Method</th>\n",
              "      <th>SellerG</th>\n",
              "      <th>Date</th>\n",
              "      <th>Distance</th>\n",
              "      <th>Postcode</th>\n",
              "      <th>Bedroom2</th>\n",
              "      <th>Bathroom</th>\n",
              "      <th>Car</th>\n",
              "      <th>Landsize</th>\n",
              "      <th>BuildingArea</th>\n",
              "      <th>YearBuilt</th>\n",
              "      <th>CouncilArea</th>\n",
              "      <th>Lattitude</th>\n",
              "      <th>Longtitude</th>\n",
              "      <th>Regionname</th>\n",
              "      <th>Propertycount</th>\n",
              "    </tr>\n",
              "  </thead>\n",
              "  <tbody>\n",
              "    <tr>\n",
              "      <th>0</th>\n",
              "      <td>Abbotsford</td>\n",
              "      <td>85 Turner St</td>\n",
              "      <td>2</td>\n",
              "      <td>h</td>\n",
              "      <td>1480000.0</td>\n",
              "      <td>S</td>\n",
              "      <td>Biggin</td>\n",
              "      <td>3/12/2016</td>\n",
              "      <td>2.5</td>\n",
              "      <td>3067.0</td>\n",
              "      <td>2.0</td>\n",
              "      <td>1.0</td>\n",
              "      <td>1.0</td>\n",
              "      <td>202.0</td>\n",
              "      <td>NaN</td>\n",
              "      <td>NaN</td>\n",
              "      <td>Yarra</td>\n",
              "      <td>-37.7996</td>\n",
              "      <td>144.9984</td>\n",
              "      <td>Northern Metropolitan</td>\n",
              "      <td>4019.0</td>\n",
              "    </tr>\n",
              "    <tr>\n",
              "      <th>1</th>\n",
              "      <td>Abbotsford</td>\n",
              "      <td>25 Bloomburg St</td>\n",
              "      <td>2</td>\n",
              "      <td>h</td>\n",
              "      <td>1035000.0</td>\n",
              "      <td>S</td>\n",
              "      <td>Biggin</td>\n",
              "      <td>4/02/2016</td>\n",
              "      <td>2.5</td>\n",
              "      <td>3067.0</td>\n",
              "      <td>2.0</td>\n",
              "      <td>1.0</td>\n",
              "      <td>0.0</td>\n",
              "      <td>156.0</td>\n",
              "      <td>79.0</td>\n",
              "      <td>1900.0</td>\n",
              "      <td>Yarra</td>\n",
              "      <td>-37.8079</td>\n",
              "      <td>144.9934</td>\n",
              "      <td>Northern Metropolitan</td>\n",
              "      <td>4019.0</td>\n",
              "    </tr>\n",
              "    <tr>\n",
              "      <th>2</th>\n",
              "      <td>Abbotsford</td>\n",
              "      <td>5 Charles St</td>\n",
              "      <td>3</td>\n",
              "      <td>h</td>\n",
              "      <td>1465000.0</td>\n",
              "      <td>SP</td>\n",
              "      <td>Biggin</td>\n",
              "      <td>4/03/2017</td>\n",
              "      <td>2.5</td>\n",
              "      <td>3067.0</td>\n",
              "      <td>3.0</td>\n",
              "      <td>2.0</td>\n",
              "      <td>0.0</td>\n",
              "      <td>134.0</td>\n",
              "      <td>150.0</td>\n",
              "      <td>1900.0</td>\n",
              "      <td>Yarra</td>\n",
              "      <td>-37.8093</td>\n",
              "      <td>144.9944</td>\n",
              "      <td>Northern Metropolitan</td>\n",
              "      <td>4019.0</td>\n",
              "    </tr>\n",
              "  </tbody>\n",
              "</table>\n",
              "</div>"
            ],
            "text/plain": [
              "       Suburb          Address  ...             Regionname Propertycount\n",
              "0  Abbotsford     85 Turner St  ...  Northern Metropolitan        4019.0\n",
              "1  Abbotsford  25 Bloomburg St  ...  Northern Metropolitan        4019.0\n",
              "2  Abbotsford     5 Charles St  ...  Northern Metropolitan        4019.0\n",
              "\n",
              "[3 rows x 21 columns]"
            ]
          },
          "metadata": {
            "tags": []
          },
          "execution_count": 4
        }
      ]
    },
    {
      "cell_type": "markdown",
      "metadata": {
        "id": "s-mixICN22kA"
      },
      "source": [
        "## Datos adicionales\n",
        "\n",
        "Vamos a aumentar los datos presentes en el conjunto dado con un dataset similar: las publicaciones de la plataforma AirBnB en Melbourne en el año 2018. El objetivo es estimar con mayor presición el valor del vecidanrio de cada propiedad.\n",
        "\n",
        "Para ello, utilizaremos [un conjunto de datos](https://www.kaggle.com/tylerx/melbourne-airbnb-open-data?select=cleansed_listings_dec18.csv) de *scrapings* del sitio realizado por [Tyler Xie](https://www.kaggle.com/tylerx), también disponible en una competencia de Kaggle."
      ]
    },
    {
      "cell_type": "code",
      "metadata": {
        "colab": {
          "base_uri": "https://localhost:8080/"
        },
        "id": "k3Z2vxNHJfJK",
        "outputId": "7f53ec2f-87b0-48ad-d1a9-76b66b687ade"
      },
      "source": [
        "# data source:\n",
        "# https://www.kaggle.com/tylerx/melbourne-airbnb-open-data?select=cleansed_listings_dec18.csv\n",
        "interesting_cols = [\n",
        "  'description', 'neighborhood_overview',\n",
        "  'street', 'neighborhood', 'city', 'suburb', 'state', 'zipcode',\n",
        "  'price', 'weekly_price', 'monthly_price',\n",
        "  'latitude', 'longitude',\n",
        "]\n",
        "airbnb_df = pandas.read_csv(\n",
        "    'https://cs.famaf.unc.edu.ar/~mteruel/datasets/diplodatos/cleansed_listings_dec18.csv',\n",
        "    usecols=interesting_cols)"
      ],
      "execution_count": 5,
      "outputs": [
        {
          "output_type": "stream",
          "text": [
            "/usr/local/lib/python3.7/dist-packages/IPython/core/interactiveshell.py:2718: DtypeWarning:\n",
            "\n",
            "Columns (35) have mixed types.Specify dtype option on import or set low_memory=False.\n",
            "\n"
          ],
          "name": "stderr"
        }
      ]
    },
    {
      "cell_type": "code",
      "metadata": {
        "colab": {
          "base_uri": "https://localhost:8080/",
          "height": 317
        },
        "id": "bc55TFlhF6tP",
        "outputId": "00e87f29-6ab8-4389-ec16-efed1e95acea"
      },
      "source": [
        "airbnb_df[:3]"
      ],
      "execution_count": null,
      "outputs": [
        {
          "output_type": "execute_result",
          "data": {
            "text/html": [
              "<div>\n",
              "<style scoped>\n",
              "    .dataframe tbody tr th:only-of-type {\n",
              "        vertical-align: middle;\n",
              "    }\n",
              "\n",
              "    .dataframe tbody tr th {\n",
              "        vertical-align: top;\n",
              "    }\n",
              "\n",
              "    .dataframe thead th {\n",
              "        text-align: right;\n",
              "    }\n",
              "</style>\n",
              "<table border=\"1\" class=\"dataframe\">\n",
              "  <thead>\n",
              "    <tr style=\"text-align: right;\">\n",
              "      <th></th>\n",
              "      <th>description</th>\n",
              "      <th>neighborhood_overview</th>\n",
              "      <th>street</th>\n",
              "      <th>neighborhood</th>\n",
              "      <th>city</th>\n",
              "      <th>suburb</th>\n",
              "      <th>state</th>\n",
              "      <th>zipcode</th>\n",
              "      <th>latitude</th>\n",
              "      <th>longitude</th>\n",
              "      <th>price</th>\n",
              "      <th>weekly_price</th>\n",
              "      <th>monthly_price</th>\n",
              "    </tr>\n",
              "  </thead>\n",
              "  <tbody>\n",
              "    <tr>\n",
              "      <th>0</th>\n",
              "      <td>House: Clean, New, Modern, Quite, Safe. 10Km f...</td>\n",
              "      <td>Very safe! Family oriented. Older age group.</td>\n",
              "      <td>Bulleen, VIC, Australia</td>\n",
              "      <td>Balwyn North</td>\n",
              "      <td>Manningham</td>\n",
              "      <td>Bulleen</td>\n",
              "      <td>VIC</td>\n",
              "      <td>3105</td>\n",
              "      <td>-37.772684</td>\n",
              "      <td>145.092133</td>\n",
              "      <td>60</td>\n",
              "      <td>NaN</td>\n",
              "      <td>NaN</td>\n",
              "    </tr>\n",
              "    <tr>\n",
              "      <th>1</th>\n",
              "      <td>A large air conditioned room with queen spring...</td>\n",
              "      <td>This hip area is a crossroads between two grea...</td>\n",
              "      <td>Brunswick East, VIC, Australia</td>\n",
              "      <td>Brunswick</td>\n",
              "      <td>Moreland</td>\n",
              "      <td>Brunswick East</td>\n",
              "      <td>VIC</td>\n",
              "      <td>3057</td>\n",
              "      <td>-37.766505</td>\n",
              "      <td>144.980736</td>\n",
              "      <td>35</td>\n",
              "      <td>200.0</td>\n",
              "      <td>803.0</td>\n",
              "    </tr>\n",
              "    <tr>\n",
              "      <th>2</th>\n",
              "      <td>RIGHT IN THE HEART OF ST KILDA! It doesn't get...</td>\n",
              "      <td>A stay at our apartment means you can enjoy so...</td>\n",
              "      <td>St Kilda, VIC, Australia</td>\n",
              "      <td>St Kilda</td>\n",
              "      <td>Port Phillip</td>\n",
              "      <td>St Kilda</td>\n",
              "      <td>VIC</td>\n",
              "      <td>3182</td>\n",
              "      <td>-37.859755</td>\n",
              "      <td>144.977369</td>\n",
              "      <td>159</td>\n",
              "      <td>1253.0</td>\n",
              "      <td>4452.0</td>\n",
              "    </tr>\n",
              "  </tbody>\n",
              "</table>\n",
              "</div>"
            ],
            "text/plain": [
              "                                         description  ... monthly_price\n",
              "0  House: Clean, New, Modern, Quite, Safe. 10Km f...  ...           NaN\n",
              "1  A large air conditioned room with queen spring...  ...         803.0\n",
              "2  RIGHT IN THE HEART OF ST KILDA! It doesn't get...  ...        4452.0\n",
              "\n",
              "[3 rows x 13 columns]"
            ]
          },
          "metadata": {
            "tags": []
          },
          "execution_count": 34
        }
      ]
    },
    {
      "cell_type": "code",
      "metadata": {
        "colab": {
          "base_uri": "https://localhost:8080/"
        },
        "id": "kdqexZvsJTcT",
        "outputId": "c7308d83-15f9-4240-bdf2-3e20e26baeec"
      },
      "source": [
        "len(airbnb_df)"
      ],
      "execution_count": 6,
      "outputs": [
        {
          "output_type": "execute_result",
          "data": {
            "text/plain": [
              "22895"
            ]
          },
          "metadata": {
            "tags": []
          },
          "execution_count": 6
        }
      ]
    },
    {
      "cell_type": "markdown",
      "metadata": {
        "id": "ismngxPcfoWb"
      },
      "source": [
        "Para poder realizar esta combinación de datos, tenemos que encontrar una columna que contenga información en común. Utilizaremos el zipcode.\n",
        "\n",
        "* ¿Qué desventajas tiene utilizar el zipcode para agregar información sobre la vecindad de cada propiedad en venta? ¿Se corresponde con lo que entendemos intuitivamente como vecindad?\n",
        "* ¿Qué otros métodos podrían utilizarse?"
      ]
    },
    {
      "cell_type": "code",
      "metadata": {
        "colab": {
          "base_uri": "https://localhost:8080/"
        },
        "id": "dTss9P-PgGOi",
        "outputId": "eaafb89c-ce4a-4209-cae7-14b10a79daca"
      },
      "source": [
        "airbnb_df.zipcode.value_counts()[:5]"
      ],
      "execution_count": null,
      "outputs": [
        {
          "output_type": "execute_result",
          "data": {
            "text/plain": [
              "3000.0    2491\n",
              "3000       876\n",
              "3006.0     860\n",
              "3182.0     579\n",
              "3182       556\n",
              "Name: zipcode, dtype: int64"
            ]
          },
          "metadata": {
            "tags": []
          },
          "execution_count": 7
        }
      ]
    },
    {
      "cell_type": "markdown",
      "metadata": {
        "id": "kAMLtgh6gNQN"
      },
      "source": [
        " Sin embargo, este zipcode tiene tipos diferentes, que tendremos que estandarizar antes de continuar con la combinación de los datos."
      ]
    },
    {
      "cell_type": "code",
      "metadata": {
        "id": "xbDm0-VwQd97"
      },
      "source": [
        "airbnb_df['zipcode'] = pandas.to_numeric(airbnb_df.zipcode, errors='coerce')"
      ],
      "execution_count": null,
      "outputs": []
    },
    {
      "cell_type": "markdown",
      "metadata": {
        "id": "JOahRB4qggBA"
      },
      "source": [
        "### Valores en común\n",
        "\n",
        "Antes de unir los conjuntos de datos, tenemos que asegurarnos de que tengamos suficientes registros en común como para agregar información relevantes."
      ]
    },
    {
      "cell_type": "code",
      "metadata": {
        "colab": {
          "base_uri": "https://localhost:8080/"
        },
        "id": "2Gxz99YJJSCk",
        "outputId": "b6c9f075-e4d8-4b94-90fb-7491a2696d67"
      },
      "source": [
        "intersection = numpy.intersect1d(\n",
        "    airbnb_df.zipcode.values, melb_df.Postcode.values, assume_unique=False)\n",
        "print(\"Airbnb unique zipcodes\", len(airbnb_df.zipcode.unique()))\n",
        "print(\"Sales unique zipcodes\", len(melb_df.Postcode.unique()))\n",
        "print(\"Common zipcodes\", len(intersection))"
      ],
      "execution_count": null,
      "outputs": [
        {
          "output_type": "stream",
          "text": [
            "Airbnb unique zipcodes 248\n",
            "Sales unique zipcodes 198\n",
            "Common zipcodes 191\n"
          ],
          "name": "stdout"
        }
      ]
    },
    {
      "cell_type": "code",
      "metadata": {
        "colab": {
          "base_uri": "https://localhost:8080/"
        },
        "id": "AB41oWdhLKJU",
        "outputId": "5c9249f2-5e4f-41ea-facf-d9311530a5f5"
      },
      "source": [
        "print('Records in Sales df with corresponding zipcode form Airbnb df',\n",
        "      melb_df.Postcode.isin(intersection).sum() / len(melb_df))\n",
        "print('Records in Airbnb df with corresponding zipcode form Sales df',\n",
        "      airbnb_df.zipcode.isin(intersection).sum() / len(airbnb_df))"
      ],
      "execution_count": null,
      "outputs": [
        {
          "output_type": "stream",
          "text": [
            "Records in Sales df with corresponding zipcode form Airbnb df 0.9985272459499264\n",
            "Records in Airbnb df with corresponding zipcode form Sales df 0.9302904564315353\n"
          ],
          "name": "stdout"
        }
      ]
    },
    {
      "cell_type": "markdown",
      "metadata": {
        "id": "bwvm0M48OdF6"
      },
      "source": [
        "### Exploración visual\n",
        "\n",
        "Para terminar de asegurarnos de que las áreas representadas por ambos datasets son consitentes, podemos representar las coordenadas en un mapa usando Plotly.\n",
        "\n",
        "Aunque estas visualizaciones no son completas en cuanto a la información geográfica que muestran, aproximadamente podemos ver que se tratan de zonas similares."
      ]
    },
    {
      "cell_type": "code",
      "metadata": {
        "colab": {
          "base_uri": "https://localhost:8080/",
          "height": 542
        },
        "id": "J5P1Tu8UE5Zm",
        "outputId": "20d3d491-41fa-4fcf-c160-e4940a95cd56"
      },
      "source": [
        "import plotly.express as px\n",
        "data = melb_df.sample(300)\n",
        "fig = px.scatter_geo(\n",
        "    data, lat=data.Lattitude, lon=data.Longtitude, color=data.YearBuilt\n",
        "    )\n",
        "fig.update_geos(fitbounds=\"locations\")\n",
        "fig.show()"
      ],
      "execution_count": null,
      "outputs": [
        {
          "output_type": "display_data",
          "data": {
            "text/html": [
              "<html>\n",
              "<head><meta charset=\"utf-8\" /></head>\n",
              "<body>\n",
              "    <div>            <script src=\"https://cdnjs.cloudflare.com/ajax/libs/mathjax/2.7.5/MathJax.js?config=TeX-AMS-MML_SVG\"></script><script type=\"text/javascript\">if (window.MathJax) {MathJax.Hub.Config({SVG: {font: \"STIX-Web\"}});}</script>                <script type=\"text/javascript\">window.PlotlyConfig = {MathJaxConfig: 'local'};</script>\n",
              "        <script src=\"https://cdn.plot.ly/plotly-latest.min.js\"></script>                <div id=\"1a99a893-a235-4a63-b3db-99375bf7e062\" class=\"plotly-graph-div\" style=\"height:525px; width:100%;\"></div>            <script type=\"text/javascript\">                                    window.PLOTLYENV=window.PLOTLYENV || {};                                    if (document.getElementById(\"1a99a893-a235-4a63-b3db-99375bf7e062\")) {                    Plotly.newPlot(                        \"1a99a893-a235-4a63-b3db-99375bf7e062\",                        [{\"geo\": \"geo\", \"hovertemplate\": \"Lattitude=%{lat}<br>Longtitude=%{lon}<br>YearBuilt=%{marker.color}<extra></extra>\", \"lat\": [-37.8497, -37.8157, -37.7993, -37.8027, -37.73379, -37.76788, -37.88494, -37.8686, -37.8191, -37.7469, -37.9311, -37.8355, -37.9241, -37.852, -37.76812, -37.8371, -37.97267, -37.7902, -37.8993, -37.82327, -37.714, -37.8161, -37.9085, -37.76812, -37.8323, -37.84476, -37.95185, -37.8235, -37.7007, -37.8431, -37.88385, -37.98707, -37.7564, -37.84107, -37.7711, -37.7967, -37.7483, -37.83014, -37.64954, -37.7689, -37.7728, -37.8055, -37.712540000000004, -37.7819, -37.8339, -37.7646, -37.8337, -37.8294, -37.7838, -37.978359999999995, -37.7508, -37.847, -37.7278, -37.867129999999996, -37.8839, -37.8361, -37.8148, -37.789, -37.7577, -37.83789, -37.8474, -37.7047, -38.02105, -37.78929, -37.8206, -37.766, -37.909, -37.8479, -37.71325, -37.82886, -37.744820000000004, -37.73787, -37.83165, -37.8243, -37.9371, -37.905, -37.91753, -37.81179, -37.7628, -37.683659999999996, -37.7878, -37.8607, -37.8986, -37.95095, -37.8392, -37.708220000000004, -37.695, -37.7097, -37.742, -37.62858, -37.7485, -37.74061, -37.8775, -37.7566, -37.7928, -37.891999999999996, -37.861090000000004, -37.76048, -37.58419, -37.77796, -37.7498, -37.863, -37.84162, -37.9865, -37.76457, -38.07054, -37.7234, -37.8444, -37.7294, -37.9412, -37.7627, -37.852090000000004, -37.9014, -37.7529, -37.8621, -37.766220000000004, -37.77252, -37.77694, -37.91101, -37.79486, -37.709309999999995, -37.7604, -37.8147, -37.87695, -37.8437, -37.79703, -37.735859999999995, -37.710770000000004, -37.8838, -37.90087, -37.82073, -37.807520000000004, -37.783, -37.73012, -37.7161, -37.7738, -37.7439, -37.901920000000004, -37.7612, -37.8697, -37.7753, -37.7601, -37.720890000000004, -37.92783, -37.874320000000004, -37.8016, -37.8897, -37.7672, -37.7103, -37.78198, -37.7449, -37.826, -37.867490000000004, -37.734, -37.7359, -37.8952, -37.57282, -37.8133, -37.7641, -37.8257, -37.7581, -37.8361, -37.8258, -37.82703, -37.76300000000001, -37.76899, -37.7403, -37.81789000000001, -37.69836, -37.8452, -37.7761, -37.9018, -37.8449, -37.7405, -37.8468, -37.7944, -37.69927, -37.756209999999996, -37.85, -37.8386, -37.7283, -37.78535, -37.8239, -37.723, -37.86165, -37.94, -37.7217, -37.834, -37.73435, -37.7441, -37.7776, -38.0683, -37.7692, -37.9367, -37.9002, -37.7134, -37.71368, -37.75371, -37.8177, -37.7856, -37.7994, -37.7198, -37.9131, -37.7034, -37.8806, -37.7693, -37.7708, -37.836, -37.734, -37.817, -37.8246, -37.7969, -37.7795, -37.8514, -37.8124, -37.8015, -37.8528, -37.80815, -37.69865, -37.702, -37.8912, -37.6917, -37.82909, -37.7261, -37.852, -37.67558, -37.7727, -37.967, -37.62882000000001, -37.7471, -37.913109999999996, -37.89335, -37.735, -37.833, -37.7921, -37.7701, -37.813, -37.84825, -37.7822, -37.83179000000001, -37.7981, -37.7771, -37.89584, -37.7546, -37.8518, -37.7896, -37.755, -37.69983, -37.8934, -37.7844, -37.8536, -37.71433, -37.9429, -37.7012, -37.8428, -37.7537, -37.87677, -37.9317, -37.7997, -37.72659, -37.8645, -37.7953, -37.931709999999995, -38.16146, -37.8447, -37.757, -37.74483, -38.0457, -37.8838, -37.8407, -37.7424, -37.9269, -37.8269, -37.846270000000004, -37.765, -37.7072, -37.8138, -37.77004, -37.874, -37.7679, -37.9071, -37.821999999999996, -37.88374, -37.69274, -37.7868, -37.7458, -37.8238, -37.8338, -37.9225, -37.8717, -37.8982, -37.7961, -37.9056, -37.9119, -37.7315, -37.7795, -37.80635, -37.87818, -37.86224, -37.7505], \"legendgroup\": \"\", \"lon\": [145.0466, 145.0263, 145.0869, 145.0404, 144.99053999999995, 144.98621, 145.11951000000005, 144.9969, 144.9977, 145.0448, 145.0428, 145.0633, 145.0008, 145.0942, 144.97413999999995, 144.9478, 145.18262, 144.9894, 145.0528, 145.24982, 145.007, 144.98494, 145.0201, 144.82528, 144.9463, 144.8472, 145.01859, 145.0294, 144.9815, 145.0962, 145.04785, 145.0609, 145.0026, 144.84179, 144.9487, 144.9472, 144.85, 144.96967, 145.03648, 145.0895, 145.0214, 144.9809, 145.09705, 145.1184, 145.0937, 144.9476, 144.9507, 145.0913, 144.8724, 145.07303000000005, 144.9608, 145.0535, 144.9463, 144.71086, 144.9903, 144.9966, 144.8884, 144.8813, 144.8892, 144.93833999999995, 145.0988, 144.9087, 145.11982, 145.2458, 145.0785, 144.9439, 145.0005, 145.0958, 145.09532, 145.10093, 144.97499, 145.0229, 144.94411000000005, 145.0034, 145.0035, 145.029, 145.08524, 145.00351, 144.94011, 145.02783, 144.8904, 145.0116, 145.042, 145.02096, 144.9421, 145.11495, 144.9271, 144.9912, 144.8523, 145.03735, 145.0025, 144.87462, 145.0622, 144.9965, 145.1006, 145.0103, 145.01994, 145.08476000000005, 144.73188000000005, 144.98373999999995, 144.91228, 145.0501, 145.10435, 145.16767, 145.06555, 145.42553999999996, 144.8792, 144.8491, 144.888, 145.0021, 144.857, 145.24268, 145.0418, 145.0406, 145.1021, 145.01596, 145.02546, 144.96669, 145.17293, 145.28673999999995, 145.01434, 144.9877, 145.0084, 144.69953, 145.069, 144.81228000000004, 145.04908, 144.57198, 145.0095, 145.03959, 144.8447, 145.14878000000004, 144.93204, 145.02652, 144.9662, 144.9585, 144.9331, 145.00093999999999, 145.0968, 144.8249, 144.9725, 145.1229, 145.0153, 145.19685, 145.18766000000005, 144.9508, 145.00799999999995, 144.9209, 145.0037, 145.11876999999996, 144.8899, 145.0734, 145.05122, 144.9728, 145.03799999999995, 145.0928, 144.70553, 144.9433, 144.9112, 145.0856, 145.0371, 144.9966, 145.0057, 145.12938, 144.9966, 144.82525, 144.9491, 145.03948, 144.93891000000005, 145.0959, 144.8164, 145.0477, 144.85, 145.0876, 144.9612, 145.0339, 144.9256, 144.93401, 145.0461, 145.067, 144.969, 145.14536, 145.0553, 144.96, 145.02148, 145.0151, 144.9074, 144.8757, 144.8768, 144.9041, 144.8167, 145.33833, 145.1253, 145.0322, 144.9928, 144.9096, 144.82082, 145.01963999999995, 144.9972, 144.9292, 144.9464, 145.1034, 145.07, 144.9663, 145.0346, 144.8351, 144.9234, 145.1046, 144.9145, 144.9955, 144.9967, 144.8852, 144.8432, 145.0361, 145.18411, 144.9972, 145.0487, 145.15441, 144.91733, 145.0071, 145.0644, 144.9755, 145.233, 144.9336, 145.07321000000005, 144.8976, 145.03079, 145.19658, 145.00978999999995, 144.9877, 145.06496, 145.27924, 144.9589, 144.8494, 144.9858, 145.1131, 144.99303, 145.18764, 144.8922, 145.04293, 144.9461, 145.0116, 145.04741, 144.9713, 144.9663, 144.9307, 144.9233, 145.02202, 145.0633, 144.9359, 144.8981, 144.90616, 145.0474, 145.0069, 145.0171, 144.9532, 145.11961000000005, 145.0218, 145.058, 144.79668, 145.0797, 144.8332, 145.03041000000005, 145.12997, 145.0134, 144.9446, 144.97269, 145.27395, 145.102, 145.0043, 144.8851, 145.047, 145.0496, 145.08366, 145.0407, 144.938, 144.9548, 144.84253999999999, 145.0714, 144.9994, 144.9898, 145.0104, 144.98518, 144.76971, 144.8772, 145.0659, 145.0624, 144.9858, 144.9891, 144.9829, 145.0461, 144.9261, 145.0288, 144.9871, 144.988, 144.8729, 144.8845, 144.98532, 145.06406, 144.9725], \"marker\": {\"color\": [null, null, 1960.0, 1947.0, null, 1920.0, null, 1940.0, null, null, 1960.0, 1960.0, 2000.0, 1940.0, 2013.0, null, null, null, 1925.0, null, null, 2001.0, null, null, 1880.0, null, 1925.0, 1970.0, 1985.0, 1950.0, null, 2010.0, 1975.0, 1965.0, 1970.0, null, null, 2010.0, 1975.0, 1970.0, 1930.0, 1975.0, 1965.0, null, 1930.0, 1926.0, null, null, 1960.0, null, 1890.0, 1930.0, 1970.0, 1999.0, 1970.0, 2000.0, 1920.0, 1920.0, 1950.0, null, null, 2001.0, null, null, 1995.0, 2009.0, null, 1960.0, null, 1993.0, 1930.0, null, 2015.0, 2010.0, null, 1935.0, null, 1920.0, 1997.0, null, null, 2012.0, 2011.0, 2017.0, 2000.0, 2000.0, null, 2010.0, null, 2005.0, null, null, 1934.0, 1910.0, null, 1912.0, 1920.0, 2011.0, null, 1890.0, null, null, null, 1970.0, null, 2015.0, 2012.0, null, 1950.0, null, null, null, 2005.0, 1960.0, 1950.0, null, 1960.0, 1925.0, null, 1950.0, null, null, 1970.0, 1973.0, 1980.0, 1970.0, 1940.0, 1980.0, 1970.0, 1920.0, 2012.0, null, 1970.0, 2010.0, null, 2010.0, null, null, 1970.0, 1953.0, null, null, null, null, null, 2008.0, 1885.0, 2001.0, 1970.0, null, 1950.0, 1910.0, null, 1970.0, null, null, 1985.0, null, null, null, null, 2000.0, 1970.0, 1955.0, null, null, 1995.0, 1890.0, 1960.0, null, null, 1970.0, null, 1995.0, 1900.0, 1910.0, null, 1960.0, 1970.0, 1940.0, 1950.0, null, null, 1925.0, 2006.0, null, 1960.0, null, 1975.0, null, 1951.0, 2014.0, 1980.0, 1960.0, 1970.0, 1950.0, 1975.0, null, 2013.0, 1900.0, 1970.0, 1990.0, null, null, null, 1975.0, null, 2005.0, 1980.0, null, null, null, 2000.0, null, null, 1970.0, 1980.0, 1968.0, null, null, 1970.0, 1965.0, 1961.0, 2000.0, 2016.0, 1980.0, null, null, 2007.0, null, 1955.0, 1980.0, 1930.0, null, 1880.0, null, 2011.0, null, 2005.0, 2000.0, 1970.0, null, 1930.0, 2014.0, 1900.0, null, null, 1960.0, 1925.0, 1940.0, 1980.0, 1960.0, 1990.0, null, 2000.0, 1930.0, null, 1930.0, 1930.0, null, null, null, 1950.0, 1960.0, 1923.0, null, 1920.0, 1998.0, 1960.0, null, null, 1950.0, 1950.0, 1997.0, 1990.0, null, 1974.0, null, 2014.0, 2009.0, 1960.0, 2008.0, 1970.0, null, null, 1965.0, null, null, 1952.0, 1950.0, null, null, 1930.0, null, 1950.0, 2011.0, null, 2010.0, null, 1940.0], \"coloraxis\": \"coloraxis\", \"symbol\": \"circle\"}, \"mode\": \"markers\", \"name\": \"\", \"showlegend\": false, \"type\": \"scattergeo\"}],                        {\"coloraxis\": {\"colorbar\": {\"title\": {\"text\": \"YearBuilt\"}}, \"colorscale\": [[0.0, \"#0d0887\"], [0.1111111111111111, \"#46039f\"], [0.2222222222222222, \"#7201a8\"], [0.3333333333333333, \"#9c179e\"], [0.4444444444444444, \"#bd3786\"], [0.5555555555555556, \"#d8576b\"], [0.6666666666666666, \"#ed7953\"], [0.7777777777777778, \"#fb9f3a\"], [0.8888888888888888, \"#fdca26\"], [1.0, \"#f0f921\"]]}, \"geo\": {\"center\": {}, \"domain\": {\"x\": [0.0, 1.0], \"y\": [0.0, 1.0]}, \"fitbounds\": \"locations\"}, \"legend\": {\"tracegroupgap\": 0}, \"margin\": {\"t\": 60}, \"template\": {\"data\": {\"bar\": [{\"error_x\": {\"color\": \"#2a3f5f\"}, \"error_y\": {\"color\": \"#2a3f5f\"}, \"marker\": {\"line\": {\"color\": \"#E5ECF6\", \"width\": 0.5}}, \"type\": \"bar\"}], \"barpolar\": [{\"marker\": {\"line\": {\"color\": \"#E5ECF6\", \"width\": 0.5}}, \"type\": \"barpolar\"}], \"carpet\": [{\"aaxis\": {\"endlinecolor\": \"#2a3f5f\", \"gridcolor\": \"white\", \"linecolor\": \"white\", \"minorgridcolor\": \"white\", \"startlinecolor\": \"#2a3f5f\"}, \"baxis\": {\"endlinecolor\": \"#2a3f5f\", \"gridcolor\": \"white\", \"linecolor\": \"white\", \"minorgridcolor\": \"white\", \"startlinecolor\": \"#2a3f5f\"}, \"type\": \"carpet\"}], \"choropleth\": [{\"colorbar\": {\"outlinewidth\": 0, \"ticks\": \"\"}, \"type\": \"choropleth\"}], \"contour\": [{\"colorbar\": {\"outlinewidth\": 0, \"ticks\": \"\"}, \"colorscale\": [[0.0, \"#0d0887\"], [0.1111111111111111, \"#46039f\"], [0.2222222222222222, \"#7201a8\"], [0.3333333333333333, \"#9c179e\"], [0.4444444444444444, \"#bd3786\"], [0.5555555555555556, \"#d8576b\"], [0.6666666666666666, \"#ed7953\"], [0.7777777777777778, \"#fb9f3a\"], [0.8888888888888888, \"#fdca26\"], [1.0, \"#f0f921\"]], \"type\": \"contour\"}], \"contourcarpet\": [{\"colorbar\": {\"outlinewidth\": 0, \"ticks\": \"\"}, \"type\": \"contourcarpet\"}], \"heatmap\": [{\"colorbar\": {\"outlinewidth\": 0, \"ticks\": \"\"}, \"colorscale\": [[0.0, \"#0d0887\"], [0.1111111111111111, \"#46039f\"], [0.2222222222222222, \"#7201a8\"], [0.3333333333333333, \"#9c179e\"], [0.4444444444444444, \"#bd3786\"], [0.5555555555555556, \"#d8576b\"], [0.6666666666666666, \"#ed7953\"], [0.7777777777777778, \"#fb9f3a\"], [0.8888888888888888, \"#fdca26\"], [1.0, \"#f0f921\"]], \"type\": \"heatmap\"}], \"heatmapgl\": [{\"colorbar\": {\"outlinewidth\": 0, \"ticks\": \"\"}, \"colorscale\": [[0.0, \"#0d0887\"], [0.1111111111111111, \"#46039f\"], [0.2222222222222222, \"#7201a8\"], [0.3333333333333333, \"#9c179e\"], [0.4444444444444444, \"#bd3786\"], [0.5555555555555556, \"#d8576b\"], [0.6666666666666666, \"#ed7953\"], [0.7777777777777778, \"#fb9f3a\"], [0.8888888888888888, \"#fdca26\"], [1.0, \"#f0f921\"]], \"type\": \"heatmapgl\"}], \"histogram\": [{\"marker\": {\"colorbar\": {\"outlinewidth\": 0, \"ticks\": \"\"}}, \"type\": \"histogram\"}], \"histogram2d\": [{\"colorbar\": {\"outlinewidth\": 0, \"ticks\": \"\"}, \"colorscale\": [[0.0, \"#0d0887\"], [0.1111111111111111, \"#46039f\"], [0.2222222222222222, \"#7201a8\"], [0.3333333333333333, \"#9c179e\"], [0.4444444444444444, \"#bd3786\"], [0.5555555555555556, \"#d8576b\"], [0.6666666666666666, \"#ed7953\"], [0.7777777777777778, \"#fb9f3a\"], [0.8888888888888888, \"#fdca26\"], [1.0, \"#f0f921\"]], \"type\": \"histogram2d\"}], \"histogram2dcontour\": [{\"colorbar\": {\"outlinewidth\": 0, \"ticks\": \"\"}, \"colorscale\": [[0.0, \"#0d0887\"], [0.1111111111111111, \"#46039f\"], [0.2222222222222222, \"#7201a8\"], [0.3333333333333333, \"#9c179e\"], [0.4444444444444444, \"#bd3786\"], [0.5555555555555556, \"#d8576b\"], [0.6666666666666666, \"#ed7953\"], [0.7777777777777778, \"#fb9f3a\"], [0.8888888888888888, \"#fdca26\"], [1.0, \"#f0f921\"]], \"type\": \"histogram2dcontour\"}], \"mesh3d\": [{\"colorbar\": {\"outlinewidth\": 0, \"ticks\": \"\"}, \"type\": \"mesh3d\"}], \"parcoords\": [{\"line\": {\"colorbar\": {\"outlinewidth\": 0, \"ticks\": \"\"}}, \"type\": \"parcoords\"}], \"pie\": [{\"automargin\": true, \"type\": \"pie\"}], \"scatter\": [{\"marker\": {\"colorbar\": {\"outlinewidth\": 0, \"ticks\": \"\"}}, \"type\": \"scatter\"}], \"scatter3d\": [{\"line\": {\"colorbar\": {\"outlinewidth\": 0, \"ticks\": \"\"}}, \"marker\": {\"colorbar\": {\"outlinewidth\": 0, \"ticks\": \"\"}}, \"type\": \"scatter3d\"}], \"scattercarpet\": [{\"marker\": {\"colorbar\": {\"outlinewidth\": 0, \"ticks\": \"\"}}, \"type\": \"scattercarpet\"}], \"scattergeo\": [{\"marker\": {\"colorbar\": {\"outlinewidth\": 0, \"ticks\": \"\"}}, \"type\": \"scattergeo\"}], \"scattergl\": [{\"marker\": {\"colorbar\": {\"outlinewidth\": 0, \"ticks\": \"\"}}, \"type\": \"scattergl\"}], \"scattermapbox\": [{\"marker\": {\"colorbar\": {\"outlinewidth\": 0, \"ticks\": \"\"}}, \"type\": \"scattermapbox\"}], \"scatterpolar\": [{\"marker\": {\"colorbar\": {\"outlinewidth\": 0, \"ticks\": \"\"}}, \"type\": \"scatterpolar\"}], \"scatterpolargl\": [{\"marker\": {\"colorbar\": {\"outlinewidth\": 0, \"ticks\": \"\"}}, \"type\": \"scatterpolargl\"}], \"scatterternary\": [{\"marker\": {\"colorbar\": {\"outlinewidth\": 0, \"ticks\": \"\"}}, \"type\": \"scatterternary\"}], \"surface\": [{\"colorbar\": {\"outlinewidth\": 0, \"ticks\": \"\"}, \"colorscale\": [[0.0, \"#0d0887\"], [0.1111111111111111, \"#46039f\"], [0.2222222222222222, \"#7201a8\"], [0.3333333333333333, \"#9c179e\"], [0.4444444444444444, \"#bd3786\"], [0.5555555555555556, \"#d8576b\"], [0.6666666666666666, \"#ed7953\"], [0.7777777777777778, \"#fb9f3a\"], [0.8888888888888888, \"#fdca26\"], [1.0, \"#f0f921\"]], \"type\": \"surface\"}], \"table\": [{\"cells\": {\"fill\": {\"color\": \"#EBF0F8\"}, \"line\": {\"color\": \"white\"}}, \"header\": {\"fill\": {\"color\": \"#C8D4E3\"}, \"line\": {\"color\": \"white\"}}, \"type\": \"table\"}]}, \"layout\": {\"annotationdefaults\": {\"arrowcolor\": \"#2a3f5f\", \"arrowhead\": 0, \"arrowwidth\": 1}, \"autotypenumbers\": \"strict\", \"coloraxis\": {\"colorbar\": {\"outlinewidth\": 0, \"ticks\": \"\"}}, \"colorscale\": {\"diverging\": [[0, \"#8e0152\"], [0.1, \"#c51b7d\"], [0.2, \"#de77ae\"], [0.3, \"#f1b6da\"], [0.4, \"#fde0ef\"], [0.5, \"#f7f7f7\"], [0.6, \"#e6f5d0\"], [0.7, \"#b8e186\"], [0.8, \"#7fbc41\"], [0.9, \"#4d9221\"], [1, \"#276419\"]], \"sequential\": [[0.0, \"#0d0887\"], [0.1111111111111111, \"#46039f\"], [0.2222222222222222, \"#7201a8\"], [0.3333333333333333, \"#9c179e\"], [0.4444444444444444, \"#bd3786\"], [0.5555555555555556, \"#d8576b\"], [0.6666666666666666, \"#ed7953\"], [0.7777777777777778, \"#fb9f3a\"], [0.8888888888888888, \"#fdca26\"], [1.0, \"#f0f921\"]], \"sequentialminus\": [[0.0, \"#0d0887\"], [0.1111111111111111, \"#46039f\"], [0.2222222222222222, \"#7201a8\"], [0.3333333333333333, \"#9c179e\"], [0.4444444444444444, \"#bd3786\"], [0.5555555555555556, \"#d8576b\"], [0.6666666666666666, \"#ed7953\"], [0.7777777777777778, \"#fb9f3a\"], [0.8888888888888888, \"#fdca26\"], [1.0, \"#f0f921\"]]}, \"colorway\": [\"#636efa\", \"#EF553B\", \"#00cc96\", \"#ab63fa\", \"#FFA15A\", \"#19d3f3\", \"#FF6692\", \"#B6E880\", \"#FF97FF\", \"#FECB52\"], \"font\": {\"color\": \"#2a3f5f\"}, \"geo\": {\"bgcolor\": \"white\", \"lakecolor\": \"white\", \"landcolor\": \"#E5ECF6\", \"showlakes\": true, \"showland\": true, \"subunitcolor\": \"white\"}, \"hoverlabel\": {\"align\": \"left\"}, \"hovermode\": \"closest\", \"mapbox\": {\"style\": \"light\"}, \"paper_bgcolor\": \"white\", \"plot_bgcolor\": \"#E5ECF6\", \"polar\": {\"angularaxis\": {\"gridcolor\": \"white\", \"linecolor\": \"white\", \"ticks\": \"\"}, \"bgcolor\": \"#E5ECF6\", \"radialaxis\": {\"gridcolor\": \"white\", \"linecolor\": \"white\", \"ticks\": \"\"}}, \"scene\": {\"xaxis\": {\"backgroundcolor\": \"#E5ECF6\", \"gridcolor\": \"white\", \"gridwidth\": 2, \"linecolor\": \"white\", \"showbackground\": true, \"ticks\": \"\", \"zerolinecolor\": \"white\"}, \"yaxis\": {\"backgroundcolor\": \"#E5ECF6\", \"gridcolor\": \"white\", \"gridwidth\": 2, \"linecolor\": \"white\", \"showbackground\": true, \"ticks\": \"\", \"zerolinecolor\": \"white\"}, \"zaxis\": {\"backgroundcolor\": \"#E5ECF6\", \"gridcolor\": \"white\", \"gridwidth\": 2, \"linecolor\": \"white\", \"showbackground\": true, \"ticks\": \"\", \"zerolinecolor\": \"white\"}}, \"shapedefaults\": {\"line\": {\"color\": \"#2a3f5f\"}}, \"ternary\": {\"aaxis\": {\"gridcolor\": \"white\", \"linecolor\": \"white\", \"ticks\": \"\"}, \"baxis\": {\"gridcolor\": \"white\", \"linecolor\": \"white\", \"ticks\": \"\"}, \"bgcolor\": \"#E5ECF6\", \"caxis\": {\"gridcolor\": \"white\", \"linecolor\": \"white\", \"ticks\": \"\"}}, \"title\": {\"x\": 0.05}, \"xaxis\": {\"automargin\": true, \"gridcolor\": \"white\", \"linecolor\": \"white\", \"ticks\": \"\", \"title\": {\"standoff\": 15}, \"zerolinecolor\": \"white\", \"zerolinewidth\": 2}, \"yaxis\": {\"automargin\": true, \"gridcolor\": \"white\", \"linecolor\": \"white\", \"ticks\": \"\", \"title\": {\"standoff\": 15}, \"zerolinecolor\": \"white\", \"zerolinewidth\": 2}}}},                        {\"responsive\": true}                    ).then(function(){\n",
              "                            \n",
              "var gd = document.getElementById('1a99a893-a235-4a63-b3db-99375bf7e062');\n",
              "var x = new MutationObserver(function (mutations, observer) {{\n",
              "        var display = window.getComputedStyle(gd).display;\n",
              "        if (!display || display === 'none') {{\n",
              "            console.log([gd, 'removed!']);\n",
              "            Plotly.purge(gd);\n",
              "            observer.disconnect();\n",
              "        }}\n",
              "}});\n",
              "\n",
              "// Listen for the removal of the full notebook cells\n",
              "var notebookContainer = gd.closest('#notebook-container');\n",
              "if (notebookContainer) {{\n",
              "    x.observe(notebookContainer, {childList: true});\n",
              "}}\n",
              "\n",
              "// Listen for the clearing of the current output cell\n",
              "var outputEl = gd.closest('.output');\n",
              "if (outputEl) {{\n",
              "    x.observe(outputEl, {childList: true});\n",
              "}}\n",
              "\n",
              "                        })                };                            </script>        </div>\n",
              "</body>\n",
              "</html>"
            ]
          },
          "metadata": {
            "tags": []
          }
        }
      ]
    },
    {
      "cell_type": "code",
      "metadata": {
        "colab": {
          "base_uri": "https://localhost:8080/",
          "height": 542
        },
        "id": "YQwnjE3MFVN1",
        "outputId": "29999d3e-3af6-4ac6-af33-83f1c6222e52"
      },
      "source": [
        "import plotly.express as px\n",
        "color_col = 'city'\n",
        "data = airbnb_df[~airbnb_df[color_col].isna()].sample(300)\n",
        "fig = px.scatter_geo(\n",
        "    data, lat=data.latitude, lon=data.longitude, color=data[color_col]\n",
        "    )\n",
        "fig.update_geos(fitbounds=\"locations\")\n",
        "fig.show()"
      ],
      "execution_count": null,
      "outputs": [
        {
          "output_type": "display_data",
          "data": {
            "text/html": [
              "<html>\n",
              "<head><meta charset=\"utf-8\" /></head>\n",
              "<body>\n",
              "    <div>            <script src=\"https://cdnjs.cloudflare.com/ajax/libs/mathjax/2.7.5/MathJax.js?config=TeX-AMS-MML_SVG\"></script><script type=\"text/javascript\">if (window.MathJax) {MathJax.Hub.Config({SVG: {font: \"STIX-Web\"}});}</script>                <script type=\"text/javascript\">window.PlotlyConfig = {MathJaxConfig: 'local'};</script>\n",
              "        <script src=\"https://cdn.plot.ly/plotly-latest.min.js\"></script>                <div id=\"7cfdfabf-72f1-44b7-955c-ffae5409cc7b\" class=\"plotly-graph-div\" style=\"height:525px; width:100%;\"></div>            <script type=\"text/javascript\">                                    window.PLOTLYENV=window.PLOTLYENV || {};                                    if (document.getElementById(\"7cfdfabf-72f1-44b7-955c-ffae5409cc7b\")) {                    Plotly.newPlot(                        \"7cfdfabf-72f1-44b7-955c-ffae5409cc7b\",                        [{\"geo\": \"geo\", \"hovertemplate\": \"city=Melbourne<br>latitude=%{lat}<br>longitude=%{lon}<extra></extra>\", \"lat\": [-37.81977261, -37.81616121, -37.82453078, -37.82554886, -37.82447619, -37.82070198, -37.81510585, -37.81239374, -37.8151146, -37.80806677, -37.77732318, -37.81887494, -37.80821831, -37.82047314, -37.82305615, -37.84406189, -37.81026119, -37.78812001, -37.83801849, -37.83982573, -37.81536833, -37.81600993, -37.81120022, -37.79908403, -37.80714872, -37.80306209, -37.82422683, -37.810107200000004, -37.80516796, -37.81640271, -37.81507405, -37.82221287, -37.80278064, -37.81126582, -37.81597334, -37.81166118, -37.81157552, -37.82044153, -37.81278462, -37.8106398, -37.82450519, -37.80870692, -37.80739727, -37.80918767, -37.82424096, -37.81009655, -37.819443799999995, -37.81508625, -37.82062714, -37.81655727, -37.80932969, -37.82402328, -37.850536299999995, -37.81703603, -37.82147427, -37.81916781, -37.8257644, -37.80553754, -37.82503384, -37.82451905, -37.81011095, -37.81891407, -37.79462587, -37.80147666, -37.81913579, -37.8214351, -37.82506733, -37.81085157, -37.80185924, -37.80795334, -37.81500036, -37.82197677, -37.81996407, -37.8142658, -37.81839145, -37.81058238, -37.81744673, -37.8200104, -37.81473433, -37.81441938, -37.82802587, -37.83805598, -37.81955283, -37.80469127, -37.8050051, -37.81683787, -37.83801213, -37.81090508, -37.80579275, -37.82679936, -37.80818382, -37.81531857, -37.817237299999995, -37.8072412, -37.7962501, -37.82743153, -37.81988052, -37.81489194, -37.79819027, -37.80911696, -37.81585647], \"legendgroup\": \"Melbourne\", \"lon\": [144.9417858, 144.9529612, 144.96642519999997, 144.960552, 144.9637853, 144.9467352, 144.940567, 144.95933490000002, 144.9653639, 144.9678128, 144.9379481, 144.9627809, 144.9677294, 144.9638769, 144.9611656, 144.9849518, 144.9848429, 144.9585958, 144.9793785, 144.97762980000002, 144.95657169999998, 144.95232099999998, 144.9778399, 144.9503996, 144.95945849999998, 144.9511661, 144.9630732, 144.9601257, 144.9644804, 144.9547928, 144.9535727, 144.9656779, 144.95948090000002, 144.9655392, 144.95436189999998, 144.96037330000001, 144.96533689999998, 144.960247, 144.9429914, 144.95246619999998, 144.962151, 144.96155369999997, 144.9598618, 144.96050459999998, 144.96058100000002, 144.9603803, 144.9554363, 144.95466169999997, 144.94342849999998, 144.95225580000002, 144.958646, 144.9611856, 144.9832552, 144.9454814, 144.941666, 144.9486168, 144.9669956, 144.9622581, 144.9605008, 144.96188030000002, 144.9601945, 144.9559294, 144.9415771, 144.968771, 144.96564990000002, 144.9434536, 144.9654721, 144.96710890000003, 144.95632369999998, 144.9617234, 144.9544335, 144.9557168, 144.9560784, 144.9644987, 144.9804808, 144.96680930000002, 144.9593421, 144.9561291, 144.9390198, 144.9536763, 144.9555478, 144.9846699, 144.9558367, 144.9628861, 144.96447680000003, 144.95242230000002, 144.9796736, 144.9586439, 144.96146969999998, 144.95539519999997, 144.9619719, 144.9536644, 144.9663189, 144.9606128, 144.95743149999998, 144.959648, 144.9458284, 144.9651101, 144.97269709999998, 144.9618836, 144.9532028], \"marker\": {\"color\": \"#636efa\", \"symbol\": \"circle\"}, \"mode\": \"markers\", \"name\": \"Melbourne\", \"showlegend\": true, \"type\": \"scattergeo\"}, {\"geo\": \"geo\", \"hovertemplate\": \"city=Hobsons Bay<br>latitude=%{lat}<br>longitude=%{lon}<extra></extra>\", \"lat\": [-37.871345500000004, -37.85453738, -37.84618547, -37.86893316, -37.86864261], \"legendgroup\": \"Hobsons Bay\", \"lon\": [144.8125762, 144.77317340000002, 144.8848185, 144.82697199999998, 144.7667173], \"marker\": {\"color\": \"#EF553B\", \"symbol\": \"circle\"}, \"mode\": \"markers\", \"name\": \"Hobsons Bay\", \"showlegend\": true, \"type\": \"scattergeo\"}, {\"geo\": \"geo\", \"hovertemplate\": \"city=Yarra<br>latitude=%{lat}<br>longitude=%{lon}<extra></extra>\", \"lat\": [-37.79465637, -37.82181686, -37.80302562, -37.80330108, -37.79380962, -37.78900738, -37.79814709, -37.78831233, -37.8097511, -37.79113824, -37.80151809, -37.81104201, -37.81942041, -37.79410226, -37.81802477, -37.80419603, -37.803168299999996, -37.79721494, -37.810717, -37.81307999, -37.82181895, -37.80219674, -37.78010911, -37.81229833, -37.7833747, -37.82223754, -37.82435898, -37.81589177, -37.79806726, -37.785260799999996, -37.82392524], \"legendgroup\": \"Yarra\", \"lon\": [144.9860061, 145.0088713, 144.9852857, 144.98630930000002, 144.9973583, 144.97823259999998, 144.9858601, 144.9996413, 145.0012955, 144.98376919999998, 144.9875457, 144.99147659999997, 145.00373000000002, 144.9784042, 145.00003130000002, 144.9768016, 144.9756494, 144.9828338, 144.99307549999997, 144.99148780000002, 144.99111630000002, 144.9824048, 144.9749497, 145.00102990000002, 144.978668, 144.9911428, 144.98952480000003, 145.0039073, 144.98838659999998, 144.9780044, 145.00385419999998], \"marker\": {\"color\": \"#00cc96\", \"symbol\": \"circle\"}, \"mode\": \"markers\", \"name\": \"Yarra\", \"showlegend\": true, \"type\": \"scattergeo\"}, {\"geo\": \"geo\", \"hovertemplate\": \"city=Moonee Valley<br>latitude=%{lat}<br>longitude=%{lon}<extra></extra>\", \"lat\": [-37.75757918, -37.76952454, -37.78618487, -37.77609237], \"legendgroup\": \"Moonee Valley\", \"lon\": [144.9261094, 144.9205603, 144.934397, 144.9355975], \"marker\": {\"color\": \"#ab63fa\", \"symbol\": \"circle\"}, \"mode\": \"markers\", \"name\": \"Moonee Valley\", \"showlegend\": true, \"type\": \"scattergeo\"}, {\"geo\": \"geo\", \"hovertemplate\": \"city=Glen Eira<br>latitude=%{lat}<br>longitude=%{lon}<extra></extra>\", \"lat\": [-37.92511932, -37.87534724, -37.88511497, -37.869200899999996, -37.89510215, -37.870077200000004, -37.86478642], \"legendgroup\": \"Glen Eira\", \"lon\": [145.08099019999997, 144.99889299999998, 145.0529375, 145.02518, 145.0758159, 145.000023, 145.0192419], \"marker\": {\"color\": \"#FFA15A\", \"symbol\": \"circle\"}, \"mode\": \"markers\", \"name\": \"Glen Eira\", \"showlegend\": true, \"type\": \"scattergeo\"}, {\"geo\": \"geo\", \"hovertemplate\": \"city=Boroondara<br>latitude=%{lat}<br>longitude=%{lon}<extra></extra>\", \"lat\": [-37.83155738, -37.835883, -37.82724751, -37.84798951, -37.82909576, -37.8156494, -37.83390354, -37.80896575], \"legendgroup\": \"Boroondara\", \"lon\": [145.06200330000001, 145.0531991, 145.0556979, 145.0852841, 145.035332, 145.0768546, 145.0328719, 145.01263390000003], \"marker\": {\"color\": \"#19d3f3\", \"symbol\": \"circle\"}, \"mode\": \"markers\", \"name\": \"Boroondara\", \"showlegend\": true, \"type\": \"scattergeo\"}, {\"geo\": \"geo\", \"hovertemplate\": \"city=Port Phillip<br>latitude=%{lat}<br>longitude=%{lon}<extra></extra>\", \"lat\": [-37.86012246, -37.83296256, -37.85922303, -37.84243601, -37.88030038, -37.83393534, -37.85930464, -37.86835215, -37.84214691, -37.85686447, -37.85376123, -37.86343671, -37.86850157, -37.83495505, -37.86900141, -37.88837195, -37.85328219, -37.86582374, -37.8591615, -37.86579409, -37.8411614, -37.86323396, -37.86772687, -37.880419700000004, -37.86735802, -37.85789194, -37.86668415, -37.857817299999994, -37.87592142, -37.85943964, -37.86638429], \"legendgroup\": \"Port Phillip\", \"lon\": [144.9784997, 144.9702392, 144.9821382, 144.9381957, 144.99098030000002, 144.9686605, 144.9877785, 144.99442030000003, 144.94004009999998, 144.9683015, 144.9621064, 144.98268480000002, 144.97494730000003, 144.9359666, 144.9834448, 144.9861918, 144.98122519999998, 144.9838039, 144.97219099999998, 144.98295280000002, 144.94395880000002, 144.97621819999998, 144.9820025, 144.9952226, 144.97828769999998, 144.9832719, 144.9965351, 144.9835877, 144.98525049999998, 144.97170549999998, 144.974736], \"marker\": {\"color\": \"#FF6692\", \"symbol\": \"circle\"}, \"mode\": \"markers\", \"name\": \"Port Phillip\", \"showlegend\": true, \"type\": \"scattergeo\"}, {\"geo\": \"geo\", \"hovertemplate\": \"city=Moreland<br>latitude=%{lat}<br>longitude=%{lon}<extra></extra>\", \"lat\": [-37.76861703, -37.74633747, -37.76916271, -37.77788223, -37.75213319, -37.77745458, -37.77788599, -37.77976655, -37.76137543], \"legendgroup\": \"Moreland\", \"lon\": [144.9566117, 144.96149419999998, 144.9794222, 144.9694552, 144.9676912, 144.97511609999998, 144.96783269999997, 144.97698880000002, 144.941051], \"marker\": {\"color\": \"#B6E880\", \"symbol\": \"circle\"}, \"mode\": \"markers\", \"name\": \"Moreland\", \"showlegend\": true, \"type\": \"scattergeo\"}, {\"geo\": \"geo\", \"hovertemplate\": \"city=Wyndham<br>latitude=%{lat}<br>longitude=%{lon}<extra></extra>\", \"lat\": [-37.89218092, -37.90706228, -37.91823142, -37.8845563, -37.84943663, -37.89228865], \"legendgroup\": \"Wyndham\", \"lon\": [144.7248011, 144.7611895, 144.7469927, 144.7350725, 144.73729269999998, 144.6668506], \"marker\": {\"color\": \"#FF97FF\", \"symbol\": \"circle\"}, \"mode\": \"markers\", \"name\": \"Wyndham\", \"showlegend\": true, \"type\": \"scattergeo\"}, {\"geo\": \"geo\", \"hovertemplate\": \"city=Kingston<br>latitude=%{lat}<br>longitude=%{lon}<extra></extra>\", \"lat\": [-37.92481826, -37.99312208, -38.01575513, -37.93932038], \"legendgroup\": \"Kingston\", \"lon\": [145.08445690000002, 145.07169130000003, 145.131632, 145.0868399], \"marker\": {\"color\": \"#FECB52\", \"symbol\": \"circle\"}, \"mode\": \"markers\", \"name\": \"Kingston\", \"showlegend\": true, \"type\": \"scattergeo\"}, {\"geo\": \"geo\", \"hovertemplate\": \"city=Stonnington<br>latitude=%{lat}<br>longitude=%{lon}<extra></extra>\", \"lat\": [-37.85352095, -37.84087119, -37.8391374, -37.84806823, -37.84498998, -37.84479853, -37.85877825, -37.84553292, -37.88870501, -37.83765821, -37.84897896, -37.83937957, -37.85279962, -37.85287467, -37.85410142, -37.83920304, -37.84153159, -37.84782891, -37.85209879, -37.84576865, -37.85276996], \"legendgroup\": \"Stonnington\", \"lon\": [144.98469740000002, 145.0107927, 144.9883465, 144.99391430000003, 144.9897033, 144.9864613, 145.01817130000003, 144.9962827, 145.0886217, 144.9973581, 145.022431, 145.00006489999998, 144.9869362, 144.99176519999997, 144.98494419999997, 145.007901, 145.00169409999998, 144.990467, 145.037019, 144.9857983, 144.99012280000002], \"marker\": {\"color\": \"#636efa\", \"symbol\": \"circle\"}, \"mode\": \"markers\", \"name\": \"Stonnington\", \"showlegend\": true, \"type\": \"scattergeo\"}, {\"geo\": \"geo\", \"hovertemplate\": \"city=Whitehorse<br>latitude=%{lat}<br>longitude=%{lon}<extra></extra>\", \"lat\": [-37.85432999, -37.8171586, -37.81497904, -37.84763545, -37.8228092, -37.81430225, -37.85594457, -37.82941639, -37.84483032, -37.81449814, -37.81288387], \"legendgroup\": \"Whitehorse\", \"lon\": [145.1727082, 145.11199030000003, 145.17113380000004, 145.2035655, 145.1081655, 145.2127268, 145.1779326, 145.1864972, 145.109905, 145.1253889, 145.12093180000002], \"marker\": {\"color\": \"#EF553B\", \"symbol\": \"circle\"}, \"mode\": \"markers\", \"name\": \"Whitehorse\", \"showlegend\": true, \"type\": \"scattergeo\"}, {\"geo\": \"geo\", \"hovertemplate\": \"city=Casey<br>latitude=%{lat}<br>longitude=%{lon}<extra></extra>\", \"lat\": [-38.08747257, -38.14030894], \"legendgroup\": \"Casey\", \"lon\": [145.25745849999998, 145.2536013], \"marker\": {\"color\": \"#00cc96\", \"symbol\": \"circle\"}, \"mode\": \"markers\", \"name\": \"Casey\", \"showlegend\": true, \"type\": \"scattergeo\"}, {\"geo\": \"geo\", \"hovertemplate\": \"city=Monash<br>latitude=%{lat}<br>longitude=%{lon}<extra></extra>\", \"lat\": [-37.86769475, -37.91560449, -37.91739924, -37.90346005, -37.89346666, -37.87104675], \"legendgroup\": \"Monash\", \"lon\": [145.1842508, 145.13847080000002, 145.12228869999998, 145.1138228, 145.07933180000003, 145.17291540000002], \"marker\": {\"color\": \"#ab63fa\", \"symbol\": \"circle\"}, \"mode\": \"markers\", \"name\": \"Monash\", \"showlegend\": true, \"type\": \"scattergeo\"}, {\"geo\": \"geo\", \"hovertemplate\": \"city=Bayside<br>latitude=%{lat}<br>longitude=%{lon}<extra></extra>\", \"lat\": [-37.97896387, -37.93309693, -37.96016924, -37.93927337, -37.93839112, -37.95519427, -37.90608284, -37.90445339], \"legendgroup\": \"Bayside\", \"lon\": [145.0518476, 144.9979408, 145.0212196, 145.0360168, 144.9995757, 145.0246425, 145.00069950000002, 145.0100534], \"marker\": {\"color\": \"#FFA15A\", \"symbol\": \"circle\"}, \"mode\": \"markers\", \"name\": \"Bayside\", \"showlegend\": true, \"type\": \"scattergeo\"}, {\"geo\": \"geo\", \"hovertemplate\": \"city=Hume<br>latitude=%{lat}<br>longitude=%{lon}<extra></extra>\", \"lat\": [-37.70662779, -37.67343882, -37.68191874], \"legendgroup\": \"Hume\", \"lon\": [144.8826595, 144.90695559999997, 144.9231252], \"marker\": {\"color\": \"#19d3f3\", \"symbol\": \"circle\"}, \"mode\": \"markers\", \"name\": \"Hume\", \"showlegend\": true, \"type\": \"scattergeo\"}, {\"geo\": \"geo\", \"hovertemplate\": \"city=Darebin<br>latitude=%{lat}<br>longitude=%{lon}<extra></extra>\", \"lat\": [-37.77900597, -37.73752829, -37.761344, -37.77659066, -37.74984247, -37.73985675, -37.76221791, -37.71037255, -37.76383594, -37.77672429, -37.77462893], \"legendgroup\": \"Darebin\", \"lon\": [145.0092059, 145.0091081, 144.9997044, 144.99215230000001, 144.9858755, 145.0055199, 144.9904531, 145.02183080000003, 144.98969250000002, 145.0255622, 144.99722739999999], \"marker\": {\"color\": \"#FF6692\", \"symbol\": \"circle\"}, \"mode\": \"markers\", \"name\": \"Darebin\", \"showlegend\": true, \"type\": \"scattergeo\"}, {\"geo\": \"geo\", \"hovertemplate\": \"city=Greater Dandenong<br>latitude=%{lat}<br>longitude=%{lon}<extra></extra>\", \"lat\": [-38.00023916, -38.00546411, -37.99529722], \"legendgroup\": \"Greater Dandenong\", \"lon\": [145.16440659999998, 145.1703165, 145.1801976], \"marker\": {\"color\": \"#B6E880\", \"symbol\": \"circle\"}, \"mode\": \"markers\", \"name\": \"Greater Dandenong\", \"showlegend\": true, \"type\": \"scattergeo\"}, {\"geo\": \"geo\", \"hovertemplate\": \"city=Manningham<br>latitude=%{lat}<br>longitude=%{lon}<extra></extra>\", \"lat\": [-37.75914885, -37.78986434, -37.78930511, -37.77526607, -37.80311474, -37.76126614, -37.78224626, -37.74422532], \"legendgroup\": \"Manningham\", \"lon\": [145.1603631, 145.1240899, 145.12465759999998, 145.1261945, 145.19945019999997, 145.0831314, 145.1550541, 145.2014252], \"marker\": {\"color\": \"#FF97FF\", \"symbol\": \"circle\"}, \"mode\": \"markers\", \"name\": \"Manningham\", \"showlegend\": true, \"type\": \"scattergeo\"}, {\"geo\": \"geo\", \"hovertemplate\": \"city=Yarra Ranges<br>latitude=%{lat}<br>longitude=%{lon}<extra></extra>\", \"lat\": [-37.86039751, -37.78090671, -37.79015182, -37.60328595, -37.76480626, -37.7469059, -37.75840038], \"legendgroup\": \"Yarra Ranges\", \"lon\": [145.3770475, 145.3450052, 145.3855131, 145.49685530000002, 145.6982483, 145.7332873, 145.30313930000003], \"marker\": {\"color\": \"#FECB52\", \"symbol\": \"circle\"}, \"mode\": \"markers\", \"name\": \"Yarra Ranges\", \"showlegend\": true, \"type\": \"scattergeo\"}, {\"geo\": \"geo\", \"hovertemplate\": \"city=Maribyrnong<br>latitude=%{lat}<br>longitude=%{lon}<extra></extra>\", \"lat\": [-37.80586267, -37.79270151, -37.7938801, -37.80977525, -37.796190700000004], \"legendgroup\": \"Maribyrnong\", \"lon\": [144.8902854, 144.8821844, 144.89998119999998, 144.89489269999999, 144.8677899], \"marker\": {\"color\": \"#636efa\", \"symbol\": \"circle\"}, \"mode\": \"markers\", \"name\": \"Maribyrnong\", \"showlegend\": true, \"type\": \"scattergeo\"}, {\"geo\": \"geo\", \"hovertemplate\": \"city=Brimbank<br>latitude=%{lat}<br>longitude=%{lon}<extra></extra>\", \"lat\": [-37.77836201], \"legendgroup\": \"Brimbank\", \"lon\": [144.82264130000002], \"marker\": {\"color\": \"#EF553B\", \"symbol\": \"circle\"}, \"mode\": \"markers\", \"name\": \"Brimbank\", \"showlegend\": true, \"type\": \"scattergeo\"}, {\"geo\": \"geo\", \"hovertemplate\": \"city=Frankston<br>latitude=%{lat}<br>longitude=%{lon}<extra></extra>\", \"lat\": [-38.14781671, -38.14932045], \"legendgroup\": \"Frankston\", \"lon\": [145.185038, 145.1415689], \"marker\": {\"color\": \"#00cc96\", \"symbol\": \"circle\"}, \"mode\": \"markers\", \"name\": \"Frankston\", \"showlegend\": true, \"type\": \"scattergeo\"}, {\"geo\": \"geo\", \"hovertemplate\": \"city=Banyule<br>latitude=%{lat}<br>longitude=%{lon}<extra></extra>\", \"lat\": [-37.76629658], \"legendgroup\": \"Banyule\", \"lon\": [145.0378895], \"marker\": {\"color\": \"#ab63fa\", \"symbol\": \"circle\"}, \"mode\": \"markers\", \"name\": \"Banyule\", \"showlegend\": true, \"type\": \"scattergeo\"}, {\"geo\": \"geo\", \"hovertemplate\": \"city=Maroondah<br>latitude=%{lat}<br>longitude=%{lon}<extra></extra>\", \"lat\": [-37.80937233], \"legendgroup\": \"Maroondah\", \"lon\": [145.2843135], \"marker\": {\"color\": \"#FFA15A\", \"symbol\": \"circle\"}, \"mode\": \"markers\", \"name\": \"Maroondah\", \"showlegend\": true, \"type\": \"scattergeo\"}, {\"geo\": \"geo\", \"hovertemplate\": \"city=Knox<br>latitude=%{lat}<br>longitude=%{lon}<extra></extra>\", \"lat\": [-37.86591306, -37.86206677], \"legendgroup\": \"Knox\", \"lon\": [145.2378859, 145.2349156], \"marker\": {\"color\": \"#19d3f3\", \"symbol\": \"circle\"}, \"mode\": \"markers\", \"name\": \"Knox\", \"showlegend\": true, \"type\": \"scattergeo\"}, {\"geo\": \"geo\", \"hovertemplate\": \"city=Whittlesea<br>latitude=%{lat}<br>longitude=%{lon}<extra></extra>\", \"lat\": [-37.64514156], \"legendgroup\": \"Whittlesea\", \"lon\": [145.04380659999998], \"marker\": {\"color\": \"#FF6692\", \"symbol\": \"circle\"}, \"mode\": \"markers\", \"name\": \"Whittlesea\", \"showlegend\": true, \"type\": \"scattergeo\"}, {\"geo\": \"geo\", \"hovertemplate\": \"city=Cardinia<br>latitude=%{lat}<br>longitude=%{lon}<extra></extra>\", \"lat\": [-37.94296164], \"legendgroup\": \"Cardinia\", \"lon\": [145.4901445], \"marker\": {\"color\": \"#B6E880\", \"symbol\": \"circle\"}, \"mode\": \"markers\", \"name\": \"Cardinia\", \"showlegend\": true, \"type\": \"scattergeo\"}],                        {\"geo\": {\"center\": {}, \"domain\": {\"x\": [0.0, 1.0], \"y\": [0.0, 1.0]}, \"fitbounds\": \"locations\"}, \"legend\": {\"title\": {\"text\": \"city\"}, \"tracegroupgap\": 0}, \"margin\": {\"t\": 60}, \"template\": {\"data\": {\"bar\": [{\"error_x\": {\"color\": \"#2a3f5f\"}, \"error_y\": {\"color\": \"#2a3f5f\"}, \"marker\": {\"line\": {\"color\": \"#E5ECF6\", \"width\": 0.5}}, \"type\": \"bar\"}], \"barpolar\": [{\"marker\": {\"line\": {\"color\": \"#E5ECF6\", \"width\": 0.5}}, \"type\": \"barpolar\"}], \"carpet\": [{\"aaxis\": {\"endlinecolor\": \"#2a3f5f\", \"gridcolor\": \"white\", \"linecolor\": \"white\", \"minorgridcolor\": \"white\", \"startlinecolor\": \"#2a3f5f\"}, \"baxis\": {\"endlinecolor\": \"#2a3f5f\", \"gridcolor\": \"white\", \"linecolor\": \"white\", \"minorgridcolor\": \"white\", \"startlinecolor\": \"#2a3f5f\"}, \"type\": \"carpet\"}], \"choropleth\": [{\"colorbar\": {\"outlinewidth\": 0, \"ticks\": \"\"}, \"type\": \"choropleth\"}], \"contour\": [{\"colorbar\": {\"outlinewidth\": 0, \"ticks\": \"\"}, \"colorscale\": [[0.0, \"#0d0887\"], [0.1111111111111111, \"#46039f\"], [0.2222222222222222, \"#7201a8\"], [0.3333333333333333, \"#9c179e\"], [0.4444444444444444, \"#bd3786\"], [0.5555555555555556, \"#d8576b\"], [0.6666666666666666, \"#ed7953\"], [0.7777777777777778, \"#fb9f3a\"], [0.8888888888888888, \"#fdca26\"], [1.0, \"#f0f921\"]], \"type\": \"contour\"}], \"contourcarpet\": [{\"colorbar\": {\"outlinewidth\": 0, \"ticks\": \"\"}, \"type\": \"contourcarpet\"}], \"heatmap\": [{\"colorbar\": {\"outlinewidth\": 0, \"ticks\": \"\"}, \"colorscale\": [[0.0, \"#0d0887\"], [0.1111111111111111, \"#46039f\"], [0.2222222222222222, \"#7201a8\"], [0.3333333333333333, \"#9c179e\"], [0.4444444444444444, \"#bd3786\"], [0.5555555555555556, \"#d8576b\"], [0.6666666666666666, \"#ed7953\"], [0.7777777777777778, \"#fb9f3a\"], [0.8888888888888888, \"#fdca26\"], [1.0, \"#f0f921\"]], \"type\": \"heatmap\"}], \"heatmapgl\": [{\"colorbar\": {\"outlinewidth\": 0, \"ticks\": \"\"}, \"colorscale\": [[0.0, \"#0d0887\"], [0.1111111111111111, \"#46039f\"], [0.2222222222222222, \"#7201a8\"], [0.3333333333333333, \"#9c179e\"], [0.4444444444444444, \"#bd3786\"], [0.5555555555555556, \"#d8576b\"], [0.6666666666666666, \"#ed7953\"], [0.7777777777777778, \"#fb9f3a\"], [0.8888888888888888, \"#fdca26\"], [1.0, \"#f0f921\"]], \"type\": \"heatmapgl\"}], \"histogram\": [{\"marker\": {\"colorbar\": {\"outlinewidth\": 0, \"ticks\": \"\"}}, \"type\": \"histogram\"}], \"histogram2d\": [{\"colorbar\": {\"outlinewidth\": 0, \"ticks\": \"\"}, \"colorscale\": [[0.0, \"#0d0887\"], [0.1111111111111111, \"#46039f\"], [0.2222222222222222, \"#7201a8\"], [0.3333333333333333, \"#9c179e\"], [0.4444444444444444, \"#bd3786\"], [0.5555555555555556, \"#d8576b\"], [0.6666666666666666, \"#ed7953\"], [0.7777777777777778, \"#fb9f3a\"], [0.8888888888888888, \"#fdca26\"], [1.0, \"#f0f921\"]], \"type\": \"histogram2d\"}], \"histogram2dcontour\": [{\"colorbar\": {\"outlinewidth\": 0, \"ticks\": \"\"}, \"colorscale\": [[0.0, \"#0d0887\"], [0.1111111111111111, \"#46039f\"], [0.2222222222222222, \"#7201a8\"], [0.3333333333333333, \"#9c179e\"], [0.4444444444444444, \"#bd3786\"], [0.5555555555555556, \"#d8576b\"], [0.6666666666666666, \"#ed7953\"], [0.7777777777777778, \"#fb9f3a\"], [0.8888888888888888, \"#fdca26\"], [1.0, \"#f0f921\"]], \"type\": \"histogram2dcontour\"}], \"mesh3d\": [{\"colorbar\": {\"outlinewidth\": 0, \"ticks\": \"\"}, \"type\": \"mesh3d\"}], \"parcoords\": [{\"line\": {\"colorbar\": {\"outlinewidth\": 0, \"ticks\": \"\"}}, \"type\": \"parcoords\"}], \"pie\": [{\"automargin\": true, \"type\": \"pie\"}], \"scatter\": [{\"marker\": {\"colorbar\": {\"outlinewidth\": 0, \"ticks\": \"\"}}, \"type\": \"scatter\"}], \"scatter3d\": [{\"line\": {\"colorbar\": {\"outlinewidth\": 0, \"ticks\": \"\"}}, \"marker\": {\"colorbar\": {\"outlinewidth\": 0, \"ticks\": \"\"}}, \"type\": \"scatter3d\"}], \"scattercarpet\": [{\"marker\": {\"colorbar\": {\"outlinewidth\": 0, \"ticks\": \"\"}}, \"type\": \"scattercarpet\"}], \"scattergeo\": [{\"marker\": {\"colorbar\": {\"outlinewidth\": 0, \"ticks\": \"\"}}, \"type\": \"scattergeo\"}], \"scattergl\": [{\"marker\": {\"colorbar\": {\"outlinewidth\": 0, \"ticks\": \"\"}}, \"type\": \"scattergl\"}], \"scattermapbox\": [{\"marker\": {\"colorbar\": {\"outlinewidth\": 0, \"ticks\": \"\"}}, \"type\": \"scattermapbox\"}], \"scatterpolar\": [{\"marker\": {\"colorbar\": {\"outlinewidth\": 0, \"ticks\": \"\"}}, \"type\": \"scatterpolar\"}], \"scatterpolargl\": [{\"marker\": {\"colorbar\": {\"outlinewidth\": 0, \"ticks\": \"\"}}, \"type\": \"scatterpolargl\"}], \"scatterternary\": [{\"marker\": {\"colorbar\": {\"outlinewidth\": 0, \"ticks\": \"\"}}, \"type\": \"scatterternary\"}], \"surface\": [{\"colorbar\": {\"outlinewidth\": 0, \"ticks\": \"\"}, \"colorscale\": [[0.0, \"#0d0887\"], [0.1111111111111111, \"#46039f\"], [0.2222222222222222, \"#7201a8\"], [0.3333333333333333, \"#9c179e\"], [0.4444444444444444, \"#bd3786\"], [0.5555555555555556, \"#d8576b\"], [0.6666666666666666, \"#ed7953\"], [0.7777777777777778, \"#fb9f3a\"], [0.8888888888888888, \"#fdca26\"], [1.0, \"#f0f921\"]], \"type\": \"surface\"}], \"table\": [{\"cells\": {\"fill\": {\"color\": \"#EBF0F8\"}, \"line\": {\"color\": \"white\"}}, \"header\": {\"fill\": {\"color\": \"#C8D4E3\"}, \"line\": {\"color\": \"white\"}}, \"type\": \"table\"}]}, \"layout\": {\"annotationdefaults\": {\"arrowcolor\": \"#2a3f5f\", \"arrowhead\": 0, \"arrowwidth\": 1}, \"autotypenumbers\": \"strict\", \"coloraxis\": {\"colorbar\": {\"outlinewidth\": 0, \"ticks\": \"\"}}, \"colorscale\": {\"diverging\": [[0, \"#8e0152\"], [0.1, \"#c51b7d\"], [0.2, \"#de77ae\"], [0.3, \"#f1b6da\"], [0.4, \"#fde0ef\"], [0.5, \"#f7f7f7\"], [0.6, \"#e6f5d0\"], [0.7, \"#b8e186\"], [0.8, \"#7fbc41\"], [0.9, \"#4d9221\"], [1, \"#276419\"]], \"sequential\": [[0.0, \"#0d0887\"], [0.1111111111111111, \"#46039f\"], [0.2222222222222222, \"#7201a8\"], [0.3333333333333333, \"#9c179e\"], [0.4444444444444444, \"#bd3786\"], [0.5555555555555556, \"#d8576b\"], [0.6666666666666666, \"#ed7953\"], [0.7777777777777778, \"#fb9f3a\"], [0.8888888888888888, \"#fdca26\"], [1.0, \"#f0f921\"]], \"sequentialminus\": [[0.0, \"#0d0887\"], [0.1111111111111111, \"#46039f\"], [0.2222222222222222, \"#7201a8\"], [0.3333333333333333, \"#9c179e\"], [0.4444444444444444, \"#bd3786\"], [0.5555555555555556, \"#d8576b\"], [0.6666666666666666, \"#ed7953\"], [0.7777777777777778, \"#fb9f3a\"], [0.8888888888888888, \"#fdca26\"], [1.0, \"#f0f921\"]]}, \"colorway\": [\"#636efa\", \"#EF553B\", \"#00cc96\", \"#ab63fa\", \"#FFA15A\", \"#19d3f3\", \"#FF6692\", \"#B6E880\", \"#FF97FF\", \"#FECB52\"], \"font\": {\"color\": \"#2a3f5f\"}, \"geo\": {\"bgcolor\": \"white\", \"lakecolor\": \"white\", \"landcolor\": \"#E5ECF6\", \"showlakes\": true, \"showland\": true, \"subunitcolor\": \"white\"}, \"hoverlabel\": {\"align\": \"left\"}, \"hovermode\": \"closest\", \"mapbox\": {\"style\": \"light\"}, \"paper_bgcolor\": \"white\", \"plot_bgcolor\": \"#E5ECF6\", \"polar\": {\"angularaxis\": {\"gridcolor\": \"white\", \"linecolor\": \"white\", \"ticks\": \"\"}, \"bgcolor\": \"#E5ECF6\", \"radialaxis\": {\"gridcolor\": \"white\", \"linecolor\": \"white\", \"ticks\": \"\"}}, \"scene\": {\"xaxis\": {\"backgroundcolor\": \"#E5ECF6\", \"gridcolor\": \"white\", \"gridwidth\": 2, \"linecolor\": \"white\", \"showbackground\": true, \"ticks\": \"\", \"zerolinecolor\": \"white\"}, \"yaxis\": {\"backgroundcolor\": \"#E5ECF6\", \"gridcolor\": \"white\", \"gridwidth\": 2, \"linecolor\": \"white\", \"showbackground\": true, \"ticks\": \"\", \"zerolinecolor\": \"white\"}, \"zaxis\": {\"backgroundcolor\": \"#E5ECF6\", \"gridcolor\": \"white\", \"gridwidth\": 2, \"linecolor\": \"white\", \"showbackground\": true, \"ticks\": \"\", \"zerolinecolor\": \"white\"}}, \"shapedefaults\": {\"line\": {\"color\": \"#2a3f5f\"}}, \"ternary\": {\"aaxis\": {\"gridcolor\": \"white\", \"linecolor\": \"white\", \"ticks\": \"\"}, \"baxis\": {\"gridcolor\": \"white\", \"linecolor\": \"white\", \"ticks\": \"\"}, \"bgcolor\": \"#E5ECF6\", \"caxis\": {\"gridcolor\": \"white\", \"linecolor\": \"white\", \"ticks\": \"\"}}, \"title\": {\"x\": 0.05}, \"xaxis\": {\"automargin\": true, \"gridcolor\": \"white\", \"linecolor\": \"white\", \"ticks\": \"\", \"title\": {\"standoff\": 15}, \"zerolinecolor\": \"white\", \"zerolinewidth\": 2}, \"yaxis\": {\"automargin\": true, \"gridcolor\": \"white\", \"linecolor\": \"white\", \"ticks\": \"\", \"title\": {\"standoff\": 15}, \"zerolinecolor\": \"white\", \"zerolinewidth\": 2}}}},                        {\"responsive\": true}                    ).then(function(){\n",
              "                            \n",
              "var gd = document.getElementById('7cfdfabf-72f1-44b7-955c-ffae5409cc7b');\n",
              "var x = new MutationObserver(function (mutations, observer) {{\n",
              "        var display = window.getComputedStyle(gd).display;\n",
              "        if (!display || display === 'none') {{\n",
              "            console.log([gd, 'removed!']);\n",
              "            Plotly.purge(gd);\n",
              "            observer.disconnect();\n",
              "        }}\n",
              "}});\n",
              "\n",
              "// Listen for the removal of the full notebook cells\n",
              "var notebookContainer = gd.closest('#notebook-container');\n",
              "if (notebookContainer) {{\n",
              "    x.observe(notebookContainer, {childList: true});\n",
              "}}\n",
              "\n",
              "// Listen for the clearing of the current output cell\n",
              "var outputEl = gd.closest('.output');\n",
              "if (outputEl) {{\n",
              "    x.observe(outputEl, {childList: true});\n",
              "}}\n",
              "\n",
              "                        })                };                            </script>        </div>\n",
              "</body>\n",
              "</html>"
            ]
          },
          "metadata": {
            "tags": []
          }
        }
      ]
    },
    {
      "cell_type": "markdown",
      "metadata": {
        "id": "rWJHY4f5RT_b"
      },
      "source": [
        "## Operación merge\n",
        "\n",
        "Es hora de combinar ambos conjuntos de datos. Una opción frecuentemente tentadora es aplicar la operación merge sin analizar demasiado la situación. Sin embargo, ¡esta operación puede ocasionar una **explosión exponencial** de nuestro conjunto de datos!\n",
        "\n",
        "¿Por qué la siguiente operación genera un DataFrame con 2 millones de filas? "
      ]
    },
    {
      "cell_type": "code",
      "metadata": {
        "colab": {
          "base_uri": "https://localhost:8080/"
        },
        "id": "X6NqwTaShgTD",
        "outputId": "2435a779-e736-48f9-9f97-49c7096a697e"
      },
      "source": [
        "## Incorrecto!\n",
        "len(melb_df.merge(airbnb_df, how='left',\n",
        "                  left_on='Postcode', right_on='zipcode'))"
      ],
      "execution_count": null,
      "outputs": [
        {
          "output_type": "execute_result",
          "data": {
            "text/plain": [
              "2139684"
            ]
          },
          "metadata": {
            "tags": []
          },
          "execution_count": 12
        }
      ]
    },
    {
      "cell_type": "markdown",
      "metadata": {
        "id": "ZjlzIlBGhfKA"
      },
      "source": [
        "Recordemos que nuestro objetivo es agregar información sobre el valor del vecindario de la propiedad. ¿Qué información del conjunto de airbnb nos sirve para representar esto?\n",
        "\n",
        "* Promedio de `price` por zipcode\n",
        "* Promedio de `weekly_price` por zipcode\n",
        "* Promedio de `monthly_price` por zipcode\n",
        "\n",
        "Queda a interpretación de ustedes decidir cuál de todos ellos utilizar."
      ]
    },
    {
      "cell_type": "code",
      "metadata": {
        "id": "satTM4vKlqtS"
      },
      "source": [
        "relevant_cols = ['price', 'weekly_price', 'monthly_price']"
      ],
      "execution_count": 11,
      "outputs": []
    },
    {
      "cell_type": "markdown",
      "metadata": {
        "id": "Y2ORIRhGlY1z"
      },
      "source": [
        "Cuando queremos agregar un único dato luego de agrupar un DataFrame, la operación es bastante sencilla. Sólo tienen que tener en cuenta que el nombre de la columnas será el mismo, aunque su valor ahora esté agregado."
      ]
    },
    {
      "cell_type": "code",
      "metadata": {
        "colab": {
          "base_uri": "https://localhost:8080/",
          "height": 203
        },
        "id": "I41gc3aflTrw",
        "outputId": "f0f488f6-5a67-4a44-ad74-1f51d3643cb7"
      },
      "source": [
        "# Option 1: inefficient form.\n",
        "# The aggregation is calculated over all columns, and after is calculated\n",
        "# we filter only the columns we want.\n",
        "# airbnb_df.groupby('zipcode').mean()[relevant_cols].reset_index()[:5]\n",
        "\n",
        "# Option 2: efficient form\n",
        "# First we filter out the columns we want, and then we only aggregate\n",
        "# those. Be careful to include the grouping column as well.\n",
        "airbnb_df[relevant_cols + ['zipcode']]\\\n",
        "  .groupby('zipcode').mean().reset_index()[:5]"
      ],
      "execution_count": 12,
      "outputs": [
        {
          "output_type": "execute_result",
          "data": {
            "text/html": [
              "<div>\n",
              "<style scoped>\n",
              "    .dataframe tbody tr th:only-of-type {\n",
              "        vertical-align: middle;\n",
              "    }\n",
              "\n",
              "    .dataframe tbody tr th {\n",
              "        vertical-align: top;\n",
              "    }\n",
              "\n",
              "    .dataframe thead th {\n",
              "        text-align: right;\n",
              "    }\n",
              "</style>\n",
              "<table border=\"1\" class=\"dataframe\">\n",
              "  <thead>\n",
              "    <tr style=\"text-align: right;\">\n",
              "      <th></th>\n",
              "      <th>zipcode</th>\n",
              "      <th>price</th>\n",
              "      <th>weekly_price</th>\n",
              "      <th>monthly_price</th>\n",
              "    </tr>\n",
              "  </thead>\n",
              "  <tbody>\n",
              "    <tr>\n",
              "      <th>0</th>\n",
              "      <td>2010</td>\n",
              "      <td>40.00000</td>\n",
              "      <td>NaN</td>\n",
              "      <td>NaN</td>\n",
              "    </tr>\n",
              "    <tr>\n",
              "      <th>1</th>\n",
              "      <td>2134</td>\n",
              "      <td>50.00000</td>\n",
              "      <td>NaN</td>\n",
              "      <td>NaN</td>\n",
              "    </tr>\n",
              "    <tr>\n",
              "      <th>2</th>\n",
              "      <td>2582</td>\n",
              "      <td>104.00000</td>\n",
              "      <td>NaN</td>\n",
              "      <td>NaN</td>\n",
              "    </tr>\n",
              "    <tr>\n",
              "      <th>3</th>\n",
              "      <td>3000</td>\n",
              "      <td>149.23605</td>\n",
              "      <td>804.0</td>\n",
              "      <td>3469.0</td>\n",
              "    </tr>\n",
              "    <tr>\n",
              "      <th>4</th>\n",
              "      <td>3001</td>\n",
              "      <td>120.00000</td>\n",
              "      <td>NaN</td>\n",
              "      <td>NaN</td>\n",
              "    </tr>\n",
              "  </tbody>\n",
              "</table>\n",
              "</div>"
            ],
            "text/plain": [
              "  zipcode      price  weekly_price  monthly_price\n",
              "0    2010   40.00000           NaN            NaN\n",
              "1    2134   50.00000           NaN            NaN\n",
              "2    2582  104.00000           NaN            NaN\n",
              "3    3000  149.23605         804.0         3469.0\n",
              "4    3001  120.00000           NaN            NaN"
            ]
          },
          "metadata": {
            "tags": []
          },
          "execution_count": 12
        }
      ]
    },
    {
      "cell_type": "markdown",
      "metadata": {
        "id": "8kR2TEpni9i5"
      },
      "source": [
        "Agrupar y agregar utilizando más de un tipo de operación es un poco más complicado. Pandas nos provee de muchas formas de escribir la misma operación. Ninguna de ellas es muy intuitiva, y usualmente requiere renombrar las columnas para darles nombres más significativos."
      ]
    },
    {
      "cell_type": "code",
      "metadata": {
        "colab": {
          "base_uri": "https://localhost:8080/",
          "height": 141
        },
        "id": "K72zWkuJRl0M",
        "outputId": "bce992bb-1827-4646-e5fb-041778e3db8c"
      },
      "source": [
        "relevant_cols = ['price', 'weekly_price', 'monthly_price', 'zipcode']\n",
        "## Option 1\n",
        "# Pass a dictionary where the keys are the original columns to aggregate and\n",
        "# the values are the operations (or list of operations).\n",
        "airbnb_price_by_zipcode = airbnb_df[relevant_cols].groupby('zipcode')\\\n",
        "  .agg({'price': ['mean', 'count'], 'weekly_price': 'mean',\n",
        "        'monthly_price': 'mean'})\\\n",
        "  .reset_index()\n",
        "# Flatten the two level columns\n",
        "airbnb_price_by_zipcode.columns = [\n",
        "  ' '.join(col).strip()\n",
        "  for col in airbnb_price_by_zipcode.columns.values]\n",
        "# Rename columns\n",
        "airbnb_price_by_zipcode = airbnb_price_by_zipcode.rename(\n",
        "    columns={'price mean': 'airbnb_price_mean',\n",
        "             'price count': 'airbnb_record_count',\n",
        "             'weekly_price mean': 'airbnb_weekly_price_mean',\n",
        "             'monthly_price mean': 'airbnb_monthly_price_mean'}\n",
        ")\n",
        "\n",
        "## Option 2\n",
        "# Pass as argument name the new name of the column, and as value a tuple where\n",
        "# the first value is the original column and the second value is the operation.\n",
        "# airbnb_price_by_zipcode = airbnb_df[relevant_cols].groupby('zipcode')\\\n",
        "#   .agg(airbnb_record_count=('price', 'count'),\n",
        "#        airbnb_price_mean=('price', 'mean'),\n",
        "#        airbnb_weekly_price_mean=('weekly_price', 'mean'),\n",
        "#        airbnb_monthly_price_mean=('monthly_price', 'mean'))\\\n",
        "#   .reset_index()\n",
        "\n",
        "airbnb_price_by_zipcode[:3]"
      ],
      "execution_count": null,
      "outputs": [
        {
          "output_type": "execute_result",
          "data": {
            "text/html": [
              "<div>\n",
              "<style scoped>\n",
              "    .dataframe tbody tr th:only-of-type {\n",
              "        vertical-align: middle;\n",
              "    }\n",
              "\n",
              "    .dataframe tbody tr th {\n",
              "        vertical-align: top;\n",
              "    }\n",
              "\n",
              "    .dataframe thead th {\n",
              "        text-align: right;\n",
              "    }\n",
              "</style>\n",
              "<table border=\"1\" class=\"dataframe\">\n",
              "  <thead>\n",
              "    <tr style=\"text-align: right;\">\n",
              "      <th></th>\n",
              "      <th>zipcode</th>\n",
              "      <th>airbnb_price_mean</th>\n",
              "      <th>airbnb_record_count</th>\n",
              "      <th>airbnb_weekly_price_mean</th>\n",
              "      <th>airbnb_monthly_price_mean</th>\n",
              "    </tr>\n",
              "  </thead>\n",
              "  <tbody>\n",
              "    <tr>\n",
              "      <th>0</th>\n",
              "      <td>2010.0</td>\n",
              "      <td>40.0</td>\n",
              "      <td>1</td>\n",
              "      <td>NaN</td>\n",
              "      <td>NaN</td>\n",
              "    </tr>\n",
              "    <tr>\n",
              "      <th>1</th>\n",
              "      <td>2134.0</td>\n",
              "      <td>50.0</td>\n",
              "      <td>1</td>\n",
              "      <td>NaN</td>\n",
              "      <td>NaN</td>\n",
              "    </tr>\n",
              "    <tr>\n",
              "      <th>2</th>\n",
              "      <td>2582.0</td>\n",
              "      <td>104.0</td>\n",
              "      <td>1</td>\n",
              "      <td>NaN</td>\n",
              "      <td>NaN</td>\n",
              "    </tr>\n",
              "  </tbody>\n",
              "</table>\n",
              "</div>"
            ],
            "text/plain": [
              "   zipcode  ...  airbnb_monthly_price_mean\n",
              "0   2010.0  ...                        NaN\n",
              "1   2134.0  ...                        NaN\n",
              "2   2582.0  ...                        NaN\n",
              "\n",
              "[3 rows x 5 columns]"
            ]
          },
          "metadata": {
            "tags": []
          },
          "execution_count": 23
        }
      ]
    },
    {
      "cell_type": "code",
      "metadata": {
        "colab": {
          "base_uri": "https://localhost:8080/",
          "height": 362
        },
        "id": "RfUAyonwMOrx",
        "outputId": "31573bed-ad6a-4d41-8b1c-aaf33f513a23"
      },
      "source": [
        "merged_sales_df = melb_df.merge(\n",
        "    airbnb_price_by_zipcode, how='left',\n",
        "    left_on='Postcode', right_on='zipcode'\n",
        ")\n",
        "merged_sales_df.sample(5)"
      ],
      "execution_count": null,
      "outputs": [
        {
          "output_type": "execute_result",
          "data": {
            "text/html": [
              "<div>\n",
              "<style scoped>\n",
              "    .dataframe tbody tr th:only-of-type {\n",
              "        vertical-align: middle;\n",
              "    }\n",
              "\n",
              "    .dataframe tbody tr th {\n",
              "        vertical-align: top;\n",
              "    }\n",
              "\n",
              "    .dataframe thead th {\n",
              "        text-align: right;\n",
              "    }\n",
              "</style>\n",
              "<table border=\"1\" class=\"dataframe\">\n",
              "  <thead>\n",
              "    <tr style=\"text-align: right;\">\n",
              "      <th></th>\n",
              "      <th>Suburb</th>\n",
              "      <th>Address</th>\n",
              "      <th>Rooms</th>\n",
              "      <th>Type</th>\n",
              "      <th>Price</th>\n",
              "      <th>Method</th>\n",
              "      <th>SellerG</th>\n",
              "      <th>Date</th>\n",
              "      <th>Distance</th>\n",
              "      <th>Postcode</th>\n",
              "      <th>Bedroom2</th>\n",
              "      <th>Bathroom</th>\n",
              "      <th>Car</th>\n",
              "      <th>Landsize</th>\n",
              "      <th>BuildingArea</th>\n",
              "      <th>YearBuilt</th>\n",
              "      <th>CouncilArea</th>\n",
              "      <th>Lattitude</th>\n",
              "      <th>Longtitude</th>\n",
              "      <th>Regionname</th>\n",
              "      <th>Propertycount</th>\n",
              "      <th>zipcode</th>\n",
              "      <th>airbnb_price_mean</th>\n",
              "      <th>airbnb_record_count</th>\n",
              "      <th>airbnb_weekly_price_mean</th>\n",
              "      <th>airbnb_monthly_price_mean</th>\n",
              "    </tr>\n",
              "  </thead>\n",
              "  <tbody>\n",
              "    <tr>\n",
              "      <th>6952</th>\n",
              "      <td>Hawthorn East</td>\n",
              "      <td>22 Stewart St</td>\n",
              "      <td>2</td>\n",
              "      <td>h</td>\n",
              "      <td>1140000.0</td>\n",
              "      <td>S</td>\n",
              "      <td>Marshall</td>\n",
              "      <td>3/12/2016</td>\n",
              "      <td>7.5</td>\n",
              "      <td>3123.0</td>\n",
              "      <td>2.0</td>\n",
              "      <td>1.0</td>\n",
              "      <td>0.0</td>\n",
              "      <td>230.0</td>\n",
              "      <td>NaN</td>\n",
              "      <td>NaN</td>\n",
              "      <td>Boroondara</td>\n",
              "      <td>-37.82260</td>\n",
              "      <td>145.05500</td>\n",
              "      <td>Southern Metropolitan</td>\n",
              "      <td>6482.0</td>\n",
              "      <td>3123.0</td>\n",
              "      <td>151.296296</td>\n",
              "      <td>81.0</td>\n",
              "      <td>1340.666667</td>\n",
              "      <td>6069.000000</td>\n",
              "    </tr>\n",
              "    <tr>\n",
              "      <th>3662</th>\n",
              "      <td>Kew</td>\n",
              "      <td>5/93 Princess St</td>\n",
              "      <td>3</td>\n",
              "      <td>t</td>\n",
              "      <td>732000.0</td>\n",
              "      <td>S</td>\n",
              "      <td>Nelson</td>\n",
              "      <td>26/07/2016</td>\n",
              "      <td>5.6</td>\n",
              "      <td>3101.0</td>\n",
              "      <td>3.0</td>\n",
              "      <td>1.0</td>\n",
              "      <td>1.0</td>\n",
              "      <td>904.0</td>\n",
              "      <td>110.0</td>\n",
              "      <td>1980.0</td>\n",
              "      <td>Boroondara</td>\n",
              "      <td>-37.80100</td>\n",
              "      <td>145.02970</td>\n",
              "      <td>Southern Metropolitan</td>\n",
              "      <td>10331.0</td>\n",
              "      <td>3101.0</td>\n",
              "      <td>139.598131</td>\n",
              "      <td>107.0</td>\n",
              "      <td>609.750000</td>\n",
              "      <td>1300.000000</td>\n",
              "    </tr>\n",
              "    <tr>\n",
              "      <th>4062</th>\n",
              "      <td>Moonee Ponds</td>\n",
              "      <td>25 Buckley St</td>\n",
              "      <td>3</td>\n",
              "      <td>h</td>\n",
              "      <td>1170000.0</td>\n",
              "      <td>S</td>\n",
              "      <td>Re</td>\n",
              "      <td>8/10/2016</td>\n",
              "      <td>6.9</td>\n",
              "      <td>3039.0</td>\n",
              "      <td>3.0</td>\n",
              "      <td>1.0</td>\n",
              "      <td>1.0</td>\n",
              "      <td>443.0</td>\n",
              "      <td>102.0</td>\n",
              "      <td>1930.0</td>\n",
              "      <td>Moonee Valley</td>\n",
              "      <td>-37.75850</td>\n",
              "      <td>144.92800</td>\n",
              "      <td>Western Metropolitan</td>\n",
              "      <td>6232.0</td>\n",
              "      <td>3039.0</td>\n",
              "      <td>100.980769</td>\n",
              "      <td>52.0</td>\n",
              "      <td>392.500000</td>\n",
              "      <td>1533.333333</td>\n",
              "    </tr>\n",
              "    <tr>\n",
              "      <th>4713</th>\n",
              "      <td>Port Melbourne</td>\n",
              "      <td>22 Park Sq</td>\n",
              "      <td>3</td>\n",
              "      <td>h</td>\n",
              "      <td>1630000.0</td>\n",
              "      <td>S</td>\n",
              "      <td>Marshall</td>\n",
              "      <td>4/03/2017</td>\n",
              "      <td>3.8</td>\n",
              "      <td>3207.0</td>\n",
              "      <td>3.0</td>\n",
              "      <td>2.0</td>\n",
              "      <td>2.0</td>\n",
              "      <td>135.0</td>\n",
              "      <td>135.0</td>\n",
              "      <td>1997.0</td>\n",
              "      <td>Port Phillip</td>\n",
              "      <td>-37.83950</td>\n",
              "      <td>144.93430</td>\n",
              "      <td>Southern Metropolitan</td>\n",
              "      <td>8648.0</td>\n",
              "      <td>3207.0</td>\n",
              "      <td>200.210117</td>\n",
              "      <td>257.0</td>\n",
              "      <td>1480.790698</td>\n",
              "      <td>4743.964286</td>\n",
              "    </tr>\n",
              "    <tr>\n",
              "      <th>10053</th>\n",
              "      <td>St Albans</td>\n",
              "      <td>63 Lovell Dr</td>\n",
              "      <td>3</td>\n",
              "      <td>h</td>\n",
              "      <td>600000.0</td>\n",
              "      <td>PI</td>\n",
              "      <td>FN</td>\n",
              "      <td>24/06/2017</td>\n",
              "      <td>14.0</td>\n",
              "      <td>3021.0</td>\n",
              "      <td>3.0</td>\n",
              "      <td>1.0</td>\n",
              "      <td>3.0</td>\n",
              "      <td>565.0</td>\n",
              "      <td>NaN</td>\n",
              "      <td>NaN</td>\n",
              "      <td>Brimbank</td>\n",
              "      <td>-37.76454</td>\n",
              "      <td>144.80611</td>\n",
              "      <td>Western Metropolitan</td>\n",
              "      <td>14042.0</td>\n",
              "      <td>3021.0</td>\n",
              "      <td>81.650000</td>\n",
              "      <td>20.0</td>\n",
              "      <td>350.000000</td>\n",
              "      <td>1300.000000</td>\n",
              "    </tr>\n",
              "  </tbody>\n",
              "</table>\n",
              "</div>"
            ],
            "text/plain": [
              "               Suburb  ... airbnb_monthly_price_mean\n",
              "6952    Hawthorn East  ...               6069.000000\n",
              "3662              Kew  ...               1300.000000\n",
              "4062     Moonee Ponds  ...               1533.333333\n",
              "4713   Port Melbourne  ...               4743.964286\n",
              "10053       St Albans  ...               1300.000000\n",
              "\n",
              "[5 rows x 26 columns]"
            ]
          },
          "metadata": {
            "tags": []
          },
          "execution_count": 31
        }
      ]
    },
    {
      "cell_type": "code",
      "metadata": {
        "id": "G4ClSr_JapCw"
      },
      "source": [
        ""
      ],
      "execution_count": null,
      "outputs": []
    }
  ]
}